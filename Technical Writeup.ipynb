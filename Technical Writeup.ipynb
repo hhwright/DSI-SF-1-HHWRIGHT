{
 "cells": [
  {
   "cell_type": "markdown",
   "metadata": {},
   "source": [
    "# Technical Write-Up\n",
    "## Predicting Flight Delays for US Domestic Flights \n",
    "### Hal Wright -  June 2016"
   ]
  },
  {
   "cell_type": "markdown",
   "metadata": {},
   "source": [
    "### Dataset and Project Goals"
   ]
  },
  {
   "cell_type": "markdown",
   "metadata": {},
   "source": [
    "Organizing commercial air travel is a logistical issue that impacts a large number of citizens in the US\n",
    "on a daily basis. Every year there are millions of domestic flights in the US and, in 2015, about 38%\n",
    "percent of all domestic flights were delayed. As a Bay Area resident, I wanted to build a feature that\n",
    "would help consumers in the Bay Area avoid delays. My goal in this project was to build a model\n",
    "that could predict the chance of delay for the same flight at each of the three Bay Area airports (San\n",
    "Jose, San Francisco, and Oakland). The Research and Innovative Technology Administration (RITA)\n",
    "has published on time performance data for all US domestic flights from January 1987 to January 2016.\n",
    "I used this data, machine learning techniques, and user input modules to create my model."
   ]
  },
  {
   "cell_type": "markdown",
   "metadata": {},
   "source": [
    "### Importing and Cleaning the Data"
   ]
  },
  {
   "cell_type": "markdown",
   "metadata": {},
   "source": [
    "When looking to find a data sets to help build my model and user input feature. RITA's dataset was the best choice because it was so expanseive the whole dataset totals over 165 million domestic flights spanning back to 1987. The data is broken up into .csv files for every month in that span. A total of 349 file (data is through January 2016) and over 165 million flights (rows). As I was only concerned with the Bay Area Airports I neeed to segment my data down to flights originating in the Bay Area. I also needed to only include flight that land at one of the 21 shared destinations of the Bay Area airports so that I could create valid comparisons between flying out of the three different airports. I also decided to only use data from the most recent full year of data (2015), this gave me the most recent and comparable data while also pairing down my data to a reasonable size that I could work with in the scope of this project.\n",
    "\n",
    "To do this I created lists the unique destinations for each airport, then I created a final list that only had the\n",
    "airports that were in all three of the unique destinations lists. After creating the final list I used the common destinations list to create a new binary field in the data set that would denote if the destination of any given flight was a part of the common destinations field. I created a similar binary field for if flights originated in\n",
    "the bay area. After creating those two fields I used a mask to keep only the flights were both of those field were\n",
    "populated with a 1. I also used a mask to remove all of the cancelled flights because my target was delayed flights and cancelled flights were odd outliers that shouldn't be included in the data."
   ]
  },
  {
   "cell_type": "code",
   "execution_count": 2,
   "metadata": {
    "collapsed": true
   },
   "outputs": [],
   "source": [
    "import seaborn as sns\n",
    "import numpy as np\n",
    "import pandas as pd\n",
    "import matplotlib.pyplot as plt\n",
    "from sklearn.linear_model import LogisticRegressionCV, LinearRegression\n",
    "from sklearn.cross_validation import train_test_split, cross_val_score\n",
    "import patsy\n",
    "from sklearn.linear_model import ElasticNet, ElasticNetCV\n",
    "from sklearn.grid_search import GridSearchCV\n",
    "from sklearn.linear_model import SGDClassifier, SGDRegressor\n",
    "from sklearn.ensemble import RandomForestClassifier, RandomForestRegressor\n",
    "from sklearn.metrics import roc_auc_score\n",
    "from sklearn.metrics import classification_report, confusion_matrix\n",
    "\n",
    "\n",
    "from ipywidgets import *\n",
    "from IPython.display import display\n",
    "from ipywidgets import Dropdown\n",
    "from sklearn.preprocessing import StandardScaler\n",
    "\n",
    "from sklearn.metrics import roc_curve, auc\n",
    "import matplotlib.pyplot as plt\n",
    "from mpl_toolkits.basemap import Basemap\n",
    "\n",
    "from PIL import Image\n",
    "from gcmap import GCMapper\n",
    "import random\n",
    "\n",
    "\n",
    "plt.style.use('seaborn-white')\n",
    "\n",
    "%matplotlib inline"
   ]
  },
  {
   "cell_type": "code",
   "execution_count": 2,
   "metadata": {
    "collapsed": false
   },
   "outputs": [
    {
     "name": "stderr",
     "output_type": "stream",
     "text": [
      "/home/dsi-student/anaconda2/lib/python2.7/site-packages/IPython/core/interactiveshell.py:2723: DtypeWarning: Columns (41) have mixed types. Specify dtype option on import or set low_memory=False.\n",
      "  interactivity=interactivity, compiler=compiler, result=result)\n"
     ]
    }
   ],
   "source": [
    "#Importing RITA .csv files. The data is broken down by month. The below files are all 12 months in 2015.\n",
    "jan = pd.read_csv('./Capstone_data/January_data.csv')\n",
    "feb = pd.read_csv('./Capstone_data/February_data.csv')\n",
    "mar = pd.read_csv('./Capstone_data/March_data.csv')\n",
    "apr = pd.read_csv('./Capstone_data/April_data.csv')\n",
    "may = pd.read_csv('./Capstone_data/May_data.csv')\n",
    "june = pd.read_csv('./Capstone_data/June_data.csv')\n",
    "july = pd.read_csv('./Capstone_data/July_data.csv')\n",
    "aug = pd.read_csv('./Capstone_data/August_data.csv')\n",
    "sept = pd.read_csv('./Capstone_data/September_data.csv')\n",
    "octo = pd.read_csv('./Capstone_data/October_data.csv')\n",
    "nov = pd.read_csv('./Capstone_data/November_data.csv')\n",
    "dec = pd.read_csv('./Capstone_data/December_data.csv')"
   ]
  },
  {
   "cell_type": "markdown",
   "metadata": {},
   "source": []
  },
  {
   "cell_type": "code",
   "execution_count": 3,
   "metadata": {
    "collapsed": true
   },
   "outputs": [],
   "source": [
    "#Saving the Airport ID's for each of Bay Area Airports\n",
    "sj_id = 14831\n",
    "sf_id = 14771\n",
    "oak_id = 13796\n",
    "\n",
    "#Create a list with all 3 Bay Area Airport IDs to help segment the data\n",
    "bay_cities_list = [sj_id,sf_id,oak_id]"
   ]
  },
  {
   "cell_type": "code",
   "execution_count": 4,
   "metadata": {
    "collapsed": false
   },
   "outputs": [
    {
     "data": {
      "text/plain": [
       "['Salt Lake City, UT',\n",
       " 'New York, NY',\n",
       " 'Atlanta, GA',\n",
       " 'Honolulu, HI',\n",
       " 'Denver, CO',\n",
       " 'Phoenix, AZ',\n",
       " 'Houston, TX',\n",
       " 'Kahului, HI',\n",
       " 'Chicago, IL',\n",
       " 'Austin, TX',\n",
       " 'Las Vegas, NV',\n",
       " 'Los Angeles, CA',\n",
       " 'Seattle, WA',\n",
       " 'Portland, OR',\n",
       " 'San Diego, CA',\n",
       " 'Santa Ana, CA',\n",
       " 'Lihue, HI',\n",
       " 'Dallas/Fort Worth, TX',\n",
       " 'Kona, HI',\n",
       " 'Ontario, CA',\n",
       " 'Burbank, CA']"
      ]
     },
     "execution_count": 4,
     "metadata": {},
     "output_type": "execute_result"
    }
   ],
   "source": [
    "#The mask the dataset to show only flights with a San Jose Origin.\n",
    "#Create a list with all of the unique destination cities from San Jose.\n",
    "#Process is repeated with with San Francisco and Oakland.\n",
    "mask = jan['ORIGIN_AIRPORT_ID'] == sj_id\n",
    "sj_dest = jan[mask]['DEST_CITY_NAME'].unique().tolist()\n",
    "\n",
    "\n",
    "mask = jan['ORIGIN_AIRPORT_ID'] == sf_id\n",
    "sf_dest = jan[mask]['DEST_CITY_NAME'].unique().tolist()\n",
    "\n",
    "\n",
    "mask = jan['ORIGIN_AIRPORT_ID'] == oak_id\n",
    "oak_dest = jan[mask]['DEST_CITY_NAME'].unique().tolist()\n",
    "\n",
    "#Below loops find the common unique destinations between San Francisco, San Jose, and Oakland\n",
    "sj_oak = []\n",
    "for x in sj_dest:\n",
    "    if x in oak_dest:\n",
    "        sj_oak.append(x)\n",
    "        \n",
    "        \n",
    "bay_dest = []\n",
    "for x in sf_dest:\n",
    "    if x in sj_oak:\n",
    "        bay_dest.append(x)\n",
    "\n",
    "#Below are the 21 common destinations between the three Bay Area Airports\n",
    "bay_dest"
   ]
  },
  {
   "cell_type": "code",
   "execution_count": 5,
   "metadata": {
    "collapsed": true
   },
   "outputs": [],
   "source": [
    "#Below function creates a binary row in the dataframe to represent if the flight originiated at a Bay Area Airport\n",
    "def get_bay_city_origin(df):\n",
    "    df['bay_area_origin'] = df['ORIGIN_AIRPORT_ID'].map(lambda x: 1 if x in bay_cities_list  else 0)\n",
    "\n",
    "#Below function creates a binary row in the dataframe to represent if the flight's destination is one of the\n",
    "#shared destinations of the Bay Area Airports\n",
    "def get_bay_city_dest(df):\n",
    "    df['bay_area_dest'] = df['DEST_CITY_NAME'].map(lambda x: 1 if x in bay_dest  else 0)"
   ]
  },
  {
   "cell_type": "code",
   "execution_count": 6,
   "metadata": {
    "collapsed": true
   },
   "outputs": [],
   "source": [
    "#This function takes a list of dataframes and runs the functions from the above cell \n",
    "#on every dataframe in the list\n",
    "def get_bay_route(list):\n",
    "    for x in list:\n",
    "        get_bay_city_origin(x)\n",
    "        get_bay_city_dest(x)"
   ]
  },
  {
   "cell_type": "code",
   "execution_count": 7,
   "metadata": {
    "collapsed": true
   },
   "outputs": [],
   "source": [
    "#Function segments a dataframe to only flights that were not cancelled, took off in the Bay Area, \n",
    "#and had a destination of one of the common Bay Area destination\n",
    "def bay_subset(df):\n",
    "    mask = (df['bay_area_origin'] == 1) & (df['bay_area_dest'] ==1) & (df['CANCELLED'] == 0)\n",
    "    return df[mask]"
   ]
  },
  {
   "cell_type": "code",
   "execution_count": 9,
   "metadata": {
    "collapsed": true
   },
   "outputs": [],
   "source": [
    "#This runs the get_bay_route function for each month's dataframe\n",
    "get_bay_route([jan,feb,mar,apr,may,june,july,aug,sept,octo,nov,dec])"
   ]
  },
  {
   "cell_type": "code",
   "execution_count": 10,
   "metadata": {
    "collapsed": false
   },
   "outputs": [],
   "source": [
    "#Here I segment down each month's data with the bay_subset\n",
    "jan_sub = bay_subset(jan)\n",
    "feb_sub = bay_subset(feb)\n",
    "mar_sub = bay_subset(mar)\n",
    "apr_sub = bay_subset(apr)\n",
    "may_sub = bay_subset(may)\n",
    "june_sub = bay_subset(june)\n",
    "july_sub = bay_subset(july)\n",
    "aug_sub = bay_subset(aug)\n",
    "sept_sub = bay_subset(sept)\n",
    "octo_sub = bay_subset(octo)\n",
    "nov_sub = bay_subset(nov)\n",
    "dec_sub = bay_subset(dec)"
   ]
  },
  {
   "cell_type": "code",
   "execution_count": 40,
   "metadata": {
    "collapsed": true
   },
   "outputs": [],
   "source": [
    "#This merges all of the subsets from each month into a single dataframe\n",
    "m_list = [jan_sub,feb_sub,mar_sub,apr_sub,may_sub,june_sub,july_sub,aug_sub,sept_sub,octo_sub,nov_sub,dec_sub]\n",
    "bay_subs = pd.concat(m_list)"
   ]
  },
  {
   "cell_type": "code",
   "execution_count": 41,
   "metadata": {
    "collapsed": false
   },
   "outputs": [
    {
     "data": {
      "text/plain": [
       "(183774, 60)"
      ]
     },
     "execution_count": 41,
     "metadata": {},
     "output_type": "execute_result"
    }
   ],
   "source": [
    "bay_subs.shape"
   ]
  },
  {
   "cell_type": "code",
   "execution_count": 42,
   "metadata": {
    "collapsed": false,
    "scrolled": true
   },
   "outputs": [
    {
     "data": {
      "text/plain": [
       "Index([u'year', u'month', u'day_of_month', u'day_of_week', u'fl_date',\n",
       "       u'unique_carrier', u'airline_id', u'carrier', u'tail_num',\n",
       "       u'origin_airport_id', u'origin_airport_seq_id',\n",
       "       u'origin_city_market_id', u'origin', u'origin_city_name',\n",
       "       u'origin_state_abr', u'origin_state_nm', u'dest_airport_id',\n",
       "       u'dest_airport_seq_id', u'dest_city_market_id', u'dest_city_name',\n",
       "       u'dest_state_abr', u'dest_state_nm', u'crs_dep_time', u'dep_time',\n",
       "       u'dep_delay', u'dep_delay_new', u'dep_del15', u'dep_delay_group',\n",
       "       u'dep_time_blk', u'taxi_out', u'wheels_off', u'wheels_on', u'taxi_in',\n",
       "       u'crs_arr_time', u'arr_time', u'arr_delay', u'arr_delay_new',\n",
       "       u'arr_del15', u'arr_delay_group', u'arr_time_blk', u'cancelled',\n",
       "       u'cancellation_code', u'diverted', u'crs_elapsed_time',\n",
       "       u'actual_elapsed_time', u'air_time', u'flights', u'distance',\n",
       "       u'distance_group', u'carrier_delay', u'weather_delay', u'nas_delay',\n",
       "       u'security_delay', u'late_aircraft_delay', u'first_dep_time',\n",
       "       u'total_add_gtime', u'longest_add_gtime', u'unnamed: 57',\n",
       "       u'bay_area_origin', u'bay_area_dest'],\n",
       "      dtype='object')"
      ]
     },
     "execution_count": 42,
     "metadata": {},
     "output_type": "execute_result"
    }
   ],
   "source": [
    "bay_subs.columns = [c.lower() for c in bay_subs.columns]\n",
    "bay_subs.columns"
   ]
  },
  {
   "cell_type": "code",
   "execution_count": 43,
   "metadata": {
    "collapsed": false
   },
   "outputs": [],
   "source": [
    "#Here I created my target row \"dep_binary_delay\" by mapping all flights with delay times > 0  to 1\n",
    "# and everything 0 =< as 0.\n",
    "bay_subs['dep_binary_delay'] = bay_subs['dep_delay'].map(lambda x: 1 if x>0 else 0)"
   ]
  },
  {
   "cell_type": "code",
   "execution_count": 44,
   "metadata": {
    "collapsed": false
   },
   "outputs": [],
   "source": [
    "# Here I subset my data to only the pertinent columns for data description.\n",
    "bay = bay_subs[['year','month','day_of_month','day_of_week','unique_carrier','airline_id',\n",
    "                'carrier','origin_airport_id','origin_city_name','origin_state_abr',\n",
    "                'dest_airport_id','dest_city_name','dest_state_abr','dep_time',\n",
    "                'dep_delay','dep_time_blk','cancelled','distance','dep_del15','fl_date','dep_binary_delay']]"
   ]
  },
  {
   "cell_type": "code",
   "execution_count": 45,
   "metadata": {
    "collapsed": false
   },
   "outputs": [
    {
     "data": {
      "text/plain": [
       "(183774, 21)"
      ]
     },
     "execution_count": 45,
     "metadata": {},
     "output_type": "execute_result"
    }
   ],
   "source": [
    "bay.shape"
   ]
  },
  {
   "cell_type": "code",
   "execution_count": 46,
   "metadata": {
    "collapsed": false
   },
   "outputs": [
    {
     "data": {
      "text/html": [
       "<div>\n",
       "<table border=\"1\" class=\"dataframe\">\n",
       "  <thead>\n",
       "    <tr style=\"text-align: right;\">\n",
       "      <th></th>\n",
       "      <th>year</th>\n",
       "      <th>month</th>\n",
       "      <th>day_of_month</th>\n",
       "      <th>day_of_week</th>\n",
       "      <th>unique_carrier</th>\n",
       "      <th>airline_id</th>\n",
       "      <th>carrier</th>\n",
       "      <th>origin_airport_id</th>\n",
       "      <th>origin_city_name</th>\n",
       "      <th>origin_state_abr</th>\n",
       "      <th>...</th>\n",
       "      <th>dest_city_name</th>\n",
       "      <th>dest_state_abr</th>\n",
       "      <th>dep_time</th>\n",
       "      <th>dep_delay</th>\n",
       "      <th>dep_time_blk</th>\n",
       "      <th>cancelled</th>\n",
       "      <th>distance</th>\n",
       "      <th>dep_del15</th>\n",
       "      <th>fl_date</th>\n",
       "      <th>dep_binary_delay</th>\n",
       "    </tr>\n",
       "  </thead>\n",
       "  <tbody>\n",
       "    <tr>\n",
       "      <th>244</th>\n",
       "      <td>2015</td>\n",
       "      <td>1</td>\n",
       "      <td>22</td>\n",
       "      <td>4</td>\n",
       "      <td>DL</td>\n",
       "      <td>19790</td>\n",
       "      <td>DL</td>\n",
       "      <td>14831</td>\n",
       "      <td>San Jose, CA</td>\n",
       "      <td>CA</td>\n",
       "      <td>...</td>\n",
       "      <td>Atlanta, GA</td>\n",
       "      <td>GA</td>\n",
       "      <td>2302.0</td>\n",
       "      <td>-1.0</td>\n",
       "      <td>2300-2359</td>\n",
       "      <td>0.0</td>\n",
       "      <td>2116.0</td>\n",
       "      <td>0.0</td>\n",
       "      <td>2015-01-22</td>\n",
       "      <td>0</td>\n",
       "    </tr>\n",
       "    <tr>\n",
       "      <th>305</th>\n",
       "      <td>2015</td>\n",
       "      <td>1</td>\n",
       "      <td>22</td>\n",
       "      <td>4</td>\n",
       "      <td>DL</td>\n",
       "      <td>19790</td>\n",
       "      <td>DL</td>\n",
       "      <td>14771</td>\n",
       "      <td>San Francisco, CA</td>\n",
       "      <td>CA</td>\n",
       "      <td>...</td>\n",
       "      <td>Salt Lake City, UT</td>\n",
       "      <td>UT</td>\n",
       "      <td>601.0</td>\n",
       "      <td>1.0</td>\n",
       "      <td>0600-0659</td>\n",
       "      <td>0.0</td>\n",
       "      <td>599.0</td>\n",
       "      <td>0.0</td>\n",
       "      <td>2015-01-22</td>\n",
       "      <td>1</td>\n",
       "    </tr>\n",
       "    <tr>\n",
       "      <th>516</th>\n",
       "      <td>2015</td>\n",
       "      <td>1</td>\n",
       "      <td>20</td>\n",
       "      <td>2</td>\n",
       "      <td>DL</td>\n",
       "      <td>19790</td>\n",
       "      <td>DL</td>\n",
       "      <td>13796</td>\n",
       "      <td>Oakland, CA</td>\n",
       "      <td>CA</td>\n",
       "      <td>...</td>\n",
       "      <td>Salt Lake City, UT</td>\n",
       "      <td>UT</td>\n",
       "      <td>1127.0</td>\n",
       "      <td>-3.0</td>\n",
       "      <td>1100-1159</td>\n",
       "      <td>0.0</td>\n",
       "      <td>588.0</td>\n",
       "      <td>0.0</td>\n",
       "      <td>2015-01-20</td>\n",
       "      <td>0</td>\n",
       "    </tr>\n",
       "    <tr>\n",
       "      <th>822</th>\n",
       "      <td>2015</td>\n",
       "      <td>1</td>\n",
       "      <td>20</td>\n",
       "      <td>2</td>\n",
       "      <td>DL</td>\n",
       "      <td>19790</td>\n",
       "      <td>DL</td>\n",
       "      <td>13796</td>\n",
       "      <td>Oakland, CA</td>\n",
       "      <td>CA</td>\n",
       "      <td>...</td>\n",
       "      <td>Salt Lake City, UT</td>\n",
       "      <td>UT</td>\n",
       "      <td>1719.0</td>\n",
       "      <td>-6.0</td>\n",
       "      <td>1700-1759</td>\n",
       "      <td>0.0</td>\n",
       "      <td>588.0</td>\n",
       "      <td>0.0</td>\n",
       "      <td>2015-01-20</td>\n",
       "      <td>0</td>\n",
       "    </tr>\n",
       "    <tr>\n",
       "      <th>855</th>\n",
       "      <td>2015</td>\n",
       "      <td>1</td>\n",
       "      <td>20</td>\n",
       "      <td>2</td>\n",
       "      <td>DL</td>\n",
       "      <td>19790</td>\n",
       "      <td>DL</td>\n",
       "      <td>13796</td>\n",
       "      <td>Oakland, CA</td>\n",
       "      <td>CA</td>\n",
       "      <td>...</td>\n",
       "      <td>Salt Lake City, UT</td>\n",
       "      <td>UT</td>\n",
       "      <td>611.0</td>\n",
       "      <td>-1.0</td>\n",
       "      <td>0600-0659</td>\n",
       "      <td>0.0</td>\n",
       "      <td>588.0</td>\n",
       "      <td>0.0</td>\n",
       "      <td>2015-01-20</td>\n",
       "      <td>0</td>\n",
       "    </tr>\n",
       "  </tbody>\n",
       "</table>\n",
       "<p>5 rows × 21 columns</p>\n",
       "</div>"
      ],
      "text/plain": [
       "     year  month  day_of_month  day_of_week unique_carrier  airline_id  \\\n",
       "244  2015      1            22            4             DL       19790   \n",
       "305  2015      1            22            4             DL       19790   \n",
       "516  2015      1            20            2             DL       19790   \n",
       "822  2015      1            20            2             DL       19790   \n",
       "855  2015      1            20            2             DL       19790   \n",
       "\n",
       "    carrier  origin_airport_id   origin_city_name origin_state_abr  \\\n",
       "244      DL              14831       San Jose, CA               CA   \n",
       "305      DL              14771  San Francisco, CA               CA   \n",
       "516      DL              13796        Oakland, CA               CA   \n",
       "822      DL              13796        Oakland, CA               CA   \n",
       "855      DL              13796        Oakland, CA               CA   \n",
       "\n",
       "          ...             dest_city_name dest_state_abr dep_time  dep_delay  \\\n",
       "244       ...                Atlanta, GA             GA   2302.0       -1.0   \n",
       "305       ...         Salt Lake City, UT             UT    601.0        1.0   \n",
       "516       ...         Salt Lake City, UT             UT   1127.0       -3.0   \n",
       "822       ...         Salt Lake City, UT             UT   1719.0       -6.0   \n",
       "855       ...         Salt Lake City, UT             UT    611.0       -1.0   \n",
       "\n",
       "     dep_time_blk cancelled  distance  dep_del15     fl_date dep_binary_delay  \n",
       "244     2300-2359       0.0    2116.0        0.0  2015-01-22                0  \n",
       "305     0600-0659       0.0     599.0        0.0  2015-01-22                1  \n",
       "516     1100-1159       0.0     588.0        0.0  2015-01-20                0  \n",
       "822     1700-1759       0.0     588.0        0.0  2015-01-20                0  \n",
       "855     0600-0659       0.0     588.0        0.0  2015-01-20                0  \n",
       "\n",
       "[5 rows x 21 columns]"
      ]
     },
     "execution_count": 46,
     "metadata": {},
     "output_type": "execute_result"
    }
   ],
   "source": [
    "bay.head()"
   ]
  },
  {
   "cell_type": "code",
   "execution_count": 47,
   "metadata": {
    "collapsed": true
   },
   "outputs": [],
   "source": [
    "#Finally I pickle my clean / organized dataframe to save it so it can be \n",
    "#reloaded easily for future modeling, description, etc.\n",
    "bay.to_pickle('./BAYAREA_ONLY_FINAL')"
   ]
  },
  {
   "cell_type": "markdown",
   "metadata": {},
   "source": [
    "### Exploring My Data"
   ]
  },
  {
   "cell_type": "markdown",
   "metadata": {},
   "source": [
    "Most of the columns in the dataset are categorical variables, including: month, day of the week, origin city, carrier, and time of day. It might seem counter intuiative to have date and time variables as categorical, but in this example the different times of day, week, and year have different efffects on delays. These variables don't build on each other as time goes on, but have distinct and different effects.\n",
    "\n",
    "Based on the fact that most of my variables and potential predictors are categorical I used bar charts to show the average delay across all of my variables. Those charts are shown below."
   ]
  },
  {
   "cell_type": "code",
   "execution_count": 3,
   "metadata": {
    "collapsed": false
   },
   "outputs": [],
   "source": [
    "bay = pd.read_pickle('./BAYAREA_ONLY_FINAL')"
   ]
  },
  {
   "cell_type": "code",
   "execution_count": null,
   "metadata": {
    "collapsed": true
   },
   "outputs": [],
   "source": [
    "#As most of the relevant columns in the dataset are categorical predictors, I used bar graphs \n",
    "#to determine in there were discernable differences in the average delay broke out by each variable\n",
    "#Below are the breakdowns by origin airport, month, day of the week, and time of day.\n"
   ]
  },
  {
   "cell_type": "code",
   "execution_count": 116,
   "metadata": {
    "collapsed": false
   },
   "outputs": [
    {
     "name": "stderr",
     "output_type": "stream",
     "text": [
      "/home/dsi-student/anaconda2/lib/python2.7/site-packages/ipykernel/__main__.py:3: FutureWarning: sort(columns=....) is deprecated, use sort_values(by=.....)\n",
      "  app.launch_new_instance()\n"
     ]
    },
    {
     "data": {
      "text/plain": [
       "<matplotlib.axes._subplots.AxesSubplot at 0x7f06a242c610>"
      ]
     },
     "execution_count": 116,
     "metadata": {},
     "output_type": "execute_result"
    },
    {
     "data": {
      "image/png": "[encoded data removed]",
      "text/plain": [
       "<matplotlib.figure.Figure at 0x7f06a238f050>"
      ]
     },
     "metadata": {},
     "output_type": "display_data"
    }
   ],
   "source": [
    "ms_city = bay[['dep_binary_delay','dep_delay','origin_city_name','dest_city_name']]\n",
    "city_exp_value = ms_city.groupby('origin_city_name').mean().reset_index()\n",
    "new= city_exp_value.sort('dep_binary_delay',ascending=False)\n",
    "new.plot(x='origin_city_name',y='dep_binary_delay', kind='bar')"
   ]
  },
  {
   "cell_type": "code",
   "execution_count": 118,
   "metadata": {
    "collapsed": false
   },
   "outputs": [
    {
     "name": "stderr",
     "output_type": "stream",
     "text": [
      "/home/dsi-student/anaconda2/lib/python2.7/site-packages/ipykernel/__main__.py:3: FutureWarning: sort(columns=....) is deprecated, use sort_values(by=.....)\n",
      "  app.launch_new_instance()\n"
     ]
    },
    {
     "data": {
      "text/plain": [
       "<matplotlib.axes._subplots.AxesSubplot at 0x7f06ac586650>"
      ]
     },
     "execution_count": 118,
     "metadata": {},
     "output_type": "execute_result"
    },
    {
     "data": {
      "image/png": "[encoded data removed]",
      "text/plain": [
       "<matplotlib.figure.Figure at 0x7f06a255ab90>"
      ]
     },
     "metadata": {},
     "output_type": "display_data"
    }
   ],
   "source": [
    "ms_dow = bay[['dep_binary_delay','dep_delay','day_of_week','dest_city_name']]\n",
    "dow_exp_value = ms_dow.groupby('day_of_week').mean().reset_index()\n",
    "dow_exp_value.sort('dep_binary_delay',ascending=False)\n",
    "dow_exp_value.plot(x='day_of_week', y=\"dep_binary_delay\", kind = 'bar')"
   ]
  },
  {
   "cell_type": "code",
   "execution_count": 113,
   "metadata": {
    "collapsed": false
   },
   "outputs": [
    {
     "name": "stderr",
     "output_type": "stream",
     "text": [
      "/home/dsi-student/anaconda2/lib/python2.7/site-packages/ipykernel/__main__.py:4: FutureWarning: sort(columns=....) is deprecated, use sort_values(by=.....)\n"
     ]
    },
    {
     "data": {
      "text/plain": [
       "<matplotlib.axes._subplots.AxesSubplot at 0x7f06a26d2e10>"
      ]
     },
     "execution_count": 113,
     "metadata": {},
     "output_type": "execute_result"
    },
    {
     "data": {
      "image/png": "[encoded data removed]",
      "text/plain": [
       "<matplotlib.figure.Figure at 0x7f06a26db210>"
      ]
     },
     "metadata": {},
     "output_type": "display_data"
    }
   ],
   "source": [
    "ms_tb = bay[['dep_binary_delay','dep_delay','dep_time_blk','dest_city_name']]\n",
    "tb_exp_value = ms_tb.groupby('dep_time_blk').mean().reset_index()\n",
    "tb_exp_value.sort('dep_time_blk',ascending=True)\n",
    "tb_exp_value.plot(x='dep_time_blk',y='dep_binary_delay', kind='bar')"
   ]
  },
  {
   "cell_type": "raw",
   "metadata": {
    "collapsed": false
   },
   "source": [
    "ms_month = bay[['dep_binary_delay','dep_delay','month','dest_city_name']]\n",
    "month_exp_value = ms_month.groupby('month').mean().reset_index()\n",
    "month_exp_value.sort('dep_binary_delay',ascending=False)\n",
    "month_exp_value.plot(x='month', y=\"dep_binary_delay\", kind = 'bar')"
   ]
  },
  {
   "cell_type": "code",
   "execution_count": 9,
   "metadata": {
    "collapsed": false
   },
   "outputs": [
    {
     "name": "stderr",
     "output_type": "stream",
     "text": [
      "/home/dsi-student/anaconda2/lib/python2.7/site-packages/ipykernel/__main__.py:3: FutureWarning: sort(columns=....) is deprecated, use sort_values(by=.....)\n",
      "  app.launch_new_instance()\n"
     ]
    },
    {
     "data": {
      "text/plain": [
       "<matplotlib.axes._subplots.AxesSubplot at 0x7f7d6f408c10>"
      ]
     },
     "execution_count": 9,
     "metadata": {},
     "output_type": "execute_result"
    },
    {
     "data": {
      "image/png": "[encoded data removed]",
      "text/plain": [
       "<matplotlib.figure.Figure at 0x7f7d6f4141d0>"
      ]
     },
     "metadata": {},
     "output_type": "display_data"
    }
   ],
   "source": [
    "ms_carrier = bay[['dep_binary_delay','dep_delay','carrier','dest_city_name']]\n",
    "carrier_exp_value = ms_carrier.groupby('carrier').mean().reset_index()\n",
    "carrier_exp_value.sort('dep_binary_delay',ascending=False)\n",
    "carrier_exp_value.plot(x='carrier', y=\"dep_binary_delay\", kind = 'bar',sort_columns=False)"
   ]
  },
  {
   "cell_type": "markdown",
   "metadata": {},
   "source": [
    "### Modeling and Results"
   ]
  },
  {
   "cell_type": "markdown",
   "metadata": {},
   "source": [
    "I initially used Logistic Regression techniques (ridge and lasso) so that I could get the coefficients\n",
    "on each of my predictors in my data. After starting with Logistic Regression, I implemented Decision Tree Classifiers, and Random Forest classifiers. I found that using a stochastic gradient descent (SGD) classifier with an elastic net penalty performed the best. To find the best parameters for the SGD classifier I used a cross validated grid search with a wide range of values to search for the alpha and l1 ratio. After finding the best parameters from the wide range search, I narrowed my search to find the best possible parameters. Then I fit my model on a 70% of my data before predicting on the holdout data (last 30%).\n",
    "\n",
    "The SGD Classifier performed well for such a large dataset with 66.06% accuracy, about a 6% increase over the baseline of 60.14%. The model predicted 28,659 non-delayed flights correctly (True Negatives) and 7,760 delayed flights correctly (True Positives).  While predicting 13,974 flights wouldn't be delayed that actually were (False Negatives) and predicting 4,740 flights would be delayed that were not (False Positives). These values are shown in the confusion matrix below. SKLearn has 3 metrics that describe the confusion matrix: precision, recall, and f-1 score.  Precision is how the percentage of predicted true values that were actually true.  Recall is the percentage of actually true values that the model identified as true. F1 score is weighted average of precision and recall. \n",
    "\n",
    "For on time flights the model has a precision of 67%, recall of 86%, and an F1 score of 75%. For delayed flights the model has a precision of 62%, recall of 36%, and an f1 score of 45%. For the overall model precision was 65%, the recall was 66%, and the f1 score was 64%. This was with 33,399 on time flights and 21,734 delayed flights that were tested, totalling 55,133 tested flights.\n",
    "\n",
    "Another metric commonly used to show the accuracy of your model is the reciever operating characteristic (ROC) score. This metric compares the true positive rate to the false positive rate.  The ideal model will score 1.0 and a worthless model will score at .50.  My model scored somewhere in between at 0.696. Below you will see a graph showing my ROC curve comparing true and false positive rates. \n",
    "\n",
    "Overall the scoring metrics were  good, with better performance for on time flights. As delayed flights are a more rare event they are harder to predict, these metrics make sense. With such a large dataset there is some inherent noise that can be hard to filter out, but on the whole this SGD Classifier model has fairly strong prediction power."
   ]
  },
  {
   "cell_type": "code",
   "execution_count": null,
   "metadata": {
    "collapsed": true
   },
   "outputs": [],
   "source": []
  },
  {
   "cell_type": "code",
   "execution_count": 4,
   "metadata": {
    "collapsed": false
   },
   "outputs": [],
   "source": [
    "bay_raw = pd.read_pickle('./BAYAREA_ONLY_FINAL')"
   ]
  },
  {
   "cell_type": "code",
   "execution_count": 5,
   "metadata": {
    "collapsed": false
   },
   "outputs": [],
   "source": [
    "#After looking at all of relevant columns in my dataset I subseted to only the pertinent columns for modeling\n",
    "bay = bay_raw[['dep_binary_delay','month','day_of_week','distance','dep_time_blk','origin_airport_id','carrier']]"
   ]
  },
  {
   "cell_type": "code",
   "execution_count": 6,
   "metadata": {
    "collapsed": true
   },
   "outputs": [],
   "source": [
    "#Below is my patsy formula to predict delays.\n",
    "formula = 'dep_binary_delay ~ C(month) + C(day_of_week) + distance + C(dep_time_blk) + C(origin_airport_id) + C(carrier) -1'\n",
    "\n",
    "#I use patsy to split up my target (binary delay) and the rest of my predictor, and I do so in a dataframe format. \n",
    "Y, X = patsy.dmatrices(formula, data=bay, return_type='dataframe')"
   ]
  },
  {
   "cell_type": "code",
   "execution_count": 7,
   "metadata": {
    "collapsed": true
   },
   "outputs": [],
   "source": [
    "#Here I standardize my data to a mean around 0 to account for the fact that I have a continuous variable (distance)\n",
    "# included with all of my categorical variables\n",
    "X_cols = X.columns\n",
    "Xn = (X - X.mean()) / X.std()\n",
    "Xn = Xn.values\n",
    "Y = np.ravel(Y)"
   ]
  },
  {
   "cell_type": "code",
   "execution_count": 8,
   "metadata": {
    "collapsed": true
   },
   "outputs": [],
   "source": [
    "#Here I create test and train sets so that I will later have hold out data to test my models.\n",
    "x_train, x_test,y_train, y_test = train_test_split(Xn,Y, test_size=.3)"
   ]
  },
  {
   "cell_type": "code",
   "execution_count": 9,
   "metadata": {
    "collapsed": false
   },
   "outputs": [],
   "source": [
    "#Here is set up a grid search for a stochastic gradient descent classifier using elastic net penalty.\n",
    "sgdc = SGDClassifier()\n",
    "\n",
    "sgdc_params = {\n",
    "    'loss':['log'],\n",
    "    'penalty':['elasticnet'],\n",
    "    'n_iter':[5],\n",
    "    'alpha':np.logspace(-4, 4, 10),\n",
    "    'l1_ratio':[0.0, 0.01, 0.1, 0.25, 0.5, 0.75, 0.9, 0.99]\n",
    "}\n",
    "\n",
    "sgdc_gs = GridSearchCV(sgdc, sgdc_params, cv=5, verbose=1, n_jobs=1)\n"
   ]
  },
  {
   "cell_type": "code",
   "execution_count": 10,
   "metadata": {
    "collapsed": false
   },
   "outputs": [
    {
     "name": "stdout",
     "output_type": "stream",
     "text": [
      "Fitting 5 folds for each of 80 candidates, totalling 400 fits\n"
     ]
    },
    {
     "name": "stderr",
     "output_type": "stream",
     "text": [
      "[Parallel(n_jobs=1)]: Done  49 tasks       | elapsed:   25.3s\n",
      "[Parallel(n_jobs=1)]: Done 199 tasks       | elapsed:  1.6min\n",
      "[Parallel(n_jobs=1)]: Done 400 out of 400 | elapsed:  3.4min finished\n"
     ]
    },
    {
     "data": {
      "text/plain": [
       "GridSearchCV(cv=5, error_score='raise',\n",
       "       estimator=SGDClassifier(alpha=0.0001, average=False, class_weight=None, epsilon=0.1,\n",
       "       eta0=0.0, fit_intercept=True, l1_ratio=0.15,\n",
       "       learning_rate='optimal', loss='hinge', n_iter=5, n_jobs=1,\n",
       "       penalty='l2', power_t=0.5, random_state=None, shuffle=True,\n",
       "       verbose=0, warm_start=False),\n",
       "       fit_params={}, iid=True, n_jobs=1,\n",
       "       param_grid={'penalty': ['elasticnet'], 'loss': ['log'], 'alpha': array([  1.00000e-04,   7.74264e-04,   5.99484e-03,   4.64159e-02,\n",
       "         3.59381e-01,   2.78256e+00,   2.15443e+01,   1.66810e+02,\n",
       "         1.29155e+03,   1.00000e+04]), 'l1_ratio': [0.0, 0.01, 0.1, 0.25, 0.5, 0.75, 0.9, 0.99], 'n_iter': [5]},\n",
       "       pre_dispatch='2*n_jobs', refit=True, scoring=None, verbose=1)"
      ]
     },
     "execution_count": 10,
     "metadata": {},
     "output_type": "execute_result"
    }
   ],
   "source": [
    "sgdc_gs.fit(Xn,Y)"
   ]
  },
  {
   "cell_type": "code",
   "execution_count": 11,
   "metadata": {
    "collapsed": false
   },
   "outputs": [
    {
     "name": "stdout",
     "output_type": "stream",
     "text": [
      "{'n_iter': 5, 'alpha': 0.046415888336127774, 'loss': 'log', 'penalty': 'elasticnet', 'l1_ratio': 0.1}\n",
      "0.615484236073\n"
     ]
    }
   ],
   "source": [
    "#There are the best parameters and score of my gridsearch on the SGD Classifier\n",
    "print sgdc_gs.best_params_\n",
    "print sgdc_gs.best_score_"
   ]
  },
  {
   "cell_type": "code",
   "execution_count": 12,
   "metadata": {
    "collapsed": true
   },
   "outputs": [],
   "source": [
    "sgdc_bay_1 = sgdc_gs.best_estimator_"
   ]
  },
  {
   "cell_type": "code",
   "execution_count": 13,
   "metadata": {
    "collapsed": true
   },
   "outputs": [],
   "source": [
    "#After finding some general parameters I run another gridsearch with more a more specific parameter set \n",
    "#This will help me hone in on the best parameters. \n",
    "sgdc = SGDClassifier()\n",
    "\n",
    "sgdc_params = {\n",
    "    'loss':['log'],\n",
    "    'penalty':['elasticnet'],\n",
    "    'n_iter':[5],\n",
    "    'alpha':np.logspace(-4, 4, 10),\n",
    "    'l1_ratio':[0.05,0.06,0.07,0.08,0.09,0.1,0.12,0.13,0.14,0.15,0.2]\n",
    "}\n",
    "\n",
    "sgdc_gs = GridSearchCV(sgdc, sgdc_params, cv=5, verbose=1, n_jobs=1)"
   ]
  },
  {
   "cell_type": "code",
   "execution_count": 14,
   "metadata": {
    "collapsed": false
   },
   "outputs": [
    {
     "name": "stdout",
     "output_type": "stream",
     "text": [
      "Fitting 5 folds for each of 110 candidates, totalling 550 fits\n"
     ]
    },
    {
     "name": "stderr",
     "output_type": "stream",
     "text": [
      "[Parallel(n_jobs=1)]: Done  49 tasks       | elapsed:   28.3s\n",
      "[Parallel(n_jobs=1)]: Done 199 tasks       | elapsed:  1.8min\n",
      "[Parallel(n_jobs=1)]: Done 449 tasks       | elapsed:  4.4min\n",
      "[Parallel(n_jobs=1)]: Done 550 out of 550 | elapsed:  5.3min finished\n"
     ]
    },
    {
     "data": {
      "text/plain": [
       "GridSearchCV(cv=5, error_score='raise',\n",
       "       estimator=SGDClassifier(alpha=0.0001, average=False, class_weight=None, epsilon=0.1,\n",
       "       eta0=0.0, fit_intercept=True, l1_ratio=0.15,\n",
       "       learning_rate='optimal', loss='hinge', n_iter=5, n_jobs=1,\n",
       "       penalty='l2', power_t=0.5, random_state=None, shuffle=True,\n",
       "       verbose=0, warm_start=False),\n",
       "       fit_params={}, iid=True, n_jobs=1,\n",
       "       param_grid={'penalty': ['elasticnet'], 'loss': ['log'], 'alpha': array([  1.00000e-04,   7.74264e-04,   5.99484e-03,   4.64159e-02,\n",
       "         3.59381e-01,   2.78256e+00,   2.15443e+01,   1.66810e+02,\n",
       "         1.29155e+03,   1.00000e+04]), 'l1_ratio': [0.05, 0.06, 0.07, 0.08, 0.09, 0.1, 0.12, 0.13, 0.14, 0.15, 0.2], 'n_iter': [5]},\n",
       "       pre_dispatch='2*n_jobs', refit=True, scoring=None, verbose=1)"
      ]
     },
     "execution_count": 14,
     "metadata": {},
     "output_type": "execute_result"
    }
   ],
   "source": [
    "sgdc_gs.fit(Xn,Y)"
   ]
  },
  {
   "cell_type": "code",
   "execution_count": 15,
   "metadata": {
    "collapsed": false
   },
   "outputs": [
    {
     "name": "stdout",
     "output_type": "stream",
     "text": [
      "{'n_iter': 5, 'alpha': 0.046415888336127774, 'loss': 'log', 'penalty': 'elasticnet', 'l1_ratio': 0.08}\n",
      "0.617492137081\n"
     ]
    }
   ],
   "source": [
    "#These are the final best parameters from the gridsearch.\n",
    "print sgdc_gs.best_params_\n",
    "print sgdc_gs.best_score_"
   ]
  },
  {
   "cell_type": "code",
   "execution_count": 16,
   "metadata": {
    "collapsed": true
   },
   "outputs": [],
   "source": [
    "#Model with the best parameters from the gridsearch\n",
    "sgdc_bay_2 = sgdc_gs.best_estimator_"
   ]
  },
  {
   "cell_type": "code",
   "execution_count": 17,
   "metadata": {
    "collapsed": false
   },
   "outputs": [
    {
     "data": {
      "text/plain": [
       "SGDClassifier(alpha=0.046415888336127774, average=False, class_weight=None,\n",
       "       epsilon=0.1, eta0=0.0, fit_intercept=True, l1_ratio=0.08,\n",
       "       learning_rate='optimal', loss='log', n_iter=5, n_jobs=1,\n",
       "       penalty='elasticnet', power_t=0.5, random_state=None, shuffle=True,\n",
       "       verbose=0, warm_start=False)"
      ]
     },
     "execution_count": 17,
     "metadata": {},
     "output_type": "execute_result"
    }
   ],
   "source": [
    "#Fitting the model with the training set from the dataset\n",
    "sgdc_bay_2.fit(x_train,y_train)"
   ]
  },
  {
   "cell_type": "code",
   "execution_count": 18,
   "metadata": {
    "collapsed": false
   },
   "outputs": [
    {
     "data": {
      "text/plain": [
       "0.66056626702700738"
      ]
     },
     "execution_count": 18,
     "metadata": {},
     "output_type": "execute_result"
    }
   ],
   "source": [
    "#scoring the model with the holdout or test data.\n",
    "sgdc_bay_2.score(x_test,y_test)"
   ]
  },
  {
   "cell_type": "code",
   "execution_count": 19,
   "metadata": {
    "collapsed": false
   },
   "outputs": [
    {
     "data": {
      "text/plain": [
       "0.60143437047678128"
      ]
     },
     "execution_count": 19,
     "metadata": {},
     "output_type": "execute_result"
    }
   ],
   "source": [
    "#Above is thge model's accuracy score and below is the baseline score.\n",
    "max(np.mean(Y),1-np.mean(Y))"
   ]
  },
  {
   "cell_type": "code",
   "execution_count": 20,
   "metadata": {
    "collapsed": true
   },
   "outputs": [],
   "source": [
    "#Creating predictions and prediction probabilities for for the x_test holdout set\n",
    "y_pred = sgdc_bay_2.predict(x_test)\n",
    "y_pred_prob = sgdc_bay_2.predict_proba(x_test)"
   ]
  },
  {
   "cell_type": "code",
   "execution_count": 21,
   "metadata": {
    "collapsed": false
   },
   "outputs": [
    {
     "name": "stdout",
     "output_type": "stream",
     "text": [
      "[[28659  4740]\n",
      " [13974  7760]]\n"
     ]
    }
   ],
   "source": [
    "#Confusion Matrix for predictions\n",
    "print confusion_matrix(y_test, y_pred)"
   ]
  },
  {
   "cell_type": "code",
   "execution_count": 22,
   "metadata": {
    "collapsed": false
   },
   "outputs": [
    {
     "name": "stdout",
     "output_type": "stream",
     "text": [
      "             precision    recall  f1-score   support\n",
      "\n",
      "    On Time       0.67      0.86      0.75     33399\n",
      "    Delayed       0.62      0.36      0.45     21734\n",
      "\n",
      "avg / total       0.65      0.66      0.64     55133\n",
      "\n"
     ]
    }
   ],
   "source": [
    "#Classification report based on confusion matrix\n",
    "print classification_report(y_test, y_pred, target_names = ['On Time','Delayed'])"
   ]
  },
  {
   "cell_type": "code",
   "execution_count": 23,
   "metadata": {
    "collapsed": false
   },
   "outputs": [
    {
     "data": {
      "text/plain": [
       "0.69557874387658758"
      ]
     },
     "execution_count": 23,
     "metadata": {},
     "output_type": "execute_result"
    }
   ],
   "source": [
    "#ROC score\n",
    "roc_auc_score(y_test, y_pred_prob[:,1])"
   ]
  },
  {
   "cell_type": "code",
   "execution_count": 24,
   "metadata": {
    "collapsed": false
   },
   "outputs": [
    {
     "data": {
      "image/png": "[encoded data removed]",
      "text/plain": [
       "<matplotlib.figure.Figure at 0x7fb2931de050>"
      ]
     },
     "metadata": {},
     "output_type": "display_data"
    }
   ],
   "source": [
    "#Graphing the ROC Curve\n",
    "Y_score = y_pred_prob[:,1]\n",
    "\n",
    "FPR = dict()\n",
    "TPR = dict()\n",
    "ROC_AUC = dict()\n",
    "\n",
    "# For class 1, find the area under the curve\n",
    "FPR[1], TPR[1], _ = roc_curve(y_test, Y_score)\n",
    "ROC_AUC[1] = auc(FPR[1], TPR[1])\n",
    "\n",
    "# Plot of a ROC curve for class 1 (has_cancer)\n",
    "plt.figure(figsize=[11,9])\n",
    "plt.plot(FPR[1], TPR[1], label='ROC curve (area = %0.2f)' % ROC_AUC[1], linewidth=4)\n",
    "plt.plot([0, 1], [0, 1], 'k--', linewidth=4)\n",
    "plt.xlim([0.0, 1.0])\n",
    "plt.ylim([0.0, 1.05])\n",
    "plt.xlabel('False Positive Rate', fontsize=18)\n",
    "plt.ylabel('True Positive Rate', fontsize=18)\n",
    "plt.title('', fontsize=18)\n",
    "plt.legend(loc=\"lower right\")\n",
    "plt.show()"
   ]
  },
  {
   "cell_type": "markdown",
   "metadata": {},
   "source": [
    "### Interpreting Coefficients and Predictors Impact on Flight Delays"
   ]
  },
  {
   "cell_type": "markdown",
   "metadata": {},
   "source": [
    "One of the great upsides to using a SGD Classifier with elastic net penalty is that the elastic net will select only significant predictors to use in the model while also assigning coefficients to the predictors showing the extent of their impact on the target. This provides strong insight into what to flight attributes to avoid when flying out of Bay Area airports. Below is a dataframe with each of the predictors and their corresponding coefficients.\n",
    "\n",
    "Some of the predictors did not have enough of an impact to be included in the model these predictors included:\n",
    "\n",
    "Origin city of San Francisco, depature month of February or May, departures on Mondays and Thursdays, departure times of 1000-1059am, 1100-1159am, 900-959pm, 1100-1159pm, and flights on Frontier Airlines, Jet Blue, Delta Airlines, Spirit Airlines, and Virgin America.\n",
    "\n",
    "The rest of the predictors had a significant impact on the chance of fligh delays. \n",
    "\n",
    "\n",
    "#### Airlines:\n",
    "Increased Chance of Delay: Southwest(0.21), United (0.14)\n",
    "   \n",
    "Decreased Chance of Delay: Alaska (-0.1), US(-0.04), Hawaiian(-0.03), SkyWest(-0.03)\n",
    "   \n",
    "   \n",
    "In this model flying on Southwest and United Airlines are the two strongest influences on delay of any of the predictors. Anecdoteally Southwest and United Airlines have both had had very negative public perceptions about their on time performance. This model gives credance to the public perceptions. As a frequent Alaska Airlines flier, I was not suprised to see that the airline had the strongest negative coefficient of any airline.\n",
    "   \n",
    "\n",
    "#### Month:\n",
    "Increased Chance of Delay: December(.11), June(0.06), July(0.02), August(0.02)\n",
    "   \n",
    "Decreased Chance of Delay: October(-0.07), September(-0.05), March(-0.02), April(-0.02), January(-0.01), November(-0.003)\n",
    "\n",
    "In inspecting the categorical month variables, I was not surprised to see the summer months as contributors of delays. Many consumers enjoy traveling in the summer months to enjoy the good weather around the United States. It also made sense that December recieved the most delays because many people travel during the winter holiday season, and that time of year is also susceptible to weather delays.\n",
    "\n",
    "\n",
    "#### Day of the Week:\n",
    "Increased Chance of Delay: Sunday(0.02), Friday (0.01)\n",
    "   \n",
    "Decreased Chance of Delay: Saturday(-0.08), Tuesday(-0.07), Wednesday (-0.06)\n",
    "\n",
    "\n",
    "With the standard Monday - Friday 5 day work week in the United States, many people like the travel for the weekends making Friday and Sunday prime time travel days. With more people traveling it make sense that airport would get congested and those two days would correlate with delays. Under the same logic, it makes sense that travelig mid week on a Tuesday and Wednesday would decrease the chance of delays. Saturday, while a weekend day ,is in the middle of the weekend and is a less ideal time to travel because it doesn't allow travler to maximize on their weekend. With less people traveling on Saturday there is less chance of congestion and delays.\n",
    "\n",
    "\n",
    "\n",
    "#### Time of Day:\n",
    "   \n",
    "Increased Chance of Delay: 1400-1459 (0.08), 1500-1559 (0.06), 2000-2059 (0.06),1700-1759 (0.03), 1200-1259 (0.03), 1600-1659 (0.04), 1900-1959 (0.04), 1800-1859 (0.04)\n",
    "   \n",
    "Decreased Chance of Delay: 0600-0659 (-0.25), 0700-0759,(-0.20),0800-0859(-0.15), 0900-0959 (-0.08)\n",
    "\n",
    "This model shows that traveling earlier in the day decreases your chance of being delayed. This manifests because any flight delays can cause backups at the airport making subsequent flights that daty delayed.\n",
    "   \n",
    "#### Distance - 0.07\n",
    "\n",
    "Distance had a positive coefficient meaning the farther you fly the more likely for there to be a delay. The farther an aircraft has to fly the more preparation an airplane requires and the less aircrafts are elligible to make the flight. It can be harder to find replacement aircrafts and to do any maintenance that may be required.\n",
    "\n",
    "Please see the graph below to see the direction and strength of each predictor.\n"
   ]
  },
  {
   "cell_type": "code",
   "execution_count": 25,
   "metadata": {
    "collapsed": false
   },
   "outputs": [
    {
     "data": {
      "text/plain": [
       "array([[-0.01464667,  0.        , -0.01562262, -0.015302  ,  0.        ,\n",
       "         0.05669379,  0.05629494,  0.01605588, -0.05374845, -0.06515352,\n",
       "        -0.00354028,  0.10620783, -0.06706968, -0.05775627,  0.        ,\n",
       "         0.01138492, -0.08404523,  0.01914313, -0.24751984, -0.2033653 ,\n",
       "        -0.15443686, -0.0798316 ,  0.        ,  0.        ,  0.0347445 ,\n",
       "         0.07078245,  0.07969641,  0.06441702,  0.03676717,  0.02662333,\n",
       "         0.0433382 ,  0.03782547,  0.05648882,  0.        ,  0.01535398,\n",
       "         0.        ,  0.        , -0.05514436, -0.09974601,  0.        ,\n",
       "         0.        ,  0.        , -0.02874589,  0.        , -0.02571494,\n",
       "         0.13800101, -0.03992901,  0.        ,  0.21302785,  0.07283192]])"
      ]
     },
     "execution_count": 25,
     "metadata": {},
     "output_type": "execute_result"
    }
   ],
   "source": [
    "sgdc_bay_2.coef_"
   ]
  },
  {
   "cell_type": "code",
   "execution_count": 26,
   "metadata": {
    "collapsed": false
   },
   "outputs": [],
   "source": [
    "col_coefs_list = zip(X.columns,sgdc_bay_2.coef_[0])"
   ]
  },
  {
   "cell_type": "code",
   "execution_count": 27,
   "metadata": {
    "collapsed": false
   },
   "outputs": [
    {
     "name": "stderr",
     "output_type": "stream",
     "text": [
      "/home/dsi-student/anaconda2/lib/python2.7/site-packages/ipykernel/__main__.py:4: FutureWarning: sort(columns=....) is deprecated, use sort_values(by=.....)\n"
     ]
    },
    {
     "data": {
      "text/html": [
       "<div>\n",
       "<table border=\"1\" class=\"dataframe\">\n",
       "  <thead>\n",
       "    <tr style=\"text-align: right;\">\n",
       "      <th></th>\n",
       "      <th>feature</th>\n",
       "      <th>coef</th>\n",
       "    </tr>\n",
       "  </thead>\n",
       "  <tbody>\n",
       "    <tr>\n",
       "      <th>18</th>\n",
       "      <td>C(dep_time_blk)[T.0600-0659]</td>\n",
       "      <td>-0.247520</td>\n",
       "    </tr>\n",
       "    <tr>\n",
       "      <th>19</th>\n",
       "      <td>C(dep_time_blk)[T.0700-0759]</td>\n",
       "      <td>-0.203365</td>\n",
       "    </tr>\n",
       "    <tr>\n",
       "      <th>20</th>\n",
       "      <td>C(dep_time_blk)[T.0800-0859]</td>\n",
       "      <td>-0.154437</td>\n",
       "    </tr>\n",
       "    <tr>\n",
       "      <th>38</th>\n",
       "      <td>C(carrier)[T.AS]</td>\n",
       "      <td>-0.099746</td>\n",
       "    </tr>\n",
       "    <tr>\n",
       "      <th>16</th>\n",
       "      <td>C(day_of_week)[T.6]</td>\n",
       "      <td>-0.084045</td>\n",
       "    </tr>\n",
       "    <tr>\n",
       "      <th>21</th>\n",
       "      <td>C(dep_time_blk)[T.0900-0959]</td>\n",
       "      <td>-0.079832</td>\n",
       "    </tr>\n",
       "    <tr>\n",
       "      <th>12</th>\n",
       "      <td>C(day_of_week)[T.2]</td>\n",
       "      <td>-0.067070</td>\n",
       "    </tr>\n",
       "    <tr>\n",
       "      <th>9</th>\n",
       "      <td>C(month)[10]</td>\n",
       "      <td>-0.065154</td>\n",
       "    </tr>\n",
       "    <tr>\n",
       "      <th>13</th>\n",
       "      <td>C(day_of_week)[T.3]</td>\n",
       "      <td>-0.057756</td>\n",
       "    </tr>\n",
       "    <tr>\n",
       "      <th>37</th>\n",
       "      <td>C(origin_airport_id)[T.14831]</td>\n",
       "      <td>-0.055144</td>\n",
       "    </tr>\n",
       "    <tr>\n",
       "      <th>8</th>\n",
       "      <td>C(month)[9]</td>\n",
       "      <td>-0.053748</td>\n",
       "    </tr>\n",
       "    <tr>\n",
       "      <th>46</th>\n",
       "      <td>C(carrier)[T.US]</td>\n",
       "      <td>-0.039929</td>\n",
       "    </tr>\n",
       "    <tr>\n",
       "      <th>42</th>\n",
       "      <td>C(carrier)[T.HA]</td>\n",
       "      <td>-0.028746</td>\n",
       "    </tr>\n",
       "    <tr>\n",
       "      <th>44</th>\n",
       "      <td>C(carrier)[T.OO]</td>\n",
       "      <td>-0.025715</td>\n",
       "    </tr>\n",
       "    <tr>\n",
       "      <th>2</th>\n",
       "      <td>C(month)[3]</td>\n",
       "      <td>-0.015623</td>\n",
       "    </tr>\n",
       "    <tr>\n",
       "      <th>3</th>\n",
       "      <td>C(month)[4]</td>\n",
       "      <td>-0.015302</td>\n",
       "    </tr>\n",
       "    <tr>\n",
       "      <th>0</th>\n",
       "      <td>C(month)[1]</td>\n",
       "      <td>-0.014647</td>\n",
       "    </tr>\n",
       "    <tr>\n",
       "      <th>10</th>\n",
       "      <td>C(month)[11]</td>\n",
       "      <td>-0.003540</td>\n",
       "    </tr>\n",
       "    <tr>\n",
       "      <th>41</th>\n",
       "      <td>C(carrier)[T.F9]</td>\n",
       "      <td>0.000000</td>\n",
       "    </tr>\n",
       "    <tr>\n",
       "      <th>39</th>\n",
       "      <td>C(carrier)[T.B6]</td>\n",
       "      <td>0.000000</td>\n",
       "    </tr>\n",
       "    <tr>\n",
       "      <th>36</th>\n",
       "      <td>C(origin_airport_id)[T.14771]</td>\n",
       "      <td>0.000000</td>\n",
       "    </tr>\n",
       "    <tr>\n",
       "      <th>33</th>\n",
       "      <td>C(dep_time_blk)[T.2100-2159]</td>\n",
       "      <td>0.000000</td>\n",
       "    </tr>\n",
       "    <tr>\n",
       "      <th>40</th>\n",
       "      <td>C(carrier)[T.DL]</td>\n",
       "      <td>0.000000</td>\n",
       "    </tr>\n",
       "    <tr>\n",
       "      <th>43</th>\n",
       "      <td>C(carrier)[T.NK]</td>\n",
       "      <td>0.000000</td>\n",
       "    </tr>\n",
       "    <tr>\n",
       "      <th>35</th>\n",
       "      <td>C(dep_time_blk)[T.2300-2359]</td>\n",
       "      <td>0.000000</td>\n",
       "    </tr>\n",
       "    <tr>\n",
       "      <th>22</th>\n",
       "      <td>C(dep_time_blk)[T.1000-1059]</td>\n",
       "      <td>0.000000</td>\n",
       "    </tr>\n",
       "    <tr>\n",
       "      <th>14</th>\n",
       "      <td>C(day_of_week)[T.4]</td>\n",
       "      <td>0.000000</td>\n",
       "    </tr>\n",
       "    <tr>\n",
       "      <th>47</th>\n",
       "      <td>C(carrier)[T.VX]</td>\n",
       "      <td>0.000000</td>\n",
       "    </tr>\n",
       "    <tr>\n",
       "      <th>4</th>\n",
       "      <td>C(month)[5]</td>\n",
       "      <td>0.000000</td>\n",
       "    </tr>\n",
       "    <tr>\n",
       "      <th>1</th>\n",
       "      <td>C(month)[2]</td>\n",
       "      <td>0.000000</td>\n",
       "    </tr>\n",
       "    <tr>\n",
       "      <th>23</th>\n",
       "      <td>C(dep_time_blk)[T.1100-1159]</td>\n",
       "      <td>0.000000</td>\n",
       "    </tr>\n",
       "    <tr>\n",
       "      <th>15</th>\n",
       "      <td>C(day_of_week)[T.5]</td>\n",
       "      <td>0.011385</td>\n",
       "    </tr>\n",
       "    <tr>\n",
       "      <th>34</th>\n",
       "      <td>C(dep_time_blk)[T.2200-2259]</td>\n",
       "      <td>0.015354</td>\n",
       "    </tr>\n",
       "    <tr>\n",
       "      <th>7</th>\n",
       "      <td>C(month)[8]</td>\n",
       "      <td>0.016056</td>\n",
       "    </tr>\n",
       "    <tr>\n",
       "      <th>17</th>\n",
       "      <td>C(day_of_week)[T.7]</td>\n",
       "      <td>0.019143</td>\n",
       "    </tr>\n",
       "    <tr>\n",
       "      <th>29</th>\n",
       "      <td>C(dep_time_blk)[T.1700-1759]</td>\n",
       "      <td>0.026623</td>\n",
       "    </tr>\n",
       "    <tr>\n",
       "      <th>24</th>\n",
       "      <td>C(dep_time_blk)[T.1200-1259]</td>\n",
       "      <td>0.034745</td>\n",
       "    </tr>\n",
       "    <tr>\n",
       "      <th>28</th>\n",
       "      <td>C(dep_time_blk)[T.1600-1659]</td>\n",
       "      <td>0.036767</td>\n",
       "    </tr>\n",
       "    <tr>\n",
       "      <th>31</th>\n",
       "      <td>C(dep_time_blk)[T.1900-1959]</td>\n",
       "      <td>0.037825</td>\n",
       "    </tr>\n",
       "    <tr>\n",
       "      <th>30</th>\n",
       "      <td>C(dep_time_blk)[T.1800-1859]</td>\n",
       "      <td>0.043338</td>\n",
       "    </tr>\n",
       "    <tr>\n",
       "      <th>6</th>\n",
       "      <td>C(month)[7]</td>\n",
       "      <td>0.056295</td>\n",
       "    </tr>\n",
       "    <tr>\n",
       "      <th>32</th>\n",
       "      <td>C(dep_time_blk)[T.2000-2059]</td>\n",
       "      <td>0.056489</td>\n",
       "    </tr>\n",
       "    <tr>\n",
       "      <th>5</th>\n",
       "      <td>C(month)[6]</td>\n",
       "      <td>0.056694</td>\n",
       "    </tr>\n",
       "    <tr>\n",
       "      <th>27</th>\n",
       "      <td>C(dep_time_blk)[T.1500-1559]</td>\n",
       "      <td>0.064417</td>\n",
       "    </tr>\n",
       "    <tr>\n",
       "      <th>25</th>\n",
       "      <td>C(dep_time_blk)[T.1300-1359]</td>\n",
       "      <td>0.070782</td>\n",
       "    </tr>\n",
       "    <tr>\n",
       "      <th>49</th>\n",
       "      <td>distance</td>\n",
       "      <td>0.072832</td>\n",
       "    </tr>\n",
       "    <tr>\n",
       "      <th>26</th>\n",
       "      <td>C(dep_time_blk)[T.1400-1459]</td>\n",
       "      <td>0.079696</td>\n",
       "    </tr>\n",
       "    <tr>\n",
       "      <th>11</th>\n",
       "      <td>C(month)[12]</td>\n",
       "      <td>0.106208</td>\n",
       "    </tr>\n",
       "    <tr>\n",
       "      <th>45</th>\n",
       "      <td>C(carrier)[T.UA]</td>\n",
       "      <td>0.138001</td>\n",
       "    </tr>\n",
       "    <tr>\n",
       "      <th>48</th>\n",
       "      <td>C(carrier)[T.WN]</td>\n",
       "      <td>0.213028</td>\n",
       "    </tr>\n",
       "  </tbody>\n",
       "</table>\n",
       "</div>"
      ],
      "text/plain": [
       "                          feature      coef\n",
       "18   C(dep_time_blk)[T.0600-0659] -0.247520\n",
       "19   C(dep_time_blk)[T.0700-0759] -0.203365\n",
       "20   C(dep_time_blk)[T.0800-0859] -0.154437\n",
       "38               C(carrier)[T.AS] -0.099746\n",
       "16            C(day_of_week)[T.6] -0.084045\n",
       "21   C(dep_time_blk)[T.0900-0959] -0.079832\n",
       "12            C(day_of_week)[T.2] -0.067070\n",
       "9                    C(month)[10] -0.065154\n",
       "13            C(day_of_week)[T.3] -0.057756\n",
       "37  C(origin_airport_id)[T.14831] -0.055144\n",
       "8                     C(month)[9] -0.053748\n",
       "46               C(carrier)[T.US] -0.039929\n",
       "42               C(carrier)[T.HA] -0.028746\n",
       "44               C(carrier)[T.OO] -0.025715\n",
       "2                     C(month)[3] -0.015623\n",
       "3                     C(month)[4] -0.015302\n",
       "0                     C(month)[1] -0.014647\n",
       "10                   C(month)[11] -0.003540\n",
       "41               C(carrier)[T.F9]  0.000000\n",
       "39               C(carrier)[T.B6]  0.000000\n",
       "36  C(origin_airport_id)[T.14771]  0.000000\n",
       "33   C(dep_time_blk)[T.2100-2159]  0.000000\n",
       "40               C(carrier)[T.DL]  0.000000\n",
       "43               C(carrier)[T.NK]  0.000000\n",
       "35   C(dep_time_blk)[T.2300-2359]  0.000000\n",
       "22   C(dep_time_blk)[T.1000-1059]  0.000000\n",
       "14            C(day_of_week)[T.4]  0.000000\n",
       "47               C(carrier)[T.VX]  0.000000\n",
       "4                     C(month)[5]  0.000000\n",
       "1                     C(month)[2]  0.000000\n",
       "23   C(dep_time_blk)[T.1100-1159]  0.000000\n",
       "15            C(day_of_week)[T.5]  0.011385\n",
       "34   C(dep_time_blk)[T.2200-2259]  0.015354\n",
       "7                     C(month)[8]  0.016056\n",
       "17            C(day_of_week)[T.7]  0.019143\n",
       "29   C(dep_time_blk)[T.1700-1759]  0.026623\n",
       "24   C(dep_time_blk)[T.1200-1259]  0.034745\n",
       "28   C(dep_time_blk)[T.1600-1659]  0.036767\n",
       "31   C(dep_time_blk)[T.1900-1959]  0.037825\n",
       "30   C(dep_time_blk)[T.1800-1859]  0.043338\n",
       "6                     C(month)[7]  0.056295\n",
       "32   C(dep_time_blk)[T.2000-2059]  0.056489\n",
       "5                     C(month)[6]  0.056694\n",
       "27   C(dep_time_blk)[T.1500-1559]  0.064417\n",
       "25   C(dep_time_blk)[T.1300-1359]  0.070782\n",
       "49                       distance  0.072832\n",
       "26   C(dep_time_blk)[T.1400-1459]  0.079696\n",
       "11                   C(month)[12]  0.106208\n",
       "45               C(carrier)[T.UA]  0.138001\n",
       "48               C(carrier)[T.WN]  0.213028"
      ]
     },
     "execution_count": 27,
     "metadata": {},
     "output_type": "execute_result"
    }
   ],
   "source": [
    "#Creating datafram with predictor coefficients\n",
    "c = pd.DataFrame(col_coefs_list)\n",
    "c.columns = ['feature','coef']\n",
    "c.sort('coef',ascending=True, inplace = True)\n",
    "c"
   ]
  },
  {
   "cell_type": "code",
   "execution_count": 28,
   "metadata": {
    "collapsed": false
   },
   "outputs": [
    {
     "data": {
      "text/plain": [
       "<matplotlib.axes._subplots.AxesSubplot at 0x7fb2931c1fd0>"
      ]
     },
     "execution_count": 28,
     "metadata": {},
     "output_type": "execute_result"
    },
    {
     "data": {
      "image/png": "[encoded data removed]",
      "text/plain": [
       "<matplotlib.figure.Figure at 0x7fb2931e4b10>"
      ]
     },
     "metadata": {},
     "output_type": "display_data"
    }
   ],
   "source": [
    "#Graphing non-zero predictor coefficients\n",
    "mask = c.coef!=0\n",
    "c[mask].plot(x='feature',y='coef',kind='barh', figsize = (12,9))"
   ]
  },
  {
   "cell_type": "markdown",
   "metadata": {},
   "source": [
    "### User Input"
   ]
  },
  {
   "cell_type": "markdown",
   "metadata": {},
   "source": [
    "After cleaning my data and finding the correct model, I implemented the user input to complete my tool. To get user input I created dropdown menu's to allow the user to pick the various attributes of their upcoming flight. I created lists of valid, unique attributes and setup my dropdown selections using ipywidgets.  Then I created 3 dummy rows with the user input, normalized them, and predicted the probability of delay using the SGD Classifier I setup above. Finally I printed the predicted probabilities to the user, and using an serier of if statements printed a recommendation which airport to fly from."
   ]
  },
  {
   "cell_type": "code",
   "execution_count": 10,
   "metadata": {
    "collapsed": false
   },
   "outputs": [
    {
     "ename": "NameError",
     "evalue": "name 'sgdc_bay_2' is not defined",
     "output_type": "error",
     "traceback": [
      "\u001b[1;31m---------------------------------------------------------------------------\u001b[0m",
      "\u001b[1;31mNameError\u001b[0m                                 Traceback (most recent call last)",
      "\u001b[1;32m<ipython-input-10-1b1a3fe4a632>\u001b[0m in \u001b[0;36m<module>\u001b[1;34m()\u001b[0m\n\u001b[0;32m      1\u001b[0m \u001b[1;31m#load in the model with the best parameters from above\u001b[0m\u001b[1;33m\u001b[0m\u001b[1;33m\u001b[0m\u001b[0m\n\u001b[1;32m----> 2\u001b[1;33m \u001b[0msgdc_ui\u001b[0m \u001b[1;33m=\u001b[0m \u001b[0msgdc_bay_2\u001b[0m\u001b[1;33m\u001b[0m\u001b[0m\n\u001b[0m",
      "\u001b[1;31mNameError\u001b[0m: name 'sgdc_bay_2' is not defined"
     ]
    }
   ],
   "source": [
    "#load in the model with the best parameters from above\n",
    "sgdc_ui = sgdc_bay_2"
   ]
  },
  {
   "cell_type": "code",
   "execution_count": 89,
   "metadata": {
    "collapsed": false
   },
   "outputs": [],
   "source": [
    "#create unique lists of destination cities, days of the week, months, time blocks, and carriers\n",
    "bay_dest = bay_raw.dest_city_name.unique().tolist()\n",
    "day_of_week_select = bay_raw.day_of_week.unique().tolist()\n",
    "month_select = bay_raw.month.unique().tolist()\n",
    "time_blocks_select = bay_raw.dep_time_blk.unique().tolist()\n",
    "carrier_select = bay_raw.carrier.unique().tolist()"
   ]
  },
  {
   "cell_type": "code",
   "execution_count": null,
   "metadata": {
    "collapsed": false
   },
   "outputs": [
    {
     "name": "stdout",
     "output_type": "stream",
     "text": [
      "Submitted!\n",
      "Destination City:  Atlanta, GA\n",
      "Airline:  DL\n",
      "Departure Month:  1\n",
      "Day of the Week:  4\n",
      "Departure Time:  2300-2359\n"
     ]
    }
   ],
   "source": [
    "#this creates a function to be run on the click of the submit button that will print out all of the users selections\n",
    "def test(val):\n",
    "    print \"Submitted!\"\n",
    "    print \"Destination City: \", destination.value\n",
    "    print \"Airline: \", airline.value\n",
    "    print \"Departure Month: \", month.value \n",
    "    print \"Day of the Week: \", day_of_week.value\n",
    "    print \"Departure Time: \", time_of_day.value\n",
    "#     predict_funct(val)\n",
    "\n",
    "\n",
    "#creates user input drop down for destination\n",
    "destination = Dropdown(\n",
    "    options= bay_dest,\n",
    "    value= bay_dest[0],\n",
    "    description='Dest. City: ',\n",
    ")\n",
    "\n",
    "month = Dropdown(\n",
    "    options=month_select,\n",
    "    value= month_select[0],\n",
    "    description='Month: ',\n",
    ")\n",
    "\n",
    "day_of_week = Dropdown(\n",
    "    options=day_of_week_select,\n",
    "    value= day_of_week_select[0],\n",
    "    description='Day of the Week: ',\n",
    ")\n",
    "\n",
    "time_of_day = Dropdown(\n",
    "    options= time_blocks_select,\n",
    "    value= time_blocks_select[0],\n",
    "    description='Hour of Flight: ',\n",
    ")\n",
    "\n",
    "airline = Dropdown(\n",
    "    options=carrier_select,\n",
    "    value= carrier_select[0],\n",
    "    description='Airline: '\n",
    ")\n",
    "\n",
    "\n",
    "# Creates submit button and event for when buttons is clicked, which I set to the function test, made above\n",
    "submit_button = Button(description=\"Submit Info\")\n",
    "submit_button.on_click(test)\n",
    "\n",
    "#displays dropdowns and submit button\n",
    "display(destination)\n",
    "display(airline)\n",
    "display(month)\n",
    "display(day_of_week)\n",
    "display(time_of_day)\n",
    "    \n",
    "display(submit_button)\n"
   ]
  },
  {
   "cell_type": "code",
   "execution_count": 92,
   "metadata": {
    "collapsed": true
   },
   "outputs": [],
   "source": [
    "sj_id = 14831\n",
    "sf_id = 14771\n",
    "oak_id = 13796"
   ]
  },
  {
   "cell_type": "code",
   "execution_count": 93,
   "metadata": {
    "collapsed": true
   },
   "outputs": [],
   "source": [
    "#creates lists of the input values, 3 in each list (one for each bay area airport)\n",
    "predictions_dow = [day_of_week.value, day_of_week.value, day_of_week.value]\n",
    "predictions_mon = [month.value,month.value,month.value]\n",
    "predictions_time = [str(time_of_day.value),str(time_of_day.value), str(time_of_day.value)]\n",
    "predictions_og_aiport = [sj_id,sf_id,oak_id]\n",
    "predictions_airline = [airline.value,airline.value,airline.value]"
   ]
  },
  {
   "cell_type": "code",
   "execution_count": 95,
   "metadata": {
    "collapsed": false
   },
   "outputs": [],
   "source": [
    "#creates the distance list (not input by user), pulled from full data set\n",
    "mask_sj_dest = bay['origin_airport_id']==sj_id\n",
    "mask_sf_dest = bay['origin_airport_id']==sf_id\n",
    "mask_oak_dest = bay['origin_airport_id']==oak_id\n",
    "\n",
    "sj_dist = bay[mask_sj_dest]['distance'].mean()\n",
    "sf_dist = bay[mask_sf_dest]['distance'].mean()\n",
    "oak_dist = bay[mask_oak_dest]['distance'].mean()\n",
    "\n",
    "predictions_distance = [sj_dist,sf_dist,oak_dist]"
   ]
  },
  {
   "cell_type": "code",
   "execution_count": 96,
   "metadata": {
    "collapsed": true
   },
   "outputs": [],
   "source": [
    "#creates a dictionary with all of the user input\n",
    "pred_dict = {'month':predictions_mon,'day_of_week':predictions_dow,'distance':predictions_distance,\n",
    "             'dep_time_blk':predictions_time,'origin_airport_id':predictions_og_aiport,'carrier':predictions_airline,'dep_binary_delay':[0,0,0]}"
   ]
  },
  {
   "cell_type": "code",
   "execution_count": 98,
   "metadata": {
    "collapsed": false
   },
   "outputs": [],
   "source": [
    "#creates three rows with the same values except for distance and origin airport to allow predictions\n",
    "#then adds this dataframe to the full data to be patsied so we can predict on the 3 rows\n",
    "predictions_df = pd.DataFrame(pred_dict)\n",
    "bay_sub_1 = bay.append(predictions_df)"
   ]
  },
  {
   "cell_type": "code",
   "execution_count": 99,
   "metadata": {
    "collapsed": true
   },
   "outputs": [],
   "source": [
    "#patsy all the data including 3 prediction rows\n",
    "formula = 'dep_binary_delay ~ C(month) + C(day_of_week) + distance + C(dep_time_blk) + C(origin_airport_id) + C(carrier) -1'\n",
    "\n",
    "\n",
    "Y, X = patsy.dmatrices(formula, data=bay_sub_1, return_type='dataframe')"
   ]
  },
  {
   "cell_type": "code",
   "execution_count": 100,
   "metadata": {
    "collapsed": true
   },
   "outputs": [],
   "source": [
    "#pull out the 3 prediction rows\n",
    "pred_3 = X.tail(3)\n"
   ]
  },
  {
   "cell_type": "code",
   "execution_count": 101,
   "metadata": {
    "collapsed": true
   },
   "outputs": [],
   "source": [
    "#standardize the rows\n",
    "ss = StandardScaler()\n",
    "X3n = ss.fit_transform(pred_3)\n"
   ]
  },
  {
   "cell_type": "code",
   "execution_count": 104,
   "metadata": {
    "collapsed": true
   },
   "outputs": [],
   "source": [
    "#predict on the 3 user input rows\n",
    "predictions_final_perc = sgdc_ui.predict_proba(X3n)"
   ]
  },
  {
   "cell_type": "code",
   "execution_count": 105,
   "metadata": {
    "collapsed": true
   },
   "outputs": [],
   "source": [
    "#pull out the prediction percentages for each airport\n",
    "sj_final_pred = predictions_final_perc[0][1]\n",
    "sf_final_pred = predictions_final_perc[1][1]\n",
    "oak_final_pred = predictions_final_perc[2][1]"
   ]
  },
  {
   "cell_type": "code",
   "execution_count": 106,
   "metadata": {
    "collapsed": false
   },
   "outputs": [
    {
     "name": "stdout",
     "output_type": "stream",
     "text": [
      "Based on your selection there is a 37.0% chance of delay at the San Jose Airport.\n",
      "Based on your selection there is a 41.54% chance of delay at the San Francisco Airport.\n",
      "Based on your selection there is a 38.91% chance of delay at the Oakland Airport. \n",
      "\n",
      "I suggest you fly out of San Jose to avoid delays\n"
     ]
    }
   ],
   "source": [
    "#Print out the results and use if statements to make a recommendation on which airport to fly out of.\n",
    "print \"Based on your selection there is a \" + str(round((sj_final_pred*100),2)) + \"% chance of delay at the San Jose Airport.\"\n",
    "print \"Based on your selection there is a \" + str(round((sf_final_pred*100),2)) + \"% chance of delay at the San Francisco Airport.\"\n",
    "print \"Based on your selection there is a \" + str(round((oak_final_pred*100),2)) + \"% chance of delay at the Oakland Airport. \\n\"\n",
    "\n",
    "if (sj_final_pred < oak_final_pred) & (sj_final_pred < sf_final_pred):\n",
    "    print \"I suggest you fly out of San Jose to avoid delays\"\n",
    "elif (sf_final_pred < oak_final_pred) & (sf_final_pred < sj_final_pred):\n",
    "    print \"I suggest you fly out of San Francisco to avoid delays\"\n",
    "else:\n",
    "    print \"I suggest you fly out of Oakland to avoid delays\""
   ]
  }
 ],
 "metadata": {
  "kernelspec": {
   "display_name": "Python 2",
   "language": "python",
   "name": "python2"
  },
  "language_info": {
   "codemirror_mode": {
    "name": "ipython",
    "version": 2
   },
   "file_extension": ".py",
   "mimetype": "text/x-python",
   "name": "python",
   "nbconvert_exporter": "python",
   "pygments_lexer": "ipython2",
   "version": "2.7.11"
  },
  "widgets": {
   "state": {},
   "version": "1.1.2"
  }
 },
 "nbformat": 4,
 "nbformat_minor": 0
}
