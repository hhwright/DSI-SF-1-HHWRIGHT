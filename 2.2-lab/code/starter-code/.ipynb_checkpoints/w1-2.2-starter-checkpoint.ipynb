{
 "cells": [
  {
   "cell_type": "code",
   "execution_count": 9,
   "metadata": {
    "collapsed": false
   },
   "outputs": [
    {
     "name": "stdout",
     "output_type": "stream",
     "text": [
      "For square with sides of 1 there is a an area of 1\n",
      "For square with sides of 2 there is a an area of 4\n",
      "For square with sides of 3 there is a an area of 9\n",
      "For square with sides of 4 there is a an area of 16\n"
     ]
    }
   ],
   "source": [
    "# write a function with one argument. Find the area of a square. \n",
    "def areaSquare(side): \n",
    "    result = side ** 2\n",
    "    return result\n",
    "\n",
    "# Test function area squared\n",
    "squares = [1,2,3,4]\n",
    "for square in squares:\n",
    "    side = square\n",
    "    area = areaSquare(side)\n",
    "    print \"For square with sides of \" + str(side) + \" there is a an area of \" + str(area)"
   ]
  },
  {
   "cell_type": "code",
   "execution_count": 10,
   "metadata": {
    "collapsed": false
   },
   "outputs": [
    {
     "name": "stdout",
     "output_type": "stream",
     "text": [
      "The area of a rectangle with sides of 1 and 2 is 2\n",
      "The area of a rectangle with sides of 3 and 4 is 12\n",
      "The area of a rectangle with sides of 5 and 6 is 30\n"
     ]
    }
   ],
   "source": [
    "# write a function with two arguments. Find the area of a rectangle. \n",
    "def areaRect(length,breadth):\n",
    "    area = length * breadth\n",
    "    return area\n",
    "\n",
    "rectangle = [(1,2), (3,4), (5,6)]\n",
    "for rect in rectangle:\n",
    "    rectarea = areaRect(rect[0],rect[1])\n",
    "    print \"The area of a rectangle with sides of \" + str(rect[0]) + \" and \" + str(rect[1]) + \" is \" + str(rectarea)\n"
   ]
  },
  {
   "cell_type": "code",
   "execution_count": 18,
   "metadata": {
    "collapsed": false
   },
   "outputs": [
    {
     "name": "stdout",
     "output_type": "stream",
     "text": [
      "The area of a cuboid with side lengths of  1 2 3  is  22\n",
      "The area of a cuboid with side lengths of  4 5 6  is  148\n",
      "The area of a cuboid with side lengths of  7 8 9  is  382\n"
     ]
    }
   ],
   "source": [
    "# write a function with three arguments. Find the surface area of cuboid.\n",
    "def surfaceAreaCuboid(length,breadth,height): \n",
    "    area=2*(length*breadth+breadth*height+length*height)\n",
    "    return area\n",
    "\n",
    "cuboid = [(1,2,3),(4,5,6),(7,8,9)]\n",
    "for c in cuboid:\n",
    "    areac = surfaceAreaCuboid(c[0],c[1],c[2])\n",
    "    print (\"The area of a cuboid with side lengths of \"), c[0], c[1], c[2], (\" is \"), areac\n"
   ]
  },
  {
   "cell_type": "code",
   "execution_count": null,
   "metadata": {
    "collapsed": true
   },
   "outputs": [],
   "source": []
  }
 ],
 "metadata": {
  "kernelspec": {
   "display_name": "Python 2",
   "language": "python",
   "name": "python2"
  },
  "language_info": {
   "codemirror_mode": {
    "name": "ipython",
    "version": 2
   },
   "file_extension": ".py",
   "mimetype": "text/x-python",
   "name": "python",
   "nbconvert_exporter": "python",
   "pygments_lexer": "ipython2",
   "version": "2.7.11"
  }
 },
 "nbformat": 4,
 "nbformat_minor": 0
}
