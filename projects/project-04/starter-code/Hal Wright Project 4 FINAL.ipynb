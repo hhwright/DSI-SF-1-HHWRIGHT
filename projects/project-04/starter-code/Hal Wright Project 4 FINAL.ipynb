{
 "cells": [
  {
   "cell_type": "markdown",
   "metadata": {},
   "source": [
    "# Classification with stumbleupon data\n",
    "\n",
    "Project 4 has been changed since scraping was untenable. The project now focuses on the stumbleupon kaggle dataset. For more information on this dataset, [check out the website here](https://www.kaggle.com/c/stumbleupon).\n",
    "\n",
    "---"
   ]
  },
  {
   "cell_type": "markdown",
   "metadata": {},
   "source": [
    "## 1. Load in the dataset\n",
    "\n",
    "This is the only part completed for you.\n",
    "\n",
    "---"
   ]
  },
  {
   "cell_type": "code",
   "execution_count": 7,
   "metadata": {
    "collapsed": true
   },
   "outputs": [],
   "source": [
    "import pandas as pd\n",
    "import numpy as np\n",
    "import matplotlib.pyplot as plt\n",
    "import seaborn as sns\n",
    "\n",
    "sns.set_style('white')\n",
    "\n",
    "%matplotlib inline"
   ]
  },
  {
   "cell_type": "code",
   "execution_count": 8,
   "metadata": {
    "collapsed": false
   },
   "outputs": [],
   "source": [
    "su = pd.read_csv('../dataset/evergreen.tsv', delimiter='\\t')"
   ]
  },
  {
   "cell_type": "markdown",
   "metadata": {},
   "source": [
    "## 2. Clean up/examine your data\n",
    "\n",
    "Some of the columns may have values that need changing or that are of the wrong type. There could also be columns that aren't very useful.\n",
    "\n",
    "---"
   ]
  },
  {
   "cell_type": "code",
   "execution_count": 9,
   "metadata": {
    "collapsed": false
   },
   "outputs": [],
   "source": [
    "su['embed_ratio'] = su['embed_ratio'].map(lambda x: 0 if x < 0 else x)\n",
    "#su.embed_ratio"
   ]
  },
  {
   "cell_type": "code",
   "execution_count": 10,
   "metadata": {
    "collapsed": false
   },
   "outputs": [],
   "source": [
    "su.image_ratio = su.image_ratio.map(lambda x: 0 if x == -1 else x)\n",
    "#su.image_ratio"
   ]
  },
  {
   "cell_type": "code",
   "execution_count": 11,
   "metadata": {
    "collapsed": false
   },
   "outputs": [
    {
     "name": "stdout",
     "output_type": "stream",
     "text": [
      "url\n",
      "boilerplate\n",
      "alchemy_category\n",
      "alchemy_category_score\n",
      "is_news\n",
      "news_front_page\n"
     ]
    }
   ],
   "source": [
    "for i in su.columns:\n",
    "    if su[i].dtype == object:\n",
    "        print i"
   ]
  },
  {
   "cell_type": "code",
   "execution_count": 12,
   "metadata": {
    "collapsed": false
   },
   "outputs": [
    {
     "data": {
      "text/plain": [
       "0.0"
      ]
     },
     "execution_count": 12,
     "metadata": {},
     "output_type": "execute_result"
    }
   ],
   "source": [
    "su['embed_ratio'].min()"
   ]
  },
  {
   "cell_type": "code",
   "execution_count": 13,
   "metadata": {
    "collapsed": false
   },
   "outputs": [],
   "source": [
    "su['is_news'] = su['is_news'].map(lambda x: 0 if x == '?' else x)\n",
    "su['news_front_page'] = su['news_front_page'].map(lambda x: 0 if x == '?' else x)\n",
    "su['alchemy_category_score'] = su['alchemy_category_score'].map(lambda x: 0 if x == '?' else x)\n",
    "su['alchemy_category_score'] = su['alchemy_category_score'].map(lambda x: float(x))\n",
    "su['url'] = su['url'].map(lambda x: '' if x == '?' else x)\n",
    "su['boilerplate'] = su['boilerplate'].map(lambda x: '' if x == '?' else x)\n",
    "su['alchemy_category'] = su['alchemy_category'].map(lambda x: 'unknown' if x == '?' else x)\n",
    "su['news_front_page'] = su['news_front_page'].map(lambda x: int(x) if type(x)== str else x)\n",
    "su['is_news'] = su['is_news'].map(lambda x: int(x) if type(x)== str else x)\n",
    "\n",
    "\n",
    "#su['embed_ratio'] = su['embed_ratio'].map(lambda x: 0 if x < 0 else x)"
   ]
  },
  {
   "cell_type": "code",
   "execution_count": null,
   "metadata": {
    "collapsed": false
   },
   "outputs": [],
   "source": []
  },
  {
   "cell_type": "markdown",
   "metadata": {},
   "source": [
    "## 3. Use statsmodels' logistic regression function to look at variable significance\n",
    "\n",
    "The **`import statsmodels.formula.api as smf`** code below gives us access to a statsmodels api that can run logistic regressions using patsy-style formulas.\n",
    "\n",
    "Ex:\n",
    "\n",
    "```python\n",
    "formula = 'target ~ var1 + var2 + C(var3) -1'\n",
    "logreg = smf.logit(formula, data=data)\n",
    "logreg_results = logreg.fit()\n",
    "print logreg_results.summary()\n",
    "```\n",
    "\n",
    "---"
   ]
  },
  {
   "cell_type": "code",
   "execution_count": 14,
   "metadata": {
    "collapsed": false
   },
   "outputs": [],
   "source": [
    "import statsmodels.formula.api as smf"
   ]
  },
  {
   "cell_type": "code",
   "execution_count": null,
   "metadata": {
    "collapsed": false
   },
   "outputs": [],
   "source": []
  },
  {
   "cell_type": "code",
   "execution_count": 15,
   "metadata": {
    "collapsed": false
   },
   "outputs": [],
   "source": [
    "cat_vars = []\n",
    "\n",
    "for index, coltype in enumerate(su.dtypes):\n",
    "    if (coltype != np.float64) and (coltype != np.int64):\n",
    "        cat_vars.append(su.columns[index])\n",
    "\n",
    "cat_vars.append('hasDomainLink')\n",
    "cat_vars.append('lengthyLinkDomain')\n",
    "cat_vars.append('is_news')\n",
    "cat_vars.append('news_front_page')"
   ]
  },
  {
   "cell_type": "code",
   "execution_count": 16,
   "metadata": {
    "collapsed": false
   },
   "outputs": [
    {
     "data": {
      "text/plain": [
       "['parametrizedLinkRatio',\n",
       " 'alchemy_category_score',\n",
       " 'commonlinkratio_3',\n",
       " 'embed_ratio',\n",
       " 'spelling_errors_ratio',\n",
       " 'avglinksize',\n",
       " 'commonlinkratio_1',\n",
       " 'commonlinkratio_2',\n",
       " 'linkwordscore',\n",
       " 'commonlinkratio_4',\n",
       " 'compression_ratio',\n",
       " 'numwords_in_url',\n",
       " 'frameTagRatio',\n",
       " 'image_ratio',\n",
       " 'non_markup_alphanum_characters',\n",
       " 'numberOfLinks',\n",
       " 'html_ratio']"
      ]
     },
     "execution_count": 16,
     "metadata": {},
     "output_type": "execute_result"
    }
   ],
   "source": [
    "cont_vars = list((set(su.columns) - set(cat_vars)) - set(['framebased', 'label','urlid']))\n",
    "cont_vars"
   ]
  },
  {
   "cell_type": "code",
   "execution_count": 17,
   "metadata": {
    "collapsed": false
   },
   "outputs": [
    {
     "data": {
      "text/plain": [
       "['url',\n",
       " 'boilerplate',\n",
       " 'alchemy_category',\n",
       " 'hasDomainLink',\n",
       " 'lengthyLinkDomain',\n",
       " 'is_news',\n",
       " 'news_front_page']"
      ]
     },
     "execution_count": 17,
     "metadata": {},
     "output_type": "execute_result"
    }
   ],
   "source": [
    "cat_vars"
   ]
  },
  {
   "cell_type": "code",
   "execution_count": 18,
   "metadata": {
    "collapsed": false,
    "scrolled": true
   },
   "outputs": [
    {
     "data": {
      "text/html": [
       "<div>\n",
       "<table border=\"1\" class=\"dataframe\">\n",
       "  <thead>\n",
       "    <tr style=\"text-align: right;\">\n",
       "      <th></th>\n",
       "      <th>url</th>\n",
       "      <th>urlid</th>\n",
       "      <th>boilerplate</th>\n",
       "      <th>alchemy_category</th>\n",
       "      <th>alchemy_category_score</th>\n",
       "      <th>avglinksize</th>\n",
       "      <th>commonlinkratio_1</th>\n",
       "      <th>commonlinkratio_2</th>\n",
       "      <th>commonlinkratio_3</th>\n",
       "      <th>commonlinkratio_4</th>\n",
       "      <th>...</th>\n",
       "      <th>is_news</th>\n",
       "      <th>lengthyLinkDomain</th>\n",
       "      <th>linkwordscore</th>\n",
       "      <th>news_front_page</th>\n",
       "      <th>non_markup_alphanum_characters</th>\n",
       "      <th>numberOfLinks</th>\n",
       "      <th>numwords_in_url</th>\n",
       "      <th>parametrizedLinkRatio</th>\n",
       "      <th>spelling_errors_ratio</th>\n",
       "      <th>label</th>\n",
       "    </tr>\n",
       "  </thead>\n",
       "  <tbody>\n",
       "    <tr>\n",
       "      <th>0</th>\n",
       "      <td>http://www.bloomberg.com/news/2010-12-23/ibm-p...</td>\n",
       "      <td>4042</td>\n",
       "      <td>{\"title\":\"IBM Sees Holographic Calls Air Breat...</td>\n",
       "      <td>business</td>\n",
       "      <td>0.789131</td>\n",
       "      <td>2.055556</td>\n",
       "      <td>0.676471</td>\n",
       "      <td>0.205882</td>\n",
       "      <td>0.047059</td>\n",
       "      <td>0.023529</td>\n",
       "      <td>...</td>\n",
       "      <td>1</td>\n",
       "      <td>1</td>\n",
       "      <td>24</td>\n",
       "      <td>0</td>\n",
       "      <td>5424</td>\n",
       "      <td>170</td>\n",
       "      <td>8</td>\n",
       "      <td>0.152941</td>\n",
       "      <td>0.079130</td>\n",
       "      <td>0</td>\n",
       "    </tr>\n",
       "    <tr>\n",
       "      <th>1</th>\n",
       "      <td>http://www.popsci.com/technology/article/2012-...</td>\n",
       "      <td>8471</td>\n",
       "      <td>{\"title\":\"The Fully Electronic Futuristic Star...</td>\n",
       "      <td>recreation</td>\n",
       "      <td>0.574147</td>\n",
       "      <td>3.677966</td>\n",
       "      <td>0.508021</td>\n",
       "      <td>0.288770</td>\n",
       "      <td>0.213904</td>\n",
       "      <td>0.144385</td>\n",
       "      <td>...</td>\n",
       "      <td>1</td>\n",
       "      <td>1</td>\n",
       "      <td>40</td>\n",
       "      <td>0</td>\n",
       "      <td>4973</td>\n",
       "      <td>187</td>\n",
       "      <td>9</td>\n",
       "      <td>0.181818</td>\n",
       "      <td>0.125448</td>\n",
       "      <td>1</td>\n",
       "    </tr>\n",
       "    <tr>\n",
       "      <th>2</th>\n",
       "      <td>http://www.menshealth.com/health/flu-fighting-...</td>\n",
       "      <td>1164</td>\n",
       "      <td>{\"title\":\"Fruits that Fight the Flu fruits tha...</td>\n",
       "      <td>health</td>\n",
       "      <td>0.996526</td>\n",
       "      <td>2.382883</td>\n",
       "      <td>0.562016</td>\n",
       "      <td>0.321705</td>\n",
       "      <td>0.120155</td>\n",
       "      <td>0.042636</td>\n",
       "      <td>...</td>\n",
       "      <td>1</td>\n",
       "      <td>1</td>\n",
       "      <td>55</td>\n",
       "      <td>0</td>\n",
       "      <td>2240</td>\n",
       "      <td>258</td>\n",
       "      <td>11</td>\n",
       "      <td>0.166667</td>\n",
       "      <td>0.057613</td>\n",
       "      <td>1</td>\n",
       "    </tr>\n",
       "    <tr>\n",
       "      <th>3</th>\n",
       "      <td>http://www.dumblittleman.com/2007/12/10-foolpr...</td>\n",
       "      <td>6684</td>\n",
       "      <td>{\"title\":\"10 Foolproof Tips for Better Sleep \"...</td>\n",
       "      <td>health</td>\n",
       "      <td>0.801248</td>\n",
       "      <td>1.543103</td>\n",
       "      <td>0.400000</td>\n",
       "      <td>0.100000</td>\n",
       "      <td>0.016667</td>\n",
       "      <td>0.000000</td>\n",
       "      <td>...</td>\n",
       "      <td>1</td>\n",
       "      <td>0</td>\n",
       "      <td>24</td>\n",
       "      <td>0</td>\n",
       "      <td>2737</td>\n",
       "      <td>120</td>\n",
       "      <td>5</td>\n",
       "      <td>0.041667</td>\n",
       "      <td>0.100858</td>\n",
       "      <td>1</td>\n",
       "    </tr>\n",
       "    <tr>\n",
       "      <th>4</th>\n",
       "      <td>http://bleacherreport.com/articles/1205138-the...</td>\n",
       "      <td>9006</td>\n",
       "      <td>{\"title\":\"The 50 Coolest Jerseys You Didn t Kn...</td>\n",
       "      <td>sports</td>\n",
       "      <td>0.719157</td>\n",
       "      <td>2.676471</td>\n",
       "      <td>0.500000</td>\n",
       "      <td>0.222222</td>\n",
       "      <td>0.123457</td>\n",
       "      <td>0.043210</td>\n",
       "      <td>...</td>\n",
       "      <td>1</td>\n",
       "      <td>1</td>\n",
       "      <td>14</td>\n",
       "      <td>0</td>\n",
       "      <td>12032</td>\n",
       "      <td>162</td>\n",
       "      <td>10</td>\n",
       "      <td>0.098765</td>\n",
       "      <td>0.082569</td>\n",
       "      <td>0</td>\n",
       "    </tr>\n",
       "  </tbody>\n",
       "</table>\n",
       "<p>5 rows × 27 columns</p>\n",
       "</div>"
      ],
      "text/plain": [
       "                                                 url  urlid  \\\n",
       "0  http://www.bloomberg.com/news/2010-12-23/ibm-p...   4042   \n",
       "1  http://www.popsci.com/technology/article/2012-...   8471   \n",
       "2  http://www.menshealth.com/health/flu-fighting-...   1164   \n",
       "3  http://www.dumblittleman.com/2007/12/10-foolpr...   6684   \n",
       "4  http://bleacherreport.com/articles/1205138-the...   9006   \n",
       "\n",
       "                                         boilerplate alchemy_category  \\\n",
       "0  {\"title\":\"IBM Sees Holographic Calls Air Breat...         business   \n",
       "1  {\"title\":\"The Fully Electronic Futuristic Star...       recreation   \n",
       "2  {\"title\":\"Fruits that Fight the Flu fruits tha...           health   \n",
       "3  {\"title\":\"10 Foolproof Tips for Better Sleep \"...           health   \n",
       "4  {\"title\":\"The 50 Coolest Jerseys You Didn t Kn...           sports   \n",
       "\n",
       "   alchemy_category_score  avglinksize  commonlinkratio_1  commonlinkratio_2  \\\n",
       "0                0.789131     2.055556           0.676471           0.205882   \n",
       "1                0.574147     3.677966           0.508021           0.288770   \n",
       "2                0.996526     2.382883           0.562016           0.321705   \n",
       "3                0.801248     1.543103           0.400000           0.100000   \n",
       "4                0.719157     2.676471           0.500000           0.222222   \n",
       "\n",
       "   commonlinkratio_3  commonlinkratio_4  ...    is_news  lengthyLinkDomain  \\\n",
       "0           0.047059           0.023529  ...          1                  1   \n",
       "1           0.213904           0.144385  ...          1                  1   \n",
       "2           0.120155           0.042636  ...          1                  1   \n",
       "3           0.016667           0.000000  ...          1                  0   \n",
       "4           0.123457           0.043210  ...          1                  1   \n",
       "\n",
       "   linkwordscore  news_front_page  non_markup_alphanum_characters  \\\n",
       "0             24                0                            5424   \n",
       "1             40                0                            4973   \n",
       "2             55                0                            2240   \n",
       "3             24                0                            2737   \n",
       "4             14                0                           12032   \n",
       "\n",
       "   numberOfLinks  numwords_in_url  parametrizedLinkRatio  \\\n",
       "0            170                8               0.152941   \n",
       "1            187                9               0.181818   \n",
       "2            258               11               0.166667   \n",
       "3            120                5               0.041667   \n",
       "4            162               10               0.098765   \n",
       "\n",
       "   spelling_errors_ratio  label  \n",
       "0               0.079130      0  \n",
       "1               0.125448      1  \n",
       "2               0.057613      1  \n",
       "3               0.100858      1  \n",
       "4               0.082569      0  \n",
       "\n",
       "[5 rows x 27 columns]"
      ]
     },
     "execution_count": 18,
     "metadata": {},
     "output_type": "execute_result"
    }
   ],
   "source": [
    "su.head()"
   ]
  },
  {
   "cell_type": "code",
   "execution_count": 19,
   "metadata": {
    "collapsed": false
   },
   "outputs": [
    {
     "data": {
      "text/html": [
       "<div>\n",
       "<table border=\"1\" class=\"dataframe\">\n",
       "  <thead>\n",
       "    <tr style=\"text-align: right;\">\n",
       "      <th></th>\n",
       "      <th>url</th>\n",
       "      <th>urlid</th>\n",
       "      <th>boilerplate</th>\n",
       "      <th>alchemy_category</th>\n",
       "      <th>alchemy_category_score</th>\n",
       "      <th>avglinksize</th>\n",
       "      <th>commonlinkratio_1</th>\n",
       "      <th>commonlinkratio_2</th>\n",
       "      <th>commonlinkratio_3</th>\n",
       "      <th>commonlinkratio_4</th>\n",
       "      <th>...</th>\n",
       "      <th>is_news</th>\n",
       "      <th>lengthyLinkDomain</th>\n",
       "      <th>linkwordscore</th>\n",
       "      <th>news_front_page</th>\n",
       "      <th>non_markup_alphanum_characters</th>\n",
       "      <th>numberOfLinks</th>\n",
       "      <th>numwords_in_url</th>\n",
       "      <th>parametrizedLinkRatio</th>\n",
       "      <th>spelling_errors_ratio</th>\n",
       "      <th>label</th>\n",
       "    </tr>\n",
       "  </thead>\n",
       "  <tbody>\n",
       "    <tr>\n",
       "      <th>0</th>\n",
       "      <td>http://www.bloomberg.com/news/2010-12-23/ibm-p...</td>\n",
       "      <td>4042</td>\n",
       "      <td>{\"title\":\"IBM Sees Holographic Calls Air Breat...</td>\n",
       "      <td>business</td>\n",
       "      <td>1.137724</td>\n",
       "      <td>-0.081941</td>\n",
       "      <td>1.025209</td>\n",
       "      <td>-0.055867</td>\n",
       "      <td>-0.468925</td>\n",
       "      <td>-0.354329</td>\n",
       "      <td>...</td>\n",
       "      <td>1</td>\n",
       "      <td>1</td>\n",
       "      <td>-0.298017</td>\n",
       "      <td>0</td>\n",
       "      <td>-0.032969</td>\n",
       "      <td>-0.048784</td>\n",
       "      <td>0.940134</td>\n",
       "      <td>-0.108706</td>\n",
       "      <td>-0.278840</td>\n",
       "      <td>0</td>\n",
       "    </tr>\n",
       "    <tr>\n",
       "      <th>1</th>\n",
       "      <td>http://www.popsci.com/technology/article/2012-...</td>\n",
       "      <td>8471</td>\n",
       "      <td>{\"title\":\"The Fully Electronic Futuristic Star...</td>\n",
       "      <td>recreation</td>\n",
       "      <td>0.488719</td>\n",
       "      <td>0.106291</td>\n",
       "      <td>0.195899</td>\n",
       "      <td>0.509021</td>\n",
       "      <td>1.269555</td>\n",
       "      <td>1.309802</td>\n",
       "      <td>...</td>\n",
       "      <td>1</td>\n",
       "      <td>1</td>\n",
       "      <td>0.486615</td>\n",
       "      <td>0</td>\n",
       "      <td>-0.083787</td>\n",
       "      <td>0.045947</td>\n",
       "      <td>1.249454</td>\n",
       "      <td>0.048857</td>\n",
       "      <td>0.305801</td>\n",
       "      <td>1</td>\n",
       "    </tr>\n",
       "    <tr>\n",
       "      <th>2</th>\n",
       "      <td>http://www.menshealth.com/health/flu-fighting-...</td>\n",
       "      <td>1164</td>\n",
       "      <td>{\"title\":\"Fruits that Fight the Flu fruits tha...</td>\n",
       "      <td>health</td>\n",
       "      <td>1.763819</td>\n",
       "      <td>-0.043965</td>\n",
       "      <td>0.461723</td>\n",
       "      <td>0.733479</td>\n",
       "      <td>0.292718</td>\n",
       "      <td>-0.091244</td>\n",
       "      <td>...</td>\n",
       "      <td>1</td>\n",
       "      <td>1</td>\n",
       "      <td>1.222208</td>\n",
       "      <td>0</td>\n",
       "      <td>-0.391737</td>\n",
       "      <td>0.441592</td>\n",
       "      <td>1.868095</td>\n",
       "      <td>-0.033815</td>\n",
       "      <td>-0.550424</td>\n",
       "      <td>1</td>\n",
       "    </tr>\n",
       "    <tr>\n",
       "      <th>3</th>\n",
       "      <td>http://www.dumblittleman.com/2007/12/10-foolpr...</td>\n",
       "      <td>6684</td>\n",
       "      <td>{\"title\":\"10 Foolproof Tips for Better Sleep \"...</td>\n",
       "      <td>health</td>\n",
       "      <td>1.174304</td>\n",
       "      <td>-0.141396</td>\n",
       "      <td>-0.335913</td>\n",
       "      <td>-0.777467</td>\n",
       "      <td>-0.785603</td>\n",
       "      <td>-0.678320</td>\n",
       "      <td>...</td>\n",
       "      <td>1</td>\n",
       "      <td>0</td>\n",
       "      <td>-0.298017</td>\n",
       "      <td>0</td>\n",
       "      <td>-0.335736</td>\n",
       "      <td>-0.327407</td>\n",
       "      <td>0.012172</td>\n",
       "      <td>-0.715857</td>\n",
       "      <td>-0.004575</td>\n",
       "      <td>1</td>\n",
       "    </tr>\n",
       "    <tr>\n",
       "      <th>4</th>\n",
       "      <td>http://bleacherreport.com/articles/1205138-the...</td>\n",
       "      <td>9006</td>\n",
       "      <td>{\"title\":\"The 50 Coolest Jerseys You Didn t Kn...</td>\n",
       "      <td>sports</td>\n",
       "      <td>0.926483</td>\n",
       "      <td>-0.009903</td>\n",
       "      <td>0.156408</td>\n",
       "      <td>0.055491</td>\n",
       "      <td>0.327122</td>\n",
       "      <td>-0.083337</td>\n",
       "      <td>...</td>\n",
       "      <td>1</td>\n",
       "      <td>1</td>\n",
       "      <td>-0.788412</td>\n",
       "      <td>0</td>\n",
       "      <td>0.711608</td>\n",
       "      <td>-0.093364</td>\n",
       "      <td>1.558775</td>\n",
       "      <td>-0.404307</td>\n",
       "      <td>-0.235429</td>\n",
       "      <td>0</td>\n",
       "    </tr>\n",
       "  </tbody>\n",
       "</table>\n",
       "<p>5 rows × 27 columns</p>\n",
       "</div>"
      ],
      "text/plain": [
       "                                                 url  urlid  \\\n",
       "0  http://www.bloomberg.com/news/2010-12-23/ibm-p...   4042   \n",
       "1  http://www.popsci.com/technology/article/2012-...   8471   \n",
       "2  http://www.menshealth.com/health/flu-fighting-...   1164   \n",
       "3  http://www.dumblittleman.com/2007/12/10-foolpr...   6684   \n",
       "4  http://bleacherreport.com/articles/1205138-the...   9006   \n",
       "\n",
       "                                         boilerplate alchemy_category  \\\n",
       "0  {\"title\":\"IBM Sees Holographic Calls Air Breat...         business   \n",
       "1  {\"title\":\"The Fully Electronic Futuristic Star...       recreation   \n",
       "2  {\"title\":\"Fruits that Fight the Flu fruits tha...           health   \n",
       "3  {\"title\":\"10 Foolproof Tips for Better Sleep \"...           health   \n",
       "4  {\"title\":\"The 50 Coolest Jerseys You Didn t Kn...           sports   \n",
       "\n",
       "   alchemy_category_score  avglinksize  commonlinkratio_1  commonlinkratio_2  \\\n",
       "0                1.137724    -0.081941           1.025209          -0.055867   \n",
       "1                0.488719     0.106291           0.195899           0.509021   \n",
       "2                1.763819    -0.043965           0.461723           0.733479   \n",
       "3                1.174304    -0.141396          -0.335913          -0.777467   \n",
       "4                0.926483    -0.009903           0.156408           0.055491   \n",
       "\n",
       "   commonlinkratio_3  commonlinkratio_4  ...    is_news  lengthyLinkDomain  \\\n",
       "0          -0.468925          -0.354329  ...          1                  1   \n",
       "1           1.269555           1.309802  ...          1                  1   \n",
       "2           0.292718          -0.091244  ...          1                  1   \n",
       "3          -0.785603          -0.678320  ...          1                  0   \n",
       "4           0.327122          -0.083337  ...          1                  1   \n",
       "\n",
       "   linkwordscore  news_front_page  non_markup_alphanum_characters  \\\n",
       "0      -0.298017                0                       -0.032969   \n",
       "1       0.486615                0                       -0.083787   \n",
       "2       1.222208                0                       -0.391737   \n",
       "3      -0.298017                0                       -0.335736   \n",
       "4      -0.788412                0                        0.711608   \n",
       "\n",
       "   numberOfLinks  numwords_in_url  parametrizedLinkRatio  \\\n",
       "0      -0.048784         0.940134              -0.108706   \n",
       "1       0.045947         1.249454               0.048857   \n",
       "2       0.441592         1.868095              -0.033815   \n",
       "3      -0.327407         0.012172              -0.715857   \n",
       "4      -0.093364         1.558775              -0.404307   \n",
       "\n",
       "   spelling_errors_ratio  label  \n",
       "0              -0.278840      0  \n",
       "1               0.305801      1  \n",
       "2              -0.550424      1  \n",
       "3              -0.004575      1  \n",
       "4              -0.235429      0  \n",
       "\n",
       "[5 rows x 27 columns]"
      ]
     },
     "execution_count": 19,
     "metadata": {},
     "output_type": "execute_result"
    }
   ],
   "source": [
    "from sklearn.preprocessing import StandardScaler\n",
    "norm_su = su\n",
    "\n",
    "\n",
    "sc = StandardScaler()\n",
    "sc.fit(su[cont_vars])\n",
    "norm_su[cont_vars] = sc.transform(su[cont_vars])\n",
    "#del norm_su['framebased']\n",
    "norm_su.head()\n",
    "\n",
    "# x_train_std =  sc.transform(x_train)\n",
    "# x_test_std =  sc.transform(x_test)"
   ]
  },
  {
   "cell_type": "code",
   "execution_count": 20,
   "metadata": {
    "collapsed": true
   },
   "outputs": [],
   "source": [
    "del norm_su['framebased']"
   ]
  },
  {
   "cell_type": "markdown",
   "metadata": {},
   "source": [
    "### 3.1 Run a logistic regression predicting evergreen from the numeric columns\n",
    "\n",
    "And print out the results as shown in the example above.\n",
    "\n",
    "---"
   ]
  },
  {
   "cell_type": "code",
   "execution_count": 21,
   "metadata": {
    "collapsed": false
   },
   "outputs": [],
   "source": [
    "from sklearn.linear_model import LogisticRegression, Lasso, Ridge\n",
    "from sklearn.cross_validation import train_test_split\n",
    "import patsy\n",
    "\n",
    "\n",
    "# formula = 'label ~  parametrizedLinkRatio + alchemy_category_score + \\\n",
    "# linkwordscore + embed_ratio+ spelling_errors_ratio + commonlinkratio_1 + commonlinkratio_2 + commonlinkratio_3 \\\n",
    "# +commonlinkratio_4 + compression_ratio + avglinksize + numwords_in_url + image_ratio+frameTagRatio+numberOfLinks \\\n",
    "# + non_markup_alphanum_characters + html_ratio'\n",
    "\n",
    "formula = 'label ~ spelling_errors_ratio + linkwordscore + non_markup_alphanum_characters + frameTagRatio -1'\n",
    "\n",
    "y_mat, x_mat = patsy.dmatrices(formula, data = su)\n",
    "# X = su[cont_vars]\n",
    "# Y = su['label']\n",
    "\n",
    "x_train, x_test, y_train, y_test = train_test_split(x_mat,y_mat, test_size=0.3)\n",
    "\n",
    "\n"
   ]
  },
  {
   "cell_type": "code",
   "execution_count": null,
   "metadata": {
    "collapsed": false
   },
   "outputs": [],
   "source": []
  },
  {
   "cell_type": "code",
   "execution_count": 22,
   "metadata": {
    "collapsed": false
   },
   "outputs": [
    {
     "name": "stderr",
     "output_type": "stream",
     "text": [
      "/home/dsi-student/anaconda2/lib/python2.7/site-packages/sklearn/utils/validation.py:515: DataConversionWarning: A column-vector y was passed when a 1d array was expected. Please change the shape of y to (n_samples, ), for example using ravel().\n",
      "  y = column_or_1d(y, warn=True)\n"
     ]
    },
    {
     "data": {
      "text/plain": [
       "0.6002703920684993"
      ]
     },
     "execution_count": 22,
     "metadata": {},
     "output_type": "execute_result"
    }
   ],
   "source": [
    "\n",
    "\n",
    "logreg = LogisticRegression()\n",
    "logreg = logreg.fit(x_train, y_train)\n",
    "lorreg = logreg.predict(x_test)\n",
    "\n",
    "logreg.score(x_test,y_test)"
   ]
  },
  {
   "cell_type": "markdown",
   "metadata": {},
   "source": [
    "### 3.2 Run a logistic regression predicting evergreen from the numeric columns and a categorical variable of alchemy_category\n",
    "\n",
    "And print out the results as shown in the example.\n",
    "\n",
    "---"
   ]
  },
  {
   "cell_type": "code",
   "execution_count": 23,
   "metadata": {
    "collapsed": false
   },
   "outputs": [],
   "source": [
    "formula = 'label ~ C(alchemy_category) + spelling_errors_ratio + linkwordscore + non_markup_alphanum_characters + frameTagRatio -1'\n",
    "\n",
    "y_mat, x_mat = patsy.dmatrices(formula, data = norm_su)\n",
    "\n",
    "x_train, x_test, y_train, y_test = train_test_split(x_mat,y_mat, test_size=0.3)\n"
   ]
  },
  {
   "cell_type": "code",
   "execution_count": 24,
   "metadata": {
    "collapsed": false
   },
   "outputs": [
    {
     "name": "stderr",
     "output_type": "stream",
     "text": [
      "/home/dsi-student/anaconda2/lib/python2.7/site-packages/sklearn/utils/validation.py:515: DataConversionWarning: A column-vector y was passed when a 1d array was expected. Please change the shape of y to (n_samples, ), for example using ravel().\n",
      "  y = column_or_1d(y, warn=True)\n"
     ]
    },
    {
     "data": {
      "text/plain": [
       "0.6502929247408743"
      ]
     },
     "execution_count": 24,
     "metadata": {},
     "output_type": "execute_result"
    }
   ],
   "source": [
    "logreg = LogisticRegression()\n",
    "logreg = logreg.fit(x_train, y_train)\n",
    "lorreg = logreg.predict(x_test)\n",
    "\n",
    "logreg.score(x_test,y_test)"
   ]
  },
  {
   "cell_type": "markdown",
   "metadata": {},
   "source": [
    "## 4. Use sklearn to cross-validate the accuracy of the model above\n",
    "\n",
    "Normalize the numeric and categorical columns of the predictor matrix.\n",
    "\n",
    "---"
   ]
  },
  {
   "cell_type": "code",
   "execution_count": 25,
   "metadata": {
    "collapsed": true
   },
   "outputs": [],
   "source": [
    "formula = 'label ~ C(alchemy_category) + spelling_errors_ratio + linkwordscore + non_markup_alphanum_characters + frameTagRatio -1'\n",
    "\n",
    "y_mat, x_mat = patsy.dmatrices(formula, data = norm_su)\n",
    "\n",
    "x_train, x_test, y_train, y_test = train_test_split(x_mat,y_mat, test_size=0.3)\n"
   ]
  },
  {
   "cell_type": "code",
   "execution_count": 26,
   "metadata": {
    "collapsed": false
   },
   "outputs": [
    {
     "name": "stderr",
     "output_type": "stream",
     "text": [
      "/home/dsi-student/anaconda2/lib/python2.7/site-packages/sklearn/utils/validation.py:515: DataConversionWarning: A column-vector y was passed when a 1d array was expected. Please change the shape of y to (n_samples, ), for example using ravel().\n",
      "  y = column_or_1d(y, warn=True)\n"
     ]
    },
    {
     "data": {
      "text/plain": [
       "0.66381252816584047"
      ]
     },
     "execution_count": 26,
     "metadata": {},
     "output_type": "execute_result"
    }
   ],
   "source": [
    "logreg = LogisticRegression()\n",
    "logreg = logreg.fit(x_train, y_train)\n",
    "lorreg = logreg.predict(x_test)\n",
    "\n",
    "logreg.score(x_test,y_test)"
   ]
  },
  {
   "cell_type": "markdown",
   "metadata": {},
   "source": [
    "## 5. Gridsearch regularization parameters for logistic regression\n",
    "\n",
    "Find the best regularization type (Ridge, Lasso) across a set of regularization strengths.\n",
    "\n",
    "[NOTE: C is the inverse of the regularization strength. Lower C values are stronger regularization. Having a C higher than 1 will significantly slow down the search. I'm not particularly interested in values over 1, since this is the default regularization strength in LogisticRegression.]\n",
    "\n",
    "**After you find the best set of parameters, build a Logistic Regression with those parameters and crossvalidate the score.**\n",
    "\n",
    "[NOTE 2: to run Lasso regularization the solver should be `'liblinear'`]\n",
    "\n",
    "---"
   ]
  },
  {
   "cell_type": "code",
   "execution_count": 27,
   "metadata": {
    "collapsed": false
   },
   "outputs": [],
   "source": [
    "from sklearn.grid_search import GridSearchCV\n",
    "formula = 'label ~ C(news_front_page) + spelling_errors_ratio + linkwordscore + non_markup_alphanum_characters + frameTagRatio -1'\n",
    "\n",
    "y_mat, x_mat = patsy.dmatrices(formula, data = norm_su)\n",
    "\n",
    "y_mat = np.ravel(y_mat)\n",
    "\n",
    "x_train, x_test, y_train, y_test = train_test_split(x_mat,y_mat, test_size=0.3)"
   ]
  },
  {
   "cell_type": "code",
   "execution_count": 28,
   "metadata": {
    "collapsed": false
   },
   "outputs": [],
   "source": [
    "log = LogisticRegression()\n",
    "Cs = np.logspace(0.0, 5.0, 20)\n",
    "\n",
    "search_parameters = {\n",
    "    \"penalty\":             ['l1','l2'], \n",
    "    \"C\":                   Cs,  \n",
    "    \"fit_intercept\":       [False, True], \n",
    "    \"class_weight\":        [None, \"balanced\"], \n",
    "    \"intercept_scaling\":   [2, 1],         \n",
    "    \"solver\":              ['liblinear'],\n",
    "    \"warm_start\":          [False, True]\n",
    "}\n",
    "\n",
    "grid_log = GridSearchCV(log, search_parameters)"
   ]
  },
  {
   "cell_type": "code",
   "execution_count": 29,
   "metadata": {
    "collapsed": false
   },
   "outputs": [
    {
     "data": {
      "text/plain": [
       "GridSearchCV(cv=None, error_score='raise',\n",
       "       estimator=LogisticRegression(C=1.0, class_weight=None, dual=False, fit_intercept=True,\n",
       "          intercept_scaling=1, max_iter=100, multi_class='ovr', n_jobs=1,\n",
       "          penalty='l2', random_state=None, solver='liblinear', tol=0.0001,\n",
       "          verbose=0, warm_start=False),\n",
       "       fit_params={}, iid=True, n_jobs=1,\n",
       "       param_grid={'warm_start': [False, True], 'C': array([  1.00000e+00,   1.83298e+00,   3.35982e+00,   6.15848e+00,\n",
       "         1.12884e+01,   2.06914e+01,   3.79269e+01,   6.95193e+01,\n",
       "         1.27427e+02,   2.33572e+02,   4.28133e+02,   7.84760e+02,\n",
       "         1.43845e+03,   2.63665e+03,   4.83293e+03,  ...near'], 'fit_intercept': [False, True], 'penalty': ['l1', 'l2'], 'class_weight': [None, 'balanced']},\n",
       "       pre_dispatch='2*n_jobs', refit=True, scoring=None, verbose=0)"
      ]
     },
     "execution_count": 29,
     "metadata": {},
     "output_type": "execute_result"
    }
   ],
   "source": [
    "grid_log.fit(x_train,y_train)"
   ]
  },
  {
   "cell_type": "code",
   "execution_count": 30,
   "metadata": {
    "collapsed": false
   },
   "outputs": [
    {
     "data": {
      "text/plain": [
       "array([ 0.,  0.,  0., ...,  0.,  1.,  0.])"
      ]
     },
     "execution_count": 30,
     "metadata": {},
     "output_type": "execute_result"
    }
   ],
   "source": [
    "grid_log.predict(x_test)"
   ]
  },
  {
   "cell_type": "code",
   "execution_count": 31,
   "metadata": {
    "collapsed": false
   },
   "outputs": [
    {
     "data": {
      "text/plain": [
       "array(0.5056331680937359)"
      ]
     },
     "execution_count": 31,
     "metadata": {},
     "output_type": "execute_result"
    }
   ],
   "source": [
    "np.mean(y_test)"
   ]
  },
  {
   "cell_type": "code",
   "execution_count": 32,
   "metadata": {
    "collapsed": false
   },
   "outputs": [
    {
     "name": "stdout",
     "output_type": "stream",
     "text": [
      "Best Params: {'warm_start': False, 'C': 1.0, 'intercept_scaling': 2, 'fit_intercept': False, 'solver': 'liblinear', 'penalty': 'l1', 'class_weight': 'balanced'}\n",
      "Best Score: 0.603361669243\n"
     ]
    }
   ],
   "source": [
    "print \"Best Params:\", grid_log.best_params_\n",
    "print \"Best Score:\", grid_log.best_score_"
   ]
  },
  {
   "cell_type": "code",
   "execution_count": null,
   "metadata": {
    "collapsed": false
   },
   "outputs": [],
   "source": []
  },
  {
   "cell_type": "markdown",
   "metadata": {},
   "source": [
    "## 6. Gridsearch neighbors for kNN\n",
    "\n",
    "Find the best number of neighbors with your predictors to predict the `label` target variable.\n",
    "\n",
    "Start by bulding a kNN model with a set number of neighbors, then use gridsearch to run through a series of neighbors.\n",
    "\n",
    "---"
   ]
  },
  {
   "cell_type": "code",
   "execution_count": 33,
   "metadata": {
    "collapsed": false
   },
   "outputs": [],
   "source": [
    "from sklearn.neighbors import KNeighborsClassifier\n",
    "from sklearn.grid_search import GridSearchCV\n",
    "formula = 'label ~ C(alchemy_category) + spelling_errors_ratio + linkwordscore + non_markup_alphanum_characters + frameTagRatio -1 '\n",
    "\n",
    "y_mat, x_mat = patsy.dmatrices(formula, data = norm_su)\n",
    "\n",
    "y_mat = np.ravel(y_mat)\n",
    "\n",
    "x_train, x_test, y_train, y_test = train_test_split(x_mat,y_mat, test_size=0.3)\n",
    "\n",
    "\n"
   ]
  },
  {
   "cell_type": "code",
   "execution_count": 34,
   "metadata": {
    "collapsed": true
   },
   "outputs": [],
   "source": [
    "knn = KNeighborsClassifier()\n",
    "\n",
    "search_parameters = {\n",
    "    'n_neighbors':  [1,50], \n",
    "    'weights':      (\"uniform\", \"distance\"),\n",
    "    'algorithm':    (\"ball_tree\", \"kd_tree\", \"brute\", \"auto\"),\n",
    "    'p':            [1,2]\n",
    "}\n",
    "\n",
    "\n",
    "grid_knn = GridSearchCV(knn, search_parameters)"
   ]
  },
  {
   "cell_type": "code",
   "execution_count": 35,
   "metadata": {
    "collapsed": false
   },
   "outputs": [
    {
     "data": {
      "text/plain": [
       "GridSearchCV(cv=None, error_score='raise',\n",
       "       estimator=KNeighborsClassifier(algorithm='auto', leaf_size=30, metric='minkowski',\n",
       "           metric_params=None, n_jobs=1, n_neighbors=5, p=2,\n",
       "           weights='uniform'),\n",
       "       fit_params={}, iid=True, n_jobs=1,\n",
       "       param_grid={'n_neighbors': [1, 50], 'weights': ('uniform', 'distance'), 'algorithm': ('ball_tree', 'kd_tree', 'brute', 'auto'), 'p': [1, 2]},\n",
       "       pre_dispatch='2*n_jobs', refit=True, scoring=None, verbose=0)"
      ]
     },
     "execution_count": 35,
     "metadata": {},
     "output_type": "execute_result"
    }
   ],
   "source": [
    "grid_knn.fit(x_train,y_train)"
   ]
  },
  {
   "cell_type": "code",
   "execution_count": 36,
   "metadata": {
    "collapsed": false
   },
   "outputs": [
    {
     "data": {
      "text/plain": [
       "array(0.5051825146462371)"
      ]
     },
     "execution_count": 36,
     "metadata": {},
     "output_type": "execute_result"
    }
   ],
   "source": [
    "np.mean(y_test)"
   ]
  },
  {
   "cell_type": "code",
   "execution_count": 37,
   "metadata": {
    "collapsed": false
   },
   "outputs": [
    {
     "data": {
      "text/plain": [
       "array([ 0.,  0.,  1., ...,  1.,  1.,  0.])"
      ]
     },
     "execution_count": 37,
     "metadata": {},
     "output_type": "execute_result"
    }
   ],
   "source": [
    "grid_knn.predict(x_test)"
   ]
  },
  {
   "cell_type": "code",
   "execution_count": 38,
   "metadata": {
    "collapsed": false
   },
   "outputs": [
    {
     "name": "stdout",
     "output_type": "stream",
     "text": [
      "Best Params: {'warm_start': False, 'C': 1.0, 'intercept_scaling': 2, 'fit_intercept': False, 'solver': 'liblinear', 'penalty': 'l1', 'class_weight': 'balanced'}\n",
      "Best Score: 0.603361669243\n"
     ]
    }
   ],
   "source": [
    "print \"Best Params:\", grid_log.best_params_\n",
    "print \"Best Score:\", grid_log.best_score_"
   ]
  },
  {
   "cell_type": "markdown",
   "metadata": {},
   "source": [
    "## 7. Choose a new target from alchemy_category to predict with logistic regression\n",
    "\n",
    "**Ideally your category choice will have a small fraction of the total rows, but not TOO small!**\n",
    "\n",
    "---"
   ]
  },
  {
   "cell_type": "markdown",
   "metadata": {},
   "source": [
    "### 7.1 Chose your target category, create the Y vector, and check the fraction of instances\n",
    "\n",
    "---"
   ]
  },
  {
   "cell_type": "code",
   "execution_count": 39,
   "metadata": {
    "collapsed": false
   },
   "outputs": [
    {
     "data": {
      "text/html": [
       "<div>\n",
       "<table border=\"1\" class=\"dataframe\">\n",
       "  <thead>\n",
       "    <tr style=\"text-align: right;\">\n",
       "      <th></th>\n",
       "      <th>url</th>\n",
       "      <th>urlid</th>\n",
       "      <th>boilerplate</th>\n",
       "      <th>alchemy_category</th>\n",
       "      <th>alchemy_category_score</th>\n",
       "      <th>avglinksize</th>\n",
       "      <th>commonlinkratio_1</th>\n",
       "      <th>commonlinkratio_2</th>\n",
       "      <th>commonlinkratio_3</th>\n",
       "      <th>commonlinkratio_4</th>\n",
       "      <th>...</th>\n",
       "      <th>lengthyLinkDomain</th>\n",
       "      <th>linkwordscore</th>\n",
       "      <th>news_front_page</th>\n",
       "      <th>non_markup_alphanum_characters</th>\n",
       "      <th>numberOfLinks</th>\n",
       "      <th>numwords_in_url</th>\n",
       "      <th>parametrizedLinkRatio</th>\n",
       "      <th>spelling_errors_ratio</th>\n",
       "      <th>label</th>\n",
       "      <th>is_sports</th>\n",
       "    </tr>\n",
       "  </thead>\n",
       "  <tbody>\n",
       "    <tr>\n",
       "      <th>0</th>\n",
       "      <td>http://www.bloomberg.com/news/2010-12-23/ibm-p...</td>\n",
       "      <td>4042</td>\n",
       "      <td>{\"title\":\"IBM Sees Holographic Calls Air Breat...</td>\n",
       "      <td>business</td>\n",
       "      <td>1.137724</td>\n",
       "      <td>-0.081941</td>\n",
       "      <td>1.025209</td>\n",
       "      <td>-0.055867</td>\n",
       "      <td>-0.468925</td>\n",
       "      <td>-0.354329</td>\n",
       "      <td>...</td>\n",
       "      <td>1</td>\n",
       "      <td>-0.298017</td>\n",
       "      <td>0</td>\n",
       "      <td>-0.032969</td>\n",
       "      <td>-0.048784</td>\n",
       "      <td>0.940134</td>\n",
       "      <td>-0.108706</td>\n",
       "      <td>-0.278840</td>\n",
       "      <td>0</td>\n",
       "      <td>0</td>\n",
       "    </tr>\n",
       "    <tr>\n",
       "      <th>1</th>\n",
       "      <td>http://www.popsci.com/technology/article/2012-...</td>\n",
       "      <td>8471</td>\n",
       "      <td>{\"title\":\"The Fully Electronic Futuristic Star...</td>\n",
       "      <td>recreation</td>\n",
       "      <td>0.488719</td>\n",
       "      <td>0.106291</td>\n",
       "      <td>0.195899</td>\n",
       "      <td>0.509021</td>\n",
       "      <td>1.269555</td>\n",
       "      <td>1.309802</td>\n",
       "      <td>...</td>\n",
       "      <td>1</td>\n",
       "      <td>0.486615</td>\n",
       "      <td>0</td>\n",
       "      <td>-0.083787</td>\n",
       "      <td>0.045947</td>\n",
       "      <td>1.249454</td>\n",
       "      <td>0.048857</td>\n",
       "      <td>0.305801</td>\n",
       "      <td>1</td>\n",
       "      <td>0</td>\n",
       "    </tr>\n",
       "    <tr>\n",
       "      <th>2</th>\n",
       "      <td>http://www.menshealth.com/health/flu-fighting-...</td>\n",
       "      <td>1164</td>\n",
       "      <td>{\"title\":\"Fruits that Fight the Flu fruits tha...</td>\n",
       "      <td>health</td>\n",
       "      <td>1.763819</td>\n",
       "      <td>-0.043965</td>\n",
       "      <td>0.461723</td>\n",
       "      <td>0.733479</td>\n",
       "      <td>0.292718</td>\n",
       "      <td>-0.091244</td>\n",
       "      <td>...</td>\n",
       "      <td>1</td>\n",
       "      <td>1.222208</td>\n",
       "      <td>0</td>\n",
       "      <td>-0.391737</td>\n",
       "      <td>0.441592</td>\n",
       "      <td>1.868095</td>\n",
       "      <td>-0.033815</td>\n",
       "      <td>-0.550424</td>\n",
       "      <td>1</td>\n",
       "      <td>0</td>\n",
       "    </tr>\n",
       "    <tr>\n",
       "      <th>3</th>\n",
       "      <td>http://www.dumblittleman.com/2007/12/10-foolpr...</td>\n",
       "      <td>6684</td>\n",
       "      <td>{\"title\":\"10 Foolproof Tips for Better Sleep \"...</td>\n",
       "      <td>health</td>\n",
       "      <td>1.174304</td>\n",
       "      <td>-0.141396</td>\n",
       "      <td>-0.335913</td>\n",
       "      <td>-0.777467</td>\n",
       "      <td>-0.785603</td>\n",
       "      <td>-0.678320</td>\n",
       "      <td>...</td>\n",
       "      <td>0</td>\n",
       "      <td>-0.298017</td>\n",
       "      <td>0</td>\n",
       "      <td>-0.335736</td>\n",
       "      <td>-0.327407</td>\n",
       "      <td>0.012172</td>\n",
       "      <td>-0.715857</td>\n",
       "      <td>-0.004575</td>\n",
       "      <td>1</td>\n",
       "      <td>0</td>\n",
       "    </tr>\n",
       "    <tr>\n",
       "      <th>4</th>\n",
       "      <td>http://bleacherreport.com/articles/1205138-the...</td>\n",
       "      <td>9006</td>\n",
       "      <td>{\"title\":\"The 50 Coolest Jerseys You Didn t Kn...</td>\n",
       "      <td>sports</td>\n",
       "      <td>0.926483</td>\n",
       "      <td>-0.009903</td>\n",
       "      <td>0.156408</td>\n",
       "      <td>0.055491</td>\n",
       "      <td>0.327122</td>\n",
       "      <td>-0.083337</td>\n",
       "      <td>...</td>\n",
       "      <td>1</td>\n",
       "      <td>-0.788412</td>\n",
       "      <td>0</td>\n",
       "      <td>0.711608</td>\n",
       "      <td>-0.093364</td>\n",
       "      <td>1.558775</td>\n",
       "      <td>-0.404307</td>\n",
       "      <td>-0.235429</td>\n",
       "      <td>0</td>\n",
       "      <td>1</td>\n",
       "    </tr>\n",
       "  </tbody>\n",
       "</table>\n",
       "<p>5 rows × 27 columns</p>\n",
       "</div>"
      ],
      "text/plain": [
       "                                                 url  urlid  \\\n",
       "0  http://www.bloomberg.com/news/2010-12-23/ibm-p...   4042   \n",
       "1  http://www.popsci.com/technology/article/2012-...   8471   \n",
       "2  http://www.menshealth.com/health/flu-fighting-...   1164   \n",
       "3  http://www.dumblittleman.com/2007/12/10-foolpr...   6684   \n",
       "4  http://bleacherreport.com/articles/1205138-the...   9006   \n",
       "\n",
       "                                         boilerplate alchemy_category  \\\n",
       "0  {\"title\":\"IBM Sees Holographic Calls Air Breat...         business   \n",
       "1  {\"title\":\"The Fully Electronic Futuristic Star...       recreation   \n",
       "2  {\"title\":\"Fruits that Fight the Flu fruits tha...           health   \n",
       "3  {\"title\":\"10 Foolproof Tips for Better Sleep \"...           health   \n",
       "4  {\"title\":\"The 50 Coolest Jerseys You Didn t Kn...           sports   \n",
       "\n",
       "   alchemy_category_score  avglinksize  commonlinkratio_1  commonlinkratio_2  \\\n",
       "0                1.137724    -0.081941           1.025209          -0.055867   \n",
       "1                0.488719     0.106291           0.195899           0.509021   \n",
       "2                1.763819    -0.043965           0.461723           0.733479   \n",
       "3                1.174304    -0.141396          -0.335913          -0.777467   \n",
       "4                0.926483    -0.009903           0.156408           0.055491   \n",
       "\n",
       "   commonlinkratio_3  commonlinkratio_4    ...      lengthyLinkDomain  \\\n",
       "0          -0.468925          -0.354329    ...                      1   \n",
       "1           1.269555           1.309802    ...                      1   \n",
       "2           0.292718          -0.091244    ...                      1   \n",
       "3          -0.785603          -0.678320    ...                      0   \n",
       "4           0.327122          -0.083337    ...                      1   \n",
       "\n",
       "   linkwordscore  news_front_page  non_markup_alphanum_characters  \\\n",
       "0      -0.298017                0                       -0.032969   \n",
       "1       0.486615                0                       -0.083787   \n",
       "2       1.222208                0                       -0.391737   \n",
       "3      -0.298017                0                       -0.335736   \n",
       "4      -0.788412                0                        0.711608   \n",
       "\n",
       "   numberOfLinks  numwords_in_url  parametrizedLinkRatio  \\\n",
       "0      -0.048784         0.940134              -0.108706   \n",
       "1       0.045947         1.249454               0.048857   \n",
       "2       0.441592         1.868095              -0.033815   \n",
       "3      -0.327407         0.012172              -0.715857   \n",
       "4      -0.093364         1.558775              -0.404307   \n",
       "\n",
       "   spelling_errors_ratio  label  is_sports  \n",
       "0              -0.278840      0          0  \n",
       "1               0.305801      1          0  \n",
       "2              -0.550424      1          0  \n",
       "3              -0.004575      1          0  \n",
       "4              -0.235429      0          1  \n",
       "\n",
       "[5 rows x 27 columns]"
      ]
     },
     "execution_count": 39,
     "metadata": {},
     "output_type": "execute_result"
    }
   ],
   "source": [
    "cat_su = norm_su\n",
    "cat_su['is_sports'] = cat_su.alchemy_category.map(lambda x: 1 if x == 'sports' else 0)\n",
    "cat_su.head()"
   ]
  },
  {
   "cell_type": "markdown",
   "metadata": {},
   "source": [
    "### 7.2 Use patsy to create an X matrix of the numeric predictors and all two-way interactions between them\n",
    "\n",
    "Ex:\n",
    "\n",
    "```python\n",
    "import patsy\n",
    "\n",
    "formula_interactions = '~ (var1 + var2 + var3)**2 -1'\n",
    "X_interactions = patsy.dmatrix(formula_interactions, data=data\n",
    "```\n",
    "\n",
    "Get the column names from the `design_info` property of the patsy X matrix.\n",
    "\n",
    "---"
   ]
  },
  {
   "cell_type": "code",
   "execution_count": 40,
   "metadata": {
    "collapsed": false
   },
   "outputs": [],
   "source": [
    "formula_interactions = 'is_sports ~ (spelling_errors_ratio + linkwordscore + non_markup_alphanum_characters + frameTagRatio)**2 -1'\n",
    "y_mat, x_mat = patsy.dmatrices(formula_interactions, data=cat_su)"
   ]
  },
  {
   "cell_type": "code",
   "execution_count": 41,
   "metadata": {
    "collapsed": true
   },
   "outputs": [],
   "source": [
    "y_mat = y_mat.ravel()"
   ]
  },
  {
   "cell_type": "code",
   "execution_count": 42,
   "metadata": {
    "collapsed": false
   },
   "outputs": [
    {
     "data": {
      "text/plain": [
       "DesignInfo(['spelling_errors_ratio',\n",
       "            'linkwordscore',\n",
       "            'non_markup_alphanum_characters',\n",
       "            'frameTagRatio',\n",
       "            'spelling_errors_ratio:linkwordscore',\n",
       "            'spelling_errors_ratio:non_markup_alphanum_characters',\n",
       "            'spelling_errors_ratio:frameTagRatio',\n",
       "            'linkwordscore:non_markup_alphanum_characters',\n",
       "            'linkwordscore:frameTagRatio',\n",
       "            'non_markup_alphanum_characters:frameTagRatio'],\n",
       "           factor_infos={EvalFactor('spelling_errors_ratio'): FactorInfo(factor=EvalFactor('spelling_errors_ratio'),\n",
       "                                    type='numerical',\n",
       "                                    state=<factor state>,\n",
       "                                    num_columns=1),\n",
       "                         EvalFactor('linkwordscore'): FactorInfo(factor=EvalFactor('linkwordscore'),\n",
       "                                    type='numerical',\n",
       "                                    state=<factor state>,\n",
       "                                    num_columns=1),\n",
       "                         EvalFactor('non_markup_alphanum_characters'): FactorInfo(factor=EvalFactor('non_markup_alphanum_characters'),\n",
       "                                    type='numerical',\n",
       "                                    state=<factor state>,\n",
       "                                    num_columns=1),\n",
       "                         EvalFactor('frameTagRatio'): FactorInfo(factor=EvalFactor('frameTagRatio'),\n",
       "                                    type='numerical',\n",
       "                                    state=<factor state>,\n",
       "                                    num_columns=1)},\n",
       "           term_codings=OrderedDict([(Term([EvalFactor('spelling_errors_ratio')]),\n",
       "                                      [SubtermInfo(factors=(EvalFactor('spelling_errors_ratio'),),\n",
       "                                                   contrast_matrices={},\n",
       "                                                   num_columns=1)]),\n",
       "                                     (Term([EvalFactor('linkwordscore')]),\n",
       "                                      [SubtermInfo(factors=(EvalFactor('linkwordscore'),),\n",
       "                                                   contrast_matrices={},\n",
       "                                                   num_columns=1)]),\n",
       "                                     (Term([EvalFactor('non_markup_alphanum_characters')]),\n",
       "                                      [SubtermInfo(factors=(EvalFactor('non_markup_alphanum_characters'),),\n",
       "                                                   contrast_matrices={},\n",
       "                                                   num_columns=1)]),\n",
       "                                     (Term([EvalFactor('frameTagRatio')]),\n",
       "                                      [SubtermInfo(factors=(EvalFactor('frameTagRatio'),),\n",
       "                                                   contrast_matrices={},\n",
       "                                                   num_columns=1)]),\n",
       "                                     (Term([EvalFactor('spelling_errors_ratio'),\n",
       "                                            EvalFactor('linkwordscore')]),\n",
       "                                      [SubtermInfo(factors=(EvalFactor('spelling_errors_ratio'),\n",
       "                                                            EvalFactor('linkwordscore')),\n",
       "                                                   contrast_matrices={},\n",
       "                                                   num_columns=1)]),\n",
       "                                     (Term([EvalFactor('spelling_errors_ratio'),\n",
       "                                            EvalFactor('non_markup_alphanum_characters')]),\n",
       "                                      [SubtermInfo(factors=(EvalFactor('spelling_errors_ratio'),\n",
       "                                                            EvalFactor('non_markup_alphanum_characters')),\n",
       "                                                   contrast_matrices={},\n",
       "                                                   num_columns=1)]),\n",
       "                                     (Term([EvalFactor('spelling_errors_ratio'),\n",
       "                                            EvalFactor('frameTagRatio')]),\n",
       "                                      [SubtermInfo(factors=(EvalFactor('spelling_errors_ratio'),\n",
       "                                                            EvalFactor('frameTagRatio')),\n",
       "                                                   contrast_matrices={},\n",
       "                                                   num_columns=1)]),\n",
       "                                     (Term([EvalFactor('linkwordscore'),\n",
       "                                            EvalFactor('non_markup_alphanum_characters')]),\n",
       "                                      [SubtermInfo(factors=(EvalFactor('linkwordscore'),\n",
       "                                                            EvalFactor('non_markup_alphanum_characters')),\n",
       "                                                   contrast_matrices={},\n",
       "                                                   num_columns=1)]),\n",
       "                                     (Term([EvalFactor('linkwordscore'),\n",
       "                                            EvalFactor('frameTagRatio')]),\n",
       "                                      [SubtermInfo(factors=(EvalFactor('linkwordscore'),\n",
       "                                                            EvalFactor('frameTagRatio')),\n",
       "                                                   contrast_matrices={},\n",
       "                                                   num_columns=1)]),\n",
       "                                     (Term([EvalFactor('non_markup_alphanum_characters'),\n",
       "                                            EvalFactor('frameTagRatio')]),\n",
       "                                      [SubtermInfo(factors=(EvalFactor('non_markup_alphanum_characters'),\n",
       "                                                            EvalFactor('frameTagRatio')),\n",
       "                                                   contrast_matrices={},\n",
       "                                                   num_columns=1)])]))"
      ]
     },
     "execution_count": 42,
     "metadata": {},
     "output_type": "execute_result"
    }
   ],
   "source": [
    "x_mat.design_info"
   ]
  },
  {
   "cell_type": "code",
   "execution_count": null,
   "metadata": {
    "collapsed": false
   },
   "outputs": [],
   "source": []
  },
  {
   "cell_type": "markdown",
   "metadata": {},
   "source": [
    "### 7.3 Normalize the predictor matrix columns\n",
    "\n",
    "---"
   ]
  },
  {
   "cell_type": "code",
   "execution_count": 43,
   "metadata": {
    "collapsed": true
   },
   "outputs": [],
   "source": [
    "#already done above"
   ]
  },
  {
   "cell_type": "markdown",
   "metadata": {},
   "source": [
    "### 7.4 Gridsearch a logistic regression to predict accuracy on your new target from the interaction predictors\n",
    "\n",
    "Include Ridge and Lasso.\n",
    "\n",
    "---"
   ]
  },
  {
   "cell_type": "code",
   "execution_count": 44,
   "metadata": {
    "collapsed": true
   },
   "outputs": [],
   "source": [
    "new_log = LogisticRegression()\n",
    "Cs = np.logspace(0.0, 5.0, 20)\n",
    "\n",
    "search_parameters = {\n",
    "    \"penalty\":             ['l1','l2'], \n",
    "    \"C\":                   Cs,  \n",
    "    \"fit_intercept\":       [False, True], \n",
    "    \"class_weight\":        [None, \"balanced\"], \n",
    "    \"intercept_scaling\":   [2, 1],         \n",
    "    \"solver\":              ['liblinear'],\n",
    "    \"warm_start\":          [False, True]\n",
    "}\n",
    "\n",
    "grid_newlog = GridSearchCV(log, search_parameters)"
   ]
  },
  {
   "cell_type": "code",
   "execution_count": 45,
   "metadata": {
    "collapsed": false
   },
   "outputs": [
    {
     "data": {
      "text/plain": [
       "GridSearchCV(cv=None, error_score='raise',\n",
       "       estimator=LogisticRegression(C=1.0, class_weight=None, dual=False, fit_intercept=True,\n",
       "          intercept_scaling=1, max_iter=100, multi_class='ovr', n_jobs=1,\n",
       "          penalty='l2', random_state=None, solver='liblinear', tol=0.0001,\n",
       "          verbose=0, warm_start=False),\n",
       "       fit_params={}, iid=True, n_jobs=1,\n",
       "       param_grid={'warm_start': [False, True], 'C': array([  1.00000e+00,   1.83298e+00,   3.35982e+00,   6.15848e+00,\n",
       "         1.12884e+01,   2.06914e+01,   3.79269e+01,   6.95193e+01,\n",
       "         1.27427e+02,   2.33572e+02,   4.28133e+02,   7.84760e+02,\n",
       "         1.43845e+03,   2.63665e+03,   4.83293e+03,  ...near'], 'fit_intercept': [False, True], 'penalty': ['l1', 'l2'], 'class_weight': [None, 'balanced']},\n",
       "       pre_dispatch='2*n_jobs', refit=True, scoring=None, verbose=0)"
      ]
     },
     "execution_count": 45,
     "metadata": {},
     "output_type": "execute_result"
    }
   ],
   "source": [
    "grid_newlog.fit(x_train,y_train)"
   ]
  },
  {
   "cell_type": "code",
   "execution_count": 46,
   "metadata": {
    "collapsed": false
   },
   "outputs": [
    {
     "data": {
      "text/plain": [
       "array([ 0.,  0.,  1., ...,  1.,  1.,  0.])"
      ]
     },
     "execution_count": 46,
     "metadata": {},
     "output_type": "execute_result"
    }
   ],
   "source": [
    "grid_newlog.predict(x_test)"
   ]
  },
  {
   "cell_type": "code",
   "execution_count": 47,
   "metadata": {
    "collapsed": false
   },
   "outputs": [
    {
     "name": "stdout",
     "output_type": "stream",
     "text": [
      "[ 0.61936937  0.66666667  0.62837838  0.66666667  0.71106095] 0.658428405832\n"
     ]
    }
   ],
   "source": [
    "from sklearn.cross_validation import cross_val_score, KFold\n",
    "\n",
    "cv = KFold(len(y_test), 5, shuffle=True, random_state = 7)\n",
    "scores = cross_val_score(new_log, x_test, y_test, cv=cv)\n",
    "print scores, scores.mean()"
   ]
  },
  {
   "cell_type": "code",
   "execution_count": 48,
   "metadata": {
    "collapsed": false
   },
   "outputs": [
    {
     "name": "stdout",
     "output_type": "stream",
     "text": [
      "Best Params: {'warm_start': False, 'C': 1.0, 'intercept_scaling': 2, 'fit_intercept': False, 'solver': 'liblinear', 'penalty': 'l1', 'class_weight': 'balanced'}\n",
      "Best Score: 0.603361669243\n"
     ]
    }
   ],
   "source": [
    "print \"Best Params:\", grid_log.best_params_\n",
    "print \"Best Score:\", grid_log.best_score_"
   ]
  },
  {
   "cell_type": "markdown",
   "metadata": {},
   "source": [
    "### 7.5 Build a logistic regression with the optimal parameters, and look at the coefficients\n",
    "\n",
    "---"
   ]
  },
  {
   "cell_type": "code",
   "execution_count": 49,
   "metadata": {
    "collapsed": false
   },
   "outputs": [],
   "source": [
    "from sklearn.linear_model import Lasso\n",
    "lasso =  Lasso(alpha=1.0, fit_intercept=False, warm_start=False)"
   ]
  },
  {
   "cell_type": "code",
   "execution_count": 50,
   "metadata": {
    "collapsed": false
   },
   "outputs": [
    {
     "data": {
      "text/plain": [
       "Lasso(alpha=1.0, copy_X=True, fit_intercept=False, max_iter=1000,\n",
       "   normalize=False, positive=False, precompute=False, random_state=None,\n",
       "   selection='cyclic', tol=0.0001, warm_start=False)"
      ]
     },
     "execution_count": 50,
     "metadata": {},
     "output_type": "execute_result"
    }
   ],
   "source": [
    "lasso.fit(x_train,y_train)"
   ]
  },
  {
   "cell_type": "code",
   "execution_count": 51,
   "metadata": {
    "collapsed": false
   },
   "outputs": [
    {
     "data": {
      "text/plain": [
       "array([ 0.,  0.,  0., ...,  0.,  0.,  0.])"
      ]
     },
     "execution_count": 51,
     "metadata": {},
     "output_type": "execute_result"
    }
   ],
   "source": [
    "lasso.predict(x_test)"
   ]
  },
  {
   "cell_type": "code",
   "execution_count": 52,
   "metadata": {
    "collapsed": false
   },
   "outputs": [
    {
     "data": {
      "text/plain": [
       "-1.0209471766848823"
      ]
     },
     "execution_count": 52,
     "metadata": {},
     "output_type": "execute_result"
    }
   ],
   "source": [
    "lasso.score(x_test,y_test)"
   ]
  },
  {
   "cell_type": "code",
   "execution_count": 53,
   "metadata": {
    "collapsed": false
   },
   "outputs": [
    {
     "name": "stdout",
     "output_type": "stream",
     "text": [
      "[ 0.  0.  0.  0.  0.  0.  0.  0.  0.  0.  0.  0.  0. -0. -0.  0. -0.]\n"
     ]
    }
   ],
   "source": [
    "print lasso.coef_"
   ]
  },
  {
   "cell_type": "code",
   "execution_count": 54,
   "metadata": {
    "collapsed": false
   },
   "outputs": [
    {
     "name": "stdout",
     "output_type": "stream",
     "text": [
      "[ 0.          0.          0.          0.          0.          0.          0.\n",
      "  0.          0.          0.          0.          1.          0.\n",
      " -0.79215951  0.87893122 -0.45247032  0.48885579]\n"
     ]
    }
   ],
   "source": [
    "print x_test[0]"
   ]
  },
  {
   "cell_type": "code",
   "execution_count": 55,
   "metadata": {
    "collapsed": false
   },
   "outputs": [
    {
     "name": "stdout",
     "output_type": "stream",
     "text": [
      "0.0\n"
     ]
    }
   ],
   "source": [
    "print y_test[0]"
   ]
  },
  {
   "cell_type": "markdown",
   "metadata": {},
   "source": [
    "### 7.6 Gridsearch parameters for a logistic regression with the same target and predictors, but score based on precision rather than accuracy\n",
    "\n",
    "Look at the documentation.\n",
    "\n",
    "---"
   ]
  },
  {
   "cell_type": "code",
   "execution_count": 56,
   "metadata": {
    "collapsed": false
   },
   "outputs": [],
   "source": [
    "from sklearn.metrics import precision_score\n"
   ]
  },
  {
   "cell_type": "code",
   "execution_count": 57,
   "metadata": {
    "collapsed": false
   },
   "outputs": [],
   "source": [
    "log = LogisticRegression()\n",
    "Cs = np.logspace(0.0, 5.0, 20)\n",
    "\n",
    "search_parameters = {\n",
    "    \"penalty\":             ['l1','l2'], \n",
    "    \"C\":                   Cs,  \n",
    "    \"fit_intercept\":       [False, True], \n",
    "    \"class_weight\":        [None, \"balanced\"], \n",
    "    \"intercept_scaling\":   [2, 1],         \n",
    "    \"solver\":              ['liblinear'],\n",
    "    \"warm_start\":          [False, True]\n",
    "}\n",
    "\n",
    "grid_finallog = GridSearchCV(log, search_parameters, scoring='precision')"
   ]
  },
  {
   "cell_type": "code",
   "execution_count": 58,
   "metadata": {
    "collapsed": false
   },
   "outputs": [
    {
     "data": {
      "text/plain": [
       "GridSearchCV(cv=None, error_score='raise',\n",
       "       estimator=LogisticRegression(C=1.0, class_weight=None, dual=False, fit_intercept=True,\n",
       "          intercept_scaling=1, max_iter=100, multi_class='ovr', n_jobs=1,\n",
       "          penalty='l2', random_state=None, solver='liblinear', tol=0.0001,\n",
       "          verbose=0, warm_start=False),\n",
       "       fit_params={}, iid=True, n_jobs=1,\n",
       "       param_grid={'warm_start': [False, True], 'C': array([  1.00000e+00,   1.83298e+00,   3.35982e+00,   6.15848e+00,\n",
       "         1.12884e+01,   2.06914e+01,   3.79269e+01,   6.95193e+01,\n",
       "         1.27427e+02,   2.33572e+02,   4.28133e+02,   7.84760e+02,\n",
       "         1.43845e+03,   2.63665e+03,   4.83293e+03,  ...near'], 'fit_intercept': [False, True], 'penalty': ['l1', 'l2'], 'class_weight': [None, 'balanced']},\n",
       "       pre_dispatch='2*n_jobs', refit=True, scoring='precision', verbose=0)"
      ]
     },
     "execution_count": 58,
     "metadata": {},
     "output_type": "execute_result"
    }
   ],
   "source": [
    "grid_finallog.fit(x_train,y_train)"
   ]
  },
  {
   "cell_type": "code",
   "execution_count": 59,
   "metadata": {
    "collapsed": false
   },
   "outputs": [
    {
     "name": "stdout",
     "output_type": "stream",
     "text": [
      "Best Params: {'warm_start': True, 'C': 1.0, 'intercept_scaling': 1, 'fit_intercept': True, 'solver': 'liblinear', 'penalty': 'l1', 'class_weight': 'balanced'}\n",
      "Best Score: 0.659842465738\n"
     ]
    }
   ],
   "source": [
    "print \"Best Params:\", grid_finallog.best_params_\n",
    "print \"Best Score:\", grid_finallog.best_score_"
   ]
  },
  {
   "cell_type": "code",
   "execution_count": 60,
   "metadata": {
    "collapsed": true
   },
   "outputs": [],
   "source": [
    "#precision favors RIDGE!!!"
   ]
  },
  {
   "cell_type": "markdown",
   "metadata": {},
   "source": [
    "## [BONUS] 8. Build models predicting from words\n",
    "\n",
    "This is a bit of the NLP we covered in the pipeline lecture!\n",
    "\n",
    "---"
   ]
  },
  {
   "cell_type": "markdown",
   "metadata": {},
   "source": [
    "### 8.1 Choose 'body' or 'title' from the boilerplate to be the basis of your word predictors\n",
    "\n",
    "You will need to parse the json from the boilerplate field.\n",
    "\n",
    "---"
   ]
  },
  {
   "cell_type": "code",
   "execution_count": 61,
   "metadata": {
    "collapsed": false
   },
   "outputs": [
    {
     "data": {
      "text/plain": [
       "'{\"title\":\"IBM Sees Holographic Calls Air Breathing Batteries ibm sees holographic calls, air-breathing batteries\",\"body\":\"A sign stands outside the International Business Machines Corp IBM Almaden Research Center campus in San Jose California Photographer Tony Avelar Bloomberg Buildings stand at the International Business Machines Corp IBM Almaden Research Center campus in the Santa Teresa Hills of San Jose California Photographer Tony Avelar Bloomberg By 2015 your mobile phone will project a 3 D image of anyone who calls and your laptop will be powered by kinetic energy At least that s what International Business Machines Corp sees in its crystal ball The predictions are part of an annual tradition for the Armonk New York based company which surveys its 3 000 researchers to find five ideas expected to take root in the next five years IBM the world s largest provider of computer services looks to Silicon Valley for input gleaning many ideas from its Almaden research center in San Jose California Holographic conversations projected from mobile phones lead this year s list The predictions also include air breathing batteries computer programs that can tell when and where traffic jams will take place environmental information generated by sensors in cars and phones and cities powered by the heat thrown off by computer servers These are all stretch goals and that s good said Paul Saffo managing director of foresight at the investment advisory firm Discern in San Francisco In an era when pessimism is the new black a little dose of technological optimism is not a bad thing For IBM it s not just idle speculation The company is one of the few big corporations investing in long range research projects and it counts on innovation to fuel growth Saffo said Not all of its predictions pan out though IBM was overly optimistic about the spread of speech technology for instance When the ideas do lead to products they can have broad implications for society as well as IBM s bottom line he said Research Spending They have continued to do research when all the other grand research organizations are gone said Saffo who is also a consulting associate professor at Stanford University IBM invested 5 8 billion in research and development last year 6 1 percent of revenue While that s down from about 10 percent in the early 1990s the company spends a bigger share on research than its computing rivals Hewlett Packard Co the top maker of personal computers spent 2 4 percent last year At Almaden scientists work on projects that don t always fit in with IBM s computer business The lab s research includes efforts to develop an electric car battery that runs 500 miles on one charge a filtration system for desalination and a program that shows changes in geographic data IBM rose 9 cents to 146 04 at 11 02 a m in New York Stock Exchange composite trading The stock had gained 11 percent this year before today Citizen Science The list is meant to give a window into the company s innovation engine said Josephine Cheng a vice president at IBM s Almaden lab All this demonstrates a real culture of innovation at IBM and willingness to devote itself to solving some of the world s biggest problems she said Many of the predictions are based on projects that IBM has in the works One of this year s ideas that sensors in cars wallets and personal devices will give scientists better data about the environment is an expansion of the company s citizen science initiative Earlier this year IBM teamed up with the California State Water Resources Control Board and the City of San Jose Environmental Services to help gather information about waterways Researchers from Almaden created an application that lets smartphone users snap photos of streams and creeks and report back on conditions The hope is that these casual observations will help local and state officials who don t have the resources to do the work themselves Traffic Predictors IBM also sees data helping shorten commutes in the next five years Computer programs will use algorithms and real time traffic information to predict which roads will have backups and how to avoid getting stuck Batteries may last 10 times longer in 2015 than today IBM says Rather than using the current lithium ion technology new models could rely on energy dense metals that only need to interact with the air to recharge Some electronic devices might ditch batteries altogether and use something similar to kinetic wristwatches which only need to be shaken to generate a charge The final prediction involves recycling the heat generated by computers and data centers Almost half of the power used by data centers is currently spent keeping the computers cool IBM scientists say it would be better to harness that heat to warm houses and offices In IBM s first list of predictions compiled at the end of 2006 researchers said instantaneous speech translation would become the norm That hasn t happened yet While some programs can quickly translate electronic documents and instant messages and other apps can perform limited speech translation there s nothing widely available that acts like the universal translator in Star Trek Second Life The company also predicted that online immersive environments such as Second Life would become more widespread While immersive video games are as popular as ever Second Life s growth has slowed Internet users are flocking instead to the more 2 D environments of Facebook Inc and Twitter Inc Meanwhile a 2007 prediction that mobile phones will act as a wallet ticket broker concierge bank and shopping assistant is coming true thanks to the explosion of smartphone applications Consumers can pay bills through their banking apps buy movie tickets and get instant feedback on potential purchases all with a few taps on their phones The nice thing about the list is that it provokes thought Saffo said If everything came true they wouldn t be doing their job To contact the reporter on this story Ryan Flinn in San Francisco at rflinn bloomberg net To contact the editor responsible for this story Tom Giles at tgiles5 bloomberg net by 2015, your mobile phone will project a 3-d image of anyone who calls and your laptop will be powered by kinetic energy. at least that\\\\u2019s what international business machines corp. sees in its crystal ball.\",\"url\":\"bloomberg news 2010 12 23 ibm predicts holographic calls air breathing batteries by 2015 html\"}'"
      ]
     },
     "execution_count": 61,
     "metadata": {},
     "output_type": "execute_result"
    }
   ],
   "source": [
    "su['boilerplate'][0]"
   ]
  },
  {
   "cell_type": "markdown",
   "metadata": {},
   "source": [
    "### 8.2 Use CountVectorizer to create your predictor matrix from the string column\n",
    "\n",
    "It is up to you what range of ngrams and features, and whether or not you want the columns binary or counts.\n",
    "\n",
    "---"
   ]
  },
  {
   "cell_type": "code",
   "execution_count": null,
   "metadata": {
    "collapsed": true
   },
   "outputs": [],
   "source": []
  },
  {
   "cell_type": "markdown",
   "metadata": {},
   "source": [
    "### 8.3 Gridsearch a logistic regression predicting accuracy of your chosen target category from word predictor matrix\n",
    "\n",
    "---"
   ]
  },
  {
   "cell_type": "code",
   "execution_count": null,
   "metadata": {
    "collapsed": true
   },
   "outputs": [],
   "source": []
  },
  {
   "cell_type": "markdown",
   "metadata": {},
   "source": [
    "### 8.4 Do the same as above, but score the gridsearch based on precision rather than accuracy\n",
    "\n",
    "---"
   ]
  },
  {
   "cell_type": "code",
   "execution_count": null,
   "metadata": {
    "collapsed": true
   },
   "outputs": [],
   "source": []
  },
  {
   "cell_type": "markdown",
   "metadata": {},
   "source": [
    "### 8.5 Build a logistic regression with optimal precision categories\n",
    "\n",
    "Print out the top 20 or 25 word features as ranked by their coefficients.\n",
    "\n",
    "---"
   ]
  },
  {
   "cell_type": "code",
   "execution_count": null,
   "metadata": {
    "collapsed": true
   },
   "outputs": [],
   "source": []
  }
 ],
 "metadata": {
  "kernelspec": {
   "display_name": "Python 2",
   "language": "python",
   "name": "python2"
  },
  "language_info": {
   "codemirror_mode": {
    "name": "ipython",
    "version": 2
   },
   "file_extension": ".py",
   "mimetype": "text/x-python",
   "name": "python",
   "nbconvert_exporter": "python",
   "pygments_lexer": "ipython2",
   "version": "2.7.11"
  }
 },
 "nbformat": 4,
 "nbformat_minor": 0
}
