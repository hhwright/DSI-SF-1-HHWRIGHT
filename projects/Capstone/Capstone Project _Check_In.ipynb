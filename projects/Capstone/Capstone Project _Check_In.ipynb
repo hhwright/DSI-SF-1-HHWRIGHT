{
 "cells": [
  {
   "cell_type": "markdown",
   "metadata": {},
   "source": [
    "# IMPORTING AND FORMATTING THE DATA"
   ]
  },
  {
   "cell_type": "markdown",
   "metadata": {},
   "source": [
    "### IMPORT THE DATA\n",
    "I decided to use 2015 data. Each .csv file was 1 month worth of Data. I used abreviations for each data."
   ]
  },
  {
   "cell_type": "code",
   "execution_count": 4,
   "metadata": {
    "collapsed": true
   },
   "outputs": [],
   "source": [
    "import numpy as np\n",
    "import pandas as pd\n",
    "import seaborn as sns\n",
    "\n",
    "%matplotlib inline"
   ]
  },
  {
   "cell_type": "code",
   "execution_count": 5,
   "metadata": {
    "collapsed": false
   },
   "outputs": [
    {
     "name": "stderr",
     "output_type": "stream",
     "text": [
      "/home/dsi-student/anaconda2/lib/python2.7/site-packages/IPython/core/interactiveshell.py:2723: DtypeWarning: Columns (41) have mixed types. Specify dtype option on import or set low_memory=False.\n",
      "  interactivity=interactivity, compiler=compiler, result=result)\n"
     ]
    }
   ],
   "source": [
    "jan = pd.read_csv('./Capstone_data/January_data.csv')\n",
    "feb = pd.read_csv('./Capstone_data/February_data.csv')\n",
    "mar = pd.read_csv('./Capstone_data/March_data.csv')\n",
    "apr = pd.read_csv('./Capstone_data/April_data.csv')\n",
    "may = pd.read_csv('./Capstone_data/May_data.csv')\n",
    "june = pd.read_csv('./Capstone_data/June_data.csv')\n",
    "july = pd.read_csv('./Capstone_data/July_data.csv')\n",
    "aug = pd.read_csv('./Capstone_data/August_data.csv')\n",
    "sept = pd.read_csv('./Capstone_data/September_data.csv')\n",
    "octo = pd.read_csv('./Capstone_data/October_data.csv')\n",
    "nov = pd.read_csv('./Capstone_data/November_data.csv')\n",
    "dec = pd.read_csv('./Capstone_data/December_data.csv')"
   ]
  },
  {
   "cell_type": "code",
   "execution_count": 6,
   "metadata": {
    "collapsed": false
   },
   "outputs": [
    {
     "data": {
      "text/html": [
       "<div>\n",
       "<table border=\"1\" class=\"dataframe\">\n",
       "  <thead>\n",
       "    <tr style=\"text-align: right;\">\n",
       "      <th></th>\n",
       "      <th>YEAR</th>\n",
       "      <th>MONTH</th>\n",
       "      <th>DAY_OF_MONTH</th>\n",
       "      <th>DAY_OF_WEEK</th>\n",
       "      <th>FL_DATE</th>\n",
       "      <th>UNIQUE_CARRIER</th>\n",
       "      <th>AIRLINE_ID</th>\n",
       "      <th>CARRIER</th>\n",
       "      <th>TAIL_NUM</th>\n",
       "      <th>ORIGIN_AIRPORT_ID</th>\n",
       "      <th>...</th>\n",
       "      <th>DISTANCE_GROUP</th>\n",
       "      <th>CARRIER_DELAY</th>\n",
       "      <th>WEATHER_DELAY</th>\n",
       "      <th>NAS_DELAY</th>\n",
       "      <th>SECURITY_DELAY</th>\n",
       "      <th>LATE_AIRCRAFT_DELAY</th>\n",
       "      <th>FIRST_DEP_TIME</th>\n",
       "      <th>TOTAL_ADD_GTIME</th>\n",
       "      <th>LONGEST_ADD_GTIME</th>\n",
       "      <th>Unnamed: 57</th>\n",
       "    </tr>\n",
       "  </thead>\n",
       "  <tbody>\n",
       "    <tr>\n",
       "      <th>0</th>\n",
       "      <td>2015</td>\n",
       "      <td>1</td>\n",
       "      <td>22</td>\n",
       "      <td>4</td>\n",
       "      <td>2015-01-22</td>\n",
       "      <td>DL</td>\n",
       "      <td>19790</td>\n",
       "      <td>DL</td>\n",
       "      <td>N969DL</td>\n",
       "      <td>12953</td>\n",
       "      <td>...</td>\n",
       "      <td>4</td>\n",
       "      <td>NaN</td>\n",
       "      <td>NaN</td>\n",
       "      <td>NaN</td>\n",
       "      <td>NaN</td>\n",
       "      <td>NaN</td>\n",
       "      <td>NaN</td>\n",
       "      <td>NaN</td>\n",
       "      <td>NaN</td>\n",
       "      <td>NaN</td>\n",
       "    </tr>\n",
       "    <tr>\n",
       "      <th>1</th>\n",
       "      <td>2015</td>\n",
       "      <td>1</td>\n",
       "      <td>22</td>\n",
       "      <td>4</td>\n",
       "      <td>2015-01-22</td>\n",
       "      <td>DL</td>\n",
       "      <td>19790</td>\n",
       "      <td>DL</td>\n",
       "      <td>N912DL</td>\n",
       "      <td>10397</td>\n",
       "      <td>...</td>\n",
       "      <td>4</td>\n",
       "      <td>NaN</td>\n",
       "      <td>NaN</td>\n",
       "      <td>NaN</td>\n",
       "      <td>NaN</td>\n",
       "      <td>NaN</td>\n",
       "      <td>NaN</td>\n",
       "      <td>NaN</td>\n",
       "      <td>NaN</td>\n",
       "      <td>NaN</td>\n",
       "    </tr>\n",
       "    <tr>\n",
       "      <th>2</th>\n",
       "      <td>2015</td>\n",
       "      <td>1</td>\n",
       "      <td>22</td>\n",
       "      <td>4</td>\n",
       "      <td>2015-01-22</td>\n",
       "      <td>DL</td>\n",
       "      <td>19790</td>\n",
       "      <td>DL</td>\n",
       "      <td>N359NW</td>\n",
       "      <td>14679</td>\n",
       "      <td>...</td>\n",
       "      <td>8</td>\n",
       "      <td>NaN</td>\n",
       "      <td>NaN</td>\n",
       "      <td>NaN</td>\n",
       "      <td>NaN</td>\n",
       "      <td>NaN</td>\n",
       "      <td>NaN</td>\n",
       "      <td>NaN</td>\n",
       "      <td>NaN</td>\n",
       "      <td>NaN</td>\n",
       "    </tr>\n",
       "    <tr>\n",
       "      <th>3</th>\n",
       "      <td>2015</td>\n",
       "      <td>1</td>\n",
       "      <td>22</td>\n",
       "      <td>4</td>\n",
       "      <td>2015-01-22</td>\n",
       "      <td>DL</td>\n",
       "      <td>19790</td>\n",
       "      <td>DL</td>\n",
       "      <td>N957AT</td>\n",
       "      <td>10397</td>\n",
       "      <td>...</td>\n",
       "      <td>1</td>\n",
       "      <td>NaN</td>\n",
       "      <td>NaN</td>\n",
       "      <td>NaN</td>\n",
       "      <td>NaN</td>\n",
       "      <td>NaN</td>\n",
       "      <td>NaN</td>\n",
       "      <td>NaN</td>\n",
       "      <td>NaN</td>\n",
       "      <td>NaN</td>\n",
       "    </tr>\n",
       "    <tr>\n",
       "      <th>4</th>\n",
       "      <td>2015</td>\n",
       "      <td>1</td>\n",
       "      <td>22</td>\n",
       "      <td>4</td>\n",
       "      <td>2015-01-22</td>\n",
       "      <td>DL</td>\n",
       "      <td>19790</td>\n",
       "      <td>DL</td>\n",
       "      <td>N985DL</td>\n",
       "      <td>10397</td>\n",
       "      <td>...</td>\n",
       "      <td>3</td>\n",
       "      <td>NaN</td>\n",
       "      <td>NaN</td>\n",
       "      <td>NaN</td>\n",
       "      <td>NaN</td>\n",
       "      <td>NaN</td>\n",
       "      <td>NaN</td>\n",
       "      <td>NaN</td>\n",
       "      <td>NaN</td>\n",
       "      <td>NaN</td>\n",
       "    </tr>\n",
       "  </tbody>\n",
       "</table>\n",
       "<p>5 rows × 58 columns</p>\n",
       "</div>"
      ],
      "text/plain": [
       "   YEAR  MONTH  DAY_OF_MONTH  DAY_OF_WEEK     FL_DATE UNIQUE_CARRIER  \\\n",
       "0  2015      1            22            4  2015-01-22             DL   \n",
       "1  2015      1            22            4  2015-01-22             DL   \n",
       "2  2015      1            22            4  2015-01-22             DL   \n",
       "3  2015      1            22            4  2015-01-22             DL   \n",
       "4  2015      1            22            4  2015-01-22             DL   \n",
       "\n",
       "   AIRLINE_ID CARRIER TAIL_NUM  ORIGIN_AIRPORT_ID     ...      DISTANCE_GROUP  \\\n",
       "0       19790      DL   N969DL              12953     ...                   4   \n",
       "1       19790      DL   N912DL              10397     ...                   4   \n",
       "2       19790      DL   N359NW              14679     ...                   8   \n",
       "3       19790      DL   N957AT              10397     ...                   1   \n",
       "4       19790      DL   N985DL              10397     ...                   3   \n",
       "\n",
       "   CARRIER_DELAY WEATHER_DELAY NAS_DELAY SECURITY_DELAY LATE_AIRCRAFT_DELAY  \\\n",
       "0            NaN           NaN       NaN            NaN                 NaN   \n",
       "1            NaN           NaN       NaN            NaN                 NaN   \n",
       "2            NaN           NaN       NaN            NaN                 NaN   \n",
       "3            NaN           NaN       NaN            NaN                 NaN   \n",
       "4            NaN           NaN       NaN            NaN                 NaN   \n",
       "\n",
       "   FIRST_DEP_TIME  TOTAL_ADD_GTIME  LONGEST_ADD_GTIME Unnamed: 57  \n",
       "0             NaN              NaN                NaN         NaN  \n",
       "1             NaN              NaN                NaN         NaN  \n",
       "2             NaN              NaN                NaN         NaN  \n",
       "3             NaN              NaN                NaN         NaN  \n",
       "4             NaN              NaN                NaN         NaN  \n",
       "\n",
       "[5 rows x 58 columns]"
      ]
     },
     "execution_count": 6,
     "metadata": {},
     "output_type": "execute_result"
    }
   ],
   "source": [
    "jan.head()"
   ]
  },
  {
   "cell_type": "code",
   "execution_count": 8,
   "metadata": {
    "collapsed": false
   },
   "outputs": [
    {
     "data": {
      "text/plain": [
       "0   -1.0\n",
       "1    1.0\n",
       "2   -1.0\n",
       "3   -1.0\n",
       "4   -1.0\n",
       "Name: DEP_DELAY_GROUP, dtype: float64"
      ]
     },
     "execution_count": 8,
     "metadata": {},
     "output_type": "execute_result"
    }
   ],
   "source": [
    "jan['DEP_DELAY_GROUP'][0:5]"
   ]
  },
  {
   "cell_type": "code",
   "execution_count": 9,
   "metadata": {
    "collapsed": false
   },
   "outputs": [
    {
     "data": {
      "text/plain": [
       "(469968, 58)"
      ]
     },
     "execution_count": 9,
     "metadata": {},
     "output_type": "execute_result"
    }
   ],
   "source": [
    "jan.shape"
   ]
  },
  {
   "cell_type": "code",
   "execution_count": 10,
   "metadata": {
    "collapsed": false
   },
   "outputs": [
    {
     "data": {
      "text/plain": [
       "Index([u'YEAR', u'MONTH', u'DAY_OF_MONTH', u'DAY_OF_WEEK', u'FL_DATE',\n",
       "       u'UNIQUE_CARRIER', u'AIRLINE_ID', u'CARRIER', u'TAIL_NUM',\n",
       "       u'ORIGIN_AIRPORT_ID', u'ORIGIN_AIRPORT_SEQ_ID',\n",
       "       u'ORIGIN_CITY_MARKET_ID', u'ORIGIN', u'ORIGIN_CITY_NAME',\n",
       "       u'ORIGIN_STATE_ABR', u'ORIGIN_STATE_NM', u'DEST_AIRPORT_ID',\n",
       "       u'DEST_AIRPORT_SEQ_ID', u'DEST_CITY_MARKET_ID', u'DEST_CITY_NAME',\n",
       "       u'DEST_STATE_ABR', u'DEST_STATE_NM', u'CRS_DEP_TIME', u'DEP_TIME',\n",
       "       u'DEP_DELAY', u'DEP_DELAY_NEW', u'DEP_DEL15', u'DEP_DELAY_GROUP',\n",
       "       u'DEP_TIME_BLK', u'TAXI_OUT', u'WHEELS_OFF', u'WHEELS_ON', u'TAXI_IN',\n",
       "       u'CRS_ARR_TIME', u'ARR_TIME', u'ARR_DELAY', u'ARR_DELAY_NEW',\n",
       "       u'ARR_DEL15', u'ARR_DELAY_GROUP', u'ARR_TIME_BLK', u'CANCELLED',\n",
       "       u'CANCELLATION_CODE', u'DIVERTED', u'CRS_ELAPSED_TIME',\n",
       "       u'ACTUAL_ELAPSED_TIME', u'AIR_TIME', u'FLIGHTS', u'DISTANCE',\n",
       "       u'DISTANCE_GROUP', u'CARRIER_DELAY', u'WEATHER_DELAY', u'NAS_DELAY',\n",
       "       u'SECURITY_DELAY', u'LATE_AIRCRAFT_DELAY', u'FIRST_DEP_TIME',\n",
       "       u'TOTAL_ADD_GTIME', u'LONGEST_ADD_GTIME', u'Unnamed: 57'],\n",
       "      dtype='object')"
      ]
     },
     "execution_count": 10,
     "metadata": {},
     "output_type": "execute_result"
    }
   ],
   "source": [
    "jan.columns"
   ]
  },
  {
   "cell_type": "markdown",
   "metadata": {},
   "source": [
    "### Column Selection\n",
    "There were lots of different columns used to describe similar attributes. I choose the columns that were most useful types of relaying that information."
   ]
  },
  {
   "cell_type": "code",
   "execution_count": 24,
   "metadata": {
    "collapsed": false
   },
   "outputs": [],
   "source": [
    "\n",
    "\n",
    "needed_cols = ['YEAR','MONTH','DAY_OF_MONTH','AIRLINE_ID','UNIQUE_CARRIER', 'CARRIER','ORIGIN_CITY_NAME', 'DEST_CITY_NAME', 'ORIGIN_AIRPORT_ID','DEST_AIRPORT_ID',\n",
    "                'DEP_DELAY','CANCELLED','DISTANCE','CARRIER_DELAY','WEATHER_DELAY','NAS_DELAY','SECURITY_DELAY',\n",
    "                'LATE_AIRCRAFT_DELAY']"
   ]
  },
  {
   "cell_type": "markdown",
   "metadata": {},
   "source": [
    "### Subseting the Data\n",
    "Below I subsetted teh data with random samples. I created my own function to make this easier."
   ]
  },
  {
   "cell_type": "code",
   "execution_count": 25,
   "metadata": {
    "collapsed": false
   },
   "outputs": [],
   "source": [
    "import random"
   ]
  },
  {
   "cell_type": "code",
   "execution_count": 26,
   "metadata": {
    "collapsed": true
   },
   "outputs": [],
   "source": [
    "def subset(df, cols, sample_size):\n",
    "    clean = df[cols]\n",
    "    rows = random.sample(df.index, sample_size)\n",
    "    df_sub = df.ix[rows]\n",
    "    return df_sub\n",
    "    "
   ]
  },
  {
   "cell_type": "code",
   "execution_count": 27,
   "metadata": {
    "collapsed": false
   },
   "outputs": [],
   "source": [
    "jan_sub = subset(jan,needed_cols,10000)\n",
    "feb_sub = subset(feb,needed_cols,10000)\n",
    "mar_sub = subset(mar,needed_cols,10000)\n",
    "apr_sub = subset(apr,needed_cols,10000)\n",
    "may_sub = subset(may,needed_cols,10000)\n",
    "june_sub = subset(june,needed_cols,10000)\n",
    "july_sub = subset(july,needed_cols,10000)\n",
    "aug_sub = subset(aug,needed_cols,10000)\n",
    "sept_sub = subset(sept,needed_cols,10000)\n",
    "octo_sub = subset(octo,needed_cols,10000)\n",
    "nov_sub = subset(nov,needed_cols,10000)\n",
    "dec_sub = subset(dec,needed_cols,10000)"
   ]
  },
  {
   "cell_type": "code",
   "execution_count": 15,
   "metadata": {
    "collapsed": false
   },
   "outputs": [
    {
     "data": {
      "text/html": [
       "<div>\n",
       "<table border=\"1\" class=\"dataframe\">\n",
       "  <thead>\n",
       "    <tr style=\"text-align: right;\">\n",
       "      <th></th>\n",
       "      <th>YEAR</th>\n",
       "      <th>MONTH</th>\n",
       "      <th>DAY_OF_MONTH</th>\n",
       "      <th>DAY_OF_WEEK</th>\n",
       "      <th>FL_DATE</th>\n",
       "      <th>UNIQUE_CARRIER</th>\n",
       "      <th>AIRLINE_ID</th>\n",
       "      <th>CARRIER</th>\n",
       "      <th>TAIL_NUM</th>\n",
       "      <th>ORIGIN_AIRPORT_ID</th>\n",
       "      <th>...</th>\n",
       "      <th>DISTANCE_GROUP</th>\n",
       "      <th>CARRIER_DELAY</th>\n",
       "      <th>WEATHER_DELAY</th>\n",
       "      <th>NAS_DELAY</th>\n",
       "      <th>SECURITY_DELAY</th>\n",
       "      <th>LATE_AIRCRAFT_DELAY</th>\n",
       "      <th>FIRST_DEP_TIME</th>\n",
       "      <th>TOTAL_ADD_GTIME</th>\n",
       "      <th>LONGEST_ADD_GTIME</th>\n",
       "      <th>Unnamed: 57</th>\n",
       "    </tr>\n",
       "  </thead>\n",
       "  <tbody>\n",
       "    <tr>\n",
       "      <th>285325</th>\n",
       "      <td>2015</td>\n",
       "      <td>12</td>\n",
       "      <td>10</td>\n",
       "      <td>4</td>\n",
       "      <td>2015-12-10</td>\n",
       "      <td>AA</td>\n",
       "      <td>19805</td>\n",
       "      <td>AA</td>\n",
       "      <td>N765US</td>\n",
       "      <td>14107</td>\n",
       "      <td>...</td>\n",
       "      <td>5</td>\n",
       "      <td>NaN</td>\n",
       "      <td>NaN</td>\n",
       "      <td>NaN</td>\n",
       "      <td>NaN</td>\n",
       "      <td>NaN</td>\n",
       "      <td>NaN</td>\n",
       "      <td>NaN</td>\n",
       "      <td>NaN</td>\n",
       "      <td>NaN</td>\n",
       "    </tr>\n",
       "    <tr>\n",
       "      <th>136875</th>\n",
       "      <td>2015</td>\n",
       "      <td>12</td>\n",
       "      <td>3</td>\n",
       "      <td>4</td>\n",
       "      <td>2015-12-03</td>\n",
       "      <td>WN</td>\n",
       "      <td>19393</td>\n",
       "      <td>WN</td>\n",
       "      <td>N637SW</td>\n",
       "      <td>14679</td>\n",
       "      <td>...</td>\n",
       "      <td>2</td>\n",
       "      <td>11.0</td>\n",
       "      <td>0.0</td>\n",
       "      <td>8.0</td>\n",
       "      <td>0.0</td>\n",
       "      <td>1.0</td>\n",
       "      <td>NaN</td>\n",
       "      <td>NaN</td>\n",
       "      <td>NaN</td>\n",
       "      <td>NaN</td>\n",
       "    </tr>\n",
       "    <tr>\n",
       "      <th>470641</th>\n",
       "      <td>2015</td>\n",
       "      <td>12</td>\n",
       "      <td>9</td>\n",
       "      <td>3</td>\n",
       "      <td>2015-12-09</td>\n",
       "      <td>UA</td>\n",
       "      <td>19977</td>\n",
       "      <td>UA</td>\n",
       "      <td>N37465</td>\n",
       "      <td>13204</td>\n",
       "      <td>...</td>\n",
       "      <td>10</td>\n",
       "      <td>NaN</td>\n",
       "      <td>NaN</td>\n",
       "      <td>NaN</td>\n",
       "      <td>NaN</td>\n",
       "      <td>NaN</td>\n",
       "      <td>NaN</td>\n",
       "      <td>NaN</td>\n",
       "      <td>NaN</td>\n",
       "      <td>NaN</td>\n",
       "    </tr>\n",
       "    <tr>\n",
       "      <th>330349</th>\n",
       "      <td>2015</td>\n",
       "      <td>12</td>\n",
       "      <td>5</td>\n",
       "      <td>6</td>\n",
       "      <td>2015-12-05</td>\n",
       "      <td>B6</td>\n",
       "      <td>20409</td>\n",
       "      <td>B6</td>\n",
       "      <td>N956JB</td>\n",
       "      <td>14843</td>\n",
       "      <td>...</td>\n",
       "      <td>7</td>\n",
       "      <td>NaN</td>\n",
       "      <td>NaN</td>\n",
       "      <td>NaN</td>\n",
       "      <td>NaN</td>\n",
       "      <td>NaN</td>\n",
       "      <td>NaN</td>\n",
       "      <td>NaN</td>\n",
       "      <td>NaN</td>\n",
       "      <td>NaN</td>\n",
       "    </tr>\n",
       "    <tr>\n",
       "      <th>322236</th>\n",
       "      <td>2015</td>\n",
       "      <td>12</td>\n",
       "      <td>28</td>\n",
       "      <td>1</td>\n",
       "      <td>2015-12-28</td>\n",
       "      <td>AS</td>\n",
       "      <td>19930</td>\n",
       "      <td>AS</td>\n",
       "      <td>N708AS</td>\n",
       "      <td>12523</td>\n",
       "      <td>...</td>\n",
       "      <td>4</td>\n",
       "      <td>NaN</td>\n",
       "      <td>NaN</td>\n",
       "      <td>NaN</td>\n",
       "      <td>NaN</td>\n",
       "      <td>NaN</td>\n",
       "      <td>NaN</td>\n",
       "      <td>NaN</td>\n",
       "      <td>NaN</td>\n",
       "      <td>NaN</td>\n",
       "    </tr>\n",
       "  </tbody>\n",
       "</table>\n",
       "<p>5 rows × 58 columns</p>\n",
       "</div>"
      ],
      "text/plain": [
       "        YEAR  MONTH  DAY_OF_MONTH  DAY_OF_WEEK     FL_DATE UNIQUE_CARRIER  \\\n",
       "285325  2015     12            10            4  2015-12-10             AA   \n",
       "136875  2015     12             3            4  2015-12-03             WN   \n",
       "470641  2015     12             9            3  2015-12-09             UA   \n",
       "330349  2015     12             5            6  2015-12-05             B6   \n",
       "322236  2015     12            28            1  2015-12-28             AS   \n",
       "\n",
       "        AIRLINE_ID CARRIER TAIL_NUM  ORIGIN_AIRPORT_ID     ...      \\\n",
       "285325       19805      AA   N765US              14107     ...       \n",
       "136875       19393      WN   N637SW              14679     ...       \n",
       "470641       19977      UA   N37465              13204     ...       \n",
       "330349       20409      B6   N956JB              14843     ...       \n",
       "322236       19930      AS   N708AS              12523     ...       \n",
       "\n",
       "        DISTANCE_GROUP  CARRIER_DELAY WEATHER_DELAY NAS_DELAY SECURITY_DELAY  \\\n",
       "285325               5            NaN           NaN       NaN            NaN   \n",
       "136875               2           11.0           0.0       8.0            0.0   \n",
       "470641              10            NaN           NaN       NaN            NaN   \n",
       "330349               7            NaN           NaN       NaN            NaN   \n",
       "322236               4            NaN           NaN       NaN            NaN   \n",
       "\n",
       "       LATE_AIRCRAFT_DELAY  FIRST_DEP_TIME  TOTAL_ADD_GTIME  \\\n",
       "285325                 NaN             NaN              NaN   \n",
       "136875                 1.0             NaN              NaN   \n",
       "470641                 NaN             NaN              NaN   \n",
       "330349                 NaN             NaN              NaN   \n",
       "322236                 NaN             NaN              NaN   \n",
       "\n",
       "        LONGEST_ADD_GTIME Unnamed: 57  \n",
       "285325                NaN         NaN  \n",
       "136875                NaN         NaN  \n",
       "470641                NaN         NaN  \n",
       "330349                NaN         NaN  \n",
       "322236                NaN         NaN  \n",
       "\n",
       "[5 rows x 58 columns]"
      ]
     },
     "execution_count": 15,
     "metadata": {},
     "output_type": "execute_result"
    }
   ],
   "source": [
    "dec_sub.head()"
   ]
  },
  {
   "cell_type": "code",
   "execution_count": 16,
   "metadata": {
    "collapsed": false
   },
   "outputs": [
    {
     "data": {
      "text/html": [
       "<div>\n",
       "<table border=\"1\" class=\"dataframe\">\n",
       "  <thead>\n",
       "    <tr style=\"text-align: right;\">\n",
       "      <th></th>\n",
       "      <th>YEAR</th>\n",
       "      <th>MONTH</th>\n",
       "      <th>DAY_OF_MONTH</th>\n",
       "      <th>DAY_OF_WEEK</th>\n",
       "      <th>FL_DATE</th>\n",
       "      <th>UNIQUE_CARRIER</th>\n",
       "      <th>AIRLINE_ID</th>\n",
       "      <th>CARRIER</th>\n",
       "      <th>TAIL_NUM</th>\n",
       "      <th>ORIGIN_AIRPORT_ID</th>\n",
       "      <th>...</th>\n",
       "      <th>DISTANCE_GROUP</th>\n",
       "      <th>CARRIER_DELAY</th>\n",
       "      <th>WEATHER_DELAY</th>\n",
       "      <th>NAS_DELAY</th>\n",
       "      <th>SECURITY_DELAY</th>\n",
       "      <th>LATE_AIRCRAFT_DELAY</th>\n",
       "      <th>FIRST_DEP_TIME</th>\n",
       "      <th>TOTAL_ADD_GTIME</th>\n",
       "      <th>LONGEST_ADD_GTIME</th>\n",
       "      <th>Unnamed: 57</th>\n",
       "    </tr>\n",
       "  </thead>\n",
       "  <tbody>\n",
       "    <tr>\n",
       "      <th>426219</th>\n",
       "      <td>2015</td>\n",
       "      <td>1</td>\n",
       "      <td>20</td>\n",
       "      <td>2</td>\n",
       "      <td>2015-01-20</td>\n",
       "      <td>AA</td>\n",
       "      <td>19805</td>\n",
       "      <td>AA</td>\n",
       "      <td>N5BYAA</td>\n",
       "      <td>14843</td>\n",
       "      <td>...</td>\n",
       "      <td>7</td>\n",
       "      <td>NaN</td>\n",
       "      <td>NaN</td>\n",
       "      <td>NaN</td>\n",
       "      <td>NaN</td>\n",
       "      <td>NaN</td>\n",
       "      <td>NaN</td>\n",
       "      <td>NaN</td>\n",
       "      <td>NaN</td>\n",
       "      <td>NaN</td>\n",
       "    </tr>\n",
       "    <tr>\n",
       "      <th>133359</th>\n",
       "      <td>2015</td>\n",
       "      <td>1</td>\n",
       "      <td>1</td>\n",
       "      <td>4</td>\n",
       "      <td>2015-01-01</td>\n",
       "      <td>WN</td>\n",
       "      <td>19393</td>\n",
       "      <td>WN</td>\n",
       "      <td>N7705A</td>\n",
       "      <td>12191</td>\n",
       "      <td>...</td>\n",
       "      <td>6</td>\n",
       "      <td>NaN</td>\n",
       "      <td>NaN</td>\n",
       "      <td>NaN</td>\n",
       "      <td>NaN</td>\n",
       "      <td>NaN</td>\n",
       "      <td>NaN</td>\n",
       "      <td>NaN</td>\n",
       "      <td>NaN</td>\n",
       "      <td>NaN</td>\n",
       "    </tr>\n",
       "    <tr>\n",
       "      <th>390672</th>\n",
       "      <td>2015</td>\n",
       "      <td>1</td>\n",
       "      <td>14</td>\n",
       "      <td>3</td>\n",
       "      <td>2015-01-14</td>\n",
       "      <td>AA</td>\n",
       "      <td>19805</td>\n",
       "      <td>AA</td>\n",
       "      <td>N4YTAA</td>\n",
       "      <td>11298</td>\n",
       "      <td>...</td>\n",
       "      <td>3</td>\n",
       "      <td>NaN</td>\n",
       "      <td>NaN</td>\n",
       "      <td>NaN</td>\n",
       "      <td>NaN</td>\n",
       "      <td>NaN</td>\n",
       "      <td>NaN</td>\n",
       "      <td>NaN</td>\n",
       "      <td>NaN</td>\n",
       "      <td>NaN</td>\n",
       "    </tr>\n",
       "    <tr>\n",
       "      <th>173467</th>\n",
       "      <td>2015</td>\n",
       "      <td>1</td>\n",
       "      <td>14</td>\n",
       "      <td>3</td>\n",
       "      <td>2015-01-14</td>\n",
       "      <td>WN</td>\n",
       "      <td>19393</td>\n",
       "      <td>WN</td>\n",
       "      <td>N297WN</td>\n",
       "      <td>13204</td>\n",
       "      <td>...</td>\n",
       "      <td>5</td>\n",
       "      <td>NaN</td>\n",
       "      <td>NaN</td>\n",
       "      <td>NaN</td>\n",
       "      <td>NaN</td>\n",
       "      <td>NaN</td>\n",
       "      <td>NaN</td>\n",
       "      <td>NaN</td>\n",
       "      <td>NaN</td>\n",
       "      <td>NaN</td>\n",
       "    </tr>\n",
       "    <tr>\n",
       "      <th>240049</th>\n",
       "      <td>2015</td>\n",
       "      <td>1</td>\n",
       "      <td>1</td>\n",
       "      <td>4</td>\n",
       "      <td>2015-01-01</td>\n",
       "      <td>NK</td>\n",
       "      <td>20416</td>\n",
       "      <td>NK</td>\n",
       "      <td>N510NK</td>\n",
       "      <td>12889</td>\n",
       "      <td>...</td>\n",
       "      <td>3</td>\n",
       "      <td>0.0</td>\n",
       "      <td>0.0</td>\n",
       "      <td>21.0</td>\n",
       "      <td>0.0</td>\n",
       "      <td>0.0</td>\n",
       "      <td>NaN</td>\n",
       "      <td>NaN</td>\n",
       "      <td>NaN</td>\n",
       "      <td>NaN</td>\n",
       "    </tr>\n",
       "  </tbody>\n",
       "</table>\n",
       "<p>5 rows × 58 columns</p>\n",
       "</div>"
      ],
      "text/plain": [
       "        YEAR  MONTH  DAY_OF_MONTH  DAY_OF_WEEK     FL_DATE UNIQUE_CARRIER  \\\n",
       "426219  2015      1            20            2  2015-01-20             AA   \n",
       "133359  2015      1             1            4  2015-01-01             WN   \n",
       "390672  2015      1            14            3  2015-01-14             AA   \n",
       "173467  2015      1            14            3  2015-01-14             WN   \n",
       "240049  2015      1             1            4  2015-01-01             NK   \n",
       "\n",
       "        AIRLINE_ID CARRIER TAIL_NUM  ORIGIN_AIRPORT_ID     ...      \\\n",
       "426219       19805      AA   N5BYAA              14843     ...       \n",
       "133359       19393      WN   N7705A              12191     ...       \n",
       "390672       19805      AA   N4YTAA              11298     ...       \n",
       "173467       19393      WN   N297WN              13204     ...       \n",
       "240049       20416      NK   N510NK              12889     ...       \n",
       "\n",
       "        DISTANCE_GROUP  CARRIER_DELAY WEATHER_DELAY NAS_DELAY SECURITY_DELAY  \\\n",
       "426219               7            NaN           NaN       NaN            NaN   \n",
       "133359               6            NaN           NaN       NaN            NaN   \n",
       "390672               3            NaN           NaN       NaN            NaN   \n",
       "173467               5            NaN           NaN       NaN            NaN   \n",
       "240049               3            0.0           0.0      21.0            0.0   \n",
       "\n",
       "       LATE_AIRCRAFT_DELAY  FIRST_DEP_TIME  TOTAL_ADD_GTIME  \\\n",
       "426219                 NaN             NaN              NaN   \n",
       "133359                 NaN             NaN              NaN   \n",
       "390672                 NaN             NaN              NaN   \n",
       "173467                 NaN             NaN              NaN   \n",
       "240049                 0.0             NaN              NaN   \n",
       "\n",
       "        LONGEST_ADD_GTIME Unnamed: 57  \n",
       "426219                NaN         NaN  \n",
       "133359                NaN         NaN  \n",
       "390672                NaN         NaN  \n",
       "173467                NaN         NaN  \n",
       "240049                NaN         NaN  \n",
       "\n",
       "[5 rows x 58 columns]"
      ]
     },
     "execution_count": 16,
     "metadata": {},
     "output_type": "execute_result"
    }
   ],
   "source": [
    "jan_sub.head()"
   ]
  },
  {
   "cell_type": "markdown",
   "metadata": {},
   "source": [
    "### Merging Data\n",
    "After subsetting data from each month I merged the data into one dataframe."
   ]
  },
  {
   "cell_type": "code",
   "execution_count": 30,
   "metadata": {
    "collapsed": false
   },
   "outputs": [],
   "source": [
    "merged_list = [jan_sub, feb_sub, mar_sub, apr_sub, may_sub, june_sub, \n",
    "               july_sub, aug_sub, sept_sub, octo_sub, nov_sub, dec_sub]\n",
    "merged = pd.concat(merged_list)"
   ]
  },
  {
   "cell_type": "code",
   "execution_count": 48,
   "metadata": {
    "collapsed": false
   },
   "outputs": [],
   "source": [
    "merged.reset_index(inplace=True)"
   ]
  },
  {
   "cell_type": "code",
   "execution_count": 51,
   "metadata": {
    "collapsed": false
   },
   "outputs": [],
   "source": [
    "merged_col =[x for x in merged.columns if x not in ['index']]"
   ]
  },
  {
   "cell_type": "code",
   "execution_count": 52,
   "metadata": {
    "collapsed": true
   },
   "outputs": [],
   "source": [
    "merged = merged[merged_col]"
   ]
  },
  {
   "cell_type": "code",
   "execution_count": 68,
   "metadata": {
    "collapsed": false
   },
   "outputs": [
    {
     "data": {
      "text/html": [
       "<div>\n",
       "<table border=\"1\" class=\"dataframe\">\n",
       "  <thead>\n",
       "    <tr style=\"text-align: right;\">\n",
       "      <th></th>\n",
       "      <th>DEST_AIRPORT_ID</th>\n",
       "      <th>DEST_CITY_NAME</th>\n",
       "    </tr>\n",
       "  </thead>\n",
       "  <tbody>\n",
       "    <tr>\n",
       "      <th>0</th>\n",
       "      <td>10693</td>\n",
       "      <td>Nashville, TN</td>\n",
       "    </tr>\n",
       "    <tr>\n",
       "      <th>1</th>\n",
       "      <td>13487</td>\n",
       "      <td>Minneapolis, MN</td>\n",
       "    </tr>\n",
       "    <tr>\n",
       "      <th>2</th>\n",
       "      <td>15304</td>\n",
       "      <td>Tampa, FL</td>\n",
       "    </tr>\n",
       "    <tr>\n",
       "      <th>3</th>\n",
       "      <td>13796</td>\n",
       "      <td>Oakland, CA</td>\n",
       "    </tr>\n",
       "    <tr>\n",
       "      <th>4</th>\n",
       "      <td>12264</td>\n",
       "      <td>Washington, DC</td>\n",
       "    </tr>\n",
       "    <tr>\n",
       "      <th>5</th>\n",
       "      <td>14771</td>\n",
       "      <td>San Francisco, CA</td>\n",
       "    </tr>\n",
       "    <tr>\n",
       "      <th>6</th>\n",
       "      <td>10397</td>\n",
       "      <td>Atlanta, GA</td>\n",
       "    </tr>\n",
       "    <tr>\n",
       "      <th>7</th>\n",
       "      <td>14307</td>\n",
       "      <td>Providence, RI</td>\n",
       "    </tr>\n",
       "    <tr>\n",
       "      <th>8</th>\n",
       "      <td>14908</td>\n",
       "      <td>Santa Ana, CA</td>\n",
       "    </tr>\n",
       "    <tr>\n",
       "      <th>9</th>\n",
       "      <td>14747</td>\n",
       "      <td>Seattle, WA</td>\n",
       "    </tr>\n",
       "    <tr>\n",
       "      <th>10</th>\n",
       "      <td>14262</td>\n",
       "      <td>Palm Springs, CA</td>\n",
       "    </tr>\n",
       "    <tr>\n",
       "      <th>11</th>\n",
       "      <td>12448</td>\n",
       "      <td>Jackson/Vicksburg, MS</td>\n",
       "    </tr>\n",
       "    <tr>\n",
       "      <th>12</th>\n",
       "      <td>14771</td>\n",
       "      <td>San Francisco, CA</td>\n",
       "    </tr>\n",
       "    <tr>\n",
       "      <th>13</th>\n",
       "      <td>14698</td>\n",
       "      <td>San Luis Obispo, CA</td>\n",
       "    </tr>\n",
       "    <tr>\n",
       "      <th>14</th>\n",
       "      <td>14771</td>\n",
       "      <td>San Francisco, CA</td>\n",
       "    </tr>\n",
       "    <tr>\n",
       "      <th>15</th>\n",
       "      <td>12191</td>\n",
       "      <td>Houston, TX</td>\n",
       "    </tr>\n",
       "    <tr>\n",
       "      <th>16</th>\n",
       "      <td>11292</td>\n",
       "      <td>Denver, CO</td>\n",
       "    </tr>\n",
       "    <tr>\n",
       "      <th>17</th>\n",
       "      <td>14893</td>\n",
       "      <td>Sacramento, CA</td>\n",
       "    </tr>\n",
       "    <tr>\n",
       "      <th>18</th>\n",
       "      <td>11057</td>\n",
       "      <td>Charlotte, NC</td>\n",
       "    </tr>\n",
       "    <tr>\n",
       "      <th>19</th>\n",
       "      <td>13930</td>\n",
       "      <td>Chicago, IL</td>\n",
       "    </tr>\n",
       "    <tr>\n",
       "      <th>20</th>\n",
       "      <td>10279</td>\n",
       "      <td>Amarillo, TX</td>\n",
       "    </tr>\n",
       "    <tr>\n",
       "      <th>21</th>\n",
       "      <td>12892</td>\n",
       "      <td>Los Angeles, CA</td>\n",
       "    </tr>\n",
       "    <tr>\n",
       "      <th>22</th>\n",
       "      <td>11057</td>\n",
       "      <td>Charlotte, NC</td>\n",
       "    </tr>\n",
       "    <tr>\n",
       "      <th>23</th>\n",
       "      <td>14771</td>\n",
       "      <td>San Francisco, CA</td>\n",
       "    </tr>\n",
       "    <tr>\n",
       "      <th>24</th>\n",
       "      <td>13930</td>\n",
       "      <td>Chicago, IL</td>\n",
       "    </tr>\n",
       "    <tr>\n",
       "      <th>25</th>\n",
       "      <td>13232</td>\n",
       "      <td>Chicago, IL</td>\n",
       "    </tr>\n",
       "    <tr>\n",
       "      <th>26</th>\n",
       "      <td>13796</td>\n",
       "      <td>Oakland, CA</td>\n",
       "    </tr>\n",
       "    <tr>\n",
       "      <th>27</th>\n",
       "      <td>14843</td>\n",
       "      <td>San Juan, PR</td>\n",
       "    </tr>\n",
       "    <tr>\n",
       "      <th>28</th>\n",
       "      <td>11278</td>\n",
       "      <td>Washington, DC</td>\n",
       "    </tr>\n",
       "    <tr>\n",
       "      <th>29</th>\n",
       "      <td>11292</td>\n",
       "      <td>Denver, CO</td>\n",
       "    </tr>\n",
       "    <tr>\n",
       "      <th>...</th>\n",
       "      <td>...</td>\n",
       "      <td>...</td>\n",
       "    </tr>\n",
       "    <tr>\n",
       "      <th>119970</th>\n",
       "      <td>14747</td>\n",
       "      <td>Seattle, WA</td>\n",
       "    </tr>\n",
       "    <tr>\n",
       "      <th>119971</th>\n",
       "      <td>11618</td>\n",
       "      <td>Newark, NJ</td>\n",
       "    </tr>\n",
       "    <tr>\n",
       "      <th>119972</th>\n",
       "      <td>13796</td>\n",
       "      <td>Oakland, CA</td>\n",
       "    </tr>\n",
       "    <tr>\n",
       "      <th>119973</th>\n",
       "      <td>12264</td>\n",
       "      <td>Washington, DC</td>\n",
       "    </tr>\n",
       "    <tr>\n",
       "      <th>119974</th>\n",
       "      <td>12892</td>\n",
       "      <td>Los Angeles, CA</td>\n",
       "    </tr>\n",
       "    <tr>\n",
       "      <th>119975</th>\n",
       "      <td>12889</td>\n",
       "      <td>Las Vegas, NV</td>\n",
       "    </tr>\n",
       "    <tr>\n",
       "      <th>119976</th>\n",
       "      <td>14524</td>\n",
       "      <td>Richmond, VA</td>\n",
       "    </tr>\n",
       "    <tr>\n",
       "      <th>119977</th>\n",
       "      <td>11697</td>\n",
       "      <td>Fort Lauderdale, FL</td>\n",
       "    </tr>\n",
       "    <tr>\n",
       "      <th>119978</th>\n",
       "      <td>10397</td>\n",
       "      <td>Atlanta, GA</td>\n",
       "    </tr>\n",
       "    <tr>\n",
       "      <th>119979</th>\n",
       "      <td>12478</td>\n",
       "      <td>New York, NY</td>\n",
       "    </tr>\n",
       "    <tr>\n",
       "      <th>119980</th>\n",
       "      <td>12954</td>\n",
       "      <td>Long Beach, CA</td>\n",
       "    </tr>\n",
       "    <tr>\n",
       "      <th>119981</th>\n",
       "      <td>12953</td>\n",
       "      <td>New York, NY</td>\n",
       "    </tr>\n",
       "    <tr>\n",
       "      <th>119982</th>\n",
       "      <td>14100</td>\n",
       "      <td>Philadelphia, PA</td>\n",
       "    </tr>\n",
       "    <tr>\n",
       "      <th>119983</th>\n",
       "      <td>11433</td>\n",
       "      <td>Detroit, MI</td>\n",
       "    </tr>\n",
       "    <tr>\n",
       "      <th>119984</th>\n",
       "      <td>13796</td>\n",
       "      <td>Oakland, CA</td>\n",
       "    </tr>\n",
       "    <tr>\n",
       "      <th>119985</th>\n",
       "      <td>13377</td>\n",
       "      <td>Monroe, LA</td>\n",
       "    </tr>\n",
       "    <tr>\n",
       "      <th>119986</th>\n",
       "      <td>11057</td>\n",
       "      <td>Charlotte, NC</td>\n",
       "    </tr>\n",
       "    <tr>\n",
       "      <th>119987</th>\n",
       "      <td>13487</td>\n",
       "      <td>Minneapolis, MN</td>\n",
       "    </tr>\n",
       "    <tr>\n",
       "      <th>119988</th>\n",
       "      <td>14747</td>\n",
       "      <td>Seattle, WA</td>\n",
       "    </tr>\n",
       "    <tr>\n",
       "      <th>119989</th>\n",
       "      <td>11433</td>\n",
       "      <td>Detroit, MI</td>\n",
       "    </tr>\n",
       "    <tr>\n",
       "      <th>119990</th>\n",
       "      <td>12889</td>\n",
       "      <td>Las Vegas, NV</td>\n",
       "    </tr>\n",
       "    <tr>\n",
       "      <th>119991</th>\n",
       "      <td>10397</td>\n",
       "      <td>Atlanta, GA</td>\n",
       "    </tr>\n",
       "    <tr>\n",
       "      <th>119992</th>\n",
       "      <td>11057</td>\n",
       "      <td>Charlotte, NC</td>\n",
       "    </tr>\n",
       "    <tr>\n",
       "      <th>119993</th>\n",
       "      <td>10721</td>\n",
       "      <td>Boston, MA</td>\n",
       "    </tr>\n",
       "    <tr>\n",
       "      <th>119994</th>\n",
       "      <td>13232</td>\n",
       "      <td>Chicago, IL</td>\n",
       "    </tr>\n",
       "    <tr>\n",
       "      <th>119995</th>\n",
       "      <td>11057</td>\n",
       "      <td>Charlotte, NC</td>\n",
       "    </tr>\n",
       "    <tr>\n",
       "      <th>119996</th>\n",
       "      <td>13303</td>\n",
       "      <td>Miami, FL</td>\n",
       "    </tr>\n",
       "    <tr>\n",
       "      <th>119997</th>\n",
       "      <td>10185</td>\n",
       "      <td>Alexandria, LA</td>\n",
       "    </tr>\n",
       "    <tr>\n",
       "      <th>119998</th>\n",
       "      <td>11292</td>\n",
       "      <td>Denver, CO</td>\n",
       "    </tr>\n",
       "    <tr>\n",
       "      <th>119999</th>\n",
       "      <td>13930</td>\n",
       "      <td>Chicago, IL</td>\n",
       "    </tr>\n",
       "  </tbody>\n",
       "</table>\n",
       "<p>120000 rows × 2 columns</p>\n",
       "</div>"
      ],
      "text/plain": [
       "        DEST_AIRPORT_ID         DEST_CITY_NAME\n",
       "0                 10693          Nashville, TN\n",
       "1                 13487        Minneapolis, MN\n",
       "2                 15304              Tampa, FL\n",
       "3                 13796            Oakland, CA\n",
       "4                 12264         Washington, DC\n",
       "5                 14771      San Francisco, CA\n",
       "6                 10397            Atlanta, GA\n",
       "7                 14307         Providence, RI\n",
       "8                 14908          Santa Ana, CA\n",
       "9                 14747            Seattle, WA\n",
       "10                14262       Palm Springs, CA\n",
       "11                12448  Jackson/Vicksburg, MS\n",
       "12                14771      San Francisco, CA\n",
       "13                14698    San Luis Obispo, CA\n",
       "14                14771      San Francisco, CA\n",
       "15                12191            Houston, TX\n",
       "16                11292             Denver, CO\n",
       "17                14893         Sacramento, CA\n",
       "18                11057          Charlotte, NC\n",
       "19                13930            Chicago, IL\n",
       "20                10279           Amarillo, TX\n",
       "21                12892        Los Angeles, CA\n",
       "22                11057          Charlotte, NC\n",
       "23                14771      San Francisco, CA\n",
       "24                13930            Chicago, IL\n",
       "25                13232            Chicago, IL\n",
       "26                13796            Oakland, CA\n",
       "27                14843           San Juan, PR\n",
       "28                11278         Washington, DC\n",
       "29                11292             Denver, CO\n",
       "...                 ...                    ...\n",
       "119970            14747            Seattle, WA\n",
       "119971            11618             Newark, NJ\n",
       "119972            13796            Oakland, CA\n",
       "119973            12264         Washington, DC\n",
       "119974            12892        Los Angeles, CA\n",
       "119975            12889          Las Vegas, NV\n",
       "119976            14524           Richmond, VA\n",
       "119977            11697    Fort Lauderdale, FL\n",
       "119978            10397            Atlanta, GA\n",
       "119979            12478           New York, NY\n",
       "119980            12954         Long Beach, CA\n",
       "119981            12953           New York, NY\n",
       "119982            14100       Philadelphia, PA\n",
       "119983            11433            Detroit, MI\n",
       "119984            13796            Oakland, CA\n",
       "119985            13377             Monroe, LA\n",
       "119986            11057          Charlotte, NC\n",
       "119987            13487        Minneapolis, MN\n",
       "119988            14747            Seattle, WA\n",
       "119989            11433            Detroit, MI\n",
       "119990            12889          Las Vegas, NV\n",
       "119991            10397            Atlanta, GA\n",
       "119992            11057          Charlotte, NC\n",
       "119993            10721             Boston, MA\n",
       "119994            13232            Chicago, IL\n",
       "119995            11057          Charlotte, NC\n",
       "119996            13303              Miami, FL\n",
       "119997            10185         Alexandria, LA\n",
       "119998            11292             Denver, CO\n",
       "119999            13930            Chicago, IL\n",
       "\n",
       "[120000 rows x 2 columns]"
      ]
     },
     "execution_count": 68,
     "metadata": {},
     "output_type": "execute_result"
    }
   ],
   "source": [
    "merged[['DEST_AIRPORT_ID', 'DEST_CITY_NAME']]"
   ]
  },
  {
   "cell_type": "markdown",
   "metadata": {},
   "source": [
    "### ADDING IN COORDINATES\n",
    "I know that I want to use latitude and longitude coordinates to each airport (as well as the airport name), so I imported another dataset from the USDOT and merged them together."
   ]
  },
  {
   "cell_type": "code",
   "execution_count": 77,
   "metadata": {
    "collapsed": false
   },
   "outputs": [
    {
     "data": {
      "text/html": [
       "<div>\n",
       "<table border=\"1\" class=\"dataframe\">\n",
       "  <thead>\n",
       "    <tr style=\"text-align: right;\">\n",
       "      <th></th>\n",
       "      <th>AIRPORT_ID</th>\n",
       "      <th>AIRPORT</th>\n",
       "      <th>DISPLAY_AIRPORT_NAME</th>\n",
       "      <th>DISPLAY_AIRPORT_CITY_NAME_FULL</th>\n",
       "      <th>AIRPORT_COUNTRY_CODE_ISO</th>\n",
       "      <th>CITY_MARKET_ID</th>\n",
       "      <th>DISPLAY_CITY_MARKET_NAME_FULL</th>\n",
       "      <th>LAT_DEGREES</th>\n",
       "      <th>LATITUDE</th>\n",
       "      <th>LON_DEGREES</th>\n",
       "      <th>LONGITUDE</th>\n",
       "      <th>Unnamed: 11</th>\n",
       "    </tr>\n",
       "  </thead>\n",
       "  <tbody>\n",
       "    <tr>\n",
       "      <th>0</th>\n",
       "      <td>10001</td>\n",
       "      <td>01A</td>\n",
       "      <td>Afognak Lake Airport</td>\n",
       "      <td>Afognak Lake, AK</td>\n",
       "      <td>US</td>\n",
       "      <td>30001</td>\n",
       "      <td>Afognak Lake, AK</td>\n",
       "      <td>58.0</td>\n",
       "      <td>58.109444</td>\n",
       "      <td>152.0</td>\n",
       "      <td>-152.906667</td>\n",
       "      <td>NaN</td>\n",
       "    </tr>\n",
       "    <tr>\n",
       "      <th>1</th>\n",
       "      <td>10003</td>\n",
       "      <td>03A</td>\n",
       "      <td>Bear Creek Mining Strip</td>\n",
       "      <td>Granite Mountain, AK</td>\n",
       "      <td>US</td>\n",
       "      <td>30003</td>\n",
       "      <td>Granite Mountain, AK</td>\n",
       "      <td>65.0</td>\n",
       "      <td>65.548056</td>\n",
       "      <td>161.0</td>\n",
       "      <td>-161.071667</td>\n",
       "      <td>NaN</td>\n",
       "    </tr>\n",
       "    <tr>\n",
       "      <th>2</th>\n",
       "      <td>10004</td>\n",
       "      <td>04A</td>\n",
       "      <td>Lik Mining Camp</td>\n",
       "      <td>Lik, AK</td>\n",
       "      <td>US</td>\n",
       "      <td>30004</td>\n",
       "      <td>Lik, AK</td>\n",
       "      <td>68.0</td>\n",
       "      <td>68.083333</td>\n",
       "      <td>163.0</td>\n",
       "      <td>-163.166667</td>\n",
       "      <td>NaN</td>\n",
       "    </tr>\n",
       "    <tr>\n",
       "      <th>3</th>\n",
       "      <td>10005</td>\n",
       "      <td>05A</td>\n",
       "      <td>Little Squaw Airport</td>\n",
       "      <td>Little Squaw, AK</td>\n",
       "      <td>US</td>\n",
       "      <td>30005</td>\n",
       "      <td>Little Squaw, AK</td>\n",
       "      <td>67.0</td>\n",
       "      <td>67.570000</td>\n",
       "      <td>148.0</td>\n",
       "      <td>-148.183889</td>\n",
       "      <td>NaN</td>\n",
       "    </tr>\n",
       "    <tr>\n",
       "      <th>4</th>\n",
       "      <td>10006</td>\n",
       "      <td>06A</td>\n",
       "      <td>Kizhuyak Bay</td>\n",
       "      <td>Kizhuyak, AK</td>\n",
       "      <td>US</td>\n",
       "      <td>30006</td>\n",
       "      <td>Kizhuyak, AK</td>\n",
       "      <td>57.0</td>\n",
       "      <td>57.745278</td>\n",
       "      <td>152.0</td>\n",
       "      <td>-152.882778</td>\n",
       "      <td>NaN</td>\n",
       "    </tr>\n",
       "  </tbody>\n",
       "</table>\n",
       "</div>"
      ],
      "text/plain": [
       "   AIRPORT_ID AIRPORT     DISPLAY_AIRPORT_NAME DISPLAY_AIRPORT_CITY_NAME_FULL  \\\n",
       "0       10001     01A     Afognak Lake Airport               Afognak Lake, AK   \n",
       "1       10003     03A  Bear Creek Mining Strip           Granite Mountain, AK   \n",
       "2       10004     04A          Lik Mining Camp                        Lik, AK   \n",
       "3       10005     05A     Little Squaw Airport               Little Squaw, AK   \n",
       "4       10006     06A             Kizhuyak Bay                   Kizhuyak, AK   \n",
       "\n",
       "  AIRPORT_COUNTRY_CODE_ISO  CITY_MARKET_ID DISPLAY_CITY_MARKET_NAME_FULL  \\\n",
       "0                       US           30001              Afognak Lake, AK   \n",
       "1                       US           30003          Granite Mountain, AK   \n",
       "2                       US           30004                       Lik, AK   \n",
       "3                       US           30005              Little Squaw, AK   \n",
       "4                       US           30006                  Kizhuyak, AK   \n",
       "\n",
       "   LAT_DEGREES   LATITUDE  LON_DEGREES   LONGITUDE  Unnamed: 11  \n",
       "0         58.0  58.109444        152.0 -152.906667          NaN  \n",
       "1         65.0  65.548056        161.0 -161.071667          NaN  \n",
       "2         68.0  68.083333        163.0 -163.166667          NaN  \n",
       "3         67.0  67.570000        148.0 -148.183889          NaN  \n",
       "4         57.0  57.745278        152.0 -152.882778          NaN  "
      ]
     },
     "execution_count": 77,
     "metadata": {},
     "output_type": "execute_result"
    }
   ],
   "source": [
    "locs = pd.read_csv('./Capstone_data/new_coordinates.csv')\n",
    "locs.head()"
   ]
  },
  {
   "cell_type": "code",
   "execution_count": 78,
   "metadata": {
    "collapsed": false
   },
   "outputs": [
    {
     "data": {
      "text/plain": [
       "array(['US', 'PF', 'AU', 'EG', 'DZ', 'DE', 'BR', 'DK', 'ZA', 'AE', 'VE',\n",
       "       'RU', 'WS', 'IR', 'CI', 'ET', 'SA', 'NG', 'GB', 'MX', 'GH', 'ES',\n",
       "       'CH', 'PA', 'TR', 'PG', 'YD', 'YE', 'JO', 'CO', 'ID', 'TD', 'MR',\n",
       "       'AR', 'SU', 'NO', 'IS', 'MA', 'FR', 'SE', 'GR', 'IN', 'PY', 'JP',\n",
       "       'IT', 'HN', 'CK', 'KM', 'NE', 'LY', 'NZ', 'SB', 'CY', 'KZ', 'MM',\n",
       "       'SY', 'SO', 'MG', 'NL', 'CL', 'MZ', 'BE', 'PE', nan, 'AG', 'MY',\n",
       "       'BO', 'FJ', 'PR', 'TZ', 'RO', 'AO', 'ER', 'TM', 'BS', 'SH', 'SD',\n",
       "       'UY', 'AN', 'AW', 'VU', 'CU', 'AI', 'DO', 'PH', 'BH', 'CR', 'AZ',\n",
       "       'TH', 'DD', 'CN', 'GP', 'CF', 'ZM', 'TP', 'TL', 'BM', 'SC', 'PK',\n",
       "       'NP', 'NI', 'YU', 'CS', 'RS', 'IL', 'LB', 'ZW', 'GA', 'BB', 'IQ',\n",
       "       'UZ', 'MH', 'AF', 'GM', 'BI', 'ML', 'CD', 'CM', 'MW', 'GY', 'BA',\n",
       "       'BG', 'BQ', 'HV', 'BF', 'VC', 'CZ', 'GQ', 'LK', 'SL', 'SK', 'HU',\n",
       "       'GE', 'BN', 'SN', 'IE', 'BZ', 'PL', 'CG', 'CA', 'VN', 'HT', 'GF',\n",
       "       'GT', 'CC', 'BD', 'KR', 'GN', 'TW', 'BJ', 'LR', 'GD', 'EC', 'CW',\n",
       "       'KI', 'KY', 'HR', 'DM', 'TN', 'UA', 'QA', 'PT', 'TJ', 'YT', 'UG',\n",
       "       'KE', 'VG', 'MN', 'TO', 'AM', 'MQ', 'KP', 'KG', 'BW', 'PM', 'TV',\n",
       "       'WF', 'MV', 'TC', 'NC', 'GI', 'GL', 'BY', 'AT', 'GU', 'FI', 'HK',\n",
       "       'SR', 'NR', 'NU', 'ME', 'DJ', 'SS', 'RW', 'JM', 'MD', 'KH', 'FM',\n",
       "       'LT', 'KW', 'TG', 'SI', 'LA', 'LU', 'MC', 'OM', 'MO', 'MT', 'MS',\n",
       "       'FK', 'MF', 'MU', 'LS', 'SZ', 'KN', 'IO', 'NF', 'CV', 'AS', 'MK',\n",
       "       'GW', 'BT', 'TT', 'KV', 'SG', 'LV', 'MP', 'PW', 'RE', 'SV', 'BL',\n",
       "       'VI', 'LC', 'SX', 'AL', 'EE', 'ST', 'CX'], dtype=object)"
      ]
     },
     "execution_count": 78,
     "metadata": {},
     "output_type": "execute_result"
    }
   ],
   "source": [
    "locs['AIRPORT_COUNTRY_CODE_ISO'].unique()"
   ]
  },
  {
   "cell_type": "code",
   "execution_count": 84,
   "metadata": {
    "collapsed": false
   },
   "outputs": [],
   "source": [
    "mask = locs['AIRPORT_COUNTRY_CODE_ISO'] == 'US'\n",
    "locs_sub = locs[mask][['AIRPORT_ID','DISPLAY_AIRPORT_NAME','LATITUDE','LONGITUDE']]\n",
    "loc_sub = locs_sub.groupby('AIRPORT_ID').max().reset_index()"
   ]
  },
  {
   "cell_type": "code",
   "execution_count": 95,
   "metadata": {
    "collapsed": false
   },
   "outputs": [
    {
     "data": {
      "text/plain": [
       "numpy.int64"
      ]
     },
     "execution_count": 95,
     "metadata": {},
     "output_type": "execute_result"
    }
   ],
   "source": [
    "type(merged['DEST_AIRPORT_ID'][0])"
   ]
  },
  {
   "cell_type": "code",
   "execution_count": 103,
   "metadata": {
    "collapsed": true
   },
   "outputs": [],
   "source": [
    "dest_locs = loc_sub\n",
    "dest_locs.columns = ['DEST_AIRPORT_ID','DEST_AIRPORT_NAME','DEST_LATITUDE','DEST_LONGITUDE']"
   ]
  },
  {
   "cell_type": "code",
   "execution_count": 104,
   "metadata": {
    "collapsed": false
   },
   "outputs": [
    {
     "data": {
      "text/html": [
       "<div>\n",
       "<table border=\"1\" class=\"dataframe\">\n",
       "  <thead>\n",
       "    <tr style=\"text-align: right;\">\n",
       "      <th></th>\n",
       "      <th>DEST_AIRPORT_ID</th>\n",
       "      <th>DEST_AIRPORT_NAME</th>\n",
       "      <th>DEST_LATITUDE</th>\n",
       "      <th>DEST_LONGITUDE</th>\n",
       "    </tr>\n",
       "  </thead>\n",
       "  <tbody>\n",
       "    <tr>\n",
       "      <th>0</th>\n",
       "      <td>10001</td>\n",
       "      <td>Afognak Lake Airport</td>\n",
       "      <td>58.109444</td>\n",
       "      <td>-152.906667</td>\n",
       "    </tr>\n",
       "    <tr>\n",
       "      <th>1</th>\n",
       "      <td>10003</td>\n",
       "      <td>Bear Creek Mining Strip</td>\n",
       "      <td>65.548056</td>\n",
       "      <td>-161.071667</td>\n",
       "    </tr>\n",
       "    <tr>\n",
       "      <th>2</th>\n",
       "      <td>10004</td>\n",
       "      <td>Lik Mining Camp</td>\n",
       "      <td>68.083333</td>\n",
       "      <td>-163.166667</td>\n",
       "    </tr>\n",
       "    <tr>\n",
       "      <th>3</th>\n",
       "      <td>10005</td>\n",
       "      <td>Little Squaw Airport</td>\n",
       "      <td>67.570000</td>\n",
       "      <td>-148.183889</td>\n",
       "    </tr>\n",
       "    <tr>\n",
       "      <th>4</th>\n",
       "      <td>10006</td>\n",
       "      <td>Kizhuyak Bay</td>\n",
       "      <td>57.745278</td>\n",
       "      <td>-152.882778</td>\n",
       "    </tr>\n",
       "  </tbody>\n",
       "</table>\n",
       "</div>"
      ],
      "text/plain": [
       "   DEST_AIRPORT_ID        DEST_AIRPORT_NAME  DEST_LATITUDE  DEST_LONGITUDE\n",
       "0            10001     Afognak Lake Airport      58.109444     -152.906667\n",
       "1            10003  Bear Creek Mining Strip      65.548056     -161.071667\n",
       "2            10004          Lik Mining Camp      68.083333     -163.166667\n",
       "3            10005     Little Squaw Airport      67.570000     -148.183889\n",
       "4            10006             Kizhuyak Bay      57.745278     -152.882778"
      ]
     },
     "execution_count": 104,
     "metadata": {},
     "output_type": "execute_result"
    }
   ],
   "source": [
    "dest_locs.head()"
   ]
  },
  {
   "cell_type": "code",
   "execution_count": 105,
   "metadata": {
    "collapsed": false
   },
   "outputs": [
    {
     "data": {
      "text/html": [
       "<div>\n",
       "<table border=\"1\" class=\"dataframe\">\n",
       "  <thead>\n",
       "    <tr style=\"text-align: right;\">\n",
       "      <th></th>\n",
       "      <th>YEAR</th>\n",
       "      <th>MONTH</th>\n",
       "      <th>DAY_OF_MONTH</th>\n",
       "      <th>DAY_OF_WEEK</th>\n",
       "      <th>FL_DATE</th>\n",
       "      <th>UNIQUE_CARRIER</th>\n",
       "      <th>AIRLINE_ID</th>\n",
       "      <th>CARRIER</th>\n",
       "      <th>TAIL_NUM</th>\n",
       "      <th>ORIGIN_AIRPORT_ID</th>\n",
       "      <th>...</th>\n",
       "      <th>NAS_DELAY</th>\n",
       "      <th>SECURITY_DELAY</th>\n",
       "      <th>LATE_AIRCRAFT_DELAY</th>\n",
       "      <th>FIRST_DEP_TIME</th>\n",
       "      <th>TOTAL_ADD_GTIME</th>\n",
       "      <th>LONGEST_ADD_GTIME</th>\n",
       "      <th>Unnamed: 57</th>\n",
       "      <th>DEST_AIRPORT_NAME</th>\n",
       "      <th>DEST_LATITUDE</th>\n",
       "      <th>DEST_LONGITUDE</th>\n",
       "    </tr>\n",
       "  </thead>\n",
       "  <tbody>\n",
       "    <tr>\n",
       "      <th>0</th>\n",
       "      <td>2015</td>\n",
       "      <td>1</td>\n",
       "      <td>23</td>\n",
       "      <td>5</td>\n",
       "      <td>2015-01-23</td>\n",
       "      <td>OO</td>\n",
       "      <td>20304</td>\n",
       "      <td>OO</td>\n",
       "      <td>N751SK</td>\n",
       "      <td>13930</td>\n",
       "      <td>...</td>\n",
       "      <td>NaN</td>\n",
       "      <td>NaN</td>\n",
       "      <td>NaN</td>\n",
       "      <td>NaN</td>\n",
       "      <td>NaN</td>\n",
       "      <td>NaN</td>\n",
       "      <td>NaN</td>\n",
       "      <td>Nashville International</td>\n",
       "      <td>36.126667</td>\n",
       "      <td>-86.678056</td>\n",
       "    </tr>\n",
       "    <tr>\n",
       "      <th>1</th>\n",
       "      <td>2015</td>\n",
       "      <td>1</td>\n",
       "      <td>24</td>\n",
       "      <td>6</td>\n",
       "      <td>2015-01-24</td>\n",
       "      <td>AA</td>\n",
       "      <td>19805</td>\n",
       "      <td>AA</td>\n",
       "      <td>N481AA</td>\n",
       "      <td>13930</td>\n",
       "      <td>...</td>\n",
       "      <td>NaN</td>\n",
       "      <td>NaN</td>\n",
       "      <td>NaN</td>\n",
       "      <td>NaN</td>\n",
       "      <td>NaN</td>\n",
       "      <td>NaN</td>\n",
       "      <td>NaN</td>\n",
       "      <td>Minneapolis-St Paul International</td>\n",
       "      <td>44.886111</td>\n",
       "      <td>-93.217778</td>\n",
       "    </tr>\n",
       "    <tr>\n",
       "      <th>2</th>\n",
       "      <td>2015</td>\n",
       "      <td>1</td>\n",
       "      <td>17</td>\n",
       "      <td>6</td>\n",
       "      <td>2015-01-17</td>\n",
       "      <td>WN</td>\n",
       "      <td>19393</td>\n",
       "      <td>WN</td>\n",
       "      <td>N482WN</td>\n",
       "      <td>12191</td>\n",
       "      <td>...</td>\n",
       "      <td>NaN</td>\n",
       "      <td>NaN</td>\n",
       "      <td>NaN</td>\n",
       "      <td>NaN</td>\n",
       "      <td>NaN</td>\n",
       "      <td>NaN</td>\n",
       "      <td>NaN</td>\n",
       "      <td>Tampa International</td>\n",
       "      <td>27.975556</td>\n",
       "      <td>-82.533333</td>\n",
       "    </tr>\n",
       "    <tr>\n",
       "      <th>3</th>\n",
       "      <td>2015</td>\n",
       "      <td>1</td>\n",
       "      <td>16</td>\n",
       "      <td>5</td>\n",
       "      <td>2015-01-16</td>\n",
       "      <td>OO</td>\n",
       "      <td>20304</td>\n",
       "      <td>OO</td>\n",
       "      <td>N824SK</td>\n",
       "      <td>12892</td>\n",
       "      <td>...</td>\n",
       "      <td>NaN</td>\n",
       "      <td>NaN</td>\n",
       "      <td>NaN</td>\n",
       "      <td>NaN</td>\n",
       "      <td>NaN</td>\n",
       "      <td>NaN</td>\n",
       "      <td>NaN</td>\n",
       "      <td>Metropolitan Oakland International</td>\n",
       "      <td>37.722778</td>\n",
       "      <td>-122.220833</td>\n",
       "    </tr>\n",
       "    <tr>\n",
       "      <th>4</th>\n",
       "      <td>2015</td>\n",
       "      <td>1</td>\n",
       "      <td>12</td>\n",
       "      <td>1</td>\n",
       "      <td>2015-01-12</td>\n",
       "      <td>UA</td>\n",
       "      <td>19977</td>\n",
       "      <td>UA</td>\n",
       "      <td>N87527</td>\n",
       "      <td>11292</td>\n",
       "      <td>...</td>\n",
       "      <td>16.0</td>\n",
       "      <td>0.0</td>\n",
       "      <td>0.0</td>\n",
       "      <td>NaN</td>\n",
       "      <td>NaN</td>\n",
       "      <td>NaN</td>\n",
       "      <td>NaN</td>\n",
       "      <td>Washington Dulles International</td>\n",
       "      <td>38.947500</td>\n",
       "      <td>-77.457500</td>\n",
       "    </tr>\n",
       "  </tbody>\n",
       "</table>\n",
       "<p>5 rows × 61 columns</p>\n",
       "</div>"
      ],
      "text/plain": [
       "   YEAR  MONTH  DAY_OF_MONTH  DAY_OF_WEEK     FL_DATE UNIQUE_CARRIER  \\\n",
       "0  2015      1            23            5  2015-01-23             OO   \n",
       "1  2015      1            24            6  2015-01-24             AA   \n",
       "2  2015      1            17            6  2015-01-17             WN   \n",
       "3  2015      1            16            5  2015-01-16             OO   \n",
       "4  2015      1            12            1  2015-01-12             UA   \n",
       "\n",
       "   AIRLINE_ID CARRIER TAIL_NUM  ORIGIN_AIRPORT_ID      ...        NAS_DELAY  \\\n",
       "0       20304      OO   N751SK              13930      ...              NaN   \n",
       "1       19805      AA   N481AA              13930      ...              NaN   \n",
       "2       19393      WN   N482WN              12191      ...              NaN   \n",
       "3       20304      OO   N824SK              12892      ...              NaN   \n",
       "4       19977      UA   N87527              11292      ...             16.0   \n",
       "\n",
       "   SECURITY_DELAY LATE_AIRCRAFT_DELAY FIRST_DEP_TIME TOTAL_ADD_GTIME  \\\n",
       "0             NaN                 NaN            NaN             NaN   \n",
       "1             NaN                 NaN            NaN             NaN   \n",
       "2             NaN                 NaN            NaN             NaN   \n",
       "3             NaN                 NaN            NaN             NaN   \n",
       "4             0.0                 0.0            NaN             NaN   \n",
       "\n",
       "  LONGEST_ADD_GTIME  Unnamed: 57                   DEST_AIRPORT_NAME  \\\n",
       "0               NaN          NaN             Nashville International   \n",
       "1               NaN          NaN   Minneapolis-St Paul International   \n",
       "2               NaN          NaN                 Tampa International   \n",
       "3               NaN          NaN  Metropolitan Oakland International   \n",
       "4               NaN          NaN     Washington Dulles International   \n",
       "\n",
       "   DEST_LATITUDE DEST_LONGITUDE  \n",
       "0      36.126667     -86.678056  \n",
       "1      44.886111     -93.217778  \n",
       "2      27.975556     -82.533333  \n",
       "3      37.722778    -122.220833  \n",
       "4      38.947500     -77.457500  \n",
       "\n",
       "[5 rows x 61 columns]"
      ]
     },
     "execution_count": 105,
     "metadata": {},
     "output_type": "execute_result"
    }
   ],
   "source": [
    "merged_dest = pd.merge(merged, dest_locs, on='DEST_AIRPORT_ID',how='left')\n",
    "merged_dest.head()"
   ]
  },
  {
   "cell_type": "code",
   "execution_count": 108,
   "metadata": {
    "collapsed": true
   },
   "outputs": [],
   "source": [
    "origin_locs = loc_sub\n",
    "origin_locs.columns = ['ORIGIN_AIRPORT_ID','ORIGIN_AIRPORT_NAME','ORIGIN_LATITUDE','ORIGIN_LONGITUDE']"
   ]
  },
  {
   "cell_type": "code",
   "execution_count": 109,
   "metadata": {
    "collapsed": false
   },
   "outputs": [
    {
     "data": {
      "text/html": [
       "<div>\n",
       "<table border=\"1\" class=\"dataframe\">\n",
       "  <thead>\n",
       "    <tr style=\"text-align: right;\">\n",
       "      <th></th>\n",
       "      <th>YEAR</th>\n",
       "      <th>MONTH</th>\n",
       "      <th>DAY_OF_MONTH</th>\n",
       "      <th>DAY_OF_WEEK</th>\n",
       "      <th>FL_DATE</th>\n",
       "      <th>UNIQUE_CARRIER</th>\n",
       "      <th>AIRLINE_ID</th>\n",
       "      <th>CARRIER</th>\n",
       "      <th>TAIL_NUM</th>\n",
       "      <th>ORIGIN_AIRPORT_ID</th>\n",
       "      <th>...</th>\n",
       "      <th>FIRST_DEP_TIME</th>\n",
       "      <th>TOTAL_ADD_GTIME</th>\n",
       "      <th>LONGEST_ADD_GTIME</th>\n",
       "      <th>Unnamed: 57</th>\n",
       "      <th>DEST_AIRPORT_NAME</th>\n",
       "      <th>DEST_LATITUDE</th>\n",
       "      <th>DEST_LONGITUDE</th>\n",
       "      <th>ORIGIN_AIRPORT_NAME</th>\n",
       "      <th>ORIGIN_LATITUDE</th>\n",
       "      <th>ORIGIN_LONGITUDE</th>\n",
       "    </tr>\n",
       "  </thead>\n",
       "  <tbody>\n",
       "    <tr>\n",
       "      <th>0</th>\n",
       "      <td>2015</td>\n",
       "      <td>1</td>\n",
       "      <td>23</td>\n",
       "      <td>5</td>\n",
       "      <td>2015-01-23</td>\n",
       "      <td>OO</td>\n",
       "      <td>20304</td>\n",
       "      <td>OO</td>\n",
       "      <td>N751SK</td>\n",
       "      <td>13930</td>\n",
       "      <td>...</td>\n",
       "      <td>NaN</td>\n",
       "      <td>NaN</td>\n",
       "      <td>NaN</td>\n",
       "      <td>NaN</td>\n",
       "      <td>Nashville International</td>\n",
       "      <td>36.126667</td>\n",
       "      <td>-86.678056</td>\n",
       "      <td>Chicago O'Hare International</td>\n",
       "      <td>41.981667</td>\n",
       "      <td>-87.906111</td>\n",
       "    </tr>\n",
       "    <tr>\n",
       "      <th>1</th>\n",
       "      <td>2015</td>\n",
       "      <td>1</td>\n",
       "      <td>24</td>\n",
       "      <td>6</td>\n",
       "      <td>2015-01-24</td>\n",
       "      <td>AA</td>\n",
       "      <td>19805</td>\n",
       "      <td>AA</td>\n",
       "      <td>N481AA</td>\n",
       "      <td>13930</td>\n",
       "      <td>...</td>\n",
       "      <td>NaN</td>\n",
       "      <td>NaN</td>\n",
       "      <td>NaN</td>\n",
       "      <td>NaN</td>\n",
       "      <td>Minneapolis-St Paul International</td>\n",
       "      <td>44.886111</td>\n",
       "      <td>-93.217778</td>\n",
       "      <td>Chicago O'Hare International</td>\n",
       "      <td>41.981667</td>\n",
       "      <td>-87.906111</td>\n",
       "    </tr>\n",
       "    <tr>\n",
       "      <th>2</th>\n",
       "      <td>2015</td>\n",
       "      <td>1</td>\n",
       "      <td>17</td>\n",
       "      <td>6</td>\n",
       "      <td>2015-01-17</td>\n",
       "      <td>WN</td>\n",
       "      <td>19393</td>\n",
       "      <td>WN</td>\n",
       "      <td>N482WN</td>\n",
       "      <td>12191</td>\n",
       "      <td>...</td>\n",
       "      <td>NaN</td>\n",
       "      <td>NaN</td>\n",
       "      <td>NaN</td>\n",
       "      <td>NaN</td>\n",
       "      <td>Tampa International</td>\n",
       "      <td>27.975556</td>\n",
       "      <td>-82.533333</td>\n",
       "      <td>William P Hobby</td>\n",
       "      <td>29.645556</td>\n",
       "      <td>-95.278611</td>\n",
       "    </tr>\n",
       "    <tr>\n",
       "      <th>3</th>\n",
       "      <td>2015</td>\n",
       "      <td>1</td>\n",
       "      <td>16</td>\n",
       "      <td>5</td>\n",
       "      <td>2015-01-16</td>\n",
       "      <td>OO</td>\n",
       "      <td>20304</td>\n",
       "      <td>OO</td>\n",
       "      <td>N824SK</td>\n",
       "      <td>12892</td>\n",
       "      <td>...</td>\n",
       "      <td>NaN</td>\n",
       "      <td>NaN</td>\n",
       "      <td>NaN</td>\n",
       "      <td>NaN</td>\n",
       "      <td>Metropolitan Oakland International</td>\n",
       "      <td>37.722778</td>\n",
       "      <td>-122.220833</td>\n",
       "      <td>Los Angeles International</td>\n",
       "      <td>33.942500</td>\n",
       "      <td>-118.407222</td>\n",
       "    </tr>\n",
       "    <tr>\n",
       "      <th>4</th>\n",
       "      <td>2015</td>\n",
       "      <td>1</td>\n",
       "      <td>12</td>\n",
       "      <td>1</td>\n",
       "      <td>2015-01-12</td>\n",
       "      <td>UA</td>\n",
       "      <td>19977</td>\n",
       "      <td>UA</td>\n",
       "      <td>N87527</td>\n",
       "      <td>11292</td>\n",
       "      <td>...</td>\n",
       "      <td>NaN</td>\n",
       "      <td>NaN</td>\n",
       "      <td>NaN</td>\n",
       "      <td>NaN</td>\n",
       "      <td>Washington Dulles International</td>\n",
       "      <td>38.947500</td>\n",
       "      <td>-77.457500</td>\n",
       "      <td>Stapleton International</td>\n",
       "      <td>39.861667</td>\n",
       "      <td>-104.673056</td>\n",
       "    </tr>\n",
       "  </tbody>\n",
       "</table>\n",
       "<p>5 rows × 64 columns</p>\n",
       "</div>"
      ],
      "text/plain": [
       "   YEAR  MONTH  DAY_OF_MONTH  DAY_OF_WEEK     FL_DATE UNIQUE_CARRIER  \\\n",
       "0  2015      1            23            5  2015-01-23             OO   \n",
       "1  2015      1            24            6  2015-01-24             AA   \n",
       "2  2015      1            17            6  2015-01-17             WN   \n",
       "3  2015      1            16            5  2015-01-16             OO   \n",
       "4  2015      1            12            1  2015-01-12             UA   \n",
       "\n",
       "   AIRLINE_ID CARRIER TAIL_NUM  ORIGIN_AIRPORT_ID       ...         \\\n",
       "0       20304      OO   N751SK              13930       ...          \n",
       "1       19805      AA   N481AA              13930       ...          \n",
       "2       19393      WN   N482WN              12191       ...          \n",
       "3       20304      OO   N824SK              12892       ...          \n",
       "4       19977      UA   N87527              11292       ...          \n",
       "\n",
       "   FIRST_DEP_TIME  TOTAL_ADD_GTIME LONGEST_ADD_GTIME Unnamed: 57  \\\n",
       "0             NaN              NaN               NaN         NaN   \n",
       "1             NaN              NaN               NaN         NaN   \n",
       "2             NaN              NaN               NaN         NaN   \n",
       "3             NaN              NaN               NaN         NaN   \n",
       "4             NaN              NaN               NaN         NaN   \n",
       "\n",
       "                    DEST_AIRPORT_NAME DEST_LATITUDE  DEST_LONGITUDE  \\\n",
       "0             Nashville International     36.126667      -86.678056   \n",
       "1   Minneapolis-St Paul International     44.886111      -93.217778   \n",
       "2                 Tampa International     27.975556      -82.533333   \n",
       "3  Metropolitan Oakland International     37.722778     -122.220833   \n",
       "4     Washington Dulles International     38.947500      -77.457500   \n",
       "\n",
       "            ORIGIN_AIRPORT_NAME  ORIGIN_LATITUDE ORIGIN_LONGITUDE  \n",
       "0  Chicago O'Hare International        41.981667       -87.906111  \n",
       "1  Chicago O'Hare International        41.981667       -87.906111  \n",
       "2               William P Hobby        29.645556       -95.278611  \n",
       "3     Los Angeles International        33.942500      -118.407222  \n",
       "4       Stapleton International        39.861667      -104.673056  \n",
       "\n",
       "[5 rows x 64 columns]"
      ]
     },
     "execution_count": 109,
     "metadata": {},
     "output_type": "execute_result"
    }
   ],
   "source": [
    "merged_subs = pd.merge(merged_dest, origin_locs, on='ORIGIN_AIRPORT_ID',how='left')\n",
    "merged_subs.head()"
   ]
  },
  {
   "cell_type": "code",
   "execution_count": 110,
   "metadata": {
    "collapsed": false
   },
   "outputs": [
    {
     "data": {
      "text/plain": [
       "(120000, 64)"
      ]
     },
     "execution_count": 110,
     "metadata": {},
     "output_type": "execute_result"
    }
   ],
   "source": [
    "merged_subs.shape"
   ]
  },
  {
   "cell_type": "code",
   "execution_count": 111,
   "metadata": {
    "collapsed": false
   },
   "outputs": [
    {
     "data": {
      "text/plain": [
       "array([ -1.,  13.,   0., ..., -10.,  -5.,  -4.])"
      ]
     },
     "execution_count": 111,
     "metadata": {},
     "output_type": "execute_result"
    }
   ],
   "source": [
    "merged_subs['DEP_DELAY'].values"
   ]
  },
  {
   "cell_type": "code",
   "execution_count": 112,
   "metadata": {
    "collapsed": true
   },
   "outputs": [],
   "source": [
    "hello  = merged_subs[['MONTH','DEP_DELAY']]"
   ]
  },
  {
   "cell_type": "code",
   "execution_count": 113,
   "metadata": {
    "collapsed": false
   },
   "outputs": [
    {
     "data": {
      "text/html": [
       "<div>\n",
       "<table border=\"1\" class=\"dataframe\">\n",
       "  <thead>\n",
       "    <tr style=\"text-align: right;\">\n",
       "      <th></th>\n",
       "      <th>DEP_DELAY</th>\n",
       "    </tr>\n",
       "    <tr>\n",
       "      <th>MONTH</th>\n",
       "      <th></th>\n",
       "    </tr>\n",
       "  </thead>\n",
       "  <tbody>\n",
       "    <tr>\n",
       "      <th>1</th>\n",
       "      <td>9.826399</td>\n",
       "    </tr>\n",
       "    <tr>\n",
       "      <th>2</th>\n",
       "      <td>11.611292</td>\n",
       "    </tr>\n",
       "    <tr>\n",
       "      <th>3</th>\n",
       "      <td>9.168558</td>\n",
       "    </tr>\n",
       "    <tr>\n",
       "      <th>4</th>\n",
       "      <td>7.891706</td>\n",
       "    </tr>\n",
       "    <tr>\n",
       "      <th>5</th>\n",
       "      <td>9.766555</td>\n",
       "    </tr>\n",
       "    <tr>\n",
       "      <th>6</th>\n",
       "      <td>13.528160</td>\n",
       "    </tr>\n",
       "    <tr>\n",
       "      <th>7</th>\n",
       "      <td>11.928219</td>\n",
       "    </tr>\n",
       "    <tr>\n",
       "      <th>8</th>\n",
       "      <td>9.631133</td>\n",
       "    </tr>\n",
       "    <tr>\n",
       "      <th>9</th>\n",
       "      <td>4.902189</td>\n",
       "    </tr>\n",
       "    <tr>\n",
       "      <th>10</th>\n",
       "      <td>4.781335</td>\n",
       "    </tr>\n",
       "    <tr>\n",
       "      <th>11</th>\n",
       "      <td>7.364398</td>\n",
       "    </tr>\n",
       "    <tr>\n",
       "      <th>12</th>\n",
       "      <td>11.616668</td>\n",
       "    </tr>\n",
       "  </tbody>\n",
       "</table>\n",
       "</div>"
      ],
      "text/plain": [
       "       DEP_DELAY\n",
       "MONTH           \n",
       "1       9.826399\n",
       "2      11.611292\n",
       "3       9.168558\n",
       "4       7.891706\n",
       "5       9.766555\n",
       "6      13.528160\n",
       "7      11.928219\n",
       "8       9.631133\n",
       "9       4.902189\n",
       "10      4.781335\n",
       "11      7.364398\n",
       "12     11.616668"
      ]
     },
     "execution_count": 113,
     "metadata": {},
     "output_type": "execute_result"
    }
   ],
   "source": [
    "hello.groupby('MONTH').mean()"
   ]
  },
  {
   "cell_type": "code",
   "execution_count": 114,
   "metadata": {
    "collapsed": false
   },
   "outputs": [
    {
     "name": "stdout",
     "output_type": "stream",
     "text": [
      "MONTH         6.340427\n",
      "DEP_DELAY    32.752930\n",
      "dtype: float64\n",
      "MONTH        6.590770\n",
      "DEP_DELAY   -4.344513\n",
      "dtype: float64\n"
     ]
    }
   ],
   "source": [
    "mask = hello['DEP_DELAY'] > 0\n",
    "print hello[mask].mean()\n",
    "print hello[~mask].mean()"
   ]
  },
  {
   "cell_type": "code",
   "execution_count": 115,
   "metadata": {
    "collapsed": false
   },
   "outputs": [
    {
     "data": {
      "text/html": [
       "<div>\n",
       "<table border=\"1\" class=\"dataframe\">\n",
       "  <thead>\n",
       "    <tr style=\"text-align: right;\">\n",
       "      <th></th>\n",
       "      <th>YEAR</th>\n",
       "      <th>MONTH</th>\n",
       "      <th>DAY_OF_MONTH</th>\n",
       "      <th>DAY_OF_WEEK</th>\n",
       "      <th>FL_DATE</th>\n",
       "      <th>UNIQUE_CARRIER</th>\n",
       "      <th>AIRLINE_ID</th>\n",
       "      <th>CARRIER</th>\n",
       "      <th>TAIL_NUM</th>\n",
       "      <th>ORIGIN_AIRPORT_ID</th>\n",
       "      <th>...</th>\n",
       "      <th>TOTAL_ADD_GTIME</th>\n",
       "      <th>LONGEST_ADD_GTIME</th>\n",
       "      <th>Unnamed: 57</th>\n",
       "      <th>DEST_AIRPORT_NAME</th>\n",
       "      <th>DEST_LATITUDE</th>\n",
       "      <th>DEST_LONGITUDE</th>\n",
       "      <th>ORIGIN_AIRPORT_NAME</th>\n",
       "      <th>ORIGIN_LATITUDE</th>\n",
       "      <th>ORIGIN_LONGITUDE</th>\n",
       "      <th>Dep_Delay_Binary</th>\n",
       "    </tr>\n",
       "  </thead>\n",
       "  <tbody>\n",
       "    <tr>\n",
       "      <th>0</th>\n",
       "      <td>2015</td>\n",
       "      <td>1</td>\n",
       "      <td>23</td>\n",
       "      <td>5</td>\n",
       "      <td>2015-01-23</td>\n",
       "      <td>OO</td>\n",
       "      <td>20304</td>\n",
       "      <td>OO</td>\n",
       "      <td>N751SK</td>\n",
       "      <td>13930</td>\n",
       "      <td>...</td>\n",
       "      <td>NaN</td>\n",
       "      <td>NaN</td>\n",
       "      <td>NaN</td>\n",
       "      <td>Nashville International</td>\n",
       "      <td>36.126667</td>\n",
       "      <td>-86.678056</td>\n",
       "      <td>Chicago O'Hare International</td>\n",
       "      <td>41.981667</td>\n",
       "      <td>-87.906111</td>\n",
       "      <td>0</td>\n",
       "    </tr>\n",
       "    <tr>\n",
       "      <th>1</th>\n",
       "      <td>2015</td>\n",
       "      <td>1</td>\n",
       "      <td>24</td>\n",
       "      <td>6</td>\n",
       "      <td>2015-01-24</td>\n",
       "      <td>AA</td>\n",
       "      <td>19805</td>\n",
       "      <td>AA</td>\n",
       "      <td>N481AA</td>\n",
       "      <td>13930</td>\n",
       "      <td>...</td>\n",
       "      <td>NaN</td>\n",
       "      <td>NaN</td>\n",
       "      <td>NaN</td>\n",
       "      <td>Minneapolis-St Paul International</td>\n",
       "      <td>44.886111</td>\n",
       "      <td>-93.217778</td>\n",
       "      <td>Chicago O'Hare International</td>\n",
       "      <td>41.981667</td>\n",
       "      <td>-87.906111</td>\n",
       "      <td>1</td>\n",
       "    </tr>\n",
       "    <tr>\n",
       "      <th>2</th>\n",
       "      <td>2015</td>\n",
       "      <td>1</td>\n",
       "      <td>17</td>\n",
       "      <td>6</td>\n",
       "      <td>2015-01-17</td>\n",
       "      <td>WN</td>\n",
       "      <td>19393</td>\n",
       "      <td>WN</td>\n",
       "      <td>N482WN</td>\n",
       "      <td>12191</td>\n",
       "      <td>...</td>\n",
       "      <td>NaN</td>\n",
       "      <td>NaN</td>\n",
       "      <td>NaN</td>\n",
       "      <td>Tampa International</td>\n",
       "      <td>27.975556</td>\n",
       "      <td>-82.533333</td>\n",
       "      <td>William P Hobby</td>\n",
       "      <td>29.645556</td>\n",
       "      <td>-95.278611</td>\n",
       "      <td>0</td>\n",
       "    </tr>\n",
       "    <tr>\n",
       "      <th>3</th>\n",
       "      <td>2015</td>\n",
       "      <td>1</td>\n",
       "      <td>16</td>\n",
       "      <td>5</td>\n",
       "      <td>2015-01-16</td>\n",
       "      <td>OO</td>\n",
       "      <td>20304</td>\n",
       "      <td>OO</td>\n",
       "      <td>N824SK</td>\n",
       "      <td>12892</td>\n",
       "      <td>...</td>\n",
       "      <td>NaN</td>\n",
       "      <td>NaN</td>\n",
       "      <td>NaN</td>\n",
       "      <td>Metropolitan Oakland International</td>\n",
       "      <td>37.722778</td>\n",
       "      <td>-122.220833</td>\n",
       "      <td>Los Angeles International</td>\n",
       "      <td>33.942500</td>\n",
       "      <td>-118.407222</td>\n",
       "      <td>1</td>\n",
       "    </tr>\n",
       "    <tr>\n",
       "      <th>4</th>\n",
       "      <td>2015</td>\n",
       "      <td>1</td>\n",
       "      <td>12</td>\n",
       "      <td>1</td>\n",
       "      <td>2015-01-12</td>\n",
       "      <td>UA</td>\n",
       "      <td>19977</td>\n",
       "      <td>UA</td>\n",
       "      <td>N87527</td>\n",
       "      <td>11292</td>\n",
       "      <td>...</td>\n",
       "      <td>NaN</td>\n",
       "      <td>NaN</td>\n",
       "      <td>NaN</td>\n",
       "      <td>Washington Dulles International</td>\n",
       "      <td>38.947500</td>\n",
       "      <td>-77.457500</td>\n",
       "      <td>Stapleton International</td>\n",
       "      <td>39.861667</td>\n",
       "      <td>-104.673056</td>\n",
       "      <td>1</td>\n",
       "    </tr>\n",
       "  </tbody>\n",
       "</table>\n",
       "<p>5 rows × 65 columns</p>\n",
       "</div>"
      ],
      "text/plain": [
       "   YEAR  MONTH  DAY_OF_MONTH  DAY_OF_WEEK     FL_DATE UNIQUE_CARRIER  \\\n",
       "0  2015      1            23            5  2015-01-23             OO   \n",
       "1  2015      1            24            6  2015-01-24             AA   \n",
       "2  2015      1            17            6  2015-01-17             WN   \n",
       "3  2015      1            16            5  2015-01-16             OO   \n",
       "4  2015      1            12            1  2015-01-12             UA   \n",
       "\n",
       "   AIRLINE_ID CARRIER TAIL_NUM  ORIGIN_AIRPORT_ID       ...         \\\n",
       "0       20304      OO   N751SK              13930       ...          \n",
       "1       19805      AA   N481AA              13930       ...          \n",
       "2       19393      WN   N482WN              12191       ...          \n",
       "3       20304      OO   N824SK              12892       ...          \n",
       "4       19977      UA   N87527              11292       ...          \n",
       "\n",
       "   TOTAL_ADD_GTIME  LONGEST_ADD_GTIME Unnamed: 57  \\\n",
       "0              NaN                NaN         NaN   \n",
       "1              NaN                NaN         NaN   \n",
       "2              NaN                NaN         NaN   \n",
       "3              NaN                NaN         NaN   \n",
       "4              NaN                NaN         NaN   \n",
       "\n",
       "                    DEST_AIRPORT_NAME DEST_LATITUDE DEST_LONGITUDE  \\\n",
       "0             Nashville International     36.126667     -86.678056   \n",
       "1   Minneapolis-St Paul International     44.886111     -93.217778   \n",
       "2                 Tampa International     27.975556     -82.533333   \n",
       "3  Metropolitan Oakland International     37.722778    -122.220833   \n",
       "4     Washington Dulles International     38.947500     -77.457500   \n",
       "\n",
       "            ORIGIN_AIRPORT_NAME  ORIGIN_LATITUDE  ORIGIN_LONGITUDE  \\\n",
       "0  Chicago O'Hare International        41.981667        -87.906111   \n",
       "1  Chicago O'Hare International        41.981667        -87.906111   \n",
       "2               William P Hobby        29.645556        -95.278611   \n",
       "3     Los Angeles International        33.942500       -118.407222   \n",
       "4       Stapleton International        39.861667       -104.673056   \n",
       "\n",
       "  Dep_Delay_Binary  \n",
       "0                0  \n",
       "1                1  \n",
       "2                0  \n",
       "3                1  \n",
       "4                1  \n",
       "\n",
       "[5 rows x 65 columns]"
      ]
     },
     "execution_count": 115,
     "metadata": {},
     "output_type": "execute_result"
    }
   ],
   "source": [
    "merged_subs['Dep_Delay_Binary'] = merged_subs.DEP_DELAY.map(lambda x: 1 if x > 0 else 0)\n",
    "merged_subs.head()"
   ]
  },
  {
   "cell_type": "code",
   "execution_count": 116,
   "metadata": {
    "collapsed": false
   },
   "outputs": [
    {
     "data": {
      "text/plain": [
       "Index([u'YEAR', u'MONTH', u'DAY_OF_MONTH', u'DAY_OF_WEEK', u'FL_DATE',\n",
       "       u'UNIQUE_CARRIER', u'AIRLINE_ID', u'CARRIER', u'TAIL_NUM',\n",
       "       u'ORIGIN_AIRPORT_ID', u'ORIGIN_AIRPORT_SEQ_ID',\n",
       "       u'ORIGIN_CITY_MARKET_ID', u'ORIGIN', u'ORIGIN_CITY_NAME',\n",
       "       u'ORIGIN_STATE_ABR', u'ORIGIN_STATE_NM', u'DEST_AIRPORT_ID',\n",
       "       u'DEST_AIRPORT_SEQ_ID', u'DEST_CITY_MARKET_ID', u'DEST_CITY_NAME',\n",
       "       u'DEST_STATE_ABR', u'DEST_STATE_NM', u'CRS_DEP_TIME', u'DEP_TIME',\n",
       "       u'DEP_DELAY', u'DEP_DELAY_NEW', u'DEP_DEL15', u'DEP_DELAY_GROUP',\n",
       "       u'DEP_TIME_BLK', u'TAXI_OUT', u'WHEELS_OFF', u'WHEELS_ON', u'TAXI_IN',\n",
       "       u'CRS_ARR_TIME', u'ARR_TIME', u'ARR_DELAY', u'ARR_DELAY_NEW',\n",
       "       u'ARR_DEL15', u'ARR_DELAY_GROUP', u'ARR_TIME_BLK', u'CANCELLED',\n",
       "       u'CANCELLATION_CODE', u'DIVERTED', u'CRS_ELAPSED_TIME',\n",
       "       u'ACTUAL_ELAPSED_TIME', u'AIR_TIME', u'FLIGHTS', u'DISTANCE',\n",
       "       u'DISTANCE_GROUP', u'CARRIER_DELAY', u'WEATHER_DELAY', u'NAS_DELAY',\n",
       "       u'SECURITY_DELAY', u'LATE_AIRCRAFT_DELAY', u'FIRST_DEP_TIME',\n",
       "       u'TOTAL_ADD_GTIME', u'LONGEST_ADD_GTIME', u'Unnamed: 57',\n",
       "       u'DEST_AIRPORT_NAME', u'DEST_LATITUDE', u'DEST_LONGITUDE',\n",
       "       u'ORIGIN_AIRPORT_NAME', u'ORIGIN_LATITUDE', u'ORIGIN_LONGITUDE',\n",
       "       u'Dep_Delay_Binary'],\n",
       "      dtype='object')"
      ]
     },
     "execution_count": 116,
     "metadata": {},
     "output_type": "execute_result"
    }
   ],
   "source": [
    "merged_subs.columns"
   ]
  },
  {
   "cell_type": "markdown",
   "metadata": {},
   "source": [
    "#### Finally after cleaning the data to my satisfaction, I pickled my dataset to make it easier to code in."
   ]
  },
  {
   "cell_type": "code",
   "execution_count": 117,
   "metadata": {
    "collapsed": false
   },
   "outputs": [],
   "source": [
    "merged_subs.to_pickle('./Flight_Pickle')"
   ]
  },
  {
   "cell_type": "markdown",
   "metadata": {},
   "source": [
    "## REGRESSION AND PREDICTION"
   ]
  },
  {
   "cell_type": "code",
   "execution_count": 2,
   "metadata": {
    "collapsed": false
   },
   "outputs": [],
   "source": [
    "import seaborn as sns\n",
    "import numpy as np\n",
    "import pandas as pd\n",
    "import matplotlib.pyplot as plt\n",
    "from sklearn.linear_model import LogisticRegressionCV, ElasticNetCV\n",
    "from sklearn.cross_validation import train_test_split, cross_val_score\n",
    "import patsy\n",
    "%matplotlib inline\n",
    "\n",
    "merged_subs = pd.read_pickle('./Flight_Pickle')"
   ]
  },
  {
   "cell_type": "code",
   "execution_count": 3,
   "metadata": {
    "collapsed": false
   },
   "outputs": [
    {
     "data": {
      "text/html": [
       "<div>\n",
       "<table border=\"1\" class=\"dataframe\">\n",
       "  <thead>\n",
       "    <tr style=\"text-align: right;\">\n",
       "      <th></th>\n",
       "      <th>YEAR</th>\n",
       "      <th>MONTH</th>\n",
       "      <th>DAY_OF_MONTH</th>\n",
       "      <th>DAY_OF_WEEK</th>\n",
       "      <th>FL_DATE</th>\n",
       "      <th>UNIQUE_CARRIER</th>\n",
       "      <th>AIRLINE_ID</th>\n",
       "      <th>CARRIER</th>\n",
       "      <th>TAIL_NUM</th>\n",
       "      <th>ORIGIN_AIRPORT_ID</th>\n",
       "      <th>...</th>\n",
       "      <th>TOTAL_ADD_GTIME</th>\n",
       "      <th>LONGEST_ADD_GTIME</th>\n",
       "      <th>Unnamed: 57</th>\n",
       "      <th>DEST_AIRPORT_NAME</th>\n",
       "      <th>DEST_LATITUDE</th>\n",
       "      <th>DEST_LONGITUDE</th>\n",
       "      <th>ORIGIN_AIRPORT_NAME</th>\n",
       "      <th>ORIGIN_LATITUDE</th>\n",
       "      <th>ORIGIN_LONGITUDE</th>\n",
       "      <th>Dep_Delay_Binary</th>\n",
       "    </tr>\n",
       "  </thead>\n",
       "  <tbody>\n",
       "    <tr>\n",
       "      <th>0</th>\n",
       "      <td>2015</td>\n",
       "      <td>1</td>\n",
       "      <td>23</td>\n",
       "      <td>5</td>\n",
       "      <td>2015-01-23</td>\n",
       "      <td>OO</td>\n",
       "      <td>20304</td>\n",
       "      <td>OO</td>\n",
       "      <td>N751SK</td>\n",
       "      <td>13930</td>\n",
       "      <td>...</td>\n",
       "      <td>NaN</td>\n",
       "      <td>NaN</td>\n",
       "      <td>NaN</td>\n",
       "      <td>Nashville International</td>\n",
       "      <td>36.126667</td>\n",
       "      <td>-86.678056</td>\n",
       "      <td>Chicago O'Hare International</td>\n",
       "      <td>41.981667</td>\n",
       "      <td>-87.906111</td>\n",
       "      <td>0</td>\n",
       "    </tr>\n",
       "    <tr>\n",
       "      <th>1</th>\n",
       "      <td>2015</td>\n",
       "      <td>1</td>\n",
       "      <td>24</td>\n",
       "      <td>6</td>\n",
       "      <td>2015-01-24</td>\n",
       "      <td>AA</td>\n",
       "      <td>19805</td>\n",
       "      <td>AA</td>\n",
       "      <td>N481AA</td>\n",
       "      <td>13930</td>\n",
       "      <td>...</td>\n",
       "      <td>NaN</td>\n",
       "      <td>NaN</td>\n",
       "      <td>NaN</td>\n",
       "      <td>Minneapolis-St Paul International</td>\n",
       "      <td>44.886111</td>\n",
       "      <td>-93.217778</td>\n",
       "      <td>Chicago O'Hare International</td>\n",
       "      <td>41.981667</td>\n",
       "      <td>-87.906111</td>\n",
       "      <td>1</td>\n",
       "    </tr>\n",
       "    <tr>\n",
       "      <th>2</th>\n",
       "      <td>2015</td>\n",
       "      <td>1</td>\n",
       "      <td>17</td>\n",
       "      <td>6</td>\n",
       "      <td>2015-01-17</td>\n",
       "      <td>WN</td>\n",
       "      <td>19393</td>\n",
       "      <td>WN</td>\n",
       "      <td>N482WN</td>\n",
       "      <td>12191</td>\n",
       "      <td>...</td>\n",
       "      <td>NaN</td>\n",
       "      <td>NaN</td>\n",
       "      <td>NaN</td>\n",
       "      <td>Tampa International</td>\n",
       "      <td>27.975556</td>\n",
       "      <td>-82.533333</td>\n",
       "      <td>William P Hobby</td>\n",
       "      <td>29.645556</td>\n",
       "      <td>-95.278611</td>\n",
       "      <td>0</td>\n",
       "    </tr>\n",
       "    <tr>\n",
       "      <th>3</th>\n",
       "      <td>2015</td>\n",
       "      <td>1</td>\n",
       "      <td>16</td>\n",
       "      <td>5</td>\n",
       "      <td>2015-01-16</td>\n",
       "      <td>OO</td>\n",
       "      <td>20304</td>\n",
       "      <td>OO</td>\n",
       "      <td>N824SK</td>\n",
       "      <td>12892</td>\n",
       "      <td>...</td>\n",
       "      <td>NaN</td>\n",
       "      <td>NaN</td>\n",
       "      <td>NaN</td>\n",
       "      <td>Metropolitan Oakland International</td>\n",
       "      <td>37.722778</td>\n",
       "      <td>-122.220833</td>\n",
       "      <td>Los Angeles International</td>\n",
       "      <td>33.942500</td>\n",
       "      <td>-118.407222</td>\n",
       "      <td>1</td>\n",
       "    </tr>\n",
       "    <tr>\n",
       "      <th>4</th>\n",
       "      <td>2015</td>\n",
       "      <td>1</td>\n",
       "      <td>12</td>\n",
       "      <td>1</td>\n",
       "      <td>2015-01-12</td>\n",
       "      <td>UA</td>\n",
       "      <td>19977</td>\n",
       "      <td>UA</td>\n",
       "      <td>N87527</td>\n",
       "      <td>11292</td>\n",
       "      <td>...</td>\n",
       "      <td>NaN</td>\n",
       "      <td>NaN</td>\n",
       "      <td>NaN</td>\n",
       "      <td>Washington Dulles International</td>\n",
       "      <td>38.947500</td>\n",
       "      <td>-77.457500</td>\n",
       "      <td>Stapleton International</td>\n",
       "      <td>39.861667</td>\n",
       "      <td>-104.673056</td>\n",
       "      <td>1</td>\n",
       "    </tr>\n",
       "  </tbody>\n",
       "</table>\n",
       "<p>5 rows × 65 columns</p>\n",
       "</div>"
      ],
      "text/plain": [
       "   YEAR  MONTH  DAY_OF_MONTH  DAY_OF_WEEK     FL_DATE UNIQUE_CARRIER  \\\n",
       "0  2015      1            23            5  2015-01-23             OO   \n",
       "1  2015      1            24            6  2015-01-24             AA   \n",
       "2  2015      1            17            6  2015-01-17             WN   \n",
       "3  2015      1            16            5  2015-01-16             OO   \n",
       "4  2015      1            12            1  2015-01-12             UA   \n",
       "\n",
       "   AIRLINE_ID CARRIER TAIL_NUM  ORIGIN_AIRPORT_ID       ...         \\\n",
       "0       20304      OO   N751SK              13930       ...          \n",
       "1       19805      AA   N481AA              13930       ...          \n",
       "2       19393      WN   N482WN              12191       ...          \n",
       "3       20304      OO   N824SK              12892       ...          \n",
       "4       19977      UA   N87527              11292       ...          \n",
       "\n",
       "   TOTAL_ADD_GTIME  LONGEST_ADD_GTIME Unnamed: 57  \\\n",
       "0              NaN                NaN         NaN   \n",
       "1              NaN                NaN         NaN   \n",
       "2              NaN                NaN         NaN   \n",
       "3              NaN                NaN         NaN   \n",
       "4              NaN                NaN         NaN   \n",
       "\n",
       "                    DEST_AIRPORT_NAME DEST_LATITUDE DEST_LONGITUDE  \\\n",
       "0             Nashville International     36.126667     -86.678056   \n",
       "1   Minneapolis-St Paul International     44.886111     -93.217778   \n",
       "2                 Tampa International     27.975556     -82.533333   \n",
       "3  Metropolitan Oakland International     37.722778    -122.220833   \n",
       "4     Washington Dulles International     38.947500     -77.457500   \n",
       "\n",
       "            ORIGIN_AIRPORT_NAME  ORIGIN_LATITUDE  ORIGIN_LONGITUDE  \\\n",
       "0  Chicago O'Hare International        41.981667        -87.906111   \n",
       "1  Chicago O'Hare International        41.981667        -87.906111   \n",
       "2               William P Hobby        29.645556        -95.278611   \n",
       "3     Los Angeles International        33.942500       -118.407222   \n",
       "4       Stapleton International        39.861667       -104.673056   \n",
       "\n",
       "  Dep_Delay_Binary  \n",
       "0                0  \n",
       "1                1  \n",
       "2                0  \n",
       "3                1  \n",
       "4                1  \n",
       "\n",
       "[5 rows x 65 columns]"
      ]
     },
     "execution_count": 3,
     "metadata": {},
     "output_type": "execute_result"
    }
   ],
   "source": [
    "merged_subs.head()"
   ]
  },
  {
   "cell_type": "code",
   "execution_count": 4,
   "metadata": {
    "collapsed": false
   },
   "outputs": [
    {
     "data": {
      "text/plain": [
       "Index([u'YEAR', u'MONTH', u'DAY_OF_MONTH', u'DAY_OF_WEEK', u'FL_DATE',\n",
       "       u'UNIQUE_CARRIER', u'AIRLINE_ID', u'CARRIER', u'TAIL_NUM',\n",
       "       u'ORIGIN_AIRPORT_ID', u'ORIGIN_AIRPORT_SEQ_ID',\n",
       "       u'ORIGIN_CITY_MARKET_ID', u'ORIGIN', u'ORIGIN_CITY_NAME',\n",
       "       u'ORIGIN_STATE_ABR', u'ORIGIN_STATE_NM', u'DEST_AIRPORT_ID',\n",
       "       u'DEST_AIRPORT_SEQ_ID', u'DEST_CITY_MARKET_ID', u'DEST_CITY_NAME',\n",
       "       u'DEST_STATE_ABR', u'DEST_STATE_NM', u'CRS_DEP_TIME', u'DEP_TIME',\n",
       "       u'DEP_DELAY', u'DEP_DELAY_NEW', u'DEP_DEL15', u'DEP_DELAY_GROUP',\n",
       "       u'DEP_TIME_BLK', u'TAXI_OUT', u'WHEELS_OFF', u'WHEELS_ON', u'TAXI_IN',\n",
       "       u'CRS_ARR_TIME', u'ARR_TIME', u'ARR_DELAY', u'ARR_DELAY_NEW',\n",
       "       u'ARR_DEL15', u'ARR_DELAY_GROUP', u'ARR_TIME_BLK', u'CANCELLED',\n",
       "       u'CANCELLATION_CODE', u'DIVERTED', u'CRS_ELAPSED_TIME',\n",
       "       u'ACTUAL_ELAPSED_TIME', u'AIR_TIME', u'FLIGHTS', u'DISTANCE',\n",
       "       u'DISTANCE_GROUP', u'CARRIER_DELAY', u'WEATHER_DELAY', u'NAS_DELAY',\n",
       "       u'SECURITY_DELAY', u'LATE_AIRCRAFT_DELAY', u'FIRST_DEP_TIME',\n",
       "       u'TOTAL_ADD_GTIME', u'LONGEST_ADD_GTIME', u'Unnamed: 57',\n",
       "       u'DEST_AIRPORT_NAME', u'DEST_LATITUDE', u'DEST_LONGITUDE',\n",
       "       u'ORIGIN_AIRPORT_NAME', u'ORIGIN_LATITUDE', u'ORIGIN_LONGITUDE',\n",
       "       u'Dep_Delay_Binary'],\n",
       "      dtype='object')"
      ]
     },
     "execution_count": 4,
     "metadata": {},
     "output_type": "execute_result"
    }
   ],
   "source": [
    "merged_subs.columns"
   ]
  },
  {
   "cell_type": "code",
   "execution_count": null,
   "metadata": {
    "collapsed": false
   },
   "outputs": [],
   "source": []
  },
  {
   "cell_type": "markdown",
   "metadata": {
    "collapsed": true
   },
   "source": [
    "#### Initially I wanted to use all of the predictors that seemed somewhat logical in the data set to see if I could find any strong correlations "
   ]
  },
  {
   "cell_type": "code",
   "execution_count": 6,
   "metadata": {
    "collapsed": false
   },
   "outputs": [],
   "source": [
    "\n",
    "formula = '''Dep_Delay_Binary ~ C(MONTH) + C(DAY_OF_MONTH) + DISTANCE + C(ORIGIN_AIRPORT_ID) + \n",
    "C(DEST_AIRPORT_ID)+ DEST_LONGITUDE + ORIGIN_LONGITUDE + DEST_LATITUDE + ORIGIN_LATITUDE -1'''\n",
    "\n",
    "\n",
    "y_mat, x_mat = patsy.dmatrices(formula, merged_subs)\n",
    "\n",
    "#, x_test, y_train, y_test = train_test_split(x_mat, y_mat, test_size = .3)\n",
    "\n"
   ]
  },
  {
   "cell_type": "code",
   "execution_count": 7,
   "metadata": {
    "collapsed": false
   },
   "outputs": [],
   "source": [
    "x_mat_reg =(x_mat - x_mat.mean())/x_mat.std()"
   ]
  },
  {
   "cell_type": "code",
   "execution_count": 8,
   "metadata": {
    "collapsed": false
   },
   "outputs": [],
   "source": [
    "# i"
   ]
  },
  {
   "cell_type": "code",
   "execution_count": 9,
   "metadata": {
    "collapsed": false
   },
   "outputs": [],
   "source": [
    "# from sklearn.grid_search import GridSearchCV\n",
    "\n",
    "\n",
    "\n",
    "# params ={\n",
    "#     'l1_ratio': np.linspace(0,1,100)\n",
    "# }\n",
    "\n",
    "# grid_EN = GridSearchCV(ElasticNetCV, params, cv=5)\n",
    "\n",
    "# grid_EN.fit(x_mat, y_mat)\n",
    "\n",
    "\n"
   ]
  },
  {
   "cell_type": "code",
   "execution_count": 90,
   "metadata": {
    "collapsed": false
   },
   "outputs": [],
   "source": [
    "# c = np.linspace(0,1,20)\n",
    "# print c"
   ]
  },
  {
   "cell_type": "code",
   "execution_count": 14,
   "metadata": {
    "collapsed": false
   },
   "outputs": [
    {
     "name": "stdout",
     "output_type": "stream",
     "text": [
      "(120000, 685)\n"
     ]
    }
   ],
   "source": [
    "print x_mat.shape"
   ]
  },
  {
   "cell_type": "markdown",
   "metadata": {},
   "source": [
    "### Below I use SGD to gridsearch with an Elastic Net penalty. Looking at the coefficients of the predictors would give me a good idea of what predictors are worth using."
   ]
  },
  {
   "cell_type": "code",
   "execution_count": 10,
   "metadata": {
    "collapsed": true
   },
   "outputs": [],
   "source": [
    "y_mat = np.ravel(y_mat)"
   ]
  },
  {
   "cell_type": "code",
   "execution_count": 18,
   "metadata": {
    "collapsed": false
   },
   "outputs": [
    {
     "name": "stdout",
     "output_type": "stream",
     "text": [
      "Fitting 3 folds for each of 400 candidates, totalling 1200 fits\n"
     ]
    },
    {
     "name": "stderr",
     "output_type": "stream",
     "text": [
      "[Parallel(n_jobs=1)]: Done  49 tasks       | elapsed:  1.8min\n",
      "[Parallel(n_jobs=1)]: Done 199 tasks       | elapsed:  7.6min\n",
      "[Parallel(n_jobs=1)]: Done 449 tasks       | elapsed: 16.4min\n",
      "[Parallel(n_jobs=1)]: Done 799 tasks       | elapsed: 29.1min\n",
      "[Parallel(n_jobs=1)]: Done 1200 out of 1200 | elapsed: 44.3min finished\n"
     ]
    },
    {
     "data": {
      "text/plain": [
       "GridSearchCV(cv=3, error_score='raise',\n",
       "       estimator=SGDRegressor(alpha=0.0001, average=False, epsilon=0.1, eta0=0.01,\n",
       "       fit_intercept=True, l1_ratio=0.15, learning_rate='invscaling',\n",
       "       loss='squared_loss', n_iter=5, penalty='l2', power_t=0.25,\n",
       "       random_state=None, shuffle=True, verbose=0, warm_start=False),\n",
       "       fit_params={}, iid=True, n_jobs=1,\n",
       "       param_grid={'penalty': ['elasticnet'], 'alpha': array([  1.00000e-05,   1.83298e-05,   3.35982e-05,   6.15848e-05,\n",
       "         1.12884e-04,   2.06914e-04,   3.79269e-04,   6.95193e-04,\n",
       "         1.27427e-03,   2.33572e-03,   4.28133e-03,   7.84760e-03,\n",
       "         1.43845e-02,   2.63665e-02,   4.83293e-02,...895,\n",
       "        0.63158,  0.68421,  0.73684,  0.78947,  0.84211,  0.89474,\n",
       "        0.94737,  1.     ])},\n",
       "       pre_dispatch='2*n_jobs', refit=True, scoring=None, verbose=1)"
      ]
     },
     "execution_count": 18,
     "metadata": {},
     "output_type": "execute_result"
    }
   ],
   "source": [
    "from sklearn.linear_model import ElasticNet\n",
    "from sklearn.grid_search import GridSearchCV\n",
    "from sklearn.linear_model import SGDRegressor\n",
    "\n",
    "e_net = ElasticNet()\n",
    "sgd_enet = SGDRegressor()\n",
    "c = np.linspace(0,1,20)\n",
    "\n",
    "params = {\n",
    "    'penalty':['elasticnet'],\n",
    "    'alpha':np.logspace(-5,0,20),\n",
    "    'l1_ratio':c\n",
    "    }\n",
    "\n",
    "grid_net = GridSearchCV(sgd_enet,params,cv=3, verbose=1)\n",
    "\n",
    "grid_net.fit(x_mat,y_mat)"
   ]
  },
  {
   "cell_type": "code",
   "execution_count": 19,
   "metadata": {
    "collapsed": false
   },
   "outputs": [
    {
     "name": "stdout",
     "output_type": "stream",
     "text": [
      "SGDRegressor(alpha=0.00020691380811147902, average=False, epsilon=0.1,\n",
      "       eta0=0.01, fit_intercept=True, l1_ratio=0.15789473684210525,\n",
      "       learning_rate='invscaling', loss='squared_loss', n_iter=5,\n",
      "       penalty='elasticnet', power_t=0.25, random_state=None, shuffle=True,\n",
      "       verbose=0, warm_start=False)\n",
      "{'penalty': 'elasticnet', 'alpha': 0.00020691380811147902, 'l1_ratio': 0.15789473684210525}\n",
      "-4.73328492281e+27\n"
     ]
    }
   ],
   "source": [
    "net_best_estimator = grid_net.best_estimator_\n",
    "net_best_params = grid_net.best_params_\n",
    "net_best_score = grid_net.best_score_\n",
    "\n",
    "print net_best_estimator\n",
    "print net_best_params\n",
    "print net_best_score"
   ]
  },
  {
   "cell_type": "code",
   "execution_count": 1,
   "metadata": {
    "collapsed": false
   },
   "outputs": [],
   "source": [
    "alpha = 0.00020691380811147902\n",
    "l1_ratio = 0.15789473684210525"
   ]
  },
  {
   "cell_type": "markdown",
   "metadata": {
    "collapsed": false
   },
   "source": [
    "#### I use the optimal elastic net parameters to run the elastic net and get the coefficients."
   ]
  },
  {
   "cell_type": "code",
   "execution_count": 15,
   "metadata": {
    "collapsed": true
   },
   "outputs": [],
   "source": [
    "from sklearn.linear_model import ElasticNet\n",
    "from sklearn.grid_search import GridSearchCV\n",
    "from sklearn.linear_model import SGDRegressor\n",
    "\n",
    "en = ElasticNet(alpha=0.00020691380811147902, l1_ratio = 0.15789473684210525)\n",
    "\n"
   ]
  },
  {
   "cell_type": "code",
   "execution_count": 16,
   "metadata": {
    "collapsed": false
   },
   "outputs": [
    {
     "data": {
      "text/plain": [
       "ElasticNet(alpha=0.000206913808111, copy_X=True, fit_intercept=True,\n",
       "      l1_ratio=0.157894736842, max_iter=1000, normalize=False,\n",
       "      positive=False, precompute=False, random_state=None,\n",
       "      selection='cyclic', tol=0.0001, warm_start=False)"
      ]
     },
     "execution_count": 16,
     "metadata": {},
     "output_type": "execute_result"
    }
   ],
   "source": [
    "en.fit(x_mat,y_mat)"
   ]
  },
  {
   "cell_type": "code",
   "execution_count": 21,
   "metadata": {
    "collapsed": false
   },
   "outputs": [
    {
     "data": {
      "text/plain": [
       "array([  1.24343153e-02,   3.42983270e-02,   1.79311845e-02,\n",
       "        -3.19389250e-02,  -8.18818525e-03,   5.40402416e-02,\n",
       "         3.80217767e-02,  -0.00000000e+00,  -8.89829406e-02,\n",
       "        -6.73531849e-02,  -4.06341396e-02,   2.18472966e-02,\n",
       "         1.79143857e-02,  -2.12950293e-04,  -1.81644471e-02,\n",
       "        -0.00000000e+00,  -2.09946313e-02,  -2.15063919e-02,\n",
       "        -1.16233734e-02,  -4.88341523e-03,  -8.82687529e-03,\n",
       "         1.42132449e-04,  -8.20505469e-03,  -2.37436404e-02,\n",
       "        -2.78759471e-02,  -2.01802745e-03,   5.07427405e-03,\n",
       "         1.79857274e-02,   2.84238494e-02,   2.48852775e-03,\n",
       "         0.00000000e+00,  -2.02813265e-03,  -1.43271902e-02,\n",
       "         3.84601064e-03,  -6.62618053e-03,  -2.53347129e-02,\n",
       "        -4.88882804e-03,  -1.55555350e-02,  -2.43099531e-02,\n",
       "        -1.63819386e-02,   7.82271749e-03,  -4.60994259e-02,\n",
       "         0.00000000e+00,   3.95352025e-02,  -0.00000000e+00,\n",
       "        -0.00000000e+00,   0.00000000e+00,  -0.00000000e+00,\n",
       "        -0.00000000e+00,  -3.27002307e-02,   0.00000000e+00,\n",
       "         0.00000000e+00,  -0.00000000e+00,   5.38170398e-02,\n",
       "        -0.00000000e+00,   2.43234532e-04,  -0.00000000e+00,\n",
       "         0.00000000e+00,   9.09689195e-03,   0.00000000e+00,\n",
       "         0.00000000e+00,   6.72655754e-02,  -0.00000000e+00,\n",
       "         4.37440939e-02,  -0.00000000e+00,  -0.00000000e+00,\n",
       "        -7.10304300e-02,  -0.00000000e+00,  -0.00000000e+00,\n",
       "        -1.91308078e-02,  -0.00000000e+00,  -0.00000000e+00,\n",
       "         0.00000000e+00,  -4.61248756e-02,  -1.58948818e-02,\n",
       "        -0.00000000e+00,  -0.00000000e+00,  -2.81043204e-02,\n",
       "         2.95445190e-02,   1.74568075e-02,   4.50137929e-02,\n",
       "         0.00000000e+00,  -0.00000000e+00,  -0.00000000e+00,\n",
       "        -0.00000000e+00,  -6.77471789e-02,   0.00000000e+00,\n",
       "        -8.77190360e-03,   0.00000000e+00,  -0.00000000e+00,\n",
       "        -2.23883416e-02,  -0.00000000e+00,   1.79828733e-01,\n",
       "        -0.00000000e+00,  -0.00000000e+00,  -0.00000000e+00,\n",
       "         0.00000000e+00,   0.00000000e+00,   0.00000000e+00,\n",
       "         3.84339658e-02,   0.00000000e+00,  -5.18649465e-03,\n",
       "         4.75425545e-02,  -0.00000000e+00,  -0.00000000e+00,\n",
       "         8.16883432e-03,  -2.97735510e-02,   3.78010787e-02,\n",
       "         8.89052166e-03,  -2.02289337e-02,  -0.00000000e+00,\n",
       "        -0.00000000e+00,   0.00000000e+00,   0.00000000e+00,\n",
       "        -0.00000000e+00,  -0.00000000e+00,  -0.00000000e+00,\n",
       "         0.00000000e+00,   0.00000000e+00,   0.00000000e+00,\n",
       "        -0.00000000e+00,   0.00000000e+00,   1.91980529e-01,\n",
       "         4.33435927e-02,  -0.00000000e+00,  -6.12088578e-03,\n",
       "         1.42804410e-01,   8.15211437e-02,  -0.00000000e+00,\n",
       "        -0.00000000e+00,  -0.00000000e+00,   0.00000000e+00,\n",
       "        -3.82425723e-03,   0.00000000e+00,   2.09902317e-02,\n",
       "        -0.00000000e+00,  -0.00000000e+00,  -4.78094045e-02,\n",
       "         0.00000000e+00,  -0.00000000e+00,  -7.97544232e-02,\n",
       "         1.06304251e-02,  -0.00000000e+00,  -0.00000000e+00,\n",
       "        -2.04488247e-02,   0.00000000e+00,  -0.00000000e+00,\n",
       "         9.72695327e-02,   0.00000000e+00,   0.00000000e+00,\n",
       "        -0.00000000e+00,   9.63076882e-03,   0.00000000e+00,\n",
       "        -8.69521946e-03,  -0.00000000e+00,   3.67662354e-02,\n",
       "        -6.12944111e-02,  -1.81266526e-02,  -0.00000000e+00,\n",
       "        -1.68325317e-02,  -1.21475737e-02,  -0.00000000e+00,\n",
       "        -0.00000000e+00,   0.00000000e+00,   0.00000000e+00,\n",
       "        -7.06721495e-02,  -3.74502703e-02,  -1.17904353e-03,\n",
       "        -0.00000000e+00,  -0.00000000e+00,  -5.96265832e-03,\n",
       "        -1.94067785e-04,  -7.54655494e-03,  -3.23147948e-02,\n",
       "         0.00000000e+00,  -6.23053320e-02,  -0.00000000e+00,\n",
       "        -0.00000000e+00,  -0.00000000e+00,   0.00000000e+00,\n",
       "        -0.00000000e+00,  -3.67809253e-02,  -3.37272275e-02,\n",
       "        -2.35968641e-02,   1.47210466e-01,   0.00000000e+00,\n",
       "        -5.50073203e-03,   6.82426411e-03,   0.00000000e+00,\n",
       "        -0.00000000e+00,   3.81215445e-02,  -0.00000000e+00,\n",
       "         9.25916988e-02,   5.59673127e-02,  -0.00000000e+00,\n",
       "         0.00000000e+00,  -2.02408369e-02,  -0.00000000e+00,\n",
       "         0.00000000e+00,  -0.00000000e+00,  -4.59628484e-02,\n",
       "        -6.09806883e-03,  -0.00000000e+00,   2.17643317e-02,\n",
       "        -1.50351724e-04,  -0.00000000e+00,   1.26979449e-02,\n",
       "         2.11704207e-02,  -0.00000000e+00,  -0.00000000e+00,\n",
       "         3.61476912e-02,  -4.59049381e-02,  -0.00000000e+00,\n",
       "         0.00000000e+00,   0.00000000e+00,   9.16210705e-02,\n",
       "        -3.85761772e-02,   7.33810328e-02,   0.00000000e+00,\n",
       "         0.00000000e+00,  -2.47322010e-02,   1.47376771e-02,\n",
       "         1.85497055e-03,   6.16005841e-02,  -6.09771256e-02,\n",
       "        -0.00000000e+00,  -2.61609683e-02,  -3.54986617e-02,\n",
       "        -3.84607947e-02,  -3.81542869e-02,  -0.00000000e+00,\n",
       "        -0.00000000e+00,   0.00000000e+00,   2.33503412e-02,\n",
       "         3.51079816e-02,  -3.47652520e-02,   1.82642114e-01,\n",
       "         9.46144805e-04,  -0.00000000e+00,  -7.18177755e-02,\n",
       "        -5.65699838e-02,   0.00000000e+00,  -1.16457596e-02,\n",
       "         8.49696511e-03,   6.52885097e-02,   2.25269752e-02,\n",
       "         0.00000000e+00,   4.11602941e-03,   0.00000000e+00,\n",
       "        -0.00000000e+00,   0.00000000e+00,   0.00000000e+00,\n",
       "        -0.00000000e+00,  -0.00000000e+00,  -1.96691150e-02,\n",
       "        -3.21572228e-02,   0.00000000e+00,   1.12868056e-02,\n",
       "         2.44329764e-02,   0.00000000e+00,   0.00000000e+00,\n",
       "         1.23525862e-02,   4.97252668e-02,   1.35680234e-01,\n",
       "        -2.26019328e-02,   0.00000000e+00,   0.00000000e+00,\n",
       "         0.00000000e+00,   3.31734767e-02,   1.32199421e-01,\n",
       "         4.58925032e-02,  -0.00000000e+00,   0.00000000e+00,\n",
       "         0.00000000e+00,   0.00000000e+00,   0.00000000e+00,\n",
       "         4.37000960e-02,   0.00000000e+00,   0.00000000e+00,\n",
       "         3.83925567e-02,   8.56228000e-02,   3.05351848e-02,\n",
       "        -0.00000000e+00,  -0.00000000e+00,  -2.38535540e-02,\n",
       "         0.00000000e+00,   0.00000000e+00,   0.00000000e+00,\n",
       "        -0.00000000e+00,  -0.00000000e+00,   3.04542129e-02,\n",
       "        -0.00000000e+00,  -0.00000000e+00,  -0.00000000e+00,\n",
       "        -1.64520168e-02,  -0.00000000e+00,   0.00000000e+00,\n",
       "        -0.00000000e+00,   1.47512880e-02,  -0.00000000e+00,\n",
       "         4.42052290e-03,  -0.00000000e+00,   1.90439750e-02,\n",
       "         8.89787177e-03,  -0.00000000e+00,   0.00000000e+00,\n",
       "        -0.00000000e+00,  -1.42807129e-02,  -0.00000000e+00,\n",
       "         1.33423367e-02,   3.10463058e-02,   3.49094449e-02,\n",
       "        -5.50625687e-02,   0.00000000e+00,   0.00000000e+00,\n",
       "        -0.00000000e+00,  -0.00000000e+00,  -0.00000000e+00,\n",
       "         4.39898603e-02,   9.13702410e-02,  -1.11604134e-02,\n",
       "        -0.00000000e+00,  -1.83176424e-02,  -0.00000000e+00,\n",
       "         4.27221586e-02,  -0.00000000e+00,  -3.58170809e-02,\n",
       "        -1.68069324e-02,   8.32436534e-02,  -0.00000000e+00,\n",
       "         4.43095747e-02,  -0.00000000e+00,   2.57454505e-02,\n",
       "        -4.92635159e-02,  -0.00000000e+00,   7.11256967e-02,\n",
       "        -1.07514671e-02,   0.00000000e+00,  -0.00000000e+00,\n",
       "         0.00000000e+00,   0.00000000e+00,  -3.69913894e-02,\n",
       "        -0.00000000e+00,  -2.24455227e-04,   8.21009292e-03,\n",
       "        -0.00000000e+00,   0.00000000e+00,   0.00000000e+00,\n",
       "        -7.67587416e-03,  -1.38573207e-02,  -0.00000000e+00,\n",
       "         0.00000000e+00,   7.92338973e-03,   1.78264698e-02,\n",
       "        -0.00000000e+00,   0.00000000e+00,  -6.83744972e-02,\n",
       "         0.00000000e+00,  -0.00000000e+00,  -1.25722862e-02,\n",
       "         0.00000000e+00,  -0.00000000e+00,  -0.00000000e+00,\n",
       "         4.39507596e-02,   0.00000000e+00,   0.00000000e+00,\n",
       "        -0.00000000e+00,  -0.00000000e+00,   0.00000000e+00,\n",
       "         3.63804244e-02,   0.00000000e+00,   0.00000000e+00,\n",
       "         2.55894931e-03,  -0.00000000e+00,  -0.00000000e+00,\n",
       "        -8.88534379e-03,   0.00000000e+00,  -0.00000000e+00,\n",
       "         1.31309974e-02,  -0.00000000e+00,   0.00000000e+00,\n",
       "        -7.08299997e-03,  -0.00000000e+00,   1.80922217e-02,\n",
       "        -0.00000000e+00,  -0.00000000e+00,  -0.00000000e+00,\n",
       "         2.40922117e-02,   0.00000000e+00,  -9.21935077e-02,\n",
       "         0.00000000e+00,   0.00000000e+00,  -0.00000000e+00,\n",
       "         0.00000000e+00,   0.00000000e+00,  -0.00000000e+00,\n",
       "        -0.00000000e+00,   0.00000000e+00,   3.04393117e-02,\n",
       "         5.07080539e-02,   1.81350456e-02,  -0.00000000e+00,\n",
       "        -0.00000000e+00,   7.76214862e-02,  -0.00000000e+00,\n",
       "        -6.53930764e-02,   0.00000000e+00,  -0.00000000e+00,\n",
       "        -1.81424646e-02,  -0.00000000e+00,   8.71634421e-03,\n",
       "         2.52815820e-02,   5.04964325e-02,   0.00000000e+00,\n",
       "        -0.00000000e+00,   0.00000000e+00,  -0.00000000e+00,\n",
       "         1.41849928e-02,   0.00000000e+00,  -0.00000000e+00,\n",
       "        -0.00000000e+00,  -0.00000000e+00,  -0.00000000e+00,\n",
       "        -0.00000000e+00,   0.00000000e+00,   0.00000000e+00,\n",
       "        -3.69529817e-02,  -3.82698541e-02,   0.00000000e+00,\n",
       "         0.00000000e+00,   0.00000000e+00,   0.00000000e+00,\n",
       "         0.00000000e+00,   2.54217666e-02,   0.00000000e+00,\n",
       "        -0.00000000e+00,  -7.93225006e-03,  -0.00000000e+00,\n",
       "         0.00000000e+00,  -6.96199309e-03,  -0.00000000e+00,\n",
       "        -0.00000000e+00,   6.05038366e-02,  -4.43011565e-02,\n",
       "         0.00000000e+00,  -1.63821889e-02,   7.27559224e-02,\n",
       "        -1.01591426e-02,  -4.12235919e-03,  -0.00000000e+00,\n",
       "        -0.00000000e+00,  -1.92560420e-03,  -0.00000000e+00,\n",
       "        -3.29816304e-03,  -0.00000000e+00,  -0.00000000e+00,\n",
       "        -0.00000000e+00,   0.00000000e+00,  -0.00000000e+00,\n",
       "        -1.63439611e-03,   2.78482590e-02,  -0.00000000e+00,\n",
       "        -0.00000000e+00,   0.00000000e+00,  -0.00000000e+00,\n",
       "        -0.00000000e+00,   6.59121170e-02,  -2.34061745e-02,\n",
       "         1.75645315e-02,  -0.00000000e+00,  -5.42481119e-02,\n",
       "        -2.52983268e-02,   0.00000000e+00,  -7.41758511e-02,\n",
       "         6.32754437e-02,   0.00000000e+00,  -2.33945012e-02,\n",
       "         0.00000000e+00,  -6.35432327e-02,  -6.63023315e-03,\n",
       "         0.00000000e+00,   1.96743840e-02,  -0.00000000e+00,\n",
       "        -0.00000000e+00,  -7.95470070e-02,  -0.00000000e+00,\n",
       "        -4.44056688e-02,  -8.56152730e-03,  -0.00000000e+00,\n",
       "         0.00000000e+00,   0.00000000e+00,   0.00000000e+00,\n",
       "        -0.00000000e+00,  -2.26527611e-02,  -3.83512780e-02,\n",
       "         0.00000000e+00,   0.00000000e+00,  -0.00000000e+00,\n",
       "        -0.00000000e+00,  -0.00000000e+00,   1.96464912e-02,\n",
       "        -0.00000000e+00,   5.51020742e-02,   5.22594112e-02,\n",
       "        -0.00000000e+00,  -0.00000000e+00,  -0.00000000e+00,\n",
       "         0.00000000e+00,   4.62351914e-02,   0.00000000e+00,\n",
       "         2.55914690e-02,  -0.00000000e+00,   5.76582932e-03,\n",
       "         0.00000000e+00,  -0.00000000e+00,  -0.00000000e+00,\n",
       "         2.27862669e-02,  -0.00000000e+00,  -0.00000000e+00,\n",
       "         1.79101133e-02,  -0.00000000e+00,   2.81685832e-03,\n",
       "        -3.99771542e-02,   2.04204010e-02,   4.38911301e-02,\n",
       "        -0.00000000e+00,   0.00000000e+00,  -0.00000000e+00,\n",
       "        -4.28955461e-03,   0.00000000e+00,  -0.00000000e+00,\n",
       "        -0.00000000e+00,   4.82642303e-02,  -1.17493428e-02,\n",
       "         5.02630192e-02,  -2.96269015e-02,   0.00000000e+00,\n",
       "        -3.02608119e-02,  -6.93578487e-02,  -5.96263836e-02,\n",
       "         3.87538478e-02,  -0.00000000e+00,   0.00000000e+00,\n",
       "         4.27274867e-02,  -0.00000000e+00,   0.00000000e+00,\n",
       "        -1.31776944e-02,  -0.00000000e+00,  -1.82077562e-02,\n",
       "         0.00000000e+00,   4.01860202e-02,   3.71324874e-02,\n",
       "        -1.07138417e-02,   6.49483799e-02,  -0.00000000e+00,\n",
       "        -5.85539925e-03,  -0.00000000e+00,   0.00000000e+00,\n",
       "        -0.00000000e+00,  -0.00000000e+00,  -0.00000000e+00,\n",
       "        -2.57138363e-03,   0.00000000e+00,  -0.00000000e+00,\n",
       "        -0.00000000e+00,  -2.46688787e-02,  -4.91101879e-02,\n",
       "        -0.00000000e+00,  -7.84578517e-02,  -8.23354134e-02,\n",
       "         0.00000000e+00,  -0.00000000e+00,  -0.00000000e+00,\n",
       "        -1.14456876e-02,  -1.09761521e-02,   5.10057296e-03,\n",
       "         0.00000000e+00,   0.00000000e+00,  -0.00000000e+00,\n",
       "        -0.00000000e+00,   1.14045733e-01,  -1.43724570e-02,\n",
       "         9.76927366e-04,   0.00000000e+00,   0.00000000e+00,\n",
       "         2.63814402e-02,   2.37084503e-02,   6.98592435e-02,\n",
       "        -8.67687680e-03,   0.00000000e+00,   0.00000000e+00,\n",
       "        -0.00000000e+00,   0.00000000e+00,   8.21840551e-02,\n",
       "         7.99698299e-03,  -0.00000000e+00,   1.06525443e-02,\n",
       "         1.08437911e-02,  -5.47768639e-02,   0.00000000e+00,\n",
       "        -0.00000000e+00,   7.19179338e-03,  -0.00000000e+00,\n",
       "         0.00000000e+00,  -0.00000000e+00,  -1.20694172e-02,\n",
       "         0.00000000e+00,   0.00000000e+00,   7.16327104e-03,\n",
       "        -0.00000000e+00,   1.10347570e-02,   0.00000000e+00,\n",
       "        -6.46764027e-03,  -0.00000000e+00,  -0.00000000e+00,\n",
       "         3.94585125e-02,  -0.00000000e+00,   1.54454843e-02,\n",
       "        -0.00000000e+00,   5.26998648e-02,  -0.00000000e+00,\n",
       "         2.95035490e-02,  -0.00000000e+00,  -6.86777480e-03,\n",
       "         2.48783385e-02,   0.00000000e+00,   3.07656062e-02,\n",
       "         7.44195404e-02,  -3.35853956e-03,  -1.81954209e-02,\n",
       "        -4.70460345e-02,  -5.35735385e-02,  -0.00000000e+00,\n",
       "         0.00000000e+00,  -0.00000000e+00,  -1.58255019e-02,\n",
       "         8.47023379e-02,   0.00000000e+00,  -0.00000000e+00,\n",
       "        -4.42746634e-02,   0.00000000e+00,   2.57776632e-02,\n",
       "        -0.00000000e+00,   6.41260344e-02,  -2.93710563e-02,\n",
       "         6.08479023e-02,  -0.00000000e+00,   5.07988362e-03,\n",
       "        -0.00000000e+00,   0.00000000e+00,   0.00000000e+00,\n",
       "         0.00000000e+00,   4.35256073e-02,   6.10401635e-02,\n",
       "         0.00000000e+00,  -0.00000000e+00,  -0.00000000e+00,\n",
       "         1.44059658e-02,  -0.00000000e+00,   0.00000000e+00,\n",
       "         0.00000000e+00,   6.76329621e-02,  -0.00000000e+00,\n",
       "         4.63151727e-02,   2.08775928e-02,   2.05986560e-02,\n",
       "        -0.00000000e+00,  -0.00000000e+00,  -0.00000000e+00,\n",
       "         0.00000000e+00,  -3.24201899e-02,   0.00000000e+00,\n",
       "        -0.00000000e+00,   0.00000000e+00,  -2.64677114e-02,\n",
       "         8.67710557e-03,   0.00000000e+00,   0.00000000e+00,\n",
       "         0.00000000e+00,  -0.00000000e+00,   4.00247406e-05,\n",
       "        -1.25107963e-04,   2.57288909e-04,   7.71738808e-05,\n",
       "        -2.02609466e-03])"
      ]
     },
     "execution_count": 21,
     "metadata": {},
     "output_type": "execute_result"
    }
   ],
   "source": [
    "en.coef_"
   ]
  },
  {
   "cell_type": "code",
   "execution_count": 41,
   "metadata": {
    "collapsed": false
   },
   "outputs": [
    {
     "data": {
      "text/plain": [
       "((120000, 685), (685,), (120000, 65))"
      ]
     },
     "execution_count": 41,
     "metadata": {},
     "output_type": "execute_result"
    }
   ],
   "source": [
    "x_mat.shape, en.coef_.shape, merged_subs.shape"
   ]
  },
  {
   "cell_type": "code",
   "execution_count": 46,
   "metadata": {
    "collapsed": false
   },
   "outputs": [],
   "source": [
    "col_names = x_mat.design_info.column_names"
   ]
  },
  {
   "cell_type": "code",
   "execution_count": 57,
   "metadata": {
    "collapsed": false
   },
   "outputs": [],
   "source": [
    "col_coefs = en.coef_\n",
    "col_coefs = col_coefs.tolist()"
   ]
  },
  {
   "cell_type": "code",
   "execution_count": 59,
   "metadata": {
    "collapsed": false
   },
   "outputs": [
    {
     "data": {
      "text/plain": [
       "0.012434315343969767"
      ]
     },
     "execution_count": 59,
     "metadata": {},
     "output_type": "execute_result"
    }
   ],
   "source": [
    "col_coefs[0]"
   ]
  },
  {
   "cell_type": "code",
   "execution_count": 66,
   "metadata": {
    "collapsed": false
   },
   "outputs": [],
   "source": [
    "col_coefs_list = zip(col_names,col_coefs)"
   ]
  },
  {
   "cell_type": "code",
   "execution_count": 68,
   "metadata": {
    "collapsed": false
   },
   "outputs": [],
   "source": [
    "coef_df = pd.DataFrame(col_coefs_list)\n",
    "coef_df.columns = ['feature','coef']"
   ]
  },
  {
   "cell_type": "code",
   "execution_count": 70,
   "metadata": {
    "collapsed": false
   },
   "outputs": [
    {
     "data": {
      "text/plain": [
       "0.19198052878001223"
      ]
     },
     "execution_count": 70,
     "metadata": {},
     "output_type": "execute_result"
    }
   ],
   "source": [
    "coef_df.coef.max()"
   ]
  },
  {
   "cell_type": "code",
   "execution_count": 71,
   "metadata": {
    "collapsed": false
   },
   "outputs": [
    {
     "data": {
      "text/plain": [
       "-0.092193507683597659"
      ]
     },
     "execution_count": 71,
     "metadata": {},
     "output_type": "execute_result"
    }
   ],
   "source": [
    "coef_df.coef.min()"
   ]
  },
  {
   "cell_type": "code",
   "execution_count": 73,
   "metadata": {
    "collapsed": false
   },
   "outputs": [
    {
     "data": {
      "text/html": [
       "<div>\n",
       "<table border=\"1\" class=\"dataframe\">\n",
       "  <thead>\n",
       "    <tr style=\"text-align: right;\">\n",
       "      <th></th>\n",
       "      <th>feature</th>\n",
       "      <th>coef</th>\n",
       "    </tr>\n",
       "  </thead>\n",
       "  <tbody>\n",
       "    <tr>\n",
       "      <th>389</th>\n",
       "      <td>C(DEST_AIRPORT_ID)[T.10561]</td>\n",
       "      <td>-0.092194</td>\n",
       "    </tr>\n",
       "    <tr>\n",
       "      <th>8</th>\n",
       "      <td>C(MONTH)[9]</td>\n",
       "      <td>-0.088983</td>\n",
       "    </tr>\n",
       "    <tr>\n",
       "      <th>569</th>\n",
       "      <td>C(DEST_AIRPORT_ID)[T.13433]</td>\n",
       "      <td>-0.082335</td>\n",
       "    </tr>\n",
       "    <tr>\n",
       "      <th>140</th>\n",
       "      <td>C(ORIGIN_AIRPORT_ID)[T.11537]</td>\n",
       "      <td>-0.079754</td>\n",
       "    </tr>\n",
       "    <tr>\n",
       "      <th>484</th>\n",
       "      <td>C(DEST_AIRPORT_ID)[T.11921]</td>\n",
       "      <td>-0.079547</td>\n",
       "    </tr>\n",
       "  </tbody>\n",
       "</table>\n",
       "</div>"
      ],
      "text/plain": [
       "                           feature      coef\n",
       "389    C(DEST_AIRPORT_ID)[T.10561] -0.092194\n",
       "8                      C(MONTH)[9] -0.088983\n",
       "569    C(DEST_AIRPORT_ID)[T.13433] -0.082335\n",
       "140  C(ORIGIN_AIRPORT_ID)[T.11537] -0.079754\n",
       "484    C(DEST_AIRPORT_ID)[T.11921] -0.079547"
      ]
     },
     "execution_count": 73,
     "metadata": {},
     "output_type": "execute_result"
    }
   ],
   "source": [
    "coef_df.sort_values('coef')[0:5]"
   ]
  },
  {
   "cell_type": "code",
   "execution_count": 74,
   "metadata": {
    "collapsed": false
   },
   "outputs": [
    {
     "data": {
      "text/html": [
       "<div>\n",
       "<table border=\"1\" class=\"dataframe\">\n",
       "  <thead>\n",
       "    <tr style=\"text-align: right;\">\n",
       "      <th></th>\n",
       "      <th>feature</th>\n",
       "      <th>coef</th>\n",
       "    </tr>\n",
       "  </thead>\n",
       "  <tbody>\n",
       "    <tr>\n",
       "      <th>122</th>\n",
       "      <td>C(ORIGIN_AIRPORT_ID)[T.11259]</td>\n",
       "      <td>0.191981</td>\n",
       "    </tr>\n",
       "    <tr>\n",
       "      <th>236</th>\n",
       "      <td>C(ORIGIN_AIRPORT_ID)[T.13232]</td>\n",
       "      <td>0.182642</td>\n",
       "    </tr>\n",
       "    <tr>\n",
       "      <th>92</th>\n",
       "      <td>C(ORIGIN_AIRPORT_ID)[T.10821]</td>\n",
       "      <td>0.179829</td>\n",
       "    </tr>\n",
       "    <tr>\n",
       "      <th>184</th>\n",
       "      <td>C(ORIGIN_AIRPORT_ID)[T.12191]</td>\n",
       "      <td>0.147210</td>\n",
       "    </tr>\n",
       "    <tr>\n",
       "      <th>126</th>\n",
       "      <td>C(ORIGIN_AIRPORT_ID)[T.11292]</td>\n",
       "      <td>0.142804</td>\n",
       "    </tr>\n",
       "  </tbody>\n",
       "</table>\n",
       "</div>"
      ],
      "text/plain": [
       "                           feature      coef\n",
       "122  C(ORIGIN_AIRPORT_ID)[T.11259]  0.191981\n",
       "236  C(ORIGIN_AIRPORT_ID)[T.13232]  0.182642\n",
       "92   C(ORIGIN_AIRPORT_ID)[T.10821]  0.179829\n",
       "184  C(ORIGIN_AIRPORT_ID)[T.12191]  0.147210\n",
       "126  C(ORIGIN_AIRPORT_ID)[T.11292]  0.142804"
      ]
     },
     "execution_count": 74,
     "metadata": {},
     "output_type": "execute_result"
    }
   ],
   "source": [
    "coef_df.sort_values('coef', ascending=False)[0:5]"
   ]
  },
  {
   "cell_type": "code",
   "execution_count": 79,
   "metadata": {
    "collapsed": true
   },
   "outputs": [],
   "source": [
    "mask1 = merged_subs.ORIGIN_AIRPORT_ID == 11259\n",
    "mask2 = merged_subs.ORIGIN_AIRPORT_ID == 13232\n",
    "mask3 = merged_subs.ORIGIN_AIRPORT_ID == 10821\n",
    "mask4 = merged_subs.ORIGIN_AIRPORT_ID == 12191\n",
    "mask5 = merged_subs.ORIGIN_AIRPORT_ID == 11292"
   ]
  },
  {
   "cell_type": "code",
   "execution_count": 86,
   "metadata": {
    "collapsed": false
   },
   "outputs": [
    {
     "name": "stdout",
     "output_type": "stream",
     "text": [
      "Dallas Love Field  ,  Dallas, TX\n",
      "Chicago Midway International  ,  Chicago, IL\n",
      "Friendship International  ,  Baltimore, MD\n",
      "William P Hobby  ,  Houston, TX\n",
      "Stapleton International  ,  Denver, CO\n"
     ]
    }
   ],
   "source": [
    "print merged_subs[mask1].ORIGIN_AIRPORT_NAME.max(),\" , \", merged_subs[mask1].ORIGIN_CITY_NAME.max()\n",
    "print merged_subs[mask2].ORIGIN_AIRPORT_NAME.max(),\" , \", merged_subs[mask2].ORIGIN_CITY_NAME.max()\n",
    "print merged_subs[mask3].ORIGIN_AIRPORT_NAME.max(),\" , \", merged_subs[mask3].ORIGIN_CITY_NAME.max()\n",
    "print merged_subs[mask4].ORIGIN_AIRPORT_NAME.max(),\" , \", merged_subs[mask4].ORIGIN_CITY_NAME.max()\n",
    "print merged_subs[mask5].ORIGIN_AIRPORT_NAME.max(),\" , \", merged_subs[mask5].ORIGIN_CITY_NAME.max()"
   ]
  },
  {
   "cell_type": "code",
   "execution_count": 87,
   "metadata": {
    "collapsed": true
   },
   "outputs": [],
   "source": [
    "mask6 = merged_subs.DEST_AIRPORT_ID == 10561\n",
    "mask7 = merged_subs.DEST_AIRPORT_ID == 13433\n",
    "mask8 = merged_subs.ORIGIN_AIRPORT_ID == 11537\n",
    "mask9 = merged_subs.DEST_AIRPORT_ID == 11292\n"
   ]
  },
  {
   "cell_type": "code",
   "execution_count": 89,
   "metadata": {
    "collapsed": false
   },
   "outputs": [
    {
     "name": "stdout",
     "output_type": "stream",
     "text": [
      "Meadows Field  ,  Bakersfield, CA\n",
      "Minot International  ,  Minot, ND\n",
      "Elmira/Corning Regional  ,  Elmira/Corning, NY\n",
      "Stapleton International  ,  Denver, CO\n"
     ]
    }
   ],
   "source": [
    "print merged_subs[mask6].DEST_AIRPORT_NAME.max(),\" , \", merged_subs[mask6].DEST_CITY_NAME.max()\n",
    "print merged_subs[mask7].DEST_AIRPORT_NAME.max(),\" , \", merged_subs[mask7].DEST_CITY_NAME.max()\n",
    "print merged_subs[mask8].ORIGIN_AIRPORT_NAME.max(),\" , \", merged_subs[mask8].ORIGIN_CITY_NAME.max()\n",
    "print merged_subs[mask9].DEST_AIRPORT_NAME.max(),\" , \", merged_subs[mask9].DEST_CITY_NAME.max()\n"
   ]
  },
  {
   "cell_type": "markdown",
   "metadata": {},
   "source": [
    "#### It seems that I need to change my predictors around and really make sure I am being more thoughtful about my approach.  Keifer made good points during my presentation on how I am using Destination airports incorrectly. I think that working with individual airports could be a better option and then hopefully making my project so that users could input any airport. I think I have a lot of work ahead of me, but I feel good about the progress that I have made so far."
   ]
  },
  {
   "cell_type": "code",
   "execution_count": null,
   "metadata": {
    "collapsed": true
   },
   "outputs": [],
   "source": []
  }
 ],
 "metadata": {
  "kernelspec": {
   "display_name": "Python 2",
   "language": "python",
   "name": "python2"
  },
  "language_info": {
   "codemirror_mode": {
    "name": "ipython",
    "version": 2
   },
   "file_extension": ".py",
   "mimetype": "text/x-python",
   "name": "python",
   "nbconvert_exporter": "python",
   "pygments_lexer": "ipython2",
   "version": "2.7.11"
  }
 },
 "nbformat": 4,
 "nbformat_minor": 0
}
