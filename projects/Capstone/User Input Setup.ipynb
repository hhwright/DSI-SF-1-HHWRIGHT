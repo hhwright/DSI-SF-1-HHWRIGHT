{
 "cells": [
  {
   "cell_type": "code",
   "execution_count": null,
   "metadata": {
    "collapsed": true,
    "scrolled": true
   },
   "outputs": [],
   "source": [
    "import seaborn as sns\n",
    "import numpy as np\n",
    "import pandas as pd\n",
    "import matplotlib.pyplot as plt\n",
    "from sklearn.linear_model import LogisticRegressionCV, LinearRegression\n",
    "from sklearn.cross_validation import train_test_split, cross_val_score\n",
    "import patsy\n",
    "from sklearn.linear_model import ElasticNet, ElasticNetCV\n",
    "from sklearn.grid_search import GridSearchCV\n",
    "from sklearn.linear_model import SGDClassifier, SGDRegressor\n",
    "from sklearn.ensemble import RandomForestClassifier, RandomForestRegressor\n",
    "from sklearn.metrics import roc_auc_score\n",
    "from sklearn.metrics import classification_report, confusion_matrix\n",
    "\n",
    "\n",
    "from ipywidgets import *\n",
    "from IPython.display import display\n",
    "from ipywidgets import Dropdown\n",
    "from sklearn.preprocessing import StandardScaler\n",
    "\n",
    "from sklearn.metrics import roc_curve, auc\n",
    "import matplotlib.pyplot as plt\n",
    "from mpl_toolkits.basemap import Basemap\n",
    "\n",
    "from PIL import Image\n",
    "from gcmap import GCMapper\n",
    "import random\n",
    "\n",
    "\n",
    "plt.style.use('seaborn-white')"
   ]
  },
  {
   "cell_type": "code",
   "execution_count": null,
   "metadata": {
    "collapsed": false,
    "scrolled": true
   },
   "outputs": [],
   "source": [
    "bay_raw = pd.read_pickle('./BAYAREA_ONLY_FINAL')"
   ]
  },
  {
   "cell_type": "code",
   "execution_count": null,
   "metadata": {
    "collapsed": false,
    "scrolled": true
   },
   "outputs": [],
   "source": [
    "#create unique lists of destination cities, days of the week, months, time blocks, and carriers\n",
    "bay_dest = bay_raw.dest_city_name.unique().tolist()\n",
    "day_of_week_select = bay_raw.day_of_week.unique().tolist()\n",
    "month_select = bay_raw.month.unique().tolist()\n",
    "time_blocks_select = bay_raw.dep_time_blk.unique().tolist()\n",
    "carrier_select = bay_raw.carrier.unique().tolist()\n",
    "\n",
    "#this creates a function to be run on the click of the submit button that will print out all of the users selections\n",
    "def test(val):\n",
    "    print \"Submitted!\"\n",
    "    print \"Destination City: \", destination.value\n",
    "    print \"Airline: \", airline.value\n",
    "    print \"Departure Month: \", month.value \n",
    "    print \"Day of the Week: \", day_of_week.value\n",
    "    print \"Departure Time: \", time_of_day.value\n",
    "#     predict_funct(val)\n",
    "\n",
    "\n",
    "#creates user input drop down for destination\n",
    "destination = Dropdown(\n",
    "    options= bay_dest,\n",
    "    value= bay_dest[0],\n",
    "    description='Dest. City: ',\n",
    ")\n",
    "\n",
    "month = Dropdown(\n",
    "    options=month_select,\n",
    "    value= month_select[0],\n",
    "    description='Month: ',\n",
    ")\n",
    "\n",
    "day_of_week = Dropdown(\n",
    "    options=day_of_week_select,\n",
    "    value= day_of_week_select[0],\n",
    "    description='Day of the Week: ',\n",
    ")\n",
    "\n",
    "time_of_day = Dropdown(\n",
    "    options= time_blocks_select,\n",
    "    value= time_blocks_select[0],\n",
    "    description='Hour of Flight: ',\n",
    ")\n",
    "\n",
    "airline = Dropdown(\n",
    "    options=carrier_select,\n",
    "    value= carrier_select[0],\n",
    "    description='Airline: '\n",
    ")\n",
    "\n",
    "\n",
    "# Creates submit button and event for when buttons is clicked, which I set to the function test, made above\n",
    "submit_button = Button(description=\"Submit Info\")\n",
    "submit_button.on_click(test)\n",
    "\n",
    "#displays dropdowns and submit button\n",
    "display(destination)\n",
    "display(airline)\n",
    "display(month)\n",
    "display(day_of_week)\n",
    "display(time_of_day)\n",
    "    \n",
    "display(submit_button)"
   ]
  },
  {
   "cell_type": "code",
   "execution_count": null,
   "metadata": {
    "collapsed": false,
    "scrolled": true
   },
   "outputs": [],
   "source": [
    "#Print out the results and use if statements to make a recommendation on which airport to fly out of.\n",
    "print \"Based on your selection there is a \" + str(round((sj_final_pred*100),2)) + \"% chance of delay at the San Jose Airport.\"\n",
    "print \"Based on your selection there is a \" + str(round((sf_final_pred*100),2)) + \"% chance of delay at the San Francisco Airport.\"\n",
    "print \"Based on your selection there is a \" + str(round((oak_final_pred*100),2)) + \"% chance of delay at the Oakland Airport. \\n\"\n",
    "\n",
    "if (sj_final_pred < oak_final_pred) & (sj_final_pred < sf_final_pred):\n",
    "    print \"I suggest you fly out of San Jose to avoid delays\"\n",
    "elif (sf_final_pred < oak_final_pred) & (sf_final_pred < sj_final_pred):\n",
    "    print \"I suggest you fly out of San Francisco to avoid delays\"\n",
    "else:\n",
    "    print \"I suggest you fly out of Oakland to avoid delays\""
   ]
  }
 ],
 "metadata": {
  "kernelspec": {
   "display_name": "Python 2",
   "language": "python",
   "name": "python2"
  },
  "language_info": {
   "codemirror_mode": {
    "name": "ipython",
    "version": 2
   },
   "file_extension": ".py",
   "mimetype": "text/x-python",
   "name": "python",
   "nbconvert_exporter": "python",
   "pygments_lexer": "ipython2",
   "version": "2.7.11"
  },
  "widgets": {
   "state": {
    "00798d94d207419abd68b1f181eb3167": {
     "views": [
      {
       "cell_index": 2
      }
     ]
    },
    "0c87999c14744e4487581258642e0ca2": {
     "views": [
      {
       "cell_index": 2
      }
     ]
    },
    "1816055c14cf4c65a886af8d2fb40071": {
     "views": []
    },
    "1a8ac8a5e123403e82f24a5ce4c3a1d2": {
     "views": [
      {
       "cell_index": 2
      }
     ]
    },
    "1c0306cb6645435d99b3884e8970bb8c": {
     "views": [
      {
       "cell_index": 2
      }
     ]
    },
    "44e648af9dea44c7967a156e94c37370": {
     "views": [
      {
       "cell_index": 2
      }
     ]
    },
    "8050c014c2bc42bbb953f97310249f5f": {
     "views": []
    },
    "8d7f1b6d00e74b108037453f61708558": {
     "views": []
    },
    "bd6484fcf4e84ef7914a4256f494f645": {
     "views": []
    },
    "cf6fa6cf494342f5a1daee7c494f8def": {
     "views": []
    },
    "d4fec448f8bb49a4bd270fd1345a824c": {
     "views": []
    },
    "fb138f9208e7455586def11cb52dbcad": {
     "views": [
      {
       "cell_index": 2
      }
     ]
    }
   },
   "version": "1.1.2"
  }
 },
 "nbformat": 4,
 "nbformat_minor": 0
}
