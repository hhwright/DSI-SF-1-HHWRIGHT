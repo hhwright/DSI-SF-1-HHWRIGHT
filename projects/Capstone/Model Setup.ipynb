{
 "cells": [
  {
   "cell_type": "code",
   "execution_count": null,
   "metadata": {
    "collapsed": true
   },
   "outputs": [],
   "source": [
    "#Below is my patsy formula to predict delays.\n",
    "formula = 'dep_binary_delay ~ C(month) + C(day_of_week) + distance + C(dep_time_blk) + C(origin_airport_id) + C(carrier) -1'\n",
    "\n",
    "#I use patsy to split up my target (binary delay) and the rest of my predictor, and I do so in a dataframe format. \n",
    "Y, X = patsy.dmatrices(formula, data=bay, return_type='dataframe')"
   ]
  },
  {
   "cell_type": "code",
   "execution_count": null,
   "metadata": {
    "collapsed": true
   },
   "outputs": [],
   "source": [
    "#After finding some general parameters I run another gridsearch with more a more specific parameter set \n",
    "#This will help me hone in on the best parameters. \n",
    "sgdc = SGDClassifier()\n",
    "\n",
    "sgdc_params = {\n",
    "    'loss':['log'],\n",
    "    'penalty':['elasticnet'],\n",
    "    'n_iter':[5],\n",
    "    'alpha':np.logspace(-4, 4, 10),\n",
    "    'l1_ratio':[0.05,0.06,0.07,0.08,0.09,0.1,0.12,0.13,0.14,0.15,0.2]\n",
    "}\n",
    "\n",
    "sgdc_gs = GridSearchCV(sgdc, sgdc_params, cv=5, verbose=1, n_jobs=1)\n",
    "\n",
    "#Here I fit the model to my dataset\n",
    "sgdc_gs.fit(Xn,Y)"
   ]
  },
  {
   "cell_type": "code",
   "execution_count": null,
   "metadata": {
    "collapsed": true
   },
   "outputs": [],
   "source": [
    "#below are the results from the above gridsearch\n",
    "best_params = {'n_iter': 5, 'alpha': 0.046415888336127774, 'loss': 'log', 'penalty': 'elasticnet', 'l1_ratio': 0.1}"
   ]
  }
 ],
 "metadata": {
  "kernelspec": {
   "display_name": "Python 2",
   "language": "python",
   "name": "python2"
  },
  "language_info": {
   "codemirror_mode": {
    "name": "ipython",
    "version": 2
   },
   "file_extension": ".py",
   "mimetype": "text/x-python",
   "name": "python",
   "nbconvert_exporter": "python",
   "pygments_lexer": "ipython2",
   "version": "2.7.11"
  },
  "widgets": {
   "state": {},
   "version": "1.1.2"
  }
 },
 "nbformat": 4,
 "nbformat_minor": 0
}
