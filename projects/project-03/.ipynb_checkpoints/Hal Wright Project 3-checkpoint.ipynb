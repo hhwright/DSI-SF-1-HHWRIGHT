{
 "cells": [
  {
   "cell_type": "code",
   "execution_count": null,
   "metadata": {
    "collapsed": false
   },
   "outputs": [],
   "source": [
    "import seaborn as sns\n",
    "import numpy as np\n",
    "import pandas as pd\n",
    "import matplotlib.pyplot as plt\n",
    "%matplotlib inline\n",
    "\n",
    "# Imported .csv to Iowa_data\n",
    "\n",
    "file_loc = \"../../../Iowa_Liquor_Sales_reduced.csv\"\n",
    "Iowa_data = pd.read_csv(file_loc)\n",
    "Iowa_data.head(3)\n"
   ]
  },
  {
   "cell_type": "code",
   "execution_count": null,
   "metadata": {
    "collapsed": false
   },
   "outputs": [],
   "source": [
    "sns.set(rc={\"figure.figsize\": (12, 12)})\n"
   ]
  },
  {
   "cell_type": "code",
   "execution_count": null,
   "metadata": {
    "collapsed": false,
    "scrolled": true
   },
   "outputs": [],
   "source": [
    "Iowa_data.sort('Volume Sold (Gallons)', ascending=False)[:3]"
   ]
  },
  {
   "cell_type": "code",
   "execution_count": null,
   "metadata": {
    "collapsed": false
   },
   "outputs": [],
   "source": [
    "#Created a function dollar() that converted string dollar amounts to floats and ran it on the appropriate columns\n",
    "\n",
    "def dollar(col):\n",
    "    Iowa_data[col] = Iowa_data[col].map(lambda x: x.replace('$',''))\n",
    "    Iowa_data[col] = Iowa_data[col].map(lambda x: float(x))\n",
    "\n",
    "dollar('State Bottle Cost')\n",
    "dollar('Sale (Dollars)')\n",
    "dollar('State Bottle Retail')\n",
    "\n"
   ]
  },
  {
   "cell_type": "code",
   "execution_count": null,
   "metadata": {
    "collapsed": false
   },
   "outputs": [],
   "source": [
    "#Converted Date column to a DateTime format\n",
    "Iowa_data['Date'] = pd.to_datetime(Iowa_data['Date'])"
   ]
  },
  {
   "cell_type": "code",
   "execution_count": null,
   "metadata": {
    "collapsed": true
   },
   "outputs": [],
   "source": [
    "#Dropped all of the rows with null values\n",
    "Iowa_data = Iowa_data.dropna()"
   ]
  },
  {
   "cell_type": "code",
   "execution_count": null,
   "metadata": {
    "collapsed": false
   },
   "outputs": [],
   "source": [
    "#The above DateTime conversion was a lengthy process so I pickled the DataFrame so I could access it easily without\n",
    "#having to rerun the DateTime conversion\n",
    "Iowa_data.to_pickle('./booze')"
   ]
  },
  {
   "cell_type": "code",
   "execution_count": 2,
   "metadata": {
    "collapsed": false
   },
   "outputs": [
    {
     "data": {
      "text/html": [
       "<div>\n",
       "<table border=\"1\" class=\"dataframe\">\n",
       "  <thead>\n",
       "    <tr style=\"text-align: right;\">\n",
       "      <th></th>\n",
       "      <th>Date</th>\n",
       "      <th>Store Number</th>\n",
       "      <th>City</th>\n",
       "      <th>Zip Code</th>\n",
       "      <th>County Number</th>\n",
       "      <th>County</th>\n",
       "      <th>Category</th>\n",
       "      <th>Category Name</th>\n",
       "      <th>Vendor Number</th>\n",
       "      <th>Item Number</th>\n",
       "      <th>Item Description</th>\n",
       "      <th>Bottle Volume (ml)</th>\n",
       "      <th>State Bottle Cost</th>\n",
       "      <th>State Bottle Retail</th>\n",
       "      <th>Bottles Sold</th>\n",
       "      <th>Sale (Dollars)</th>\n",
       "      <th>Volume Sold (Liters)</th>\n",
       "      <th>Volume Sold (Gallons)</th>\n",
       "    </tr>\n",
       "  </thead>\n",
       "  <tbody>\n",
       "    <tr>\n",
       "      <th>0</th>\n",
       "      <td>2016-03-31</td>\n",
       "      <td>5029</td>\n",
       "      <td>DAVENPORT</td>\n",
       "      <td>52806</td>\n",
       "      <td>82.0</td>\n",
       "      <td>Scott</td>\n",
       "      <td>1022100.0</td>\n",
       "      <td>TEQUILA</td>\n",
       "      <td>370</td>\n",
       "      <td>87152</td>\n",
       "      <td>Avion Silver</td>\n",
       "      <td>375</td>\n",
       "      <td>9.99</td>\n",
       "      <td>14.99</td>\n",
       "      <td>12</td>\n",
       "      <td>179.88</td>\n",
       "      <td>4.5</td>\n",
       "      <td>1.19</td>\n",
       "    </tr>\n",
       "    <tr>\n",
       "      <th>1</th>\n",
       "      <td>2016-03-31</td>\n",
       "      <td>5029</td>\n",
       "      <td>DAVENPORT</td>\n",
       "      <td>52806</td>\n",
       "      <td>82.0</td>\n",
       "      <td>Scott</td>\n",
       "      <td>1022100.0</td>\n",
       "      <td>TEQUILA</td>\n",
       "      <td>395</td>\n",
       "      <td>89197</td>\n",
       "      <td>Jose Cuervo Especial Reposado Tequila</td>\n",
       "      <td>1000</td>\n",
       "      <td>12.50</td>\n",
       "      <td>18.75</td>\n",
       "      <td>2</td>\n",
       "      <td>37.50</td>\n",
       "      <td>2.0</td>\n",
       "      <td>0.53</td>\n",
       "    </tr>\n",
       "    <tr>\n",
       "      <th>2</th>\n",
       "      <td>2016-03-31</td>\n",
       "      <td>4959</td>\n",
       "      <td>CEDAR FALLS</td>\n",
       "      <td>50613</td>\n",
       "      <td>7.0</td>\n",
       "      <td>Black Hawk</td>\n",
       "      <td>1071100.0</td>\n",
       "      <td>AMERICAN COCKTAILS</td>\n",
       "      <td>380</td>\n",
       "      <td>63959</td>\n",
       "      <td>Uv Blue Raspberry Lemonade Pet</td>\n",
       "      <td>1750</td>\n",
       "      <td>5.97</td>\n",
       "      <td>8.96</td>\n",
       "      <td>6</td>\n",
       "      <td>53.76</td>\n",
       "      <td>10.5</td>\n",
       "      <td>2.77</td>\n",
       "    </tr>\n",
       "  </tbody>\n",
       "</table>\n",
       "</div>"
      ],
      "text/plain": [
       "        Date  Store Number         City Zip Code  County Number      County  \\\n",
       "0 2016-03-31          5029    DAVENPORT    52806           82.0       Scott   \n",
       "1 2016-03-31          5029    DAVENPORT    52806           82.0       Scott   \n",
       "2 2016-03-31          4959  CEDAR FALLS    50613            7.0  Black Hawk   \n",
       "\n",
       "    Category       Category Name  Vendor Number  Item Number  \\\n",
       "0  1022100.0             TEQUILA            370        87152   \n",
       "1  1022100.0             TEQUILA            395        89197   \n",
       "2  1071100.0  AMERICAN COCKTAILS            380        63959   \n",
       "\n",
       "                        Item Description  Bottle Volume (ml)  \\\n",
       "0                           Avion Silver                 375   \n",
       "1  Jose Cuervo Especial Reposado Tequila                1000   \n",
       "2         Uv Blue Raspberry Lemonade Pet                1750   \n",
       "\n",
       "   State Bottle Cost  State Bottle Retail  Bottles Sold  Sale (Dollars)  \\\n",
       "0               9.99                14.99            12          179.88   \n",
       "1              12.50                18.75             2           37.50   \n",
       "2               5.97                 8.96             6           53.76   \n",
       "\n",
       "   Volume Sold (Liters)  Volume Sold (Gallons)  \n",
       "0                   4.5                   1.19  \n",
       "1                   2.0                   0.53  \n",
       "2                  10.5                   2.77  "
      ]
     },
     "execution_count": 2,
     "metadata": {},
     "output_type": "execute_result"
    }
   ],
   "source": [
    "import seaborn as sns\n",
    "import numpy as np\n",
    "import pandas as pd\n",
    "import matplotlib.pyplot as plt\n",
    "%matplotlib inline\n",
    "\n",
    "Iowa_data = pd.read_pickle('./booze')\n",
    "\n",
    "Iowa_data.head(3)"
   ]
  },
  {
   "cell_type": "code",
   "execution_count": null,
   "metadata": {
    "collapsed": false
   },
   "outputs": [],
   "source": []
  },
  {
   "cell_type": "code",
   "execution_count": 3,
   "metadata": {
    "collapsed": false
   },
   "outputs": [],
   "source": [
    "#Subseted the data to included only continuous variables.  There were too many categories to run a categorical regressions.\n",
    "\n",
    "subset = Iowa_data[['Date','Sale (Dollars)','Store Number','County Number','State Bottle Cost', 'State Bottle Retail','Bottles Sold']]"
   ]
  },
  {
   "cell_type": "code",
   "execution_count": 4,
   "metadata": {
    "collapsed": false
   },
   "outputs": [
    {
     "name": "stderr",
     "output_type": "stream",
     "text": [
      "/home/dsi-student/anaconda2/lib/python2.7/site-packages/ipykernel/__main__.py:4: SettingWithCopyWarning: \n",
      "A value is trying to be set on a copy of a slice from a DataFrame.\n",
      "Try using .loc[row_indexer,col_indexer] = value instead\n",
      "\n",
      "See the caveats in the documentation: http://pandas.pydata.org/pandas-docs/stable/indexing.html#indexing-view-versus-copy\n",
      "/home/dsi-student/anaconda2/lib/python2.7/site-packages/ipykernel/__main__.py:5: SettingWithCopyWarning: \n",
      "A value is trying to be set on a copy of a slice from a DataFrame.\n",
      "Try using .loc[row_indexer,col_indexer] = value instead\n",
      "\n",
      "See the caveats in the documentation: http://pandas.pydata.org/pandas-docs/stable/indexing.html#indexing-view-versus-copy\n"
     ]
    }
   ],
   "source": [
    "#Using State Bottle Cost and State Bottle retail, calculated an average margin for each transaction\n",
    "#Using margin and the numbers of bottles sold, calculated total profit of each transaction\n",
    "\n",
    "subset['Margin'] =  subset['State Bottle Retail'].values - subset['State Bottle Cost'].values\n",
    "subset['Profit'] = subset['Margin'].values * subset['Bottles Sold']\n"
   ]
  },
  {
   "cell_type": "code",
   "execution_count": 5,
   "metadata": {
    "collapsed": false,
    "scrolled": true
   },
   "outputs": [
    {
     "name": "stderr",
     "output_type": "stream",
     "text": [
      "/home/dsi-student/anaconda2/lib/python2.7/site-packages/ipykernel/__main__.py:2: SettingWithCopyWarning: \n",
      "A value is trying to be set on a copy of a slice from a DataFrame.\n",
      "Try using .loc[row_indexer,col_indexer] = value instead\n",
      "\n",
      "See the caveats in the documentation: http://pandas.pydata.org/pandas-docs/stable/indexing.html#indexing-view-versus-copy\n",
      "  from ipykernel import kernelapp as app\n"
     ]
    }
   ],
   "source": [
    "#Created new column Month to make it easier to groupby months of sales data\n",
    "subset['Month'] = subset['Date'].dt.month"
   ]
  },
  {
   "cell_type": "code",
   "execution_count": 6,
   "metadata": {
    "collapsed": false
   },
   "outputs": [
    {
     "data": {
      "text/html": [
       "<div>\n",
       "<table border=\"1\" class=\"dataframe\">\n",
       "  <thead>\n",
       "    <tr style=\"text-align: right;\">\n",
       "      <th></th>\n",
       "      <th>Date</th>\n",
       "      <th>Sale (Dollars)</th>\n",
       "      <th>Store Number</th>\n",
       "      <th>County Number</th>\n",
       "      <th>State Bottle Cost</th>\n",
       "      <th>State Bottle Retail</th>\n",
       "      <th>Bottles Sold</th>\n",
       "      <th>Margin</th>\n",
       "      <th>Profit</th>\n",
       "      <th>Month</th>\n",
       "    </tr>\n",
       "  </thead>\n",
       "  <tbody>\n",
       "    <tr>\n",
       "      <th>0</th>\n",
       "      <td>2016-03-31</td>\n",
       "      <td>179.88</td>\n",
       "      <td>5029</td>\n",
       "      <td>82.0</td>\n",
       "      <td>9.99</td>\n",
       "      <td>14.99</td>\n",
       "      <td>12</td>\n",
       "      <td>5.00</td>\n",
       "      <td>60.00</td>\n",
       "      <td>3</td>\n",
       "    </tr>\n",
       "    <tr>\n",
       "      <th>1</th>\n",
       "      <td>2016-03-31</td>\n",
       "      <td>37.50</td>\n",
       "      <td>5029</td>\n",
       "      <td>82.0</td>\n",
       "      <td>12.50</td>\n",
       "      <td>18.75</td>\n",
       "      <td>2</td>\n",
       "      <td>6.25</td>\n",
       "      <td>12.50</td>\n",
       "      <td>3</td>\n",
       "    </tr>\n",
       "    <tr>\n",
       "      <th>2</th>\n",
       "      <td>2016-03-31</td>\n",
       "      <td>53.76</td>\n",
       "      <td>4959</td>\n",
       "      <td>7.0</td>\n",
       "      <td>5.97</td>\n",
       "      <td>8.96</td>\n",
       "      <td>6</td>\n",
       "      <td>2.99</td>\n",
       "      <td>17.94</td>\n",
       "      <td>3</td>\n",
       "    </tr>\n",
       "    <tr>\n",
       "      <th>3</th>\n",
       "      <td>2016-03-31</td>\n",
       "      <td>161.28</td>\n",
       "      <td>2190</td>\n",
       "      <td>77.0</td>\n",
       "      <td>2.24</td>\n",
       "      <td>3.36</td>\n",
       "      <td>48</td>\n",
       "      <td>1.12</td>\n",
       "      <td>53.76</td>\n",
       "      <td>3</td>\n",
       "    </tr>\n",
       "    <tr>\n",
       "      <th>5</th>\n",
       "      <td>2016-03-31</td>\n",
       "      <td>34.50</td>\n",
       "      <td>4988</td>\n",
       "      <td>7.0</td>\n",
       "      <td>23.00</td>\n",
       "      <td>34.50</td>\n",
       "      <td>1</td>\n",
       "      <td>11.50</td>\n",
       "      <td>11.50</td>\n",
       "      <td>3</td>\n",
       "    </tr>\n",
       "  </tbody>\n",
       "</table>\n",
       "</div>"
      ],
      "text/plain": [
       "        Date  Sale (Dollars)  Store Number  County Number  State Bottle Cost  \\\n",
       "0 2016-03-31          179.88          5029           82.0               9.99   \n",
       "1 2016-03-31           37.50          5029           82.0              12.50   \n",
       "2 2016-03-31           53.76          4959            7.0               5.97   \n",
       "3 2016-03-31          161.28          2190           77.0               2.24   \n",
       "5 2016-03-31           34.50          4988            7.0              23.00   \n",
       "\n",
       "   State Bottle Retail  Bottles Sold  Margin  Profit  Month  \n",
       "0                14.99            12    5.00   60.00      3  \n",
       "1                18.75             2    6.25   12.50      3  \n",
       "2                 8.96             6    2.99   17.94      3  \n",
       "3                 3.36            48    1.12   53.76      3  \n",
       "5                34.50             1   11.50   11.50      3  "
      ]
     },
     "execution_count": 6,
     "metadata": {},
     "output_type": "execute_result"
    }
   ],
   "source": [
    "subset.head()"
   ]
  },
  {
   "cell_type": "code",
   "execution_count": 7,
   "metadata": {
    "collapsed": false,
    "scrolled": true
   },
   "outputs": [],
   "source": [
    "#Removing stores that were only open for business for part of 2015 as they will skew my numbers\n",
    "#Created DataFrame grouped by store number with max and min transaction month\n",
    "\n",
    "mask = subset['Date'] < '2015-12-31'\n",
    "test = subset[mask]\n",
    "hello = test[['Store Number','Month']]\n",
    "x = hello.groupby('Store Number')\n",
    "z = x.agg({'Month':[np.min, np.max]})['Month']\n",
    "z.reset_index(inplace=True)\n",
    "\n",
    "new_mask = (z['amin'] == 1) & (z['amax'] == 12)\n",
    "\n",
    "good_stores = z[new_mask]['Store Number'].values\n",
    "\n",
    "    \n"
   ]
  },
  {
   "cell_type": "code",
   "execution_count": 8,
   "metadata": {
    "collapsed": false
   },
   "outputs": [
    {
     "data": {
      "text/html": [
       "<div>\n",
       "<table border=\"1\" class=\"dataframe\">\n",
       "  <thead>\n",
       "    <tr style=\"text-align: right;\">\n",
       "      <th></th>\n",
       "      <th>Store Number</th>\n",
       "      <th>amin</th>\n",
       "      <th>amax</th>\n",
       "    </tr>\n",
       "  </thead>\n",
       "  <tbody>\n",
       "    <tr>\n",
       "      <th>0</th>\n",
       "      <td>2106</td>\n",
       "      <td>1</td>\n",
       "      <td>12</td>\n",
       "    </tr>\n",
       "    <tr>\n",
       "      <th>1</th>\n",
       "      <td>2113</td>\n",
       "      <td>1</td>\n",
       "      <td>12</td>\n",
       "    </tr>\n",
       "    <tr>\n",
       "      <th>2</th>\n",
       "      <td>2130</td>\n",
       "      <td>1</td>\n",
       "      <td>12</td>\n",
       "    </tr>\n",
       "    <tr>\n",
       "      <th>3</th>\n",
       "      <td>2152</td>\n",
       "      <td>1</td>\n",
       "      <td>12</td>\n",
       "    </tr>\n",
       "    <tr>\n",
       "      <th>4</th>\n",
       "      <td>2178</td>\n",
       "      <td>1</td>\n",
       "      <td>12</td>\n",
       "    </tr>\n",
       "  </tbody>\n",
       "</table>\n",
       "</div>"
      ],
      "text/plain": [
       "   Store Number  amin  amax\n",
       "0          2106     1    12\n",
       "1          2113     1    12\n",
       "2          2130     1    12\n",
       "3          2152     1    12\n",
       "4          2178     1    12"
      ]
     },
     "execution_count": 8,
     "metadata": {},
     "output_type": "execute_result"
    }
   ],
   "source": [
    "z.head()"
   ]
  },
  {
   "cell_type": "code",
   "execution_count": null,
   "metadata": {
    "collapsed": false
   },
   "outputs": [],
   "source": []
  },
  {
   "cell_type": "code",
   "execution_count": 9,
   "metadata": {
    "collapsed": false
   },
   "outputs": [],
   "source": [
    "#Created a new dataframe with only transaction data from stores that were open all of 2015\n",
    "sales_agg = subset[subset['Store Number'].isin(set(good_stores))]"
   ]
  },
  {
   "cell_type": "code",
   "execution_count": 10,
   "metadata": {
    "collapsed": false
   },
   "outputs": [
    {
     "data": {
      "text/html": [
       "<div>\n",
       "<table border=\"1\" class=\"dataframe\">\n",
       "  <thead>\n",
       "    <tr style=\"text-align: right;\">\n",
       "      <th></th>\n",
       "      <th>Date</th>\n",
       "      <th>Sale (Dollars)</th>\n",
       "      <th>Store Number</th>\n",
       "      <th>County Number</th>\n",
       "      <th>State Bottle Cost</th>\n",
       "      <th>State Bottle Retail</th>\n",
       "      <th>Bottles Sold</th>\n",
       "      <th>Margin</th>\n",
       "      <th>Profit</th>\n",
       "      <th>Month</th>\n",
       "    </tr>\n",
       "  </thead>\n",
       "  <tbody>\n",
       "    <tr>\n",
       "      <th>0</th>\n",
       "      <td>2016-03-31</td>\n",
       "      <td>179.88</td>\n",
       "      <td>5029</td>\n",
       "      <td>82.0</td>\n",
       "      <td>9.99</td>\n",
       "      <td>14.99</td>\n",
       "      <td>12</td>\n",
       "      <td>5.00</td>\n",
       "      <td>60.00</td>\n",
       "      <td>3</td>\n",
       "    </tr>\n",
       "    <tr>\n",
       "      <th>1</th>\n",
       "      <td>2016-03-31</td>\n",
       "      <td>37.50</td>\n",
       "      <td>5029</td>\n",
       "      <td>82.0</td>\n",
       "      <td>12.50</td>\n",
       "      <td>18.75</td>\n",
       "      <td>2</td>\n",
       "      <td>6.25</td>\n",
       "      <td>12.50</td>\n",
       "      <td>3</td>\n",
       "    </tr>\n",
       "    <tr>\n",
       "      <th>2</th>\n",
       "      <td>2016-03-31</td>\n",
       "      <td>53.76</td>\n",
       "      <td>4959</td>\n",
       "      <td>7.0</td>\n",
       "      <td>5.97</td>\n",
       "      <td>8.96</td>\n",
       "      <td>6</td>\n",
       "      <td>2.99</td>\n",
       "      <td>17.94</td>\n",
       "      <td>3</td>\n",
       "    </tr>\n",
       "    <tr>\n",
       "      <th>3</th>\n",
       "      <td>2016-03-31</td>\n",
       "      <td>161.28</td>\n",
       "      <td>2190</td>\n",
       "      <td>77.0</td>\n",
       "      <td>2.24</td>\n",
       "      <td>3.36</td>\n",
       "      <td>48</td>\n",
       "      <td>1.12</td>\n",
       "      <td>53.76</td>\n",
       "      <td>3</td>\n",
       "    </tr>\n",
       "    <tr>\n",
       "      <th>5</th>\n",
       "      <td>2016-03-31</td>\n",
       "      <td>34.50</td>\n",
       "      <td>4988</td>\n",
       "      <td>7.0</td>\n",
       "      <td>23.00</td>\n",
       "      <td>34.50</td>\n",
       "      <td>1</td>\n",
       "      <td>11.50</td>\n",
       "      <td>11.50</td>\n",
       "      <td>3</td>\n",
       "    </tr>\n",
       "  </tbody>\n",
       "</table>\n",
       "</div>"
      ],
      "text/plain": [
       "        Date  Sale (Dollars)  Store Number  County Number  State Bottle Cost  \\\n",
       "0 2016-03-31          179.88          5029           82.0               9.99   \n",
       "1 2016-03-31           37.50          5029           82.0              12.50   \n",
       "2 2016-03-31           53.76          4959            7.0               5.97   \n",
       "3 2016-03-31          161.28          2190           77.0               2.24   \n",
       "5 2016-03-31           34.50          4988            7.0              23.00   \n",
       "\n",
       "   State Bottle Retail  Bottles Sold  Margin  Profit  Month  \n",
       "0                14.99            12    5.00   60.00      3  \n",
       "1                18.75             2    6.25   12.50      3  \n",
       "2                 8.96             6    2.99   17.94      3  \n",
       "3                 3.36            48    1.12   53.76      3  \n",
       "5                34.50             1   11.50   11.50      3  "
      ]
     },
     "execution_count": 10,
     "metadata": {},
     "output_type": "execute_result"
    }
   ],
   "source": [
    "sales_agg.head()"
   ]
  },
  {
   "cell_type": "code",
   "execution_count": 14,
   "metadata": {
    "collapsed": false
   },
   "outputs": [
    {
     "data": {
      "text/html": [
       "<div>\n",
       "<table border=\"1\" class=\"dataframe\">\n",
       "  <thead>\n",
       "    <tr style=\"text-align: right;\">\n",
       "      <th></th>\n",
       "      <th>Store Number</th>\n",
       "      <th>2015_sales</th>\n",
       "    </tr>\n",
       "  </thead>\n",
       "  <tbody>\n",
       "    <tr>\n",
       "      <th>0</th>\n",
       "      <td>2106</td>\n",
       "      <td>1433451.46</td>\n",
       "    </tr>\n",
       "    <tr>\n",
       "      <th>1</th>\n",
       "      <td>2113</td>\n",
       "      <td>85763.42</td>\n",
       "    </tr>\n",
       "    <tr>\n",
       "      <th>2</th>\n",
       "      <td>2130</td>\n",
       "      <td>1107685.25</td>\n",
       "    </tr>\n",
       "    <tr>\n",
       "      <th>3</th>\n",
       "      <td>2152</td>\n",
       "      <td>72080.36</td>\n",
       "    </tr>\n",
       "    <tr>\n",
       "      <th>4</th>\n",
       "      <td>2178</td>\n",
       "      <td>277987.96</td>\n",
       "    </tr>\n",
       "  </tbody>\n",
       "</table>\n",
       "</div>"
      ],
      "text/plain": [
       "   Store Number  2015_sales\n",
       "0          2106  1433451.46\n",
       "1          2113    85763.42\n",
       "2          2130  1107685.25\n",
       "3          2152    72080.36\n",
       "4          2178   277987.96"
      ]
     },
     "execution_count": 14,
     "metadata": {},
     "output_type": "execute_result"
    }
   ],
   "source": [
    "#Created aggregate of sales in \n",
    "mask_15 = sales_agg['Date']< '2016-1-1'\n",
    "group_15 = sales_agg[mask_15].groupby('Store Number')['Sale (Dollars)'].aggregate(np.sum)\n",
    "total_sales = pd.DataFrame(group_15)\n",
    "total_sales=total_sales.rename(columns = {'Sale (Dollars)':'2015_sales'})\n",
    "\n",
    "#del total_sales['County Number']\n",
    "#del total_sales['State Bottle Cost']\n",
    "#del total_sales['State Bottle Retail']\n",
    "#del total_sales['Month']\n",
    "#del total_sales['Profit']\n",
    "#del total_sales['Bottles Sold']\n",
    "#del total_sales['Margin']\n",
    "\n",
    "\n",
    "total_sales.reset_index(inplace=True)\n",
    "total_sales.head()"
   ]
  },
  {
   "cell_type": "code",
   "execution_count": 15,
   "metadata": {
    "collapsed": false
   },
   "outputs": [
    {
     "data": {
      "text/html": [
       "<div>\n",
       "<table border=\"1\" class=\"dataframe\">\n",
       "  <thead>\n",
       "    <tr style=\"text-align: right;\">\n",
       "      <th></th>\n",
       "      <th>Store Number</th>\n",
       "      <th>2015_sales</th>\n",
       "    </tr>\n",
       "  </thead>\n",
       "  <tbody>\n",
       "    <tr>\n",
       "      <th>0</th>\n",
       "      <td>2106</td>\n",
       "      <td>1433451.46</td>\n",
       "    </tr>\n",
       "    <tr>\n",
       "      <th>1</th>\n",
       "      <td>2113</td>\n",
       "      <td>85763.42</td>\n",
       "    </tr>\n",
       "    <tr>\n",
       "      <th>2</th>\n",
       "      <td>2130</td>\n",
       "      <td>1107685.25</td>\n",
       "    </tr>\n",
       "    <tr>\n",
       "      <th>3</th>\n",
       "      <td>2152</td>\n",
       "      <td>72080.36</td>\n",
       "    </tr>\n",
       "    <tr>\n",
       "      <th>4</th>\n",
       "      <td>2178</td>\n",
       "      <td>277987.96</td>\n",
       "    </tr>\n",
       "    <tr>\n",
       "      <th>5</th>\n",
       "      <td>2190</td>\n",
       "      <td>1226205.17</td>\n",
       "    </tr>\n",
       "    <tr>\n",
       "      <th>6</th>\n",
       "      <td>2191</td>\n",
       "      <td>1275405.26</td>\n",
       "    </tr>\n",
       "    <tr>\n",
       "      <th>7</th>\n",
       "      <td>2200</td>\n",
       "      <td>223899.24</td>\n",
       "    </tr>\n",
       "    <tr>\n",
       "      <th>8</th>\n",
       "      <td>2205</td>\n",
       "      <td>230898.31</td>\n",
       "    </tr>\n",
       "    <tr>\n",
       "      <th>9</th>\n",
       "      <td>2228</td>\n",
       "      <td>188879.70</td>\n",
       "    </tr>\n",
       "    <tr>\n",
       "      <th>10</th>\n",
       "      <td>2233</td>\n",
       "      <td>316855.05</td>\n",
       "    </tr>\n",
       "    <tr>\n",
       "      <th>11</th>\n",
       "      <td>2238</td>\n",
       "      <td>105057.79</td>\n",
       "    </tr>\n",
       "    <tr>\n",
       "      <th>12</th>\n",
       "      <td>2248</td>\n",
       "      <td>659252.26</td>\n",
       "    </tr>\n",
       "    <tr>\n",
       "      <th>13</th>\n",
       "      <td>2285</td>\n",
       "      <td>776397.91</td>\n",
       "    </tr>\n",
       "    <tr>\n",
       "      <th>14</th>\n",
       "      <td>2290</td>\n",
       "      <td>549295.90</td>\n",
       "    </tr>\n",
       "    <tr>\n",
       "      <th>15</th>\n",
       "      <td>2327</td>\n",
       "      <td>100596.80</td>\n",
       "    </tr>\n",
       "    <tr>\n",
       "      <th>16</th>\n",
       "      <td>2353</td>\n",
       "      <td>485145.13</td>\n",
       "    </tr>\n",
       "    <tr>\n",
       "      <th>17</th>\n",
       "      <td>2413</td>\n",
       "      <td>835742.87</td>\n",
       "    </tr>\n",
       "    <tr>\n",
       "      <th>18</th>\n",
       "      <td>2445</td>\n",
       "      <td>71682.86</td>\n",
       "    </tr>\n",
       "    <tr>\n",
       "      <th>19</th>\n",
       "      <td>2448</td>\n",
       "      <td>203038.62</td>\n",
       "    </tr>\n",
       "    <tr>\n",
       "      <th>20</th>\n",
       "      <td>2459</td>\n",
       "      <td>79026.65</td>\n",
       "    </tr>\n",
       "    <tr>\n",
       "      <th>21</th>\n",
       "      <td>2460</td>\n",
       "      <td>301694.40</td>\n",
       "    </tr>\n",
       "    <tr>\n",
       "      <th>22</th>\n",
       "      <td>2465</td>\n",
       "      <td>264728.41</td>\n",
       "    </tr>\n",
       "    <tr>\n",
       "      <th>23</th>\n",
       "      <td>2475</td>\n",
       "      <td>121763.29</td>\n",
       "    </tr>\n",
       "    <tr>\n",
       "      <th>24</th>\n",
       "      <td>2478</td>\n",
       "      <td>198550.40</td>\n",
       "    </tr>\n",
       "    <tr>\n",
       "      <th>25</th>\n",
       "      <td>2498</td>\n",
       "      <td>27453.07</td>\n",
       "    </tr>\n",
       "    <tr>\n",
       "      <th>26</th>\n",
       "      <td>2500</td>\n",
       "      <td>1354990.08</td>\n",
       "    </tr>\n",
       "    <tr>\n",
       "      <th>27</th>\n",
       "      <td>2501</td>\n",
       "      <td>1377465.13</td>\n",
       "    </tr>\n",
       "    <tr>\n",
       "      <th>28</th>\n",
       "      <td>2502</td>\n",
       "      <td>1372155.78</td>\n",
       "    </tr>\n",
       "    <tr>\n",
       "      <th>29</th>\n",
       "      <td>2505</td>\n",
       "      <td>659068.44</td>\n",
       "    </tr>\n",
       "    <tr>\n",
       "      <th>...</th>\n",
       "      <td>...</td>\n",
       "      <td>...</td>\n",
       "    </tr>\n",
       "    <tr>\n",
       "      <th>1080</th>\n",
       "      <td>5052</td>\n",
       "      <td>28576.70</td>\n",
       "    </tr>\n",
       "    <tr>\n",
       "      <th>1081</th>\n",
       "      <td>5054</td>\n",
       "      <td>476900.60</td>\n",
       "    </tr>\n",
       "    <tr>\n",
       "      <th>1082</th>\n",
       "      <td>5055</td>\n",
       "      <td>15846.88</td>\n",
       "    </tr>\n",
       "    <tr>\n",
       "      <th>1083</th>\n",
       "      <td>5057</td>\n",
       "      <td>39539.61</td>\n",
       "    </tr>\n",
       "    <tr>\n",
       "      <th>1084</th>\n",
       "      <td>5058</td>\n",
       "      <td>24835.16</td>\n",
       "    </tr>\n",
       "    <tr>\n",
       "      <th>1085</th>\n",
       "      <td>5059</td>\n",
       "      <td>20574.45</td>\n",
       "    </tr>\n",
       "    <tr>\n",
       "      <th>1086</th>\n",
       "      <td>5060</td>\n",
       "      <td>62234.82</td>\n",
       "    </tr>\n",
       "    <tr>\n",
       "      <th>1087</th>\n",
       "      <td>5061</td>\n",
       "      <td>29098.98</td>\n",
       "    </tr>\n",
       "    <tr>\n",
       "      <th>1088</th>\n",
       "      <td>5063</td>\n",
       "      <td>207103.24</td>\n",
       "    </tr>\n",
       "    <tr>\n",
       "      <th>1089</th>\n",
       "      <td>5064</td>\n",
       "      <td>27377.75</td>\n",
       "    </tr>\n",
       "    <tr>\n",
       "      <th>1090</th>\n",
       "      <td>5065</td>\n",
       "      <td>28404.65</td>\n",
       "    </tr>\n",
       "    <tr>\n",
       "      <th>1091</th>\n",
       "      <td>5067</td>\n",
       "      <td>80735.36</td>\n",
       "    </tr>\n",
       "    <tr>\n",
       "      <th>1092</th>\n",
       "      <td>5068</td>\n",
       "      <td>210613.28</td>\n",
       "    </tr>\n",
       "    <tr>\n",
       "      <th>1093</th>\n",
       "      <td>5070</td>\n",
       "      <td>62754.84</td>\n",
       "    </tr>\n",
       "    <tr>\n",
       "      <th>1094</th>\n",
       "      <td>5071</td>\n",
       "      <td>69481.82</td>\n",
       "    </tr>\n",
       "    <tr>\n",
       "      <th>1095</th>\n",
       "      <td>5072</td>\n",
       "      <td>24581.50</td>\n",
       "    </tr>\n",
       "    <tr>\n",
       "      <th>1096</th>\n",
       "      <td>5073</td>\n",
       "      <td>68726.34</td>\n",
       "    </tr>\n",
       "    <tr>\n",
       "      <th>1097</th>\n",
       "      <td>5076</td>\n",
       "      <td>26711.90</td>\n",
       "    </tr>\n",
       "    <tr>\n",
       "      <th>1098</th>\n",
       "      <td>5077</td>\n",
       "      <td>294088.01</td>\n",
       "    </tr>\n",
       "    <tr>\n",
       "      <th>1099</th>\n",
       "      <td>5080</td>\n",
       "      <td>215402.48</td>\n",
       "    </tr>\n",
       "    <tr>\n",
       "      <th>1100</th>\n",
       "      <td>5086</td>\n",
       "      <td>51653.25</td>\n",
       "    </tr>\n",
       "    <tr>\n",
       "      <th>1101</th>\n",
       "      <td>5088</td>\n",
       "      <td>26859.20</td>\n",
       "    </tr>\n",
       "    <tr>\n",
       "      <th>1102</th>\n",
       "      <td>5089</td>\n",
       "      <td>34522.88</td>\n",
       "    </tr>\n",
       "    <tr>\n",
       "      <th>1103</th>\n",
       "      <td>5090</td>\n",
       "      <td>31888.65</td>\n",
       "    </tr>\n",
       "    <tr>\n",
       "      <th>1104</th>\n",
       "      <td>5091</td>\n",
       "      <td>30876.44</td>\n",
       "    </tr>\n",
       "    <tr>\n",
       "      <th>1105</th>\n",
       "      <td>5092</td>\n",
       "      <td>51100.71</td>\n",
       "    </tr>\n",
       "    <tr>\n",
       "      <th>1106</th>\n",
       "      <td>5093</td>\n",
       "      <td>99586.06</td>\n",
       "    </tr>\n",
       "    <tr>\n",
       "      <th>1107</th>\n",
       "      <td>9001</td>\n",
       "      <td>191820.12</td>\n",
       "    </tr>\n",
       "    <tr>\n",
       "      <th>1108</th>\n",
       "      <td>9002</td>\n",
       "      <td>327676.62</td>\n",
       "    </tr>\n",
       "    <tr>\n",
       "      <th>1109</th>\n",
       "      <td>9010</td>\n",
       "      <td>26209.38</td>\n",
       "    </tr>\n",
       "  </tbody>\n",
       "</table>\n",
       "<p>1110 rows × 2 columns</p>\n",
       "</div>"
      ],
      "text/plain": [
       "      Store Number  2015_sales\n",
       "0             2106  1433451.46\n",
       "1             2113    85763.42\n",
       "2             2130  1107685.25\n",
       "3             2152    72080.36\n",
       "4             2178   277987.96\n",
       "5             2190  1226205.17\n",
       "6             2191  1275405.26\n",
       "7             2200   223899.24\n",
       "8             2205   230898.31\n",
       "9             2228   188879.70\n",
       "10            2233   316855.05\n",
       "11            2238   105057.79\n",
       "12            2248   659252.26\n",
       "13            2285   776397.91\n",
       "14            2290   549295.90\n",
       "15            2327   100596.80\n",
       "16            2353   485145.13\n",
       "17            2413   835742.87\n",
       "18            2445    71682.86\n",
       "19            2448   203038.62\n",
       "20            2459    79026.65\n",
       "21            2460   301694.40\n",
       "22            2465   264728.41\n",
       "23            2475   121763.29\n",
       "24            2478   198550.40\n",
       "25            2498    27453.07\n",
       "26            2500  1354990.08\n",
       "27            2501  1377465.13\n",
       "28            2502  1372155.78\n",
       "29            2505   659068.44\n",
       "...            ...         ...\n",
       "1080          5052    28576.70\n",
       "1081          5054   476900.60\n",
       "1082          5055    15846.88\n",
       "1083          5057    39539.61\n",
       "1084          5058    24835.16\n",
       "1085          5059    20574.45\n",
       "1086          5060    62234.82\n",
       "1087          5061    29098.98\n",
       "1088          5063   207103.24\n",
       "1089          5064    27377.75\n",
       "1090          5065    28404.65\n",
       "1091          5067    80735.36\n",
       "1092          5068   210613.28\n",
       "1093          5070    62754.84\n",
       "1094          5071    69481.82\n",
       "1095          5072    24581.50\n",
       "1096          5073    68726.34\n",
       "1097          5076    26711.90\n",
       "1098          5077   294088.01\n",
       "1099          5080   215402.48\n",
       "1100          5086    51653.25\n",
       "1101          5088    26859.20\n",
       "1102          5089    34522.88\n",
       "1103          5090    31888.65\n",
       "1104          5091    30876.44\n",
       "1105          5092    51100.71\n",
       "1106          5093    99586.06\n",
       "1107          9001   191820.12\n",
       "1108          9002   327676.62\n",
       "1109          9010    26209.38\n",
       "\n",
       "[1110 rows x 2 columns]"
      ]
     },
     "execution_count": 15,
     "metadata": {},
     "output_type": "execute_result"
    }
   ],
   "source": [
    "#for i,c in enumerate(subset['Store Number']):\n",
    "#    if c in bad_stores:\n",
    "#        del subset['Store Number'][i]\n",
    "total_sales"
   ]
  },
  {
   "cell_type": "code",
   "execution_count": 16,
   "metadata": {
    "collapsed": false
   },
   "outputs": [],
   "source": [
    "#Mask segments the data into only q1 of 2015\n",
    "mask = (sales_agg['Date']>='2015-1-1') & (sales_agg['Date']<'2015-4-1')\n",
    "\n",
    "#This groups the segmented data by Store Number \n",
    "groups = sales_agg[mask].groupby('Store Number')\n",
    "# This creates a data frame called sales with the sum of every stores Q1 sales in 2015\n",
    "salesq1 = pd.DataFrame(groups['Sale (Dollars)'].aggregate(np.sum))\n",
    "\n",
    "\n",
    "#for g in groups:\n",
    "#print g\n",
    "#    break\n",
    "\n",
    "#subset['2015_q1'] = subset[mask]\n",
    "\n",
    "#subset.groupby('Store Number')"
   ]
  },
  {
   "cell_type": "code",
   "execution_count": null,
   "metadata": {
    "collapsed": false
   },
   "outputs": [],
   "source": []
  },
  {
   "cell_type": "code",
   "execution_count": 17,
   "metadata": {
    "collapsed": false
   },
   "outputs": [],
   "source": [
    "salesq1=salesq1.rename(columns = {'Sale (Dollars)':'2015_q1_sales'})\n",
    "salesq1.shape\n",
    "salesq1.reset_index(inplace=True)"
   ]
  },
  {
   "cell_type": "code",
   "execution_count": 18,
   "metadata": {
    "collapsed": false
   },
   "outputs": [],
   "source": [
    "total_sales.sort_values('Store Number')\n",
    "salesq1.sort_values('Store Number')\n",
    "total_sales['2015_q1_sales'] = salesq1['2015_q1_sales']"
   ]
  },
  {
   "cell_type": "code",
   "execution_count": 19,
   "metadata": {
    "collapsed": false
   },
   "outputs": [],
   "source": [
    "mask2016 = sales_agg['Date']>'2015-12-31'"
   ]
  },
  {
   "cell_type": "code",
   "execution_count": 20,
   "metadata": {
    "collapsed": false
   },
   "outputs": [],
   "source": [
    "group2016 = sales_agg[mask2016].groupby('Store Number')\n",
    "sales2016 = pd.DataFrame(group2016['Sale (Dollars)'].aggregate(np.sum))"
   ]
  },
  {
   "cell_type": "code",
   "execution_count": 21,
   "metadata": {
    "collapsed": true
   },
   "outputs": [],
   "source": [
    "sales2016=sales2016.rename(columns = {'Sale (Dollars)':'2016_q1_sales'})\n",
    "sales2016.reset_index(inplace=True)"
   ]
  },
  {
   "cell_type": "code",
   "execution_count": null,
   "metadata": {
    "collapsed": false
   },
   "outputs": [],
   "source": []
  },
  {
   "cell_type": "code",
   "execution_count": 22,
   "metadata": {
    "collapsed": false
   },
   "outputs": [
    {
     "name": "stderr",
     "output_type": "stream",
     "text": [
      "/home/dsi-student/anaconda2/lib/python2.7/site-packages/ipykernel/__main__.py:1: FutureWarning: sort(columns=....) is deprecated, use sort_values(by=.....)\n",
      "  if __name__ == '__main__':\n",
      "/home/dsi-student/anaconda2/lib/python2.7/site-packages/ipykernel/__main__.py:2: FutureWarning: sort(columns=....) is deprecated, use sort_values(by=.....)\n",
      "  from ipykernel import kernelapp as app\n"
     ]
    }
   ],
   "source": [
    "sales2016.sort('Store Number')\n",
    "total_sales.sort('Store Number')\n",
    "total_sales['2016_q1_sales'] = sales2016['2016_q1_sales']"
   ]
  },
  {
   "cell_type": "code",
   "execution_count": null,
   "metadata": {
    "collapsed": false
   },
   "outputs": [],
   "source": []
  },
  {
   "cell_type": "code",
   "execution_count": 23,
   "metadata": {
    "collapsed": false
   },
   "outputs": [],
   "source": [
    "group_m = sales_agg.groupby('Store Number')\n",
    "margin = pd.DataFrame(group_m['Margin'].aggregate(np.mean))"
   ]
  },
  {
   "cell_type": "code",
   "execution_count": 24,
   "metadata": {
    "collapsed": false
   },
   "outputs": [
    {
     "name": "stderr",
     "output_type": "stream",
     "text": [
      "/home/dsi-student/anaconda2/lib/python2.7/site-packages/ipykernel/__main__.py:2: FutureWarning: sort(columns=....) is deprecated, use sort_values(by=.....)\n",
      "  from ipykernel import kernelapp as app\n",
      "/home/dsi-student/anaconda2/lib/python2.7/site-packages/ipykernel/__main__.py:3: FutureWarning: sort(columns=....) is deprecated, use sort_values(by=.....)\n",
      "  app.launch_new_instance()\n"
     ]
    }
   ],
   "source": [
    "margin.reset_index(inplace=True)\n",
    "margin.sort('Store Number')\n",
    "total_sales.sort('Store Number')\n",
    "total_sales['Margin'] = margin['Margin']"
   ]
  },
  {
   "cell_type": "code",
   "execution_count": 25,
   "metadata": {
    "collapsed": false
   },
   "outputs": [
    {
     "name": "stderr",
     "output_type": "stream",
     "text": [
      "/home/dsi-student/anaconda2/lib/python2.7/site-packages/ipykernel/__main__.py:4: FutureWarning: sort(columns=....) is deprecated, use sort_values(by=.....)\n",
      "/home/dsi-student/anaconda2/lib/python2.7/site-packages/ipykernel/__main__.py:5: FutureWarning: sort(columns=....) is deprecated, use sort_values(by=.....)\n"
     ]
    }
   ],
   "source": [
    "group_p = sales_agg.groupby('Store Number')\n",
    "profit = pd.DataFrame(group_p['Profit'].aggregate(np.sum))\n",
    "profit.reset_index(inplace=True)\n",
    "profit.sort('Store Number')\n",
    "total_sales.sort('Store Number')\n",
    "total_sales['Profit'] = profit['Profit']"
   ]
  },
  {
   "cell_type": "code",
   "execution_count": 26,
   "metadata": {
    "collapsed": false
   },
   "outputs": [
    {
     "data": {
      "text/html": [
       "<div>\n",
       "<table border=\"1\" class=\"dataframe\">\n",
       "  <thead>\n",
       "    <tr style=\"text-align: right;\">\n",
       "      <th></th>\n",
       "      <th>Store Number</th>\n",
       "      <th>2015_sales</th>\n",
       "      <th>2015_q1_sales</th>\n",
       "      <th>2016_q1_sales</th>\n",
       "      <th>Margin</th>\n",
       "      <th>Profit</th>\n",
       "    </tr>\n",
       "  </thead>\n",
       "  <tbody>\n",
       "    <tr>\n",
       "      <th>0</th>\n",
       "      <td>2106</td>\n",
       "      <td>1433451.46</td>\n",
       "      <td>337166.53</td>\n",
       "      <td>337446.81</td>\n",
       "      <td>5.373009</td>\n",
       "      <td>590932.82</td>\n",
       "    </tr>\n",
       "    <tr>\n",
       "      <th>1</th>\n",
       "      <td>2113</td>\n",
       "      <td>85763.42</td>\n",
       "      <td>22351.86</td>\n",
       "      <td>21663.33</td>\n",
       "      <td>5.322825</td>\n",
       "      <td>35928.84</td>\n",
       "    </tr>\n",
       "    <tr>\n",
       "      <th>2</th>\n",
       "      <td>2130</td>\n",
       "      <td>1107685.25</td>\n",
       "      <td>277764.46</td>\n",
       "      <td>303978.69</td>\n",
       "      <td>5.125012</td>\n",
       "      <td>470886.71</td>\n",
       "    </tr>\n",
       "    <tr>\n",
       "      <th>3</th>\n",
       "      <td>2152</td>\n",
       "      <td>72080.36</td>\n",
       "      <td>16805.11</td>\n",
       "      <td>9307.75</td>\n",
       "      <td>4.372801</td>\n",
       "      <td>27264.23</td>\n",
       "    </tr>\n",
       "    <tr>\n",
       "      <th>4</th>\n",
       "      <td>2178</td>\n",
       "      <td>277987.96</td>\n",
       "      <td>54411.42</td>\n",
       "      <td>58749.04</td>\n",
       "      <td>5.058644</td>\n",
       "      <td>112871.16</td>\n",
       "    </tr>\n",
       "  </tbody>\n",
       "</table>\n",
       "</div>"
      ],
      "text/plain": [
       "   Store Number  2015_sales  2015_q1_sales  2016_q1_sales    Margin     Profit\n",
       "0          2106  1433451.46      337166.53      337446.81  5.373009  590932.82\n",
       "1          2113    85763.42       22351.86       21663.33  5.322825   35928.84\n",
       "2          2130  1107685.25      277764.46      303978.69  5.125012  470886.71\n",
       "3          2152    72080.36       16805.11        9307.75  4.372801   27264.23\n",
       "4          2178   277987.96       54411.42       58749.04  5.058644  112871.16"
      ]
     },
     "execution_count": 26,
     "metadata": {},
     "output_type": "execute_result"
    }
   ],
   "source": [
    "total_sales.head()"
   ]
  },
  {
   "cell_type": "code",
   "execution_count": 27,
   "metadata": {
    "collapsed": false
   },
   "outputs": [
    {
     "name": "stderr",
     "output_type": "stream",
     "text": [
      "/home/dsi-student/anaconda2/lib/python2.7/site-packages/ipykernel/__main__.py:5: FutureWarning: sort(columns=....) is deprecated, use sort_values(by=.....)\n",
      "/home/dsi-student/anaconda2/lib/python2.7/site-packages/ipykernel/__main__.py:6: FutureWarning: sort(columns=....) is deprecated, use sort_values(by=.....)\n"
     ]
    }
   ],
   "source": [
    "mask_15q1_bottles = (sales_agg['Date']>= '2015-1-1') & (sales_agg['Date']<'2015-4-1')\n",
    "group_b = sales_agg[mask_15q1_bottles].groupby('Store Number')\n",
    "bottles = pd.DataFrame(group_p['Bottles Sold'].aggregate(np.sum))\n",
    "bottles.reset_index(inplace=True)\n",
    "bottles.sort('Store Number')\n",
    "total_sales.sort('Store Number')\n",
    "total_sales['Bottles Sold_q1_2015'] = bottles['Bottles Sold']"
   ]
  },
  {
   "cell_type": "code",
   "execution_count": 28,
   "metadata": {
    "collapsed": false
   },
   "outputs": [
    {
     "data": {
      "text/html": [
       "<div>\n",
       "<table border=\"1\" class=\"dataframe\">\n",
       "  <thead>\n",
       "    <tr style=\"text-align: right;\">\n",
       "      <th></th>\n",
       "      <th>Store Number</th>\n",
       "      <th>2015_sales</th>\n",
       "      <th>2015_q1_sales</th>\n",
       "      <th>2016_q1_sales</th>\n",
       "      <th>Margin</th>\n",
       "      <th>Profit</th>\n",
       "      <th>Bottles Sold_q1_2015</th>\n",
       "    </tr>\n",
       "  </thead>\n",
       "  <tbody>\n",
       "    <tr>\n",
       "      <th>0</th>\n",
       "      <td>2106</td>\n",
       "      <td>1433451.46</td>\n",
       "      <td>337166.53</td>\n",
       "      <td>337446.81</td>\n",
       "      <td>5.373009</td>\n",
       "      <td>590932.82</td>\n",
       "      <td>123536</td>\n",
       "    </tr>\n",
       "    <tr>\n",
       "      <th>1</th>\n",
       "      <td>2113</td>\n",
       "      <td>85763.42</td>\n",
       "      <td>22351.86</td>\n",
       "      <td>21663.33</td>\n",
       "      <td>5.322825</td>\n",
       "      <td>35928.84</td>\n",
       "      <td>8184</td>\n",
       "    </tr>\n",
       "    <tr>\n",
       "      <th>2</th>\n",
       "      <td>2130</td>\n",
       "      <td>1107685.25</td>\n",
       "      <td>277764.46</td>\n",
       "      <td>303978.69</td>\n",
       "      <td>5.125012</td>\n",
       "      <td>470886.71</td>\n",
       "      <td>92274</td>\n",
       "    </tr>\n",
       "    <tr>\n",
       "      <th>3</th>\n",
       "      <td>2152</td>\n",
       "      <td>72080.36</td>\n",
       "      <td>16805.11</td>\n",
       "      <td>9307.75</td>\n",
       "      <td>4.372801</td>\n",
       "      <td>27264.23</td>\n",
       "      <td>6677</td>\n",
       "    </tr>\n",
       "    <tr>\n",
       "      <th>4</th>\n",
       "      <td>2178</td>\n",
       "      <td>277987.96</td>\n",
       "      <td>54411.42</td>\n",
       "      <td>58749.04</td>\n",
       "      <td>5.058644</td>\n",
       "      <td>112871.16</td>\n",
       "      <td>25029</td>\n",
       "    </tr>\n",
       "  </tbody>\n",
       "</table>\n",
       "</div>"
      ],
      "text/plain": [
       "   Store Number  2015_sales  2015_q1_sales  2016_q1_sales    Margin  \\\n",
       "0          2106  1433451.46      337166.53      337446.81  5.373009   \n",
       "1          2113    85763.42       22351.86       21663.33  5.322825   \n",
       "2          2130  1107685.25      277764.46      303978.69  5.125012   \n",
       "3          2152    72080.36       16805.11        9307.75  4.372801   \n",
       "4          2178   277987.96       54411.42       58749.04  5.058644   \n",
       "\n",
       "      Profit  Bottles Sold_q1_2015  \n",
       "0  590932.82                123536  \n",
       "1   35928.84                  8184  \n",
       "2  470886.71                 92274  \n",
       "3   27264.23                  6677  \n",
       "4  112871.16                 25029  "
      ]
     },
     "execution_count": 28,
     "metadata": {},
     "output_type": "execute_result"
    }
   ],
   "source": [
    "total_sales.head()"
   ]
  },
  {
   "cell_type": "code",
   "execution_count": 29,
   "metadata": {
    "collapsed": false
   },
   "outputs": [],
   "source": [
    "#total_sales['Weighted Margin'] = total_sales['Profit'].values / total_sales['Bottles Sold'].values\n",
    "total_sales['Normalized_Sales_2015q1'] = total_sales['2015_q1_sales'].values / total_sales['Bottles Sold_q1_2015']"
   ]
  },
  {
   "cell_type": "code",
   "execution_count": 30,
   "metadata": {
    "collapsed": false
   },
   "outputs": [
    {
     "data": {
      "text/html": [
       "<div>\n",
       "<table border=\"1\" class=\"dataframe\">\n",
       "  <thead>\n",
       "    <tr style=\"text-align: right;\">\n",
       "      <th></th>\n",
       "      <th>Store Number</th>\n",
       "      <th>2015_sales</th>\n",
       "      <th>2015_q1_sales</th>\n",
       "      <th>2016_q1_sales</th>\n",
       "      <th>Margin</th>\n",
       "      <th>Profit</th>\n",
       "      <th>Bottles Sold_q1_2015</th>\n",
       "      <th>Normalized_Sales_2015q1</th>\n",
       "    </tr>\n",
       "  </thead>\n",
       "  <tbody>\n",
       "    <tr>\n",
       "      <th>0</th>\n",
       "      <td>2106</td>\n",
       "      <td>1433451.46</td>\n",
       "      <td>337166.53</td>\n",
       "      <td>337446.81</td>\n",
       "      <td>5.373009</td>\n",
       "      <td>590932.82</td>\n",
       "      <td>123536</td>\n",
       "      <td>2.729298</td>\n",
       "    </tr>\n",
       "    <tr>\n",
       "      <th>1</th>\n",
       "      <td>2113</td>\n",
       "      <td>85763.42</td>\n",
       "      <td>22351.86</td>\n",
       "      <td>21663.33</td>\n",
       "      <td>5.322825</td>\n",
       "      <td>35928.84</td>\n",
       "      <td>8184</td>\n",
       "      <td>2.731166</td>\n",
       "    </tr>\n",
       "    <tr>\n",
       "      <th>2</th>\n",
       "      <td>2130</td>\n",
       "      <td>1107685.25</td>\n",
       "      <td>277764.46</td>\n",
       "      <td>303978.69</td>\n",
       "      <td>5.125012</td>\n",
       "      <td>470886.71</td>\n",
       "      <td>92274</td>\n",
       "      <td>3.010214</td>\n",
       "    </tr>\n",
       "    <tr>\n",
       "      <th>3</th>\n",
       "      <td>2152</td>\n",
       "      <td>72080.36</td>\n",
       "      <td>16805.11</td>\n",
       "      <td>9307.75</td>\n",
       "      <td>4.372801</td>\n",
       "      <td>27264.23</td>\n",
       "      <td>6677</td>\n",
       "      <td>2.516865</td>\n",
       "    </tr>\n",
       "    <tr>\n",
       "      <th>4</th>\n",
       "      <td>2178</td>\n",
       "      <td>277987.96</td>\n",
       "      <td>54411.42</td>\n",
       "      <td>58749.04</td>\n",
       "      <td>5.058644</td>\n",
       "      <td>112871.16</td>\n",
       "      <td>25029</td>\n",
       "      <td>2.173935</td>\n",
       "    </tr>\n",
       "  </tbody>\n",
       "</table>\n",
       "</div>"
      ],
      "text/plain": [
       "   Store Number  2015_sales  2015_q1_sales  2016_q1_sales    Margin  \\\n",
       "0          2106  1433451.46      337166.53      337446.81  5.373009   \n",
       "1          2113    85763.42       22351.86       21663.33  5.322825   \n",
       "2          2130  1107685.25      277764.46      303978.69  5.125012   \n",
       "3          2152    72080.36       16805.11        9307.75  4.372801   \n",
       "4          2178   277987.96       54411.42       58749.04  5.058644   \n",
       "\n",
       "      Profit  Bottles Sold_q1_2015  Normalized_Sales_2015q1  \n",
       "0  590932.82                123536                 2.729298  \n",
       "1   35928.84                  8184                 2.731166  \n",
       "2  470886.71                 92274                 3.010214  \n",
       "3   27264.23                  6677                 2.516865  \n",
       "4  112871.16                 25029                 2.173935  "
      ]
     },
     "execution_count": 30,
     "metadata": {},
     "output_type": "execute_result"
    }
   ],
   "source": [
    "total_sales.head()"
   ]
  },
  {
   "cell_type": "code",
   "execution_count": 31,
   "metadata": {
    "collapsed": true
   },
   "outputs": [],
   "source": [
    "#Renamed the columns to make them easier to call in dot notation\n",
    "total_sales = total_sales.rename(columns = {'2016_q1_sales':'Sales_q1_2016' , 'Bottles Sold_q1_2015': 'Bottles_Sold_q1_2015', '2015_sales':'Sales_2015',\n",
    "                                            '2015_q1_sales':'Sales_q1_2015'})"
   ]
  },
  {
   "cell_type": "code",
   "execution_count": 148,
   "metadata": {
    "collapsed": false
   },
   "outputs": [],
   "source": [
    "total_sales.dropna(inplace=True)"
   ]
  },
  {
   "cell_type": "code",
   "execution_count": 153,
   "metadata": {
    "collapsed": false
   },
   "outputs": [
    {
     "name": "stdout",
     "output_type": "stream",
     "text": [
      "Score: 0.994938072352\n"
     ]
    }
   ],
   "source": [
    "from sklearn import datasets, linear_model\n",
    "from sklearn.cross_validation import train_test_split\n",
    "\n",
    "regress = total_sales[['Sales_q1_2015']]\n",
    "\n",
    "y = total_sales['Sales_2015']\n",
    "x = regress\n",
    "\n",
    "X_train, X_test, y_train, y_test = train_test_split(x, y, test_size=0.30)\n",
    "\n",
    "\n",
    "lm = linear_model.LinearRegression()\n",
    "\n",
    "model = lm.fit(X_train, y_train)\n",
    "predictions = lm.predict(X_test)\n",
    "\n",
    "print \"Score:\", model.score(X_test, y_test) "
   ]
  },
  {
   "cell_type": "code",
   "execution_count": null,
   "metadata": {
    "collapsed": true
   },
   "outputs": [],
   "source": []
  },
  {
   "cell_type": "code",
   "execution_count": 154,
   "metadata": {
    "collapsed": false
   },
   "outputs": [],
   "source": [
    "group_time = sales_agg[['Store Number','Month','Sale (Dollars)','Date']]\n",
    "mask_time = group_time['Date']<'2016-1-1'\n",
    "over_time = group_time[mask_time].groupby(['Store Number','Month']).aggregate(np.sum)\n"
   ]
  },
  {
   "cell_type": "code",
   "execution_count": 155,
   "metadata": {
    "collapsed": false
   },
   "outputs": [],
   "source": [
    "over_time = over_time.reset_index()"
   ]
  },
  {
   "cell_type": "code",
   "execution_count": 156,
   "metadata": {
    "collapsed": false
   },
   "outputs": [],
   "source": [
    "over_time_2015 = over_time[['Month', 'Sale (Dollars)']]\n",
    "\n",
    "over_time_2015 = over_time_2015.groupby('Month').sum()"
   ]
  },
  {
   "cell_type": "code",
   "execution_count": 157,
   "metadata": {
    "collapsed": false
   },
   "outputs": [],
   "source": [
    "import seaborn as sns\n",
    "import matplotlib.pyplot as plt\n",
    "%matplotlib inline\n"
   ]
  },
  {
   "cell_type": "code",
   "execution_count": 158,
   "metadata": {
    "collapsed": false
   },
   "outputs": [
    {
     "data": {
      "text/html": [
       "<div>\n",
       "<table border=\"1\" class=\"dataframe\">\n",
       "  <thead>\n",
       "    <tr style=\"text-align: right;\">\n",
       "      <th></th>\n",
       "      <th>Store Number</th>\n",
       "      <th>Month</th>\n",
       "      <th>Sale (Dollars)</th>\n",
       "    </tr>\n",
       "  </thead>\n",
       "  <tbody>\n",
       "    <tr>\n",
       "      <th>0</th>\n",
       "      <td>2106</td>\n",
       "      <td>1</td>\n",
       "      <td>109795.48</td>\n",
       "    </tr>\n",
       "    <tr>\n",
       "      <th>1</th>\n",
       "      <td>2106</td>\n",
       "      <td>2</td>\n",
       "      <td>115041.01</td>\n",
       "    </tr>\n",
       "    <tr>\n",
       "      <th>2</th>\n",
       "      <td>2106</td>\n",
       "      <td>3</td>\n",
       "      <td>112330.04</td>\n",
       "    </tr>\n",
       "    <tr>\n",
       "      <th>3</th>\n",
       "      <td>2106</td>\n",
       "      <td>4</td>\n",
       "      <td>145102.74</td>\n",
       "    </tr>\n",
       "    <tr>\n",
       "      <th>4</th>\n",
       "      <td>2106</td>\n",
       "      <td>5</td>\n",
       "      <td>116896.02</td>\n",
       "    </tr>\n",
       "  </tbody>\n",
       "</table>\n",
       "</div>"
      ],
      "text/plain": [
       "   Store Number  Month  Sale (Dollars)\n",
       "0          2106      1       109795.48\n",
       "1          2106      2       115041.01\n",
       "2          2106      3       112330.04\n",
       "3          2106      4       145102.74\n",
       "4          2106      5       116896.02"
      ]
     },
     "execution_count": 158,
     "metadata": {},
     "output_type": "execute_result"
    }
   ],
   "source": [
    "over_time.head()\n"
   ]
  },
  {
   "cell_type": "code",
   "execution_count": 159,
   "metadata": {
    "collapsed": false
   },
   "outputs": [],
   "source": [
    "sales_change = over_time\n",
    "\n",
    "jan_mask = sales_change['Month'] == 1\n",
    "dec_mask = sales_change['Month'] == 12\n",
    "\n",
    "sales_jan = sales_change[jan_mask]\n",
    "sales_dec = sales_change[dec_mask]\n",
    "\n",
    "sales_dec = sales_dec.reset_index()\n",
    "del sales_dec['index']\n",
    "\n",
    "sales_jan = sales_jan.reset_index()\n",
    "del sales_jan['index']\n",
    "\n"
   ]
  },
  {
   "cell_type": "code",
   "execution_count": 160,
   "metadata": {
    "collapsed": false
   },
   "outputs": [],
   "source": [
    "sales_jan['Max_Month'] = sales_dec['Month']\n",
    "sales_jan['Final_Sales'] = sales_dec['Sale (Dollars)']\n",
    "\n",
    "Sales_Growth = sales_jan\n",
    "\n",
    "Sales_Growth['Growth'] = (Sales_Growth.Final_Sales.values - Sales_Growth['Sale (Dollars)'].values)/Sales_Growth['Sale (Dollars)'].values\n",
    "\n",
    "\n",
    "\n",
    "\n",
    "\n",
    "#Make a data frame\n",
    "#Final Equation should be: Q1 sales + Change + (q1 * Change)"
   ]
  },
  {
   "cell_type": "code",
   "execution_count": 161,
   "metadata": {
    "collapsed": false
   },
   "outputs": [
    {
     "data": {
      "text/html": [
       "<div>\n",
       "<table border=\"1\" class=\"dataframe\">\n",
       "  <thead>\n",
       "    <tr style=\"text-align: right;\">\n",
       "      <th></th>\n",
       "      <th>Store Number</th>\n",
       "      <th>Sales_2015</th>\n",
       "      <th>Sales_q1_2015</th>\n",
       "      <th>Sales_q1_2016</th>\n",
       "      <th>Margin</th>\n",
       "      <th>Profit</th>\n",
       "      <th>Bottles_Sold_q1_2015</th>\n",
       "      <th>Normalized_Sales_2015q1</th>\n",
       "      <th>Growth</th>\n",
       "      <th>sales_norm</th>\n",
       "      <th>bottles_norm</th>\n",
       "    </tr>\n",
       "  </thead>\n",
       "  <tbody>\n",
       "    <tr>\n",
       "      <th>0</th>\n",
       "      <td>2106</td>\n",
       "      <td>1433451.46</td>\n",
       "      <td>337166.53</td>\n",
       "      <td>337446.81</td>\n",
       "      <td>5.373009</td>\n",
       "      <td>590932.82</td>\n",
       "      <td>123536</td>\n",
       "      <td>2.729298</td>\n",
       "      <td>0.272168</td>\n",
       "      <td>2.206140</td>\n",
       "      <td>2.394248</td>\n",
       "    </tr>\n",
       "    <tr>\n",
       "      <th>1</th>\n",
       "      <td>2113</td>\n",
       "      <td>85763.42</td>\n",
       "      <td>22351.86</td>\n",
       "      <td>21663.33</td>\n",
       "      <td>5.322825</td>\n",
       "      <td>35928.84</td>\n",
       "      <td>8184</td>\n",
       "      <td>2.731166</td>\n",
       "      <td>0.274036</td>\n",
       "      <td>-0.248379</td>\n",
       "      <td>-0.335166</td>\n",
       "    </tr>\n",
       "    <tr>\n",
       "      <th>2</th>\n",
       "      <td>2130</td>\n",
       "      <td>1107685.25</td>\n",
       "      <td>277764.46</td>\n",
       "      <td>303978.69</td>\n",
       "      <td>5.125012</td>\n",
       "      <td>470886.71</td>\n",
       "      <td>92274</td>\n",
       "      <td>3.010214</td>\n",
       "      <td>0.452524</td>\n",
       "      <td>1.742999</td>\n",
       "      <td>1.654539</td>\n",
       "    </tr>\n",
       "    <tr>\n",
       "      <th>3</th>\n",
       "      <td>2152</td>\n",
       "      <td>72080.36</td>\n",
       "      <td>16805.11</td>\n",
       "      <td>9307.75</td>\n",
       "      <td>4.372801</td>\n",
       "      <td>27264.23</td>\n",
       "      <td>6677</td>\n",
       "      <td>2.516865</td>\n",
       "      <td>-0.071899</td>\n",
       "      <td>-0.291625</td>\n",
       "      <td>-0.370824</td>\n",
       "    </tr>\n",
       "    <tr>\n",
       "      <th>4</th>\n",
       "      <td>2178</td>\n",
       "      <td>277987.96</td>\n",
       "      <td>54411.42</td>\n",
       "      <td>58749.04</td>\n",
       "      <td>5.058644</td>\n",
       "      <td>112871.16</td>\n",
       "      <td>25029</td>\n",
       "      <td>2.173935</td>\n",
       "      <td>0.879494</td>\n",
       "      <td>0.001581</td>\n",
       "      <td>0.063414</td>\n",
       "    </tr>\n",
       "  </tbody>\n",
       "</table>\n",
       "</div>"
      ],
      "text/plain": [
       "   Store Number  Sales_2015  Sales_q1_2015  Sales_q1_2016    Margin  \\\n",
       "0          2106  1433451.46      337166.53      337446.81  5.373009   \n",
       "1          2113    85763.42       22351.86       21663.33  5.322825   \n",
       "2          2130  1107685.25      277764.46      303978.69  5.125012   \n",
       "3          2152    72080.36       16805.11        9307.75  4.372801   \n",
       "4          2178   277987.96       54411.42       58749.04  5.058644   \n",
       "\n",
       "      Profit  Bottles_Sold_q1_2015  Normalized_Sales_2015q1    Growth  \\\n",
       "0  590932.82                123536                 2.729298  0.272168   \n",
       "1   35928.84                  8184                 2.731166  0.274036   \n",
       "2  470886.71                 92274                 3.010214  0.452524   \n",
       "3   27264.23                  6677                 2.516865 -0.071899   \n",
       "4  112871.16                 25029                 2.173935  0.879494   \n",
       "\n",
       "   sales_norm  bottles_norm  \n",
       "0    2.206140      2.394248  \n",
       "1   -0.248379     -0.335166  \n",
       "2    1.742999      1.654539  \n",
       "3   -0.291625     -0.370824  \n",
       "4    0.001581      0.063414  "
      ]
     },
     "execution_count": 161,
     "metadata": {},
     "output_type": "execute_result"
    }
   ],
   "source": [
    "total_sales['Growth'] = Sales_Growth['Growth']\n",
    "total_sales.head()"
   ]
  },
  {
   "cell_type": "code",
   "execution_count": 162,
   "metadata": {
    "collapsed": false
   },
   "outputs": [
    {
     "data": {
      "text/plain": [
       "<matplotlib.axes._subplots.AxesSubplot at 0x7f24506cf2d0>"
      ]
     },
     "execution_count": 162,
     "metadata": {},
     "output_type": "execute_result"
    },
    {
     "data": {
      "image/png": "[encoded data removed]",
      "text/plain": [
       "<matplotlib.figure.Figure at 0x7f24506cfed0>"
      ]
     },
     "metadata": {},
     "output_type": "display_data"
    }
   ],
   "source": [
    "sns.heatmap(total_sales.corr())"
   ]
  },
  {
   "cell_type": "code",
   "execution_count": 163,
   "metadata": {
    "collapsed": false
   },
   "outputs": [
    {
     "data": {
      "text/plain": [
       "<matplotlib.axes._subplots.AxesSubplot at 0x7f245078f710>"
      ]
     },
     "execution_count": 163,
     "metadata": {},
     "output_type": "execute_result"
    },
    {
     "data": {
      "image/png": "[encoded data removed]",
      "text/plain": [
       "<matplotlib.figure.Figure at 0x7f2450610610>"
      ]
     },
     "metadata": {},
     "output_type": "display_data"
    }
   ],
   "source": [
    "over_time_2015.plot(kind = 'bar')"
   ]
  },
  {
   "cell_type": "code",
   "execution_count": 164,
   "metadata": {
    "collapsed": false
   },
   "outputs": [],
   "source": [
    "import patsy"
   ]
  },
  {
   "cell_type": "code",
   "execution_count": 165,
   "metadata": {
    "collapsed": false
   },
   "outputs": [],
   "source": [
    "total_sales['sales_norm'] = (total_sales.Sales_q1_2015.values - total_sales.Sales_q1_2015.mean())/total_sales.Sales_q1_2015.std()\n",
    "total_sales['bottles_norm'] = (total_sales.Bottles_Sold_q1_2015.values - total_sales.Bottles_Sold_q1_2015.mean())/total_sales.Bottles_Sold_q1_2015.std()"
   ]
  },
  {
   "cell_type": "code",
   "execution_count": null,
   "metadata": {
    "collapsed": false
   },
   "outputs": [],
   "source": []
  },
  {
   "cell_type": "code",
   "execution_count": 167,
   "metadata": {
    "collapsed": true
   },
   "outputs": [],
   "source": [
    "formula = \"Sales_q1_2016 ~ Sales_q1_2015 + Growth + (Sales_q1_2015 * Growth)\""
   ]
  },
  {
   "cell_type": "code",
   "execution_count": null,
   "metadata": {
    "collapsed": true
   },
   "outputs": [],
   "source": []
  },
  {
   "cell_type": "code",
   "execution_count": 168,
   "metadata": {
    "collapsed": false
   },
   "outputs": [],
   "source": [
    "ymat, xmat = patsy.dmatrices(formula, data=total_sales)"
   ]
  },
  {
   "cell_type": "code",
   "execution_count": 181,
   "metadata": {
    "collapsed": false
   },
   "outputs": [
    {
     "name": "stdout",
     "output_type": "stream",
     "text": [
      "Score: 0.046666922805\n"
     ]
    }
   ],
   "source": [
    "X_train, X_test, y_train, y_test = train_test_split(xmat, ymat, test_size=0.33)\n",
    "\n",
    "\n",
    "lm = linear_model.LinearRegression()\n",
    "\n",
    "model = lm.fit(X_train, y_train)\n",
    "predictions = lm.predict(X_test)\n",
    "actual = y_test\n",
    "\n",
    "print \"Score:\", model.score(X_test, y_test) "
   ]
  },
  {
   "cell_type": "code",
   "execution_count": 186,
   "metadata": {
    "collapsed": false
   },
   "outputs": [
    {
     "data": {
      "text/plain": [
       "(363, 1)"
      ]
     },
     "execution_count": 186,
     "metadata": {},
     "output_type": "execute_result"
    }
   ],
   "source": [
    "actual.shape"
   ]
  },
  {
   "cell_type": "code",
   "execution_count": 187,
   "metadata": {
    "collapsed": false
   },
   "outputs": [
    {
     "data": {
      "text/plain": [
       "(363, 1)"
      ]
     },
     "execution_count": 187,
     "metadata": {},
     "output_type": "execute_result"
    }
   ],
   "source": [
    "predictions.shape"
   ]
  },
  {
   "cell_type": "code",
   "execution_count": 190,
   "metadata": {
    "collapsed": false
   },
   "outputs": [],
   "source": [
    "#sns.set(rc={\"figure.figsize\": (12, 12)})\n",
    "#sns.regplot(x=predictions,y=actual)\n",
    "\n"
   ]
  },
  {
   "cell_type": "code",
   "execution_count": null,
   "metadata": {
    "collapsed": true
   },
   "outputs": [],
   "source": []
  }
 ],
 "metadata": {
  "kernelspec": {
   "display_name": "Python 2",
   "language": "python",
   "name": "python2"
  },
  "language_info": {
   "codemirror_mode": {
    "name": "ipython",
    "version": 2
   },
   "file_extension": ".py",
   "mimetype": "text/x-python",
   "name": "python",
   "nbconvert_exporter": "python",
   "pygments_lexer": "ipython2",
   "version": "2.7.11"
  }
 },
 "nbformat": 4,
 "nbformat_minor": 0
}
