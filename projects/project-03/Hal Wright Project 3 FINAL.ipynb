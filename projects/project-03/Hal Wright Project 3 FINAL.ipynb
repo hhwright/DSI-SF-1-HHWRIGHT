{
 "cells": [
  {
   "cell_type": "markdown",
   "metadata": {},
   "source": [
    "# Getting started\n",
    "\n",
    "Once you've chosen your scenario, download the data from [the Iowa website](https://data.iowa.gov/Economy/Iowa-Liquor-Sales/m3tr-qhgy) in csv format. Start by loading the data with pandas. You may need to parse the date columns appropriately."
   ]
  },
  {
   "cell_type": "code",
   "execution_count": 1,
   "metadata": {
    "collapsed": false
   },
   "outputs": [
    {
     "name": "stderr",
     "output_type": "stream",
     "text": [
      "/home/dsi-student/anaconda2/lib/python2.7/site-packages/IPython/core/interactiveshell.py:2723: DtypeWarning: Columns (3) have mixed types. Specify dtype option on import or set low_memory=False.\n",
      "  interactivity=interactivity, compiler=compiler, result=result)\n"
     ]
    }
   ],
   "source": [
    "import seaborn as sns\n",
    "import numpy as np\n",
    "import pandas as pd\n",
    "import matplotlib.pyplot as plt\n",
    "%matplotlib inline\n",
    "\n",
    "# Imported .csv to Iowa_data\n",
    "\n",
    "file_loc = \"../../../Iowa_Liquor_Sales_reduced.csv\"\n",
    "Iowa_data = pd.read_csv(file_loc)"
   ]
  },
  {
   "cell_type": "markdown",
   "metadata": {},
   "source": [
    "# Explore the data\n",
    "\n",
    "Perform some exploratory statistical analysis and make some plots, such as histograms of transaction totals, bottles sold, etc."
   ]
  },
  {
   "cell_type": "code",
   "execution_count": 2,
   "metadata": {
    "collapsed": false
   },
   "outputs": [
    {
     "data": {
      "text/html": [
       "<div>\n",
       "<table border=\"1\" class=\"dataframe\">\n",
       "  <thead>\n",
       "    <tr style=\"text-align: right;\">\n",
       "      <th></th>\n",
       "      <th>Date</th>\n",
       "      <th>Store Number</th>\n",
       "      <th>City</th>\n",
       "      <th>Zip Code</th>\n",
       "      <th>County Number</th>\n",
       "      <th>County</th>\n",
       "      <th>Category</th>\n",
       "      <th>Category Name</th>\n",
       "      <th>Vendor Number</th>\n",
       "      <th>Item Number</th>\n",
       "      <th>Item Description</th>\n",
       "      <th>Bottle Volume (ml)</th>\n",
       "      <th>State Bottle Cost</th>\n",
       "      <th>State Bottle Retail</th>\n",
       "      <th>Bottles Sold</th>\n",
       "      <th>Sale (Dollars)</th>\n",
       "      <th>Volume Sold (Liters)</th>\n",
       "      <th>Volume Sold (Gallons)</th>\n",
       "    </tr>\n",
       "  </thead>\n",
       "  <tbody>\n",
       "    <tr>\n",
       "      <th>0</th>\n",
       "      <td>03/31/2016</td>\n",
       "      <td>5029</td>\n",
       "      <td>DAVENPORT</td>\n",
       "      <td>52806</td>\n",
       "      <td>82.0</td>\n",
       "      <td>Scott</td>\n",
       "      <td>1022100.0</td>\n",
       "      <td>TEQUILA</td>\n",
       "      <td>370</td>\n",
       "      <td>87152</td>\n",
       "      <td>Avion Silver</td>\n",
       "      <td>375</td>\n",
       "      <td>$9.99</td>\n",
       "      <td>$14.99</td>\n",
       "      <td>12</td>\n",
       "      <td>$179.88</td>\n",
       "      <td>4.5</td>\n",
       "      <td>1.19</td>\n",
       "    </tr>\n",
       "    <tr>\n",
       "      <th>1</th>\n",
       "      <td>03/31/2016</td>\n",
       "      <td>5029</td>\n",
       "      <td>DAVENPORT</td>\n",
       "      <td>52806</td>\n",
       "      <td>82.0</td>\n",
       "      <td>Scott</td>\n",
       "      <td>1022100.0</td>\n",
       "      <td>TEQUILA</td>\n",
       "      <td>395</td>\n",
       "      <td>89197</td>\n",
       "      <td>Jose Cuervo Especial Reposado Tequila</td>\n",
       "      <td>1000</td>\n",
       "      <td>$12.50</td>\n",
       "      <td>$18.75</td>\n",
       "      <td>2</td>\n",
       "      <td>$37.50</td>\n",
       "      <td>2.0</td>\n",
       "      <td>0.53</td>\n",
       "    </tr>\n",
       "    <tr>\n",
       "      <th>2</th>\n",
       "      <td>03/31/2016</td>\n",
       "      <td>4959</td>\n",
       "      <td>CEDAR FALLS</td>\n",
       "      <td>50613</td>\n",
       "      <td>7.0</td>\n",
       "      <td>Black Hawk</td>\n",
       "      <td>1071100.0</td>\n",
       "      <td>AMERICAN COCKTAILS</td>\n",
       "      <td>380</td>\n",
       "      <td>63959</td>\n",
       "      <td>Uv Blue Raspberry Lemonade Pet</td>\n",
       "      <td>1750</td>\n",
       "      <td>$5.97</td>\n",
       "      <td>$8.96</td>\n",
       "      <td>6</td>\n",
       "      <td>$53.76</td>\n",
       "      <td>10.5</td>\n",
       "      <td>2.77</td>\n",
       "    </tr>\n",
       "  </tbody>\n",
       "</table>\n",
       "</div>"
      ],
      "text/plain": [
       "         Date  Store Number         City Zip Code  County Number      County  \\\n",
       "0  03/31/2016          5029    DAVENPORT    52806           82.0       Scott   \n",
       "1  03/31/2016          5029    DAVENPORT    52806           82.0       Scott   \n",
       "2  03/31/2016          4959  CEDAR FALLS    50613            7.0  Black Hawk   \n",
       "\n",
       "    Category       Category Name  Vendor Number  Item Number  \\\n",
       "0  1022100.0             TEQUILA            370        87152   \n",
       "1  1022100.0             TEQUILA            395        89197   \n",
       "2  1071100.0  AMERICAN COCKTAILS            380        63959   \n",
       "\n",
       "                        Item Description  Bottle Volume (ml)  \\\n",
       "0                           Avion Silver                 375   \n",
       "1  Jose Cuervo Especial Reposado Tequila                1000   \n",
       "2         Uv Blue Raspberry Lemonade Pet                1750   \n",
       "\n",
       "  State Bottle Cost State Bottle Retail  Bottles Sold Sale (Dollars)  \\\n",
       "0             $9.99              $14.99            12        $179.88   \n",
       "1            $12.50              $18.75             2         $37.50   \n",
       "2             $5.97               $8.96             6         $53.76   \n",
       "\n",
       "   Volume Sold (Liters)  Volume Sold (Gallons)  \n",
       "0                   4.5                   1.19  \n",
       "1                   2.0                   0.53  \n",
       "2                  10.5                   2.77  "
      ]
     },
     "execution_count": 2,
     "metadata": {},
     "output_type": "execute_result"
    }
   ],
   "source": [
    "Iowa_data.head(3)"
   ]
  },
  {
   "cell_type": "code",
   "execution_count": 3,
   "metadata": {
    "collapsed": false
   },
   "outputs": [
    {
     "data": {
      "text/plain": [
       "(2709552, 18)"
      ]
     },
     "execution_count": 3,
     "metadata": {},
     "output_type": "execute_result"
    }
   ],
   "source": [
    "Iowa_data.shape"
   ]
  },
  {
   "cell_type": "code",
   "execution_count": 4,
   "metadata": {
    "collapsed": true
   },
   "outputs": [],
   "source": [
    "#Dropped all of the rows with null values\n",
    "Iowa_data.dropna(inplace = True)"
   ]
  },
  {
   "cell_type": "code",
   "execution_count": 5,
   "metadata": {
    "collapsed": false
   },
   "outputs": [
    {
     "data": {
      "text/plain": [
       "(2692602, 18)"
      ]
     },
     "execution_count": 5,
     "metadata": {},
     "output_type": "execute_result"
    }
   ],
   "source": [
    "#Based on the small proportion of rows with NA values, it is okay to drop those values\n",
    "Iowa_data.shape"
   ]
  },
  {
   "cell_type": "code",
   "execution_count": 6,
   "metadata": {
    "collapsed": false
   },
   "outputs": [
    {
     "name": "stdout",
     "output_type": "stream",
     "text": [
      "<class 'pandas.core.frame.DataFrame'>\n",
      "Int64Index: 2692602 entries, 0 to 2709551\n",
      "Data columns (total 18 columns):\n",
      "Date                     object\n",
      "Store Number             int64\n",
      "City                     object\n",
      "Zip Code                 object\n",
      "County Number            float64\n",
      "County                   object\n",
      "Category                 float64\n",
      "Category Name            object\n",
      "Vendor Number            int64\n",
      "Item Number              int64\n",
      "Item Description         object\n",
      "Bottle Volume (ml)       int64\n",
      "State Bottle Cost        object\n",
      "State Bottle Retail      object\n",
      "Bottles Sold             int64\n",
      "Sale (Dollars)           object\n",
      "Volume Sold (Liters)     float64\n",
      "Volume Sold (Gallons)    float64\n",
      "dtypes: float64(4), int64(5), object(9)\n",
      "memory usage: 390.3+ MB\n"
     ]
    }
   ],
   "source": [
    "Iowa_data.info()"
   ]
  },
  {
   "cell_type": "code",
   "execution_count": 7,
   "metadata": {
    "collapsed": true
   },
   "outputs": [],
   "source": [
    "#Created a function dollar() that converted string dollar amounts to floats and ran it on the appropriate columns\n",
    "\n",
    "def dollar(col):\n",
    "    Iowa_data[col] = Iowa_data[col].map(lambda x: x.replace('$',''))\n",
    "    Iowa_data[col] = Iowa_data[col].map(lambda x: float(x))\n",
    "\n",
    "dollar('State Bottle Cost')\n",
    "dollar('Sale (Dollars)')\n",
    "dollar('State Bottle Retail')"
   ]
  },
  {
   "cell_type": "code",
   "execution_count": null,
   "metadata": {
    "collapsed": false
   },
   "outputs": [],
   "source": [
    "#Converted Date column to a DateTime format\n",
    "Iowa_data['Date'] = pd.to_datetime(Iowa_data['Date'])"
   ]
  },
  {
   "cell_type": "code",
   "execution_count": null,
   "metadata": {
    "collapsed": true
   },
   "outputs": [],
   "source": [
    "#The above DateTime conversion was a lengthy process so I pickled the DataFrame so I could access it easily without\n",
    "#having to rerun the DateTime conversion\n",
    "Iowa_data.to_pickle('./booze')"
   ]
  },
  {
   "cell_type": "markdown",
   "metadata": {},
   "source": [
    "## Record your findings\n",
    "\n",
    "Be sure to write out anything observations from your exploratory analysis."
   ]
  },
  {
   "cell_type": "markdown",
   "metadata": {},
   "source": [
    "# Mine the data\n",
    "Now you are ready to compute the variables you will use for your regression from the data. For example, you may want to\n",
    "compute total sales per store from Jan to March of 2015, mean price per bottle, etc. Refer to the readme for more ideas appropriate to your scenario.\n",
    "\n",
    "Pandas is your friend for this task. Take a look at the operations [here](http://pandas.pydata.org/pandas-docs/stable/groupby.html) for ideas on how to make the best use of pandas and feel free to search for blog and Stack Overflow posts to help you group data by certain variables and compute sums, means, etc. You may find it useful to create a new data frame to house this summary data."
   ]
  },
  {
   "cell_type": "code",
   "execution_count": 3,
   "metadata": {
    "collapsed": false
   },
   "outputs": [
    {
     "data": {
      "text/html": [
       "<div>\n",
       "<table border=\"1\" class=\"dataframe\">\n",
       "  <thead>\n",
       "    <tr style=\"text-align: right;\">\n",
       "      <th></th>\n",
       "      <th>Date</th>\n",
       "      <th>Store Number</th>\n",
       "      <th>City</th>\n",
       "      <th>Zip Code</th>\n",
       "      <th>County Number</th>\n",
       "      <th>County</th>\n",
       "      <th>Category</th>\n",
       "      <th>Category Name</th>\n",
       "      <th>Vendor Number</th>\n",
       "      <th>Item Number</th>\n",
       "      <th>Item Description</th>\n",
       "      <th>Bottle Volume (ml)</th>\n",
       "      <th>State Bottle Cost</th>\n",
       "      <th>State Bottle Retail</th>\n",
       "      <th>Bottles Sold</th>\n",
       "      <th>Sale (Dollars)</th>\n",
       "      <th>Volume Sold (Liters)</th>\n",
       "      <th>Volume Sold (Gallons)</th>\n",
       "    </tr>\n",
       "  </thead>\n",
       "  <tbody>\n",
       "    <tr>\n",
       "      <th>0</th>\n",
       "      <td>2016-03-31</td>\n",
       "      <td>5029</td>\n",
       "      <td>DAVENPORT</td>\n",
       "      <td>52806</td>\n",
       "      <td>82.0</td>\n",
       "      <td>Scott</td>\n",
       "      <td>1022100.0</td>\n",
       "      <td>TEQUILA</td>\n",
       "      <td>370</td>\n",
       "      <td>87152</td>\n",
       "      <td>Avion Silver</td>\n",
       "      <td>375</td>\n",
       "      <td>9.99</td>\n",
       "      <td>14.99</td>\n",
       "      <td>12</td>\n",
       "      <td>179.88</td>\n",
       "      <td>4.5</td>\n",
       "      <td>1.19</td>\n",
       "    </tr>\n",
       "    <tr>\n",
       "      <th>1</th>\n",
       "      <td>2016-03-31</td>\n",
       "      <td>5029</td>\n",
       "      <td>DAVENPORT</td>\n",
       "      <td>52806</td>\n",
       "      <td>82.0</td>\n",
       "      <td>Scott</td>\n",
       "      <td>1022100.0</td>\n",
       "      <td>TEQUILA</td>\n",
       "      <td>395</td>\n",
       "      <td>89197</td>\n",
       "      <td>Jose Cuervo Especial Reposado Tequila</td>\n",
       "      <td>1000</td>\n",
       "      <td>12.50</td>\n",
       "      <td>18.75</td>\n",
       "      <td>2</td>\n",
       "      <td>37.50</td>\n",
       "      <td>2.0</td>\n",
       "      <td>0.53</td>\n",
       "    </tr>\n",
       "    <tr>\n",
       "      <th>2</th>\n",
       "      <td>2016-03-31</td>\n",
       "      <td>4959</td>\n",
       "      <td>CEDAR FALLS</td>\n",
       "      <td>50613</td>\n",
       "      <td>7.0</td>\n",
       "      <td>Black Hawk</td>\n",
       "      <td>1071100.0</td>\n",
       "      <td>AMERICAN COCKTAILS</td>\n",
       "      <td>380</td>\n",
       "      <td>63959</td>\n",
       "      <td>Uv Blue Raspberry Lemonade Pet</td>\n",
       "      <td>1750</td>\n",
       "      <td>5.97</td>\n",
       "      <td>8.96</td>\n",
       "      <td>6</td>\n",
       "      <td>53.76</td>\n",
       "      <td>10.5</td>\n",
       "      <td>2.77</td>\n",
       "    </tr>\n",
       "  </tbody>\n",
       "</table>\n",
       "</div>"
      ],
      "text/plain": [
       "        Date  Store Number         City Zip Code  County Number      County  \\\n",
       "0 2016-03-31          5029    DAVENPORT    52806           82.0       Scott   \n",
       "1 2016-03-31          5029    DAVENPORT    52806           82.0       Scott   \n",
       "2 2016-03-31          4959  CEDAR FALLS    50613            7.0  Black Hawk   \n",
       "\n",
       "    Category       Category Name  Vendor Number  Item Number  \\\n",
       "0  1022100.0             TEQUILA            370        87152   \n",
       "1  1022100.0             TEQUILA            395        89197   \n",
       "2  1071100.0  AMERICAN COCKTAILS            380        63959   \n",
       "\n",
       "                        Item Description  Bottle Volume (ml)  \\\n",
       "0                           Avion Silver                 375   \n",
       "1  Jose Cuervo Especial Reposado Tequila                1000   \n",
       "2         Uv Blue Raspberry Lemonade Pet                1750   \n",
       "\n",
       "   State Bottle Cost  State Bottle Retail  Bottles Sold  Sale (Dollars)  \\\n",
       "0               9.99                14.99            12          179.88   \n",
       "1              12.50                18.75             2           37.50   \n",
       "2               5.97                 8.96             6           53.76   \n",
       "\n",
       "   Volume Sold (Liters)  Volume Sold (Gallons)  \n",
       "0                   4.5                   1.19  \n",
       "1                   2.0                   0.53  \n",
       "2                  10.5                   2.77  "
      ]
     },
     "execution_count": 3,
     "metadata": {},
     "output_type": "execute_result"
    }
   ],
   "source": [
    "import seaborn as sns\n",
    "import numpy as np\n",
    "import pandas as pd\n",
    "import matplotlib.pyplot as plt\n",
    "%matplotlib inline\n",
    "\n",
    "Iowa_data = pd.read_pickle('../booze')\n",
    "\n",
    "Iowa_data.head(3)"
   ]
  },
  {
   "cell_type": "code",
   "execution_count": 4,
   "metadata": {
    "collapsed": true
   },
   "outputs": [],
   "source": [
    "#Subseted the data to included only continuous variables.  There were too many categories to run a categorical regressions.\n",
    "subset = Iowa_data[['Date','Sale (Dollars)','Store Number','County Number','State Bottle Cost', 'State Bottle Retail','Bottles Sold']]"
   ]
  },
  {
   "cell_type": "code",
   "execution_count": 5,
   "metadata": {
    "collapsed": false
   },
   "outputs": [
    {
     "name": "stderr",
     "output_type": "stream",
     "text": [
      "/home/dsi-student/anaconda2/lib/python2.7/site-packages/ipykernel/__main__.py:4: SettingWithCopyWarning: \n",
      "A value is trying to be set on a copy of a slice from a DataFrame.\n",
      "Try using .loc[row_indexer,col_indexer] = value instead\n",
      "\n",
      "See the caveats in the documentation: http://pandas.pydata.org/pandas-docs/stable/indexing.html#indexing-view-versus-copy\n",
      "/home/dsi-student/anaconda2/lib/python2.7/site-packages/ipykernel/__main__.py:5: SettingWithCopyWarning: \n",
      "A value is trying to be set on a copy of a slice from a DataFrame.\n",
      "Try using .loc[row_indexer,col_indexer] = value instead\n",
      "\n",
      "See the caveats in the documentation: http://pandas.pydata.org/pandas-docs/stable/indexing.html#indexing-view-versus-copy\n"
     ]
    }
   ],
   "source": [
    "#Using State Bottle Cost and State Bottle retail, calculated an average margin for each transaction\n",
    "#Using margin and the numbers of bottles sold, calculated total profit of each transaction\n",
    "\n",
    "subset['Margin'] =  subset['State Bottle Retail'].values - subset['State Bottle Cost'].values\n",
    "subset['Profit'] = subset['Margin'].values * subset['Bottles Sold']\n",
    "\n"
   ]
  },
  {
   "cell_type": "code",
   "execution_count": 6,
   "metadata": {
    "collapsed": false
   },
   "outputs": [
    {
     "name": "stderr",
     "output_type": "stream",
     "text": [
      "/home/dsi-student/anaconda2/lib/python2.7/site-packages/ipykernel/__main__.py:2: SettingWithCopyWarning: \n",
      "A value is trying to be set on a copy of a slice from a DataFrame.\n",
      "Try using .loc[row_indexer,col_indexer] = value instead\n",
      "\n",
      "See the caveats in the documentation: http://pandas.pydata.org/pandas-docs/stable/indexing.html#indexing-view-versus-copy\n",
      "  from ipykernel import kernelapp as app\n"
     ]
    }
   ],
   "source": [
    "#Created new column Month to make it easier to groupby months of sales data\n",
    "subset['Month'] = subset['Date'].dt.month"
   ]
  },
  {
   "cell_type": "code",
   "execution_count": 7,
   "metadata": {
    "collapsed": false
   },
   "outputs": [
    {
     "data": {
      "text/html": [
       "<div>\n",
       "<table border=\"1\" class=\"dataframe\">\n",
       "  <thead>\n",
       "    <tr style=\"text-align: right;\">\n",
       "      <th></th>\n",
       "      <th>Date</th>\n",
       "      <th>Sale (Dollars)</th>\n",
       "      <th>Store Number</th>\n",
       "      <th>County Number</th>\n",
       "      <th>State Bottle Cost</th>\n",
       "      <th>State Bottle Retail</th>\n",
       "      <th>Bottles Sold</th>\n",
       "      <th>Margin</th>\n",
       "      <th>Profit</th>\n",
       "      <th>Month</th>\n",
       "    </tr>\n",
       "  </thead>\n",
       "  <tbody>\n",
       "    <tr>\n",
       "      <th>0</th>\n",
       "      <td>2016-03-31</td>\n",
       "      <td>179.88</td>\n",
       "      <td>5029</td>\n",
       "      <td>82.0</td>\n",
       "      <td>9.99</td>\n",
       "      <td>14.99</td>\n",
       "      <td>12</td>\n",
       "      <td>5.00</td>\n",
       "      <td>60.00</td>\n",
       "      <td>3</td>\n",
       "    </tr>\n",
       "    <tr>\n",
       "      <th>1</th>\n",
       "      <td>2016-03-31</td>\n",
       "      <td>37.50</td>\n",
       "      <td>5029</td>\n",
       "      <td>82.0</td>\n",
       "      <td>12.50</td>\n",
       "      <td>18.75</td>\n",
       "      <td>2</td>\n",
       "      <td>6.25</td>\n",
       "      <td>12.50</td>\n",
       "      <td>3</td>\n",
       "    </tr>\n",
       "    <tr>\n",
       "      <th>2</th>\n",
       "      <td>2016-03-31</td>\n",
       "      <td>53.76</td>\n",
       "      <td>4959</td>\n",
       "      <td>7.0</td>\n",
       "      <td>5.97</td>\n",
       "      <td>8.96</td>\n",
       "      <td>6</td>\n",
       "      <td>2.99</td>\n",
       "      <td>17.94</td>\n",
       "      <td>3</td>\n",
       "    </tr>\n",
       "    <tr>\n",
       "      <th>3</th>\n",
       "      <td>2016-03-31</td>\n",
       "      <td>161.28</td>\n",
       "      <td>2190</td>\n",
       "      <td>77.0</td>\n",
       "      <td>2.24</td>\n",
       "      <td>3.36</td>\n",
       "      <td>48</td>\n",
       "      <td>1.12</td>\n",
       "      <td>53.76</td>\n",
       "      <td>3</td>\n",
       "    </tr>\n",
       "    <tr>\n",
       "      <th>5</th>\n",
       "      <td>2016-03-31</td>\n",
       "      <td>34.50</td>\n",
       "      <td>4988</td>\n",
       "      <td>7.0</td>\n",
       "      <td>23.00</td>\n",
       "      <td>34.50</td>\n",
       "      <td>1</td>\n",
       "      <td>11.50</td>\n",
       "      <td>11.50</td>\n",
       "      <td>3</td>\n",
       "    </tr>\n",
       "  </tbody>\n",
       "</table>\n",
       "</div>"
      ],
      "text/plain": [
       "        Date  Sale (Dollars)  Store Number  County Number  State Bottle Cost  \\\n",
       "0 2016-03-31          179.88          5029           82.0               9.99   \n",
       "1 2016-03-31           37.50          5029           82.0              12.50   \n",
       "2 2016-03-31           53.76          4959            7.0               5.97   \n",
       "3 2016-03-31          161.28          2190           77.0               2.24   \n",
       "5 2016-03-31           34.50          4988            7.0              23.00   \n",
       "\n",
       "   State Bottle Retail  Bottles Sold  Margin  Profit  Month  \n",
       "0                14.99            12    5.00   60.00      3  \n",
       "1                18.75             2    6.25   12.50      3  \n",
       "2                 8.96             6    2.99   17.94      3  \n",
       "3                 3.36            48    1.12   53.76      3  \n",
       "5                34.50             1   11.50   11.50      3  "
      ]
     },
     "execution_count": 7,
     "metadata": {},
     "output_type": "execute_result"
    }
   ],
   "source": [
    "subset.head()"
   ]
  },
  {
   "cell_type": "markdown",
   "metadata": {},
   "source": [
    "# Refine the data\n",
    "Look for any statistical relationships, correlations, or other relevant properties of the dataset."
   ]
  },
  {
   "cell_type": "code",
   "execution_count": 8,
   "metadata": {
    "collapsed": false
   },
   "outputs": [],
   "source": [
    "#Removing stores that were only open for business for part of 2015 as they will skew my numbers\n",
    "#Created DataFrame grouped by store number with max and min transaction month\n",
    "\n",
    "mask = subset['Date'] < '2015-12-31'\n",
    "test = subset[mask]\n",
    "hello = test[['Store Number','Month']]\n",
    "x = hello.groupby('Store Number')\n",
    "z = x.agg({'Month':[np.min, np.max]})['Month']\n",
    "z.reset_index(inplace=True)\n",
    "\n",
    "new_mask = (z['amin'] == 1) & (z['amax'] == 12)\n",
    "\n",
    "good_stores = z[new_mask]['Store Number'].values\n"
   ]
  },
  {
   "cell_type": "code",
   "execution_count": 9,
   "metadata": {
    "collapsed": false
   },
   "outputs": [
    {
     "data": {
      "text/html": [
       "<div>\n",
       "<table border=\"1\" class=\"dataframe\">\n",
       "  <thead>\n",
       "    <tr style=\"text-align: right;\">\n",
       "      <th></th>\n",
       "      <th>Store Number</th>\n",
       "      <th>amin</th>\n",
       "      <th>amax</th>\n",
       "    </tr>\n",
       "  </thead>\n",
       "  <tbody>\n",
       "    <tr>\n",
       "      <th>0</th>\n",
       "      <td>2106</td>\n",
       "      <td>1</td>\n",
       "      <td>12</td>\n",
       "    </tr>\n",
       "    <tr>\n",
       "      <th>1</th>\n",
       "      <td>2113</td>\n",
       "      <td>1</td>\n",
       "      <td>12</td>\n",
       "    </tr>\n",
       "    <tr>\n",
       "      <th>2</th>\n",
       "      <td>2130</td>\n",
       "      <td>1</td>\n",
       "      <td>12</td>\n",
       "    </tr>\n",
       "    <tr>\n",
       "      <th>3</th>\n",
       "      <td>2152</td>\n",
       "      <td>1</td>\n",
       "      <td>12</td>\n",
       "    </tr>\n",
       "    <tr>\n",
       "      <th>4</th>\n",
       "      <td>2178</td>\n",
       "      <td>1</td>\n",
       "      <td>12</td>\n",
       "    </tr>\n",
       "  </tbody>\n",
       "</table>\n",
       "</div>"
      ],
      "text/plain": [
       "   Store Number  amin  amax\n",
       "0          2106     1    12\n",
       "1          2113     1    12\n",
       "2          2130     1    12\n",
       "3          2152     1    12\n",
       "4          2178     1    12"
      ]
     },
     "execution_count": 9,
     "metadata": {},
     "output_type": "execute_result"
    }
   ],
   "source": [
    "z.head()"
   ]
  },
  {
   "cell_type": "code",
   "execution_count": 10,
   "metadata": {
    "collapsed": false
   },
   "outputs": [],
   "source": [
    "#Created a new dataframe with only transaction data from stores that were open all of 2015\n",
    "sales_agg = subset[subset['Store Number'].isin(set(good_stores))]"
   ]
  },
  {
   "cell_type": "code",
   "execution_count": 11,
   "metadata": {
    "collapsed": false
   },
   "outputs": [
    {
     "data": {
      "text/html": [
       "<div>\n",
       "<table border=\"1\" class=\"dataframe\">\n",
       "  <thead>\n",
       "    <tr style=\"text-align: right;\">\n",
       "      <th></th>\n",
       "      <th>Store Number</th>\n",
       "      <th>2015_sales</th>\n",
       "    </tr>\n",
       "  </thead>\n",
       "  <tbody>\n",
       "    <tr>\n",
       "      <th>0</th>\n",
       "      <td>2106</td>\n",
       "      <td>1433451.46</td>\n",
       "    </tr>\n",
       "    <tr>\n",
       "      <th>1</th>\n",
       "      <td>2113</td>\n",
       "      <td>85763.42</td>\n",
       "    </tr>\n",
       "    <tr>\n",
       "      <th>2</th>\n",
       "      <td>2130</td>\n",
       "      <td>1107685.25</td>\n",
       "    </tr>\n",
       "    <tr>\n",
       "      <th>3</th>\n",
       "      <td>2152</td>\n",
       "      <td>72080.36</td>\n",
       "    </tr>\n",
       "    <tr>\n",
       "      <th>4</th>\n",
       "      <td>2178</td>\n",
       "      <td>277987.96</td>\n",
       "    </tr>\n",
       "  </tbody>\n",
       "</table>\n",
       "</div>"
      ],
      "text/plain": [
       "   Store Number  2015_sales\n",
       "0          2106  1433451.46\n",
       "1          2113    85763.42\n",
       "2          2130  1107685.25\n",
       "3          2152    72080.36\n",
       "4          2178   277987.96"
      ]
     },
     "execution_count": 11,
     "metadata": {},
     "output_type": "execute_result"
    }
   ],
   "source": [
    "#Created an aggregate of sales in 2015 for each store and housed it in new Data Frame \"total_sales\"\n",
    "mask_15 = sales_agg['Date']< '2016-1-1'\n",
    "group_15 = sales_agg[mask_15].groupby('Store Number')['Sale (Dollars)'].aggregate(np.sum)\n",
    "total_sales = pd.DataFrame(group_15)\n",
    "total_sales=total_sales.rename(columns = {'Sale (Dollars)':'2015_sales'})\n",
    "\n",
    "\n",
    "total_sales.reset_index(inplace=True)\n",
    "total_sales.head()"
   ]
  },
  {
   "cell_type": "code",
   "execution_count": 12,
   "metadata": {
    "collapsed": true
   },
   "outputs": [],
   "source": [
    "#Mask segments the data into only q1 of 2015\n",
    "mask = (sales_agg['Date']>='2015-1-1') & (sales_agg['Date']<'2015-4-1')\n",
    "\n",
    "#This groups the segmented data by Store Number \n",
    "groups = sales_agg[mask].groupby('Store Number')\n",
    "\n",
    "# This creates a data frame called sales with the sum of every stores Q1 sales in 2015\n",
    "salesq1 = pd.DataFrame(groups['Sale (Dollars)'].aggregate(np.sum))"
   ]
  },
  {
   "cell_type": "code",
   "execution_count": 13,
   "metadata": {
    "collapsed": true
   },
   "outputs": [],
   "source": [
    "#Renaming the column properly and reset the index to make easier to add to total_sales\n",
    "salesq1=salesq1.rename(columns = {'Sale (Dollars)':'2015_q1_sales'})\n",
    "salesq1.reset_index(inplace=True)"
   ]
  },
  {
   "cell_type": "code",
   "execution_count": 14,
   "metadata": {
    "collapsed": true
   },
   "outputs": [],
   "source": [
    "#Add Q1 sales to total_sales df\n",
    "total_sales.sort_values('Store Number')\n",
    "salesq1.sort_values('Store Number')\n",
    "total_sales['2015_q1_sales'] = salesq1['2015_q1_sales']"
   ]
  },
  {
   "cell_type": "code",
   "execution_count": 15,
   "metadata": {
    "collapsed": false
   },
   "outputs": [
    {
     "name": "stderr",
     "output_type": "stream",
     "text": [
      "/home/dsi-student/anaconda2/lib/python2.7/site-packages/ipykernel/__main__.py:7: FutureWarning: sort(columns=....) is deprecated, use sort_values(by=.....)\n",
      "/home/dsi-student/anaconda2/lib/python2.7/site-packages/ipykernel/__main__.py:8: FutureWarning: sort(columns=....) is deprecated, use sort_values(by=.....)\n"
     ]
    }
   ],
   "source": [
    "#Repeat the same process as above for Q1 2016\n",
    "mask2016 = sales_agg['Date']>'2015-12-31'\n",
    "group2016 = sales_agg[mask2016].groupby('Store Number')\n",
    "sales2016 = pd.DataFrame(group2016['Sale (Dollars)'].aggregate(np.sum))\n",
    "sales2016=sales2016.rename(columns = {'Sale (Dollars)':'2016_q1_sales'})\n",
    "sales2016.reset_index(inplace=True)\n",
    "sales2016.sort('Store Number')\n",
    "total_sales.sort('Store Number')\n",
    "total_sales['2016_q1_sales'] = sales2016['2016_q1_sales']\n",
    "\n"
   ]
  },
  {
   "cell_type": "code",
   "execution_count": 16,
   "metadata": {
    "collapsed": false
   },
   "outputs": [
    {
     "name": "stderr",
     "output_type": "stream",
     "text": [
      "/home/dsi-student/anaconda2/lib/python2.7/site-packages/ipykernel/__main__.py:5: FutureWarning: sort(columns=....) is deprecated, use sort_values(by=.....)\n",
      "/home/dsi-student/anaconda2/lib/python2.7/site-packages/ipykernel/__main__.py:6: FutureWarning: sort(columns=....) is deprecated, use sort_values(by=.....)\n"
     ]
    }
   ],
   "source": [
    "#Adding mean margin to the data frame\n",
    "group_m = sales_agg.groupby('Store Number')\n",
    "margin = pd.DataFrame(group_m['Margin'].aggregate(np.mean))\n",
    "margin.reset_index(inplace=True)\n",
    "margin.sort('Store Number')\n",
    "total_sales.sort('Store Number')\n",
    "total_sales['Margin'] = margin['Margin']\n",
    "\n"
   ]
  },
  {
   "cell_type": "code",
   "execution_count": 17,
   "metadata": {
    "collapsed": false
   },
   "outputs": [
    {
     "name": "stderr",
     "output_type": "stream",
     "text": [
      "/home/dsi-student/anaconda2/lib/python2.7/site-packages/ipykernel/__main__.py:6: FutureWarning: sort(columns=....) is deprecated, use sort_values(by=.....)\n",
      "/home/dsi-student/anaconda2/lib/python2.7/site-packages/ipykernel/__main__.py:7: FutureWarning: sort(columns=....) is deprecated, use sort_values(by=.....)\n"
     ]
    }
   ],
   "source": [
    "#Adding total 2015 profit to the data frame\n",
    "profit_15 = sales_agg['Date'] < '2016-1-1'\n",
    "group_p = sales_agg[profit_15].groupby('Store Number')\n",
    "profit = pd.DataFrame(group_p['Profit'].aggregate(np.sum))\n",
    "profit.reset_index(inplace=True)\n",
    "profit.sort('Store Number')\n",
    "total_sales.sort('Store Number')\n",
    "total_sales['Profit'] = profit['Profit']"
   ]
  },
  {
   "cell_type": "code",
   "execution_count": 18,
   "metadata": {
    "collapsed": false
   },
   "outputs": [
    {
     "name": "stderr",
     "output_type": "stream",
     "text": [
      "/home/dsi-student/anaconda2/lib/python2.7/site-packages/ipykernel/__main__.py:6: FutureWarning: sort(columns=....) is deprecated, use sort_values(by=.....)\n",
      "/home/dsi-student/anaconda2/lib/python2.7/site-packages/ipykernel/__main__.py:7: FutureWarning: sort(columns=....) is deprecated, use sort_values(by=.....)\n"
     ]
    }
   ],
   "source": [
    "#Adding Bottles Sold in Q1 2015 to the table\n",
    "mask_15q1_bottles = (sales_agg['Date']>= '2015-1-1') & (sales_agg['Date']<'2015-4-1')\n",
    "group_b = sales_agg[mask_15q1_bottles].groupby('Store Number')\n",
    "bottles = pd.DataFrame(group_p['Bottles Sold'].aggregate(np.sum))\n",
    "bottles.reset_index(inplace=True)\n",
    "bottles.sort('Store Number')\n",
    "total_sales.sort('Store Number')\n",
    "total_sales['Bottles Sold_q1_2015'] = bottles['Bottles Sold']"
   ]
  },
  {
   "cell_type": "code",
   "execution_count": 20,
   "metadata": {
    "collapsed": true
   },
   "outputs": [],
   "source": [
    "#Creating a normalized sale price for each bottle sold\n",
    "total_sales['Normalized_Sales_2015q1'] = total_sales['2015_q1_sales'].values / total_sales['Bottles Sold_q1_2015']"
   ]
  },
  {
   "cell_type": "code",
   "execution_count": 21,
   "metadata": {
    "collapsed": false
   },
   "outputs": [
    {
     "data": {
      "text/html": [
       "<div>\n",
       "<table border=\"1\" class=\"dataframe\">\n",
       "  <thead>\n",
       "    <tr style=\"text-align: right;\">\n",
       "      <th></th>\n",
       "      <th>Store Number</th>\n",
       "      <th>2015_sales</th>\n",
       "      <th>2015_q1_sales</th>\n",
       "      <th>2016_q1_sales</th>\n",
       "      <th>Margin</th>\n",
       "      <th>Profit</th>\n",
       "      <th>Bottles Sold_q1_2015</th>\n",
       "      <th>Normalized_Sales_2015q1</th>\n",
       "    </tr>\n",
       "  </thead>\n",
       "  <tbody>\n",
       "    <tr>\n",
       "      <th>0</th>\n",
       "      <td>2106</td>\n",
       "      <td>1433451.46</td>\n",
       "      <td>337166.53</td>\n",
       "      <td>337446.81</td>\n",
       "      <td>5.373009</td>\n",
       "      <td>478389.04</td>\n",
       "      <td>99957</td>\n",
       "      <td>3.373116</td>\n",
       "    </tr>\n",
       "    <tr>\n",
       "      <th>1</th>\n",
       "      <td>2113</td>\n",
       "      <td>85763.42</td>\n",
       "      <td>22351.86</td>\n",
       "      <td>21663.33</td>\n",
       "      <td>5.322825</td>\n",
       "      <td>28693.18</td>\n",
       "      <td>6483</td>\n",
       "      <td>3.447765</td>\n",
       "    </tr>\n",
       "    <tr>\n",
       "      <th>2</th>\n",
       "      <td>2130</td>\n",
       "      <td>1107685.25</td>\n",
       "      <td>277764.46</td>\n",
       "      <td>303978.69</td>\n",
       "      <td>5.125012</td>\n",
       "      <td>369509.12</td>\n",
       "      <td>72544</td>\n",
       "      <td>3.828910</td>\n",
       "    </tr>\n",
       "  </tbody>\n",
       "</table>\n",
       "</div>"
      ],
      "text/plain": [
       "   Store Number  2015_sales  2015_q1_sales  2016_q1_sales    Margin  \\\n",
       "0          2106  1433451.46      337166.53      337446.81  5.373009   \n",
       "1          2113    85763.42       22351.86       21663.33  5.322825   \n",
       "2          2130  1107685.25      277764.46      303978.69  5.125012   \n",
       "\n",
       "      Profit  Bottles Sold_q1_2015  Normalized_Sales_2015q1  \n",
       "0  478389.04                 99957                 3.373116  \n",
       "1   28693.18                  6483                 3.447765  \n",
       "2  369509.12                 72544                 3.828910  "
      ]
     },
     "execution_count": 21,
     "metadata": {},
     "output_type": "execute_result"
    }
   ],
   "source": [
    "total_sales.head(3)"
   ]
  },
  {
   "cell_type": "code",
   "execution_count": 23,
   "metadata": {
    "collapsed": false
   },
   "outputs": [
    {
     "data": {
      "text/html": [
       "<div>\n",
       "<table border=\"1\" class=\"dataframe\">\n",
       "  <thead>\n",
       "    <tr style=\"text-align: right;\">\n",
       "      <th></th>\n",
       "      <th>Store Number</th>\n",
       "      <th>Sales_2015</th>\n",
       "      <th>Sales_q1_2015</th>\n",
       "      <th>Sales_q1_2016</th>\n",
       "      <th>Margin</th>\n",
       "      <th>Profit</th>\n",
       "      <th>Bottles_Sold_q1_2015</th>\n",
       "      <th>Normalized_Sales_2015q1</th>\n",
       "    </tr>\n",
       "  </thead>\n",
       "  <tbody>\n",
       "    <tr>\n",
       "      <th>0</th>\n",
       "      <td>2106</td>\n",
       "      <td>1433451.46</td>\n",
       "      <td>337166.53</td>\n",
       "      <td>337446.81</td>\n",
       "      <td>5.373009</td>\n",
       "      <td>478389.04</td>\n",
       "      <td>99957</td>\n",
       "      <td>3.373116</td>\n",
       "    </tr>\n",
       "    <tr>\n",
       "      <th>1</th>\n",
       "      <td>2113</td>\n",
       "      <td>85763.42</td>\n",
       "      <td>22351.86</td>\n",
       "      <td>21663.33</td>\n",
       "      <td>5.322825</td>\n",
       "      <td>28693.18</td>\n",
       "      <td>6483</td>\n",
       "      <td>3.447765</td>\n",
       "    </tr>\n",
       "    <tr>\n",
       "      <th>2</th>\n",
       "      <td>2130</td>\n",
       "      <td>1107685.25</td>\n",
       "      <td>277764.46</td>\n",
       "      <td>303978.69</td>\n",
       "      <td>5.125012</td>\n",
       "      <td>369509.12</td>\n",
       "      <td>72544</td>\n",
       "      <td>3.828910</td>\n",
       "    </tr>\n",
       "  </tbody>\n",
       "</table>\n",
       "</div>"
      ],
      "text/plain": [
       "   Store Number  Sales_2015  Sales_q1_2015  Sales_q1_2016    Margin  \\\n",
       "0          2106  1433451.46      337166.53      337446.81  5.373009   \n",
       "1          2113    85763.42       22351.86       21663.33  5.322825   \n",
       "2          2130  1107685.25      277764.46      303978.69  5.125012   \n",
       "\n",
       "      Profit  Bottles_Sold_q1_2015  Normalized_Sales_2015q1  \n",
       "0  478389.04                 99957                 3.373116  \n",
       "1   28693.18                  6483                 3.447765  \n",
       "2  369509.12                 72544                 3.828910  "
      ]
     },
     "execution_count": 23,
     "metadata": {},
     "output_type": "execute_result"
    }
   ],
   "source": [
    "#Renamed the columns to make them easier to call in dot notation\n",
    "total_sales = total_sales.rename(columns = {'2016_q1_sales':'Sales_q1_2016' , 'Bottles Sold_q1_2015': 'Bottles_Sold_q1_2015', '2015_sales':'Sales_2015',\n",
    "                                            '2015_q1_sales':'Sales_q1_2015'})\n",
    "total_sales.head(3)"
   ]
  },
  {
   "cell_type": "code",
   "execution_count": 24,
   "metadata": {
    "collapsed": true
   },
   "outputs": [],
   "source": [
    "#Had to drop all of the stores that didn't have sales in both 2015 and 2016\n",
    "total_sales.dropna(inplace=True)"
   ]
  },
  {
   "cell_type": "code",
   "execution_count": null,
   "metadata": {
    "collapsed": true
   },
   "outputs": [],
   "source": [
    "#Here I create a column that measures the growth in sales for every store in 2015\n",
    "group_time = sales_agg[['Store Number','Month','Sale (Dollars)','Date']]\n",
    "mask_time = group_time['Date']<'2016-1-1'\n",
    "over_time = group_time[mask_time].groupby(['Store Number','Month']).aggregate(np.sum)\n",
    "over_time = over_time.reset_index()"
   ]
  },
  {
   "cell_type": "code",
   "execution_count": null,
   "metadata": {
    "collapsed": true
   },
   "outputs": [],
   "source": [
    "over_time_2015 = over_time[['Month', 'Sale (Dollars)']]\n",
    "over_time_2015 = over_time_2015.groupby('Month').sum()"
   ]
  },
  {
   "cell_type": "code",
   "execution_count": null,
   "metadata": {
    "collapsed": true
   },
   "outputs": [],
   "source": [
    "sales_change = over_time\n",
    "\n",
    "jan_mask = sales_change['Month'] == 1\n",
    "dec_mask = sales_change['Month'] == 12\n",
    "\n",
    "sales_jan = sales_change[jan_mask]\n",
    "sales_dec = sales_change[dec_mask]\n",
    "\n",
    "sales_dec = sales_dec.reset_index()\n",
    "del sales_dec['index']\n",
    "\n",
    "sales_jan = sales_jan.reset_index()\n",
    "del sales_jan['index']"
   ]
  },
  {
   "cell_type": "code",
   "execution_count": null,
   "metadata": {
    "collapsed": true
   },
   "outputs": [],
   "source": [
    "sales_jan['Max_Month'] = sales_dec['Month']\n",
    "sales_jan['Final_Sales'] = sales_dec['Sale (Dollars)']\n",
    "\n",
    "Sales_Growth = sales_jan\n",
    "\n",
    "Sales_Growth['Growth'] = (Sales_Growth.Final_Sales.values - Sales_Growth['Sale (Dollars)'].values)/Sales_Growth['Sale (Dollars)'].values\n"
   ]
  },
  {
   "cell_type": "code",
   "execution_count": null,
   "metadata": {
    "collapsed": true
   },
   "outputs": [],
   "source": [
    "total_sales['Growth'] = Sales_Growth['Growth']\n",
    "total_sales.head()"
   ]
  },
  {
   "cell_type": "markdown",
   "metadata": {},
   "source": [
    "# Build your models\n",
    "\n",
    "Using scikit-learn or statsmodels, build the necessary models for your scenario. Evaluate model fit."
   ]
  },
  {
   "cell_type": "code",
   "execution_count": 54,
   "metadata": {
    "collapsed": false
   },
   "outputs": [
    {
     "name": "stdout",
     "output_type": "stream",
     "text": [
      "Score: 0.979608565115\n"
     ]
    }
   ],
   "source": [
    "#Initially I wanted to test how easy it was to predict 2015 sales with 2015 q1 sales,this worked out pretty well.\n",
    "#I was curious about this because I wanted to see how that could be used for 2016\n",
    "from sklearn import datasets, linear_model\n",
    "from sklearn.cross_validation import train_test_split\n",
    "plt.style.use('fivethirtyeight')\n",
    "\n",
    "regress = total_sales[['Sales_q1_2015']]\n",
    "\n",
    "y = total_sales['Sales_2015']\n",
    "x = regress\n",
    "\n",
    "X_train, X_test, y_train, y_test = train_test_split(x, y, test_size=0.30)\n",
    "\n",
    "\n",
    "lm = linear_model.LinearRegression()\n",
    "\n",
    "model = lm.fit(X_train, y_train)\n",
    "predictions = lm.predict(X_test)\n",
    "\n",
    "print \"Score:\", model.score(X_test, y_test)\n"
   ]
  },
  {
   "cell_type": "code",
   "execution_count": 55,
   "metadata": {
    "collapsed": false
   },
   "outputs": [
    {
     "data": {
      "text/plain": [
       "<matplotlib.axes._subplots.AxesSubplot at 0x7f19bc854390>"
      ]
     },
     "execution_count": 55,
     "metadata": {},
     "output_type": "execute_result"
    },
    {
     "data": {
      "image/png": "[encoded data removed]",
      "text/plain": [
       "<matplotlib.figure.Figure at 0x7f19c80ffcd0>"
      ]
     },
     "metadata": {},
     "output_type": "display_data"
    }
   ],
   "source": [
    "#See the below heat map on the correlations of the different variables\n",
    "sns.heatmap(total_sales.corr())"
   ]
  },
  {
   "cell_type": "code",
   "execution_count": 56,
   "metadata": {
    "collapsed": true
   },
   "outputs": [],
   "source": [
    "import patsy\n",
    "\n",
    "formula = \"Sales_q1_2016 ~ Sales_q1_2015 + Growth + (Sales_q1_2015 * Growth)\"\n",
    "\n",
    "ymat, xmat = patsy.dmatrices(formula, data=total_sales)"
   ]
  },
  {
   "cell_type": "code",
   "execution_count": 77,
   "metadata": {
    "collapsed": false
   },
   "outputs": [
    {
     "name": "stdout",
     "output_type": "stream",
     "text": [
      "Score: 0.0551569726873\n"
     ]
    }
   ],
   "source": [
    "X_train, X_test, y_train, y_test = train_test_split(xmat, ymat, test_size=0.33)\n",
    "\n",
    "\n",
    "lm = linear_model.LinearRegression()\n",
    "\n",
    "model = lm.fit(X_train, y_train)\n",
    "predictions = lm.predict(X_test)\n",
    "actual = y_test\n",
    "\n",
    "print \"Score:\", model.score(X_test, y_test) "
   ]
  },
  {
   "cell_type": "code",
   "execution_count": 78,
   "metadata": {
    "collapsed": false
   },
   "outputs": [
    {
     "data": {
      "text/html": [
       "<div>\n",
       "<table border=\"1\" class=\"dataframe\">\n",
       "  <thead>\n",
       "    <tr style=\"text-align: right;\">\n",
       "      <th></th>\n",
       "      <th>actual</th>\n",
       "      <th>predictions</th>\n",
       "    </tr>\n",
       "  </thead>\n",
       "  <tbody>\n",
       "    <tr>\n",
       "      <th>0</th>\n",
       "      <td>16400.22</td>\n",
       "      <td>41089.826476</td>\n",
       "    </tr>\n",
       "    <tr>\n",
       "      <th>1</th>\n",
       "      <td>34372.47</td>\n",
       "      <td>44159.992374</td>\n",
       "    </tr>\n",
       "    <tr>\n",
       "      <th>2</th>\n",
       "      <td>14063.93</td>\n",
       "      <td>41233.941861</td>\n",
       "    </tr>\n",
       "    <tr>\n",
       "      <th>3</th>\n",
       "      <td>4005.39</td>\n",
       "      <td>44672.326250</td>\n",
       "    </tr>\n",
       "    <tr>\n",
       "      <th>4</th>\n",
       "      <td>6367.76</td>\n",
       "      <td>47834.054993</td>\n",
       "    </tr>\n",
       "  </tbody>\n",
       "</table>\n",
       "</div>"
      ],
      "text/plain": [
       "     actual   predictions\n",
       "0  16400.22  41089.826476\n",
       "1  34372.47  44159.992374\n",
       "2  14063.93  41233.941861\n",
       "3   4005.39  44672.326250\n",
       "4   6367.76  47834.054993"
      ]
     },
     "execution_count": 78,
     "metadata": {},
     "output_type": "execute_result"
    }
   ],
   "source": [
    "sns_df = pd.DataFrame(actual, columns=['actual'])\n",
    "sns_df['predictions'] = predictions\n",
    "sns_df.head()"
   ]
  },
  {
   "cell_type": "markdown",
   "metadata": {},
   "source": [
    "## Plot your results\n",
    "\n",
    "Again make sure that you record any valuable information. For example, in the tax scenario, did you find the sales from the first three months of the year to be a good predictor of the total sales for the year? Plot the predictions versus the true values and discuss the successes and limitations of your models"
   ]
  },
  {
   "cell_type": "code",
   "execution_count": 79,
   "metadata": {
    "collapsed": false
   },
   "outputs": [
    {
     "data": {
      "text/plain": [
       "(0, 200000)"
      ]
     },
     "execution_count": 79,
     "metadata": {},
     "output_type": "execute_result"
    },
    {
     "data": {
      "image/png": "[encoded data removed]",
      "text/plain": [
       "<matplotlib.figure.Figure at 0x7f199cabe850>"
      ]
     },
     "metadata": {},
     "output_type": "display_data"
    }
   ],
   "source": [
    "plt.scatter(x=predictions,y=actual)\n",
    "plt.xlabel('Predictions')\n",
    "plt.ylabel('Actuals')\n",
    "plt.title('Predictions vs. Actuals')\n",
    "\n",
    "plt.ylim(0,400000)\n",
    "plt.xlim(0,200000)\n"
   ]
  },
  {
   "cell_type": "markdown",
   "metadata": {},
   "source": [
    "# Present the Results\n",
    "\n",
    "Present your conclusions and results. If you have more than one interesting model feel free to include more than one along with a discussion. Use your work in this notebook to prepare your write-up."
   ]
  },
  {
   "cell_type": "code",
   "execution_count": null,
   "metadata": {
    "collapsed": true
   },
   "outputs": [],
   "source": [
    "See Medium Post.."
   ]
  }
 ],
 "metadata": {
  "kernelspec": {
   "display_name": "Python 2",
   "language": "python",
   "name": "python2"
  },
  "language_info": {
   "codemirror_mode": {
    "name": "ipython",
    "version": 2
   },
   "file_extension": ".py",
   "mimetype": "text/x-python",
   "name": "python",
   "nbconvert_exporter": "python",
   "pygments_lexer": "ipython2",
   "version": "2.7.11"
  }
 },
 "nbformat": 4,
 "nbformat_minor": 0
}
